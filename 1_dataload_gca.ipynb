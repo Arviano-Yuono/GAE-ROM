{
 "cells": [
  {
   "cell_type": "markdown",
   "metadata": {},
   "source": [
    "# mat to h5"
   ]
  },
  {
   "cell_type": "code",
   "execution_count": 9,
   "metadata": {},
   "outputs": [
    {
     "name": "stdout",
     "output_type": "stream",
     "text": [
      "SINGLE VARIABLE\n",
      "tensor([[ 1.6795],\n",
      "        [ 1.6795],\n",
      "        [ 1.6795],\n",
      "        ...,\n",
      "        [-1.4377],\n",
      "        [-1.3408],\n",
      "        [-3.2551]], dtype=torch.float64)\n",
      "Train trajectories: [1, 26, 47, 52, 56, 65, 80, 98, 102, 113, 119, 126, 130, 131, 139, 142, 147, 154, 195, 213, 223, 228, 229, 231, 247, 251, 255, 285, 301, 307, 323, 324, 326, 333]\n",
      "Val trajectories: [0, 2, 3, 4, 5, 6, 7, 8, 9, 10, 11, 12, 13, 14, 15, 16, 17, 18, 19, 20, 21, 22, 23, 24, 25, 27, 28, 29, 30, 31, 32, 33, 34, 35, 36, 37, 38, 39, 40, 41, 42, 43, 44, 45, 46, 48, 49, 50, 51, 53, 54, 55, 57, 58, 59, 60, 61, 62, 63, 64, 66, 67, 68, 69, 70, 71, 72, 73, 74, 75, 76, 77, 78, 79, 81, 82, 83, 84, 85, 86, 87, 88, 89, 90, 91, 92, 93, 94, 95, 96, 97, 99, 100, 101, 103, 104, 105, 106, 107, 108, 109, 110, 111, 112, 114, 115, 116, 117, 118, 120, 121, 122, 123, 124, 125, 127, 128, 129, 132, 133, 134, 135, 136, 137, 138, 140, 141, 143, 144, 145, 146, 148, 149, 150, 151, 152, 153, 155, 156, 157, 158, 159, 160, 161, 162, 163, 164, 165, 166, 167, 168, 169, 170, 171, 172, 173, 174, 175, 176, 177, 178, 179, 180, 181, 182, 183, 184, 185, 186, 187, 188, 189, 190, 191, 192, 193, 194, 196, 197, 198, 199, 200, 201, 202, 203, 204, 205, 206, 207, 208, 209, 210, 211, 212, 214, 215, 216, 217, 218, 219, 220, 221, 222, 224, 225, 226, 227, 230, 232, 233, 234, 235, 236, 237, 238, 239, 240, 241, 242, 243, 244, 245, 246, 248, 249, 250, 252, 253, 254, 256, 257, 258, 259, 260, 261, 262, 263, 264, 265, 266, 267, 268, 269, 270, 271, 272, 273, 274, 275, 276, 277, 278, 279, 280, 281, 282, 283, 284, 286, 287, 288, 289, 290, 291, 292, 293, 294, 295, 296, 297, 298, 299, 300, 302, 303, 304, 305, 306, 308, 309, 310, 311, 312, 313, 314, 315, 316, 317, 318, 319, 320, 321, 322, 325, 327, 328, 329, 330, 331, 332, 334, 335, 336, 337, 338, 339, 340]\n",
      "scaled_velocities shape before writing: torch.Size([341, 2719, 1])\n"
     ]
    },
    {
     "ename": "OSError",
     "evalue": "Unable to synchronously create file (unable to truncate a file which is already open)",
     "output_type": "error",
     "traceback": [
      "\u001b[1;31m---------------------------------------------------------------------------\u001b[0m",
      "\u001b[1;31mOSError\u001b[0m                                   Traceback (most recent call last)",
      "Cell \u001b[1;32mIn[9], line 8\u001b[0m\n\u001b[0;32m      6\u001b[0m mat_dir \u001b[38;5;241m=\u001b[39m \u001b[38;5;124m'\u001b[39m\u001b[38;5;124mdataset/gca_dataset/navier_stokes_unstructured.mat\u001b[39m\u001b[38;5;124m'\u001b[39m\n\u001b[0;32m      7\u001b[0m h5_dir \u001b[38;5;241m=\u001b[39m \u001b[38;5;124m'\u001b[39m\u001b[38;5;124mdataset/gca_dataset/flow_split\u001b[39m\u001b[38;5;124m'\u001b[39m\n\u001b[1;32m----> 8\u001b[0m result \u001b[38;5;241m=\u001b[39m \u001b[43mmat_to_h5\u001b[49m\u001b[43m(\u001b[49m\u001b[43mmat_dir\u001b[49m\u001b[43m,\u001b[49m\u001b[43m \u001b[49m\u001b[43mh5_dir\u001b[49m\u001b[43m,\u001b[49m\u001b[43m \u001b[49m\n\u001b[0;32m      9\u001b[0m \u001b[43m          \u001b[49m\u001b[43mtrain_ratio\u001b[49m\u001b[38;5;241;43m=\u001b[39;49m\u001b[38;5;241;43m0.1\u001b[39;49m\u001b[43m,\u001b[49m\u001b[43m \u001b[49m\u001b[43mval_ratio\u001b[49m\u001b[38;5;241;43m=\u001b[39;49m\u001b[38;5;241;43m0.9\u001b[39;49m\u001b[43m,\u001b[49m\u001b[43m \u001b[49m\u001b[43moverwrite\u001b[49m\u001b[38;5;241;43m=\u001b[39;49m\u001b[38;5;28;43;01mTrue\u001b[39;49;00m\u001b[43m)\u001b[49m\n",
      "File \u001b[1;32md:\\TA\\TA2\\GAE-ROM\\src\\data\\mat_to_h5.py:70\u001b[0m, in \u001b[0;36mmat_to_h5\u001b[1;34m(mat_file_path, h5_file_path, variables, train_ratio, val_ratio, scaling_type, scaler_name, overwrite)\u001b[0m\n\u001b[0;32m     67\u001b[0m \u001b[38;5;28mprint\u001b[39m(\u001b[38;5;124mf\u001b[39m\u001b[38;5;124m\"\u001b[39m\u001b[38;5;124mVal trajectories: \u001b[39m\u001b[38;5;132;01m{\u001b[39;00mval_trajectories\u001b[38;5;132;01m}\u001b[39;00m\u001b[38;5;124m\"\u001b[39m)\n\u001b[0;32m     69\u001b[0m \u001b[38;5;28mprint\u001b[39m(\u001b[38;5;124mf\u001b[39m\u001b[38;5;124m\"\u001b[39m\u001b[38;5;124mscaled_velocities shape before writing: \u001b[39m\u001b[38;5;132;01m{\u001b[39;00mscaled_velocities\u001b[38;5;241m.\u001b[39mshape\u001b[38;5;132;01m}\u001b[39;00m\u001b[38;5;124m\"\u001b[39m)\n\u001b[1;32m---> 70\u001b[0m \u001b[43mwrite_h5_file\u001b[49m\u001b[43m(\u001b[49m\u001b[43mdata_mat\u001b[49m\u001b[38;5;241;43m=\u001b[39;49m\u001b[43m \u001b[49m\u001b[43mdata_mat\u001b[49m\u001b[43m,\u001b[49m\u001b[43m \u001b[49m\u001b[43mvelocities\u001b[49m\u001b[38;5;241;43m=\u001b[39;49m\u001b[43m \u001b[49m\u001b[43mscaled_velocities\u001b[49m\u001b[43m,\u001b[49m\u001b[43m \u001b[49m\u001b[43mtrajectories\u001b[49m\u001b[38;5;241;43m=\u001b[39;49m\u001b[43m \u001b[49m\u001b[43mtrain_trajectories\u001b[49m\u001b[43m,\u001b[49m\u001b[43m \u001b[49m\u001b[43mh5_file_path\u001b[49m\u001b[38;5;241;43m=\u001b[39;49m\u001b[43m \u001b[49m\u001b[43mtrain_path\u001b[49m\u001b[43m)\u001b[49m\n\u001b[0;32m     71\u001b[0m write_h5_file(data_mat\u001b[38;5;241m=\u001b[39m data_mat, velocities\u001b[38;5;241m=\u001b[39m scaled_velocities, trajectories\u001b[38;5;241m=\u001b[39m val_trajectories, h5_file_path\u001b[38;5;241m=\u001b[39m val_path)\n\u001b[0;32m     72\u001b[0m \u001b[38;5;28;01mreturn\u001b[39;00m scaled_velocities,train_trajectories, val_trajectories, scaler_all, scaler_test\n",
      "File \u001b[1;32md:\\TA\\TA2\\GAE-ROM\\src\\data\\mat_to_h5.py:86\u001b[0m, in \u001b[0;36mwrite_h5_file\u001b[1;34m(data_mat, velocities, trajectories, h5_file_path, variables)\u001b[0m\n\u001b[0;32m     85\u001b[0m \u001b[38;5;28;01mdef\u001b[39;00m\u001b[38;5;250m \u001b[39m\u001b[38;5;21mwrite_h5_file\u001b[39m(data_mat, velocities, trajectories:\u001b[38;5;28mlist\u001b[39m[\u001b[38;5;28mint\u001b[39m], h5_file_path, variables \u001b[38;5;241m=\u001b[39m [\u001b[38;5;124m'\u001b[39m\u001b[38;5;124mVX\u001b[39m\u001b[38;5;124m'\u001b[39m]):\n\u001b[1;32m---> 86\u001b[0m     \u001b[38;5;28;01mwith\u001b[39;00m \u001b[43mh5py\u001b[49m\u001b[38;5;241;43m.\u001b[39;49m\u001b[43mFile\u001b[49m\u001b[43m(\u001b[49m\u001b[43mh5_file_path\u001b[49m\u001b[43m,\u001b[49m\u001b[43m \u001b[49m\u001b[38;5;124;43m'\u001b[39;49m\u001b[38;5;124;43mw\u001b[39;49m\u001b[38;5;124;43m'\u001b[39;49m\u001b[43m)\u001b[49m \u001b[38;5;28;01mas\u001b[39;00m f:\n\u001b[0;32m     87\u001b[0m         \u001b[38;5;66;03m# Store coordinates at root level if they exist\u001b[39;00m\n\u001b[0;32m     88\u001b[0m         \u001b[38;5;28;01mfor\u001b[39;00m trajectory \u001b[38;5;129;01min\u001b[39;00m trajectories:\n\u001b[0;32m     89\u001b[0m             g \u001b[38;5;241m=\u001b[39m f\u001b[38;5;241m.\u001b[39mcreate_group(\u001b[38;5;124mf\u001b[39m\u001b[38;5;124m'\u001b[39m\u001b[38;5;124mconfiguration_\u001b[39m\u001b[38;5;132;01m{\u001b[39;00mtrajectory\u001b[38;5;132;01m}\u001b[39;00m\u001b[38;5;124m'\u001b[39m)\n",
      "File \u001b[1;32mc:\\Users\\Yuno\\anaconda3\\envs\\'gca_rom'\\lib\\site-packages\\h5py\\_hl\\files.py:564\u001b[0m, in \u001b[0;36mFile.__init__\u001b[1;34m(self, name, mode, driver, libver, userblock_size, swmr, rdcc_nslots, rdcc_nbytes, rdcc_w0, track_order, fs_strategy, fs_persist, fs_threshold, fs_page_size, page_buf_size, min_meta_keep, min_raw_keep, locking, alignment_threshold, alignment_interval, meta_block_size, **kwds)\u001b[0m\n\u001b[0;32m    555\u001b[0m     fapl \u001b[38;5;241m=\u001b[39m make_fapl(driver, libver, rdcc_nslots, rdcc_nbytes, rdcc_w0,\n\u001b[0;32m    556\u001b[0m                      locking, page_buf_size, min_meta_keep, min_raw_keep,\n\u001b[0;32m    557\u001b[0m                      alignment_threshold\u001b[38;5;241m=\u001b[39malignment_threshold,\n\u001b[0;32m    558\u001b[0m                      alignment_interval\u001b[38;5;241m=\u001b[39malignment_interval,\n\u001b[0;32m    559\u001b[0m                      meta_block_size\u001b[38;5;241m=\u001b[39mmeta_block_size,\n\u001b[0;32m    560\u001b[0m                      \u001b[38;5;241m*\u001b[39m\u001b[38;5;241m*\u001b[39mkwds)\n\u001b[0;32m    561\u001b[0m     fcpl \u001b[38;5;241m=\u001b[39m make_fcpl(track_order\u001b[38;5;241m=\u001b[39mtrack_order, fs_strategy\u001b[38;5;241m=\u001b[39mfs_strategy,\n\u001b[0;32m    562\u001b[0m                      fs_persist\u001b[38;5;241m=\u001b[39mfs_persist, fs_threshold\u001b[38;5;241m=\u001b[39mfs_threshold,\n\u001b[0;32m    563\u001b[0m                      fs_page_size\u001b[38;5;241m=\u001b[39mfs_page_size)\n\u001b[1;32m--> 564\u001b[0m     fid \u001b[38;5;241m=\u001b[39m \u001b[43mmake_fid\u001b[49m\u001b[43m(\u001b[49m\u001b[43mname\u001b[49m\u001b[43m,\u001b[49m\u001b[43m \u001b[49m\u001b[43mmode\u001b[49m\u001b[43m,\u001b[49m\u001b[43m \u001b[49m\u001b[43muserblock_size\u001b[49m\u001b[43m,\u001b[49m\u001b[43m \u001b[49m\u001b[43mfapl\u001b[49m\u001b[43m,\u001b[49m\u001b[43m \u001b[49m\u001b[43mfcpl\u001b[49m\u001b[43m,\u001b[49m\u001b[43m \u001b[49m\u001b[43mswmr\u001b[49m\u001b[38;5;241;43m=\u001b[39;49m\u001b[43mswmr\u001b[49m\u001b[43m)\u001b[49m\n\u001b[0;32m    566\u001b[0m \u001b[38;5;28;01mif\u001b[39;00m \u001b[38;5;28misinstance\u001b[39m(libver, \u001b[38;5;28mtuple\u001b[39m):\n\u001b[0;32m    567\u001b[0m     \u001b[38;5;28mself\u001b[39m\u001b[38;5;241m.\u001b[39m_libver \u001b[38;5;241m=\u001b[39m libver\n",
      "File \u001b[1;32mc:\\Users\\Yuno\\anaconda3\\envs\\'gca_rom'\\lib\\site-packages\\h5py\\_hl\\files.py:244\u001b[0m, in \u001b[0;36mmake_fid\u001b[1;34m(name, mode, userblock_size, fapl, fcpl, swmr)\u001b[0m\n\u001b[0;32m    242\u001b[0m     fid \u001b[38;5;241m=\u001b[39m h5f\u001b[38;5;241m.\u001b[39mcreate(name, h5f\u001b[38;5;241m.\u001b[39mACC_EXCL, fapl\u001b[38;5;241m=\u001b[39mfapl, fcpl\u001b[38;5;241m=\u001b[39mfcpl)\n\u001b[0;32m    243\u001b[0m \u001b[38;5;28;01melif\u001b[39;00m mode \u001b[38;5;241m==\u001b[39m \u001b[38;5;124m'\u001b[39m\u001b[38;5;124mw\u001b[39m\u001b[38;5;124m'\u001b[39m:\n\u001b[1;32m--> 244\u001b[0m     fid \u001b[38;5;241m=\u001b[39m \u001b[43mh5f\u001b[49m\u001b[38;5;241;43m.\u001b[39;49m\u001b[43mcreate\u001b[49m\u001b[43m(\u001b[49m\u001b[43mname\u001b[49m\u001b[43m,\u001b[49m\u001b[43m \u001b[49m\u001b[43mh5f\u001b[49m\u001b[38;5;241;43m.\u001b[39;49m\u001b[43mACC_TRUNC\u001b[49m\u001b[43m,\u001b[49m\u001b[43m \u001b[49m\u001b[43mfapl\u001b[49m\u001b[38;5;241;43m=\u001b[39;49m\u001b[43mfapl\u001b[49m\u001b[43m,\u001b[49m\u001b[43m \u001b[49m\u001b[43mfcpl\u001b[49m\u001b[38;5;241;43m=\u001b[39;49m\u001b[43mfcpl\u001b[49m\u001b[43m)\u001b[49m\n\u001b[0;32m    245\u001b[0m \u001b[38;5;28;01melif\u001b[39;00m mode \u001b[38;5;241m==\u001b[39m \u001b[38;5;124m'\u001b[39m\u001b[38;5;124ma\u001b[39m\u001b[38;5;124m'\u001b[39m:\n\u001b[0;32m    246\u001b[0m     \u001b[38;5;66;03m# Open in append mode (read/write).\u001b[39;00m\n\u001b[0;32m    247\u001b[0m     \u001b[38;5;66;03m# If that fails, create a new file only if it won't clobber an\u001b[39;00m\n\u001b[0;32m    248\u001b[0m     \u001b[38;5;66;03m# existing one (ACC_EXCL)\u001b[39;00m\n\u001b[0;32m    249\u001b[0m     \u001b[38;5;28;01mtry\u001b[39;00m:\n",
      "File \u001b[1;32mh5py\\\\_objects.pyx:54\u001b[0m, in \u001b[0;36mh5py._objects.with_phil.wrapper\u001b[1;34m()\u001b[0m\n",
      "File \u001b[1;32mh5py\\\\_objects.pyx:55\u001b[0m, in \u001b[0;36mh5py._objects.with_phil.wrapper\u001b[1;34m()\u001b[0m\n",
      "File \u001b[1;32mh5py\\\\h5f.pyx:122\u001b[0m, in \u001b[0;36mh5py.h5f.create\u001b[1;34m()\u001b[0m\n",
      "\u001b[1;31mOSError\u001b[0m: Unable to synchronously create file (unable to truncate a file which is already open)"
     ]
    }
   ],
   "source": [
    "from src.utils.commons import set_seed, get_config\n",
    "config = get_config('configs/paper.yaml')['config']\n",
    "set_seed(10)\n",
    "from src.data.mat_to_h5 import mat_to_h5\n",
    "\n",
    "mat_dir = 'dataset/gca_dataset/navier_stokes_unstructured.mat'\n",
    "h5_dir = 'dataset/gca_dataset/flow_split'\n",
    "result = mat_to_h5(mat_dir, h5_dir, \n",
    "          train_ratio=0.1, val_ratio=0.9, overwrite=True)"
   ]
  },
  {
   "cell_type": "code",
   "execution_count": 1,
   "metadata": {},
   "outputs": [],
   "source": [
    "import numpy as np\n",
    "import h5py as h5\n",
    "from src.utils.commons import set_seed\n",
    "from src.data.mat_to_h5 import split_dataset_trajectories\n",
    "\n",
    "set_seed(10)\n",
    "\n",
    "val_path = 'dataset/gca_dataset/flow_split/train.h5'\n",
    "data_val = h5.File(val_path, 'r')"
   ]
  },
  {
   "cell_type": "code",
   "execution_count": 3,
   "metadata": {},
   "outputs": [],
   "source": [
    "train_trajectories, val_trajectories = split_dataset_trajectories(np.zeros((1, 341)), 0.1, 0.9)"
   ]
  },
  {
   "cell_type": "code",
   "execution_count": 4,
   "metadata": {},
   "outputs": [
    {
     "data": {
      "text/plain": [
       "['configuration_1',\n",
       " 'configuration_102',\n",
       " 'configuration_113',\n",
       " 'configuration_119',\n",
       " 'configuration_126',\n",
       " 'configuration_130',\n",
       " 'configuration_131',\n",
       " 'configuration_139',\n",
       " 'configuration_142',\n",
       " 'configuration_147',\n",
       " 'configuration_154',\n",
       " 'configuration_195',\n",
       " 'configuration_213',\n",
       " 'configuration_223',\n",
       " 'configuration_228',\n",
       " 'configuration_229',\n",
       " 'configuration_231',\n",
       " 'configuration_247',\n",
       " 'configuration_251',\n",
       " 'configuration_255',\n",
       " 'configuration_26',\n",
       " 'configuration_285',\n",
       " 'configuration_301',\n",
       " 'configuration_307',\n",
       " 'configuration_323',\n",
       " 'configuration_324',\n",
       " 'configuration_326',\n",
       " 'configuration_333',\n",
       " 'configuration_47',\n",
       " 'configuration_52',\n",
       " 'configuration_56',\n",
       " 'configuration_65',\n",
       " 'configuration_80',\n",
       " 'configuration_98']"
      ]
     },
     "execution_count": 4,
     "metadata": {},
     "output_type": "execute_result"
    }
   ],
   "source": [
    "list(data_val.keys())"
   ]
  },
  {
   "cell_type": "code",
   "execution_count": 4,
   "metadata": {},
   "outputs": [
    {
     "data": {
      "text/plain": [
       "<KeysViewHDF5 ['Ux', 'coordinates', 'edge_index']>"
      ]
     },
     "execution_count": 4,
     "metadata": {},
     "output_type": "execute_result"
    }
   ],
   "source": [
    "data_val['configuration_0'].keys()"
   ]
  },
  {
   "cell_type": "code",
   "execution_count": 2,
   "metadata": {},
   "outputs": [
    {
     "data": {
      "text/plain": [
       "(2719, 1)"
      ]
     },
     "execution_count": 2,
     "metadata": {},
     "output_type": "execute_result"
    }
   ],
   "source": [
    "data_val['configuration_1']['Ux'][:].shape"
   ]
  },
  {
   "cell_type": "code",
   "execution_count": 28,
   "metadata": {},
   "outputs": [
    {
     "data": {
      "text/plain": [
       "34"
      ]
     },
     "execution_count": 28,
     "metadata": {},
     "output_type": "execute_result"
    }
   ],
   "source": [
    "len(train_trajectories)"
   ]
  },
  {
   "cell_type": "code",
   "execution_count": 7,
   "metadata": {},
   "outputs": [
    {
     "name": "stdout",
     "output_type": "stream",
     "text": [
      "trajectory: configuration_119, var: Ux\n"
     ]
    },
    {
     "data": {
      "text/plain": [
       "array([[ 0.89853696],\n",
       "       [ 0.89853696],\n",
       "       [ 0.89853696],\n",
       "       ...,\n",
       "       [-0.60405632],\n",
       "       [-0.89698121],\n",
       "       [-0.01725416]])"
      ]
     },
     "execution_count": 7,
     "metadata": {},
     "output_type": "execute_result"
    }
   ],
   "source": [
    "index = 10\n",
    "trajectory = f'configuration_{train_trajectories[index]}'\n",
    "var = 'Ux'\n",
    "print(f\"trajectory: {trajectory}, var: {var}\")\n",
    "data_val[trajectory][var][:].reshape(len(data_val[trajectory][var][:]), -1)"
   ]
  },
  {
   "cell_type": "code",
   "execution_count": 22,
   "metadata": {},
   "outputs": [
    {
     "data": {
      "text/plain": [
       "(7786,)"
      ]
     },
     "execution_count": 22,
     "metadata": {},
     "output_type": "execute_result"
    }
   ],
   "source": [
    "import numpy as np\n",
    "edge_list = data_val['configuration_0']['edge_index'][:] - 1\n",
    "coordinates = data_val['configuration_0']['coordinates'][:]\n",
    "\n",
    "np.sqrt(np.sum(np.abs(coordinates[edge_list[0]] - coordinates[edge_list[1]])**2, axis=1)).shape\n"
   ]
  },
  {
   "cell_type": "code",
   "execution_count": null,
   "metadata": {},
   "outputs": [],
   "source": [
    "import scipy\n",
    "import torch\n",
    "mat_dir = 'dataset/gca_dataset/navier_stokes_unstructured.mat'\n",
    "data_mat = scipy.io.loadmat(mat_dir)\n",
    "variables = ['VX']"
   ]
  },
  {
   "cell_type": "code",
   "execution_count": 3,
   "metadata": {},
   "outputs": [
    {
     "data": {
      "text/plain": [
       "(7786, 2)"
      ]
     },
     "execution_count": 3,
     "metadata": {},
     "output_type": "execute_result"
    }
   ],
   "source": [
    "data_mat['E'].shape"
   ]
  },
  {
   "cell_type": "code",
   "execution_count": null,
   "metadata": {},
   "outputs": [
    {
     "data": {
      "text/plain": [
       "np.uint16(2718)"
      ]
     },
     "execution_count": 12,
     "metadata": {},
     "output_type": "execute_result"
    }
   ],
   "source": [
    "import numpy as np\n",
    "np.min(data_mat['E'].reshape(2,-1)[0,:] - 1)\n",
    "np.max(data_mat['E'].reshape(2,-1)[0,:] - 1)"
   ]
  },
  {
   "cell_type": "code",
   "execution_count": null,
   "metadata": {},
   "outputs": [],
   "source": [
    "all_velocities = torch.tensor(data_mat[variables[0]])"
   ]
  },
  {
   "cell_type": "code",
   "execution_count": null,
   "metadata": {},
   "outputs": [
    {
     "data": {
      "text/plain": [
       "torch.Size([341, 2719, 1])"
      ]
     },
     "execution_count": 33,
     "metadata": {},
     "output_type": "execute_result"
    }
   ],
   "source": [
    "from src.data import scaling\n",
    "\n",
    "scaled_vel = scaling.tensor_scaling(all_velocities, 4, 'standard')[1]\n",
    "scaled_vel.shape"
   ]
  },
  {
   "cell_type": "code",
   "execution_count": 34,
   "metadata": {},
   "outputs": [
    {
     "data": {
      "text/plain": [
       "torch.Size([2719, 341])"
      ]
     },
     "execution_count": 34,
     "metadata": {},
     "output_type": "execute_result"
    }
   ],
   "source": [
    "scaled_vel.reshape(all_velocities.shape[0], -1).shape"
   ]
  },
  {
   "cell_type": "code",
   "execution_count": 5,
   "metadata": {},
   "outputs": [
    {
     "data": {
      "text/plain": [
       "(7786, 2)"
      ]
     },
     "execution_count": 5,
     "metadata": {},
     "output_type": "execute_result"
    }
   ],
   "source": [
    "data_mat['E'].shape"
   ]
  },
  {
   "cell_type": "code",
   "execution_count": 7,
   "metadata": {},
   "outputs": [
    {
     "data": {
      "text/plain": [
       "True"
      ]
     },
     "execution_count": 7,
     "metadata": {},
     "output_type": "execute_result"
    }
   ],
   "source": [
    "'xx' in data_mat.keys()"
   ]
  },
  {
   "cell_type": "code",
   "execution_count": 6,
   "metadata": {},
   "outputs": [
    {
     "data": {
      "text/plain": [
       "(2719, 341)"
      ]
     },
     "execution_count": 6,
     "metadata": {},
     "output_type": "execute_result"
    }
   ],
   "source": [
    "data_mat['xx'].shape"
   ]
  },
  {
   "cell_type": "code",
   "execution_count": 7,
   "metadata": {},
   "outputs": [
    {
     "data": {
      "text/plain": [
       "(2719, 341)"
      ]
     },
     "execution_count": 7,
     "metadata": {},
     "output_type": "execute_result"
    }
   ],
   "source": [
    "data_mat['VX'].shape"
   ]
  },
  {
   "cell_type": "code",
   "execution_count": 6,
   "metadata": {},
   "outputs": [
    {
     "data": {
      "text/plain": [
       "(2719, 341)"
      ]
     },
     "execution_count": 6,
     "metadata": {},
     "output_type": "execute_result"
    }
   ],
   "source": [
    "data_mat['VX'].shape"
   ]
  },
  {
   "cell_type": "code",
   "execution_count": null,
   "metadata": {},
   "outputs": [],
   "source": [
    "from src.data.loader_paper import GraphDatasetPaper\n",
    "\n",
    "dataset = GraphDatasetPaper(config = config, split = 'train')"
   ]
  },
  {
   "cell_type": "code",
   "execution_count": 7,
   "metadata": {},
   "outputs": [
    {
     "name": "stderr",
     "output_type": "stream",
     "text": [
      "d:\\TA\\TA2\\GAE-ROM\\src\\data\\loader_paper.py:61: UserWarning: To copy construct from a tensor, it is recommended to use sourceTensor.detach().clone() or sourceTensor.detach().clone().requires_grad_(True), rather than torch.tensor(sourceTensor).\n",
      "  edge_attr = torch.tensor(self.edge_features, dtype=torch.float64),\n",
      "d:\\TA\\TA2\\GAE-ROM\\src\\data\\loader_paper.py:62: UserWarning: To copy construct from a tensor, it is recommended to use sourceTensor.detach().clone() or sourceTensor.detach().clone().requires_grad_(True), rather than torch.tensor(sourceTensor).\n",
      "  edge_weight = torch.tensor(self.edge_weights, dtype=torch.float64))\n"
     ]
    },
    {
     "data": {
      "text/plain": [
       "Data(x=[15677, 1], edge_index=[2, 46522], edge_attr=[46522, 2], pos=[15677, 2], edge_weight=[46522])"
      ]
     },
     "execution_count": 7,
     "metadata": {},
     "output_type": "execute_result"
    }
   ],
   "source": [
    "dataset[0]"
   ]
  },
  {
   "cell_type": "code",
   "execution_count": null,
   "metadata": {},
   "outputs": [],
   "source": [
    "# making the split just like the paper in preprocessing.py\n",
    "\n"
   ]
  },
  {
   "cell_type": "code",
   "execution_count": 2,
   "metadata": {},
   "outputs": [
    {
     "name": "stdout",
     "output_type": "stream",
     "text": [
      "dict_keys(['__header__', '__version__', '__globals__', 'E', 'P', 'T', 'VX', 'VY', 'dof', 'xx', 'yy'])\n"
     ]
    }
   ],
   "source": [
    "import scipy.io\n",
    "\n",
    "data_mat = scipy.io.loadmat(mat_dir)\n",
    "print(data_mat.keys())"
   ]
  },
  {
   "cell_type": "code",
   "execution_count": 4,
   "metadata": {},
   "outputs": [
    {
     "data": {
      "text/plain": [
       "341"
      ]
     },
     "execution_count": 4,
     "metadata": {},
     "output_type": "execute_result"
    }
   ],
   "source": [
    "data_mat['VX'].shape[1]\n",
    "# data_mat['VY'].shape\n",
    "# data_mat['E'].shape\n",
    "# data_mat['xx'].shape\n",
    "# data_mat['yy'].shape"
   ]
  },
  {
   "cell_type": "code",
   "execution_count": 7,
   "metadata": {},
   "outputs": [],
   "source": [
    "x_vel = data_mat['VX']\n",
    "edge_index = data_mat['E']"
   ]
  },
  {
   "cell_type": "code",
   "execution_count": 14,
   "metadata": {},
   "outputs": [
    {
     "data": {
      "text/plain": [
       "(2719,)"
      ]
     },
     "execution_count": 14,
     "metadata": {},
     "output_type": "execute_result"
    }
   ],
   "source": [
    "x_vel[:,2].shape"
   ]
  },
  {
   "cell_type": "code",
   "execution_count": 12,
   "metadata": {},
   "outputs": [
    {
     "data": {
      "text/plain": [
       "(2, 7786)"
      ]
     },
     "execution_count": 12,
     "metadata": {},
     "output_type": "execute_result"
    }
   ],
   "source": [
    "edge_index.reshape(2,-1)\n"
   ]
  },
  {
   "cell_type": "code",
   "execution_count": 7,
   "metadata": {},
   "outputs": [
    {
     "name": "stdout",
     "output_type": "stream",
     "text": [
      "[8.79881277e-24 0.00000000e+00 0.00000000e+00 ... 4.16588059e+00\n",
      " 4.16573888e+00 1.69209028e+01]\n"
     ]
    }
   ],
   "source": [
    "#load h5 file\n",
    "import h5py\n",
    "\n",
    "with h5py.File(h5_dir, 'r') as f:\n",
    "    print(f['configuration_0']['Ux'][:])"
   ]
  },
  {
   "cell_type": "code",
   "execution_count": 1,
   "metadata": {},
   "outputs": [],
   "source": [
    "import src.data.loader as loader\n",
    "\n",
    "root_dir = 'dataset/gca_dataset/navier_stokes_unstructured.mat'\n",
    "dim_pde = 2 # 2D or 3D\n",
    "variable = 'VX' # VX, VY, or [VX, VY]\n",
    "n_comp = 1 # 1 or 2 (for stokes, we see VX and VY separately)\n",
    "\n",
    "dataset = loader.LoadDatasetGCA(root_dir, variable, dim_pde, n_comp)"
   ]
  },
  {
   "cell_type": "code",
   "execution_count": 41,
   "metadata": {},
   "outputs": [
    {
     "data": {
      "text/plain": [
       "tensor([[10.0000,  0.0000],\n",
       "        [10.0000,  0.0000],\n",
       "        [10.0000,  0.0000],\n",
       "        ...,\n",
       "        [34.3148,  2.8706],\n",
       "        [29.7921,  6.6656],\n",
       "        [21.7647,  3.3555]], dtype=torch.float64)"
      ]
     },
     "execution_count": 41,
     "metadata": {},
     "output_type": "execute_result"
    }
   ],
   "source": [
    "# xx : x coordinates of the nodes\n",
    "# yy : y coordinates of the nodes\n",
    "# U : velocity field\n",
    "# E : edge index\n",
    "\n",
    "dataset.dim\n",
    "import numpy as np\n",
    "import torch\n",
    "# check if the x coordinates are the same for all the nodes, output only true or false\n",
    "pos = torch.cat((dataset.xx[:, 0].unsqueeze(1), dataset.yy[:, 0].unsqueeze(1)), 1)\n",
    "pos.shape\n",
    "torch.index_select(pos, 0, dataset.E[:, 0])\n",
    "# np.all(np.isclose(dataset.xx[:,0].numpy(), dataset.xx[:,150].numpy()))\n"
   ]
  },
  {
   "cell_type": "code",
   "execution_count": 52,
   "metadata": {},
   "outputs": [
    {
     "ename": "AttributeError",
     "evalue": "'LoadDatasetGCA' object has no attribute 'shape'",
     "output_type": "error",
     "traceback": [
      "\u001b[1;31m---------------------------------------------------------------------------\u001b[0m",
      "\u001b[1;31mAttributeError\u001b[0m                            Traceback (most recent call last)",
      "Cell \u001b[1;32mIn[52], line 1\u001b[0m\n\u001b[1;32m----> 1\u001b[0m \u001b[43mdataset\u001b[49m\u001b[38;5;241;43m.\u001b[39;49m\u001b[43mshape\u001b[49m\n",
      "\u001b[1;31mAttributeError\u001b[0m: 'LoadDatasetGCA' object has no attribute 'shape'"
     ]
    }
   ],
   "source": [
    "dataset."
   ]
  },
  {
   "cell_type": "code",
   "execution_count": 42,
   "metadata": {},
   "outputs": [],
   "source": [
    "import numpy as np\n",
    "mu1 = np.linspace(0.5, 2., 21)[::2]\n",
    "mu2 = np.linspace(2., 0.5, 151)[::5]\n",
    "mu_space = [mu1, mu2]"
   ]
  },
  {
   "cell_type": "code",
   "execution_count": 51,
   "metadata": {},
   "outputs": [
    {
     "name": "stdout",
     "output_type": "stream",
     "text": [
      "torch.Size([341, 2]) (11,) (31,)\n"
     ]
    },
    {
     "data": {
      "text/plain": [
       "tensor([[0.5000, 2.0000],\n",
       "        [0.5000, 1.9500],\n",
       "        [0.5000, 1.9000],\n",
       "        [0.5000, 1.8500],\n",
       "        [0.5000, 1.8000],\n",
       "        [0.5000, 1.7500],\n",
       "        [0.5000, 1.7000],\n",
       "        [0.5000, 1.6500],\n",
       "        [0.5000, 1.6000],\n",
       "        [0.5000, 1.5500],\n",
       "        [0.5000, 1.5000],\n",
       "        [0.5000, 1.4500],\n",
       "        [0.5000, 1.4000],\n",
       "        [0.5000, 1.3500],\n",
       "        [0.5000, 1.3000],\n",
       "        [0.5000, 1.2500],\n",
       "        [0.5000, 1.2000],\n",
       "        [0.5000, 1.1500],\n",
       "        [0.5000, 1.1000],\n",
       "        [0.5000, 1.0500],\n",
       "        [0.5000, 1.0000],\n",
       "        [0.5000, 0.9500],\n",
       "        [0.5000, 0.9000],\n",
       "        [0.5000, 0.8500],\n",
       "        [0.5000, 0.8000],\n",
       "        [0.5000, 0.7500],\n",
       "        [0.5000, 0.7000],\n",
       "        [0.5000, 0.6500],\n",
       "        [0.5000, 0.6000],\n",
       "        [0.5000, 0.5500],\n",
       "        [0.5000, 0.5000],\n",
       "        [0.6500, 2.0000],\n",
       "        [0.6500, 1.9500],\n",
       "        [0.6500, 1.9000],\n",
       "        [0.6500, 1.8500],\n",
       "        [0.6500, 1.8000],\n",
       "        [0.6500, 1.7500],\n",
       "        [0.6500, 1.7000],\n",
       "        [0.6500, 1.6500],\n",
       "        [0.6500, 1.6000],\n",
       "        [0.6500, 1.5500],\n",
       "        [0.6500, 1.5000],\n",
       "        [0.6500, 1.4500],\n",
       "        [0.6500, 1.4000],\n",
       "        [0.6500, 1.3500],\n",
       "        [0.6500, 1.3000],\n",
       "        [0.6500, 1.2500],\n",
       "        [0.6500, 1.2000],\n",
       "        [0.6500, 1.1500],\n",
       "        [0.6500, 1.1000],\n",
       "        [0.6500, 1.0500],\n",
       "        [0.6500, 1.0000],\n",
       "        [0.6500, 0.9500],\n",
       "        [0.6500, 0.9000],\n",
       "        [0.6500, 0.8500],\n",
       "        [0.6500, 0.8000],\n",
       "        [0.6500, 0.7500],\n",
       "        [0.6500, 0.7000],\n",
       "        [0.6500, 0.6500],\n",
       "        [0.6500, 0.6000],\n",
       "        [0.6500, 0.5500],\n",
       "        [0.6500, 0.5000],\n",
       "        [0.8000, 2.0000],\n",
       "        [0.8000, 1.9500],\n",
       "        [0.8000, 1.9000],\n",
       "        [0.8000, 1.8500],\n",
       "        [0.8000, 1.8000],\n",
       "        [0.8000, 1.7500],\n",
       "        [0.8000, 1.7000],\n",
       "        [0.8000, 1.6500],\n",
       "        [0.8000, 1.6000],\n",
       "        [0.8000, 1.5500],\n",
       "        [0.8000, 1.5000],\n",
       "        [0.8000, 1.4500],\n",
       "        [0.8000, 1.4000],\n",
       "        [0.8000, 1.3500],\n",
       "        [0.8000, 1.3000],\n",
       "        [0.8000, 1.2500],\n",
       "        [0.8000, 1.2000],\n",
       "        [0.8000, 1.1500],\n",
       "        [0.8000, 1.1000],\n",
       "        [0.8000, 1.0500],\n",
       "        [0.8000, 1.0000],\n",
       "        [0.8000, 0.9500],\n",
       "        [0.8000, 0.9000],\n",
       "        [0.8000, 0.8500],\n",
       "        [0.8000, 0.8000],\n",
       "        [0.8000, 0.7500],\n",
       "        [0.8000, 0.7000],\n",
       "        [0.8000, 0.6500],\n",
       "        [0.8000, 0.6000],\n",
       "        [0.8000, 0.5500],\n",
       "        [0.8000, 0.5000],\n",
       "        [0.9500, 2.0000],\n",
       "        [0.9500, 1.9500],\n",
       "        [0.9500, 1.9000],\n",
       "        [0.9500, 1.8500],\n",
       "        [0.9500, 1.8000],\n",
       "        [0.9500, 1.7500],\n",
       "        [0.9500, 1.7000],\n",
       "        [0.9500, 1.6500],\n",
       "        [0.9500, 1.6000],\n",
       "        [0.9500, 1.5500],\n",
       "        [0.9500, 1.5000],\n",
       "        [0.9500, 1.4500],\n",
       "        [0.9500, 1.4000],\n",
       "        [0.9500, 1.3500],\n",
       "        [0.9500, 1.3000],\n",
       "        [0.9500, 1.2500],\n",
       "        [0.9500, 1.2000],\n",
       "        [0.9500, 1.1500],\n",
       "        [0.9500, 1.1000],\n",
       "        [0.9500, 1.0500],\n",
       "        [0.9500, 1.0000],\n",
       "        [0.9500, 0.9500],\n",
       "        [0.9500, 0.9000],\n",
       "        [0.9500, 0.8500],\n",
       "        [0.9500, 0.8000],\n",
       "        [0.9500, 0.7500],\n",
       "        [0.9500, 0.7000],\n",
       "        [0.9500, 0.6500],\n",
       "        [0.9500, 0.6000],\n",
       "        [0.9500, 0.5500],\n",
       "        [0.9500, 0.5000],\n",
       "        [1.1000, 2.0000],\n",
       "        [1.1000, 1.9500],\n",
       "        [1.1000, 1.9000],\n",
       "        [1.1000, 1.8500],\n",
       "        [1.1000, 1.8000],\n",
       "        [1.1000, 1.7500],\n",
       "        [1.1000, 1.7000],\n",
       "        [1.1000, 1.6500],\n",
       "        [1.1000, 1.6000],\n",
       "        [1.1000, 1.5500],\n",
       "        [1.1000, 1.5000],\n",
       "        [1.1000, 1.4500],\n",
       "        [1.1000, 1.4000],\n",
       "        [1.1000, 1.3500],\n",
       "        [1.1000, 1.3000],\n",
       "        [1.1000, 1.2500],\n",
       "        [1.1000, 1.2000],\n",
       "        [1.1000, 1.1500],\n",
       "        [1.1000, 1.1000],\n",
       "        [1.1000, 1.0500],\n",
       "        [1.1000, 1.0000],\n",
       "        [1.1000, 0.9500],\n",
       "        [1.1000, 0.9000],\n",
       "        [1.1000, 0.8500],\n",
       "        [1.1000, 0.8000],\n",
       "        [1.1000, 0.7500],\n",
       "        [1.1000, 0.7000],\n",
       "        [1.1000, 0.6500],\n",
       "        [1.1000, 0.6000],\n",
       "        [1.1000, 0.5500],\n",
       "        [1.1000, 0.5000],\n",
       "        [1.2500, 2.0000],\n",
       "        [1.2500, 1.9500],\n",
       "        [1.2500, 1.9000],\n",
       "        [1.2500, 1.8500],\n",
       "        [1.2500, 1.8000],\n",
       "        [1.2500, 1.7500],\n",
       "        [1.2500, 1.7000],\n",
       "        [1.2500, 1.6500],\n",
       "        [1.2500, 1.6000],\n",
       "        [1.2500, 1.5500],\n",
       "        [1.2500, 1.5000],\n",
       "        [1.2500, 1.4500],\n",
       "        [1.2500, 1.4000],\n",
       "        [1.2500, 1.3500],\n",
       "        [1.2500, 1.3000],\n",
       "        [1.2500, 1.2500],\n",
       "        [1.2500, 1.2000],\n",
       "        [1.2500, 1.1500],\n",
       "        [1.2500, 1.1000],\n",
       "        [1.2500, 1.0500],\n",
       "        [1.2500, 1.0000],\n",
       "        [1.2500, 0.9500],\n",
       "        [1.2500, 0.9000],\n",
       "        [1.2500, 0.8500],\n",
       "        [1.2500, 0.8000],\n",
       "        [1.2500, 0.7500],\n",
       "        [1.2500, 0.7000],\n",
       "        [1.2500, 0.6500],\n",
       "        [1.2500, 0.6000],\n",
       "        [1.2500, 0.5500],\n",
       "        [1.2500, 0.5000],\n",
       "        [1.4000, 2.0000],\n",
       "        [1.4000, 1.9500],\n",
       "        [1.4000, 1.9000],\n",
       "        [1.4000, 1.8500],\n",
       "        [1.4000, 1.8000],\n",
       "        [1.4000, 1.7500],\n",
       "        [1.4000, 1.7000],\n",
       "        [1.4000, 1.6500],\n",
       "        [1.4000, 1.6000],\n",
       "        [1.4000, 1.5500],\n",
       "        [1.4000, 1.5000],\n",
       "        [1.4000, 1.4500],\n",
       "        [1.4000, 1.4000],\n",
       "        [1.4000, 1.3500],\n",
       "        [1.4000, 1.3000],\n",
       "        [1.4000, 1.2500],\n",
       "        [1.4000, 1.2000],\n",
       "        [1.4000, 1.1500],\n",
       "        [1.4000, 1.1000],\n",
       "        [1.4000, 1.0500],\n",
       "        [1.4000, 1.0000],\n",
       "        [1.4000, 0.9500],\n",
       "        [1.4000, 0.9000],\n",
       "        [1.4000, 0.8500],\n",
       "        [1.4000, 0.8000],\n",
       "        [1.4000, 0.7500],\n",
       "        [1.4000, 0.7000],\n",
       "        [1.4000, 0.6500],\n",
       "        [1.4000, 0.6000],\n",
       "        [1.4000, 0.5500],\n",
       "        [1.4000, 0.5000],\n",
       "        [1.5500, 2.0000],\n",
       "        [1.5500, 1.9500],\n",
       "        [1.5500, 1.9000],\n",
       "        [1.5500, 1.8500],\n",
       "        [1.5500, 1.8000],\n",
       "        [1.5500, 1.7500],\n",
       "        [1.5500, 1.7000],\n",
       "        [1.5500, 1.6500],\n",
       "        [1.5500, 1.6000],\n",
       "        [1.5500, 1.5500],\n",
       "        [1.5500, 1.5000],\n",
       "        [1.5500, 1.4500],\n",
       "        [1.5500, 1.4000],\n",
       "        [1.5500, 1.3500],\n",
       "        [1.5500, 1.3000],\n",
       "        [1.5500, 1.2500],\n",
       "        [1.5500, 1.2000],\n",
       "        [1.5500, 1.1500],\n",
       "        [1.5500, 1.1000],\n",
       "        [1.5500, 1.0500],\n",
       "        [1.5500, 1.0000],\n",
       "        [1.5500, 0.9500],\n",
       "        [1.5500, 0.9000],\n",
       "        [1.5500, 0.8500],\n",
       "        [1.5500, 0.8000],\n",
       "        [1.5500, 0.7500],\n",
       "        [1.5500, 0.7000],\n",
       "        [1.5500, 0.6500],\n",
       "        [1.5500, 0.6000],\n",
       "        [1.5500, 0.5500],\n",
       "        [1.5500, 0.5000],\n",
       "        [1.7000, 2.0000],\n",
       "        [1.7000, 1.9500],\n",
       "        [1.7000, 1.9000],\n",
       "        [1.7000, 1.8500],\n",
       "        [1.7000, 1.8000],\n",
       "        [1.7000, 1.7500],\n",
       "        [1.7000, 1.7000],\n",
       "        [1.7000, 1.6500],\n",
       "        [1.7000, 1.6000],\n",
       "        [1.7000, 1.5500],\n",
       "        [1.7000, 1.5000],\n",
       "        [1.7000, 1.4500],\n",
       "        [1.7000, 1.4000],\n",
       "        [1.7000, 1.3500],\n",
       "        [1.7000, 1.3000],\n",
       "        [1.7000, 1.2500],\n",
       "        [1.7000, 1.2000],\n",
       "        [1.7000, 1.1500],\n",
       "        [1.7000, 1.1000],\n",
       "        [1.7000, 1.0500],\n",
       "        [1.7000, 1.0000],\n",
       "        [1.7000, 0.9500],\n",
       "        [1.7000, 0.9000],\n",
       "        [1.7000, 0.8500],\n",
       "        [1.7000, 0.8000],\n",
       "        [1.7000, 0.7500],\n",
       "        [1.7000, 0.7000],\n",
       "        [1.7000, 0.6500],\n",
       "        [1.7000, 0.6000],\n",
       "        [1.7000, 0.5500],\n",
       "        [1.7000, 0.5000],\n",
       "        [1.8500, 2.0000],\n",
       "        [1.8500, 1.9500],\n",
       "        [1.8500, 1.9000],\n",
       "        [1.8500, 1.8500],\n",
       "        [1.8500, 1.8000],\n",
       "        [1.8500, 1.7500],\n",
       "        [1.8500, 1.7000],\n",
       "        [1.8500, 1.6500],\n",
       "        [1.8500, 1.6000],\n",
       "        [1.8500, 1.5500],\n",
       "        [1.8500, 1.5000],\n",
       "        [1.8500, 1.4500],\n",
       "        [1.8500, 1.4000],\n",
       "        [1.8500, 1.3500],\n",
       "        [1.8500, 1.3000],\n",
       "        [1.8500, 1.2500],\n",
       "        [1.8500, 1.2000],\n",
       "        [1.8500, 1.1500],\n",
       "        [1.8500, 1.1000],\n",
       "        [1.8500, 1.0500],\n",
       "        [1.8500, 1.0000],\n",
       "        [1.8500, 0.9500],\n",
       "        [1.8500, 0.9000],\n",
       "        [1.8500, 0.8500],\n",
       "        [1.8500, 0.8000],\n",
       "        [1.8500, 0.7500],\n",
       "        [1.8500, 0.7000],\n",
       "        [1.8500, 0.6500],\n",
       "        [1.8500, 0.6000],\n",
       "        [1.8500, 0.5500],\n",
       "        [1.8500, 0.5000],\n",
       "        [2.0000, 2.0000],\n",
       "        [2.0000, 1.9500],\n",
       "        [2.0000, 1.9000],\n",
       "        [2.0000, 1.8500],\n",
       "        [2.0000, 1.8000],\n",
       "        [2.0000, 1.7500],\n",
       "        [2.0000, 1.7000],\n",
       "        [2.0000, 1.6500],\n",
       "        [2.0000, 1.6000],\n",
       "        [2.0000, 1.5500],\n",
       "        [2.0000, 1.5000],\n",
       "        [2.0000, 1.4500],\n",
       "        [2.0000, 1.4000],\n",
       "        [2.0000, 1.3500],\n",
       "        [2.0000, 1.3000],\n",
       "        [2.0000, 1.2500],\n",
       "        [2.0000, 1.2000],\n",
       "        [2.0000, 1.1500],\n",
       "        [2.0000, 1.1000],\n",
       "        [2.0000, 1.0500],\n",
       "        [2.0000, 1.0000],\n",
       "        [2.0000, 0.9500],\n",
       "        [2.0000, 0.9000],\n",
       "        [2.0000, 0.8500],\n",
       "        [2.0000, 0.8000],\n",
       "        [2.0000, 0.7500],\n",
       "        [2.0000, 0.7000],\n",
       "        [2.0000, 0.6500],\n",
       "        [2.0000, 0.6000],\n",
       "        [2.0000, 0.5500],\n",
       "        [2.0000, 0.5000]], dtype=torch.float64)"
      ]
     },
     "execution_count": 51,
     "metadata": {},
     "output_type": "execute_result"
    }
   ],
   "source": [
    "from itertools import product\n",
    "params = torch.tensor(np.array(list(product(*mu_space))))\n",
    "print(params.shape, mu_space[0].shape, mu_space[1].shape)\n",
    "params"
   ]
  },
  {
   "cell_type": "markdown",
   "metadata": {},
   "source": [
    "# Loader"
   ]
  },
  {
   "cell_type": "code",
   "execution_count": 3,
   "metadata": {},
   "outputs": [
    {
     "name": "stderr",
     "output_type": "stream",
     "text": [
      "  1%|          | 1/100 [00:01<03:07,  1.89s/it]"
     ]
    },
    {
     "name": "stdout",
     "output_type": "stream",
     "text": [
      "Epoch 1/100, train_loss: 0.633225, map_loss: 1.941481\n"
     ]
    },
    {
     "name": "stderr",
     "output_type": "stream",
     "text": [
      "  2%|▏         | 2/100 [00:02<01:46,  1.09s/it]"
     ]
    },
    {
     "name": "stdout",
     "output_type": "stream",
     "text": [
      "Epoch 2/100, train_loss: 0.380758, map_loss: 3.735933\n"
     ]
    },
    {
     "name": "stderr",
     "output_type": "stream",
     "text": [
      "  3%|▎         | 3/100 [00:02<01:21,  1.19it/s]"
     ]
    },
    {
     "name": "stdout",
     "output_type": "stream",
     "text": [
      "Epoch 3/100, train_loss: 0.317089, map_loss: 3.636164\n"
     ]
    },
    {
     "name": "stderr",
     "output_type": "stream",
     "text": [
      "  4%|▍         | 4/100 [00:03<01:09,  1.39it/s]"
     ]
    },
    {
     "name": "stdout",
     "output_type": "stream",
     "text": [
      "Epoch 4/100, train_loss: 0.269429, map_loss: 2.201798\n"
     ]
    },
    {
     "name": "stderr",
     "output_type": "stream",
     "text": [
      "  5%|▌         | 5/100 [00:03<00:59,  1.59it/s]"
     ]
    },
    {
     "name": "stdout",
     "output_type": "stream",
     "text": [
      "Epoch 5/100, train_loss: 0.258165, map_loss: 1.827704\n"
     ]
    },
    {
     "name": "stderr",
     "output_type": "stream",
     "text": [
      "  6%|▌         | 6/100 [00:04<00:52,  1.78it/s]"
     ]
    },
    {
     "name": "stdout",
     "output_type": "stream",
     "text": [
      "Epoch 6/100, train_loss: 0.226084, map_loss: 1.391830\n"
     ]
    },
    {
     "name": "stderr",
     "output_type": "stream",
     "text": [
      "  7%|▋         | 7/100 [00:04<00:48,  1.93it/s]"
     ]
    },
    {
     "name": "stdout",
     "output_type": "stream",
     "text": [
      "Epoch 7/100, train_loss: 0.236239, map_loss: 1.838521\n"
     ]
    },
    {
     "name": "stderr",
     "output_type": "stream",
     "text": [
      "  8%|▊         | 8/100 [00:05<00:47,  1.92it/s]"
     ]
    },
    {
     "name": "stdout",
     "output_type": "stream",
     "text": [
      "Epoch 8/100, train_loss: 0.207072, map_loss: 1.422673\n"
     ]
    },
    {
     "name": "stderr",
     "output_type": "stream",
     "text": [
      "  9%|▉         | 9/100 [00:05<00:44,  2.07it/s]"
     ]
    },
    {
     "name": "stdout",
     "output_type": "stream",
     "text": [
      "Epoch 9/100, train_loss: 0.220637, map_loss: 1.447642\n"
     ]
    },
    {
     "name": "stderr",
     "output_type": "stream",
     "text": [
      " 10%|█         | 10/100 [00:06<00:41,  2.19it/s]"
     ]
    },
    {
     "name": "stdout",
     "output_type": "stream",
     "text": [
      "Epoch 10/100, train_loss: 0.236690, map_loss: 1.537410\n"
     ]
    },
    {
     "name": "stderr",
     "output_type": "stream",
     "text": [
      " 11%|█         | 11/100 [00:06<00:39,  2.25it/s]"
     ]
    },
    {
     "name": "stdout",
     "output_type": "stream",
     "text": [
      "Epoch 11/100, train_loss: 0.234513, map_loss: 2.423754\n"
     ]
    },
    {
     "name": "stderr",
     "output_type": "stream",
     "text": [
      " 12%|█▏        | 12/100 [00:07<00:40,  2.19it/s]"
     ]
    },
    {
     "name": "stdout",
     "output_type": "stream",
     "text": [
      "Epoch 12/100, train_loss: 0.207053, map_loss: 1.941649\n"
     ]
    },
    {
     "name": "stderr",
     "output_type": "stream",
     "text": [
      " 13%|█▎        | 13/100 [00:07<00:38,  2.24it/s]"
     ]
    },
    {
     "name": "stdout",
     "output_type": "stream",
     "text": [
      "Epoch 13/100, train_loss: 0.217271, map_loss: 1.735915\n"
     ]
    },
    {
     "name": "stderr",
     "output_type": "stream",
     "text": [
      " 14%|█▍        | 14/100 [00:07<00:38,  2.26it/s]"
     ]
    },
    {
     "name": "stdout",
     "output_type": "stream",
     "text": [
      "Epoch 14/100, train_loss: 0.233709, map_loss: 1.481022\n"
     ]
    },
    {
     "name": "stderr",
     "output_type": "stream",
     "text": [
      " 15%|█▌        | 15/100 [00:08<00:37,  2.28it/s]"
     ]
    },
    {
     "name": "stdout",
     "output_type": "stream",
     "text": [
      "Epoch 15/100, train_loss: 0.217472, map_loss: 2.419754\n"
     ]
    },
    {
     "name": "stderr",
     "output_type": "stream",
     "text": [
      " 16%|█▌        | 16/100 [00:08<00:35,  2.35it/s]"
     ]
    },
    {
     "name": "stdout",
     "output_type": "stream",
     "text": [
      "Epoch 16/100, train_loss: 0.207840, map_loss: 2.090793\n"
     ]
    },
    {
     "name": "stderr",
     "output_type": "stream",
     "text": [
      " 17%|█▋        | 17/100 [00:09<00:35,  2.36it/s]"
     ]
    },
    {
     "name": "stdout",
     "output_type": "stream",
     "text": [
      "Epoch 17/100, train_loss: 0.186924, map_loss: 1.541681\n"
     ]
    },
    {
     "name": "stderr",
     "output_type": "stream",
     "text": [
      " 18%|█▊        | 18/100 [00:09<00:34,  2.38it/s]"
     ]
    },
    {
     "name": "stdout",
     "output_type": "stream",
     "text": [
      "Epoch 18/100, train_loss: 0.187848, map_loss: 1.636011\n"
     ]
    },
    {
     "name": "stderr",
     "output_type": "stream",
     "text": [
      " 19%|█▉        | 19/100 [00:10<00:35,  2.31it/s]"
     ]
    },
    {
     "name": "stdout",
     "output_type": "stream",
     "text": [
      "Epoch 19/100, train_loss: 0.216296, map_loss: 1.516421\n"
     ]
    },
    {
     "name": "stderr",
     "output_type": "stream",
     "text": [
      " 20%|██        | 20/100 [00:10<00:34,  2.29it/s]"
     ]
    },
    {
     "name": "stdout",
     "output_type": "stream",
     "text": [
      "Epoch 20/100, train_loss: 0.172300, map_loss: 1.297529\n"
     ]
    },
    {
     "name": "stderr",
     "output_type": "stream",
     "text": [
      " 21%|██        | 21/100 [00:11<00:36,  2.15it/s]"
     ]
    },
    {
     "name": "stdout",
     "output_type": "stream",
     "text": [
      "Epoch 21/100, train_loss: 0.198244, map_loss: 1.140713\n"
     ]
    },
    {
     "name": "stderr",
     "output_type": "stream",
     "text": [
      " 22%|██▏       | 22/100 [00:11<00:36,  2.15it/s]"
     ]
    },
    {
     "name": "stdout",
     "output_type": "stream",
     "text": [
      "Epoch 22/100, train_loss: 0.164454, map_loss: 1.096091\n"
     ]
    },
    {
     "name": "stderr",
     "output_type": "stream",
     "text": [
      " 23%|██▎       | 23/100 [00:11<00:36,  2.12it/s]"
     ]
    },
    {
     "name": "stdout",
     "output_type": "stream",
     "text": [
      "Epoch 23/100, train_loss: 0.203464, map_loss: 1.285174\n"
     ]
    },
    {
     "name": "stderr",
     "output_type": "stream",
     "text": [
      " 24%|██▍       | 24/100 [00:12<00:39,  1.93it/s]"
     ]
    },
    {
     "name": "stdout",
     "output_type": "stream",
     "text": [
      "Epoch 24/100, train_loss: 0.167845, map_loss: 1.070090\n"
     ]
    },
    {
     "name": "stderr",
     "output_type": "stream",
     "text": [
      " 25%|██▌       | 25/100 [00:13<00:41,  1.82it/s]"
     ]
    },
    {
     "name": "stdout",
     "output_type": "stream",
     "text": [
      "Epoch 25/100, train_loss: 0.119281, map_loss: 0.859857\n"
     ]
    },
    {
     "name": "stderr",
     "output_type": "stream",
     "text": [
      " 26%|██▌       | 26/100 [00:13<00:39,  1.88it/s]"
     ]
    },
    {
     "name": "stdout",
     "output_type": "stream",
     "text": [
      "Epoch 26/100, train_loss: 0.127162, map_loss: 0.460942\n"
     ]
    },
    {
     "name": "stderr",
     "output_type": "stream",
     "text": [
      " 27%|██▋       | 27/100 [00:14<00:38,  1.87it/s]"
     ]
    },
    {
     "name": "stdout",
     "output_type": "stream",
     "text": [
      "Epoch 27/100, train_loss: 0.089851, map_loss: 0.360795\n"
     ]
    },
    {
     "name": "stderr",
     "output_type": "stream",
     "text": [
      " 28%|██▊       | 28/100 [00:14<00:37,  1.91it/s]"
     ]
    },
    {
     "name": "stdout",
     "output_type": "stream",
     "text": [
      "Epoch 28/100, train_loss: 0.145464, map_loss: 0.425659\n"
     ]
    },
    {
     "name": "stderr",
     "output_type": "stream",
     "text": [
      " 29%|██▉       | 29/100 [00:15<00:37,  1.90it/s]"
     ]
    },
    {
     "name": "stdout",
     "output_type": "stream",
     "text": [
      "Epoch 29/100, train_loss: 0.088790, map_loss: 0.338716\n"
     ]
    },
    {
     "name": "stderr",
     "output_type": "stream",
     "text": [
      " 30%|███       | 30/100 [00:15<00:35,  1.95it/s]"
     ]
    },
    {
     "name": "stdout",
     "output_type": "stream",
     "text": [
      "Epoch 30/100, train_loss: 0.084221, map_loss: 0.366630\n"
     ]
    },
    {
     "name": "stderr",
     "output_type": "stream",
     "text": [
      " 31%|███       | 31/100 [00:16<00:35,  1.94it/s]"
     ]
    },
    {
     "name": "stdout",
     "output_type": "stream",
     "text": [
      "Epoch 31/100, train_loss: 0.112552, map_loss: 0.383110\n"
     ]
    },
    {
     "name": "stderr",
     "output_type": "stream",
     "text": [
      " 32%|███▏      | 32/100 [00:16<00:34,  1.96it/s]"
     ]
    },
    {
     "name": "stdout",
     "output_type": "stream",
     "text": [
      "Epoch 32/100, train_loss: 0.089305, map_loss: 0.411479\n"
     ]
    },
    {
     "name": "stderr",
     "output_type": "stream",
     "text": [
      " 33%|███▎      | 33/100 [00:17<00:33,  1.98it/s]"
     ]
    },
    {
     "name": "stdout",
     "output_type": "stream",
     "text": [
      "Epoch 33/100, train_loss: 0.080662, map_loss: 0.375992\n"
     ]
    },
    {
     "name": "stderr",
     "output_type": "stream",
     "text": [
      " 34%|███▍      | 34/100 [00:17<00:30,  2.16it/s]"
     ]
    },
    {
     "name": "stdout",
     "output_type": "stream",
     "text": [
      "Epoch 34/100, train_loss: 0.073804, map_loss: 0.229228\n"
     ]
    },
    {
     "name": "stderr",
     "output_type": "stream",
     "text": [
      " 35%|███▌      | 35/100 [00:18<00:31,  2.08it/s]"
     ]
    },
    {
     "name": "stdout",
     "output_type": "stream",
     "text": [
      "Epoch 35/100, train_loss: 0.080116, map_loss: 0.286670\n"
     ]
    },
    {
     "name": "stderr",
     "output_type": "stream",
     "text": [
      " 36%|███▌      | 36/100 [00:18<00:30,  2.08it/s]"
     ]
    },
    {
     "name": "stdout",
     "output_type": "stream",
     "text": [
      "Epoch 36/100, train_loss: 0.059810, map_loss: 0.186397\n"
     ]
    },
    {
     "name": "stderr",
     "output_type": "stream",
     "text": [
      " 37%|███▋      | 37/100 [00:19<00:32,  1.96it/s]"
     ]
    },
    {
     "name": "stdout",
     "output_type": "stream",
     "text": [
      "Epoch 37/100, train_loss: 0.070199, map_loss: 0.149073\n"
     ]
    },
    {
     "name": "stderr",
     "output_type": "stream",
     "text": [
      " 38%|███▊      | 38/100 [00:19<00:30,  2.06it/s]"
     ]
    },
    {
     "name": "stdout",
     "output_type": "stream",
     "text": [
      "Epoch 38/100, train_loss: 0.072607, map_loss: 0.149579\n"
     ]
    },
    {
     "name": "stderr",
     "output_type": "stream",
     "text": [
      " 39%|███▉      | 39/100 [00:20<00:29,  2.09it/s]"
     ]
    },
    {
     "name": "stdout",
     "output_type": "stream",
     "text": [
      "Epoch 39/100, train_loss: 0.047013, map_loss: 0.129028\n"
     ]
    },
    {
     "name": "stderr",
     "output_type": "stream",
     "text": [
      " 40%|████      | 40/100 [00:20<00:27,  2.17it/s]"
     ]
    },
    {
     "name": "stdout",
     "output_type": "stream",
     "text": [
      "Epoch 40/100, train_loss: 0.057053, map_loss: 0.145840\n"
     ]
    },
    {
     "name": "stderr",
     "output_type": "stream",
     "text": [
      " 41%|████      | 41/100 [00:21<00:28,  2.05it/s]"
     ]
    },
    {
     "name": "stdout",
     "output_type": "stream",
     "text": [
      "Epoch 41/100, train_loss: 0.051328, map_loss: 0.117213\n"
     ]
    },
    {
     "name": "stderr",
     "output_type": "stream",
     "text": [
      " 42%|████▏     | 42/100 [00:21<00:28,  2.05it/s]"
     ]
    },
    {
     "name": "stdout",
     "output_type": "stream",
     "text": [
      "Epoch 42/100, train_loss: 0.060165, map_loss: 0.174277\n"
     ]
    },
    {
     "name": "stderr",
     "output_type": "stream",
     "text": [
      " 43%|████▎     | 43/100 [00:22<00:27,  2.09it/s]"
     ]
    },
    {
     "name": "stdout",
     "output_type": "stream",
     "text": [
      "Epoch 43/100, train_loss: 0.048499, map_loss: 0.169521\n"
     ]
    },
    {
     "name": "stderr",
     "output_type": "stream",
     "text": [
      " 44%|████▍     | 44/100 [00:22<00:34,  1.62it/s]"
     ]
    },
    {
     "name": "stdout",
     "output_type": "stream",
     "text": [
      "Epoch 44/100, train_loss: 0.065691, map_loss: 0.260323\n"
     ]
    },
    {
     "name": "stderr",
     "output_type": "stream",
     "text": [
      " 45%|████▌     | 45/100 [00:23<00:32,  1.69it/s]"
     ]
    },
    {
     "name": "stdout",
     "output_type": "stream",
     "text": [
      "Epoch 45/100, train_loss: 0.050301, map_loss: 0.225820\n"
     ]
    },
    {
     "name": "stderr",
     "output_type": "stream",
     "text": [
      " 46%|████▌     | 46/100 [00:24<00:32,  1.67it/s]"
     ]
    },
    {
     "name": "stdout",
     "output_type": "stream",
     "text": [
      "Epoch 46/100, train_loss: 0.048975, map_loss: 0.218158\n"
     ]
    },
    {
     "name": "stderr",
     "output_type": "stream",
     "text": [
      " 47%|████▋     | 47/100 [00:24<00:29,  1.78it/s]"
     ]
    },
    {
     "name": "stdout",
     "output_type": "stream",
     "text": [
      "Epoch 47/100, train_loss: 0.058703, map_loss: 0.220776\n"
     ]
    },
    {
     "name": "stderr",
     "output_type": "stream",
     "text": [
      " 48%|████▊     | 48/100 [00:25<00:27,  1.90it/s]"
     ]
    },
    {
     "name": "stdout",
     "output_type": "stream",
     "text": [
      "Epoch 48/100, train_loss: 0.048326, map_loss: 0.174554\n"
     ]
    },
    {
     "name": "stderr",
     "output_type": "stream",
     "text": [
      " 49%|████▉     | 49/100 [00:25<00:24,  2.05it/s]"
     ]
    },
    {
     "name": "stdout",
     "output_type": "stream",
     "text": [
      "Epoch 49/100, train_loss: 0.055624, map_loss: 0.203839\n"
     ]
    },
    {
     "name": "stderr",
     "output_type": "stream",
     "text": [
      " 50%|█████     | 50/100 [00:25<00:23,  2.15it/s]"
     ]
    },
    {
     "name": "stdout",
     "output_type": "stream",
     "text": [
      "Epoch 50/100, train_loss: 0.051316, map_loss: 0.189604\n"
     ]
    },
    {
     "name": "stderr",
     "output_type": "stream",
     "text": [
      " 51%|█████     | 51/100 [00:26<00:21,  2.27it/s]"
     ]
    },
    {
     "name": "stdout",
     "output_type": "stream",
     "text": [
      "Epoch 51/100, train_loss: 0.055925, map_loss: 0.227707\n"
     ]
    },
    {
     "name": "stderr",
     "output_type": "stream",
     "text": [
      " 52%|█████▏    | 52/100 [00:26<00:22,  2.16it/s]"
     ]
    },
    {
     "name": "stdout",
     "output_type": "stream",
     "text": [
      "Epoch 52/100, train_loss: 0.057097, map_loss: 0.171730\n"
     ]
    },
    {
     "name": "stderr",
     "output_type": "stream",
     "text": [
      " 53%|█████▎    | 53/100 [00:27<00:22,  2.11it/s]"
     ]
    },
    {
     "name": "stdout",
     "output_type": "stream",
     "text": [
      "Epoch 53/100, train_loss: 0.043655, map_loss: 0.151164\n"
     ]
    },
    {
     "name": "stderr",
     "output_type": "stream",
     "text": [
      " 54%|█████▍    | 54/100 [00:27<00:22,  2.01it/s]"
     ]
    },
    {
     "name": "stdout",
     "output_type": "stream",
     "text": [
      "Epoch 54/100, train_loss: 0.042156, map_loss: 0.176493\n"
     ]
    },
    {
     "name": "stderr",
     "output_type": "stream",
     "text": [
      " 55%|█████▌    | 55/100 [00:28<00:22,  2.02it/s]"
     ]
    },
    {
     "name": "stdout",
     "output_type": "stream",
     "text": [
      "Epoch 55/100, train_loss: 0.049861, map_loss: 0.114740\n"
     ]
    },
    {
     "name": "stderr",
     "output_type": "stream",
     "text": [
      " 56%|█████▌    | 56/100 [00:28<00:21,  2.04it/s]"
     ]
    },
    {
     "name": "stdout",
     "output_type": "stream",
     "text": [
      "Epoch 56/100, train_loss: 0.034964, map_loss: 0.125067\n"
     ]
    },
    {
     "name": "stderr",
     "output_type": "stream",
     "text": [
      " 57%|█████▋    | 57/100 [00:29<00:20,  2.06it/s]"
     ]
    },
    {
     "name": "stdout",
     "output_type": "stream",
     "text": [
      "Epoch 57/100, train_loss: 0.042891, map_loss: 0.095429\n"
     ]
    },
    {
     "name": "stderr",
     "output_type": "stream",
     "text": [
      " 58%|█████▊    | 58/100 [00:29<00:19,  2.16it/s]"
     ]
    },
    {
     "name": "stdout",
     "output_type": "stream",
     "text": [
      "Epoch 58/100, train_loss: 0.036699, map_loss: 0.087946\n"
     ]
    },
    {
     "name": "stderr",
     "output_type": "stream",
     "text": [
      " 59%|█████▉    | 59/100 [00:30<00:19,  2.09it/s]"
     ]
    },
    {
     "name": "stdout",
     "output_type": "stream",
     "text": [
      "Epoch 59/100, train_loss: 0.049107, map_loss: 0.098284\n"
     ]
    },
    {
     "name": "stderr",
     "output_type": "stream",
     "text": [
      " 60%|██████    | 60/100 [00:30<00:19,  2.10it/s]"
     ]
    },
    {
     "name": "stdout",
     "output_type": "stream",
     "text": [
      "Epoch 60/100, train_loss: 0.044296, map_loss: 0.107820\n"
     ]
    },
    {
     "name": "stderr",
     "output_type": "stream",
     "text": [
      " 61%|██████    | 61/100 [00:31<00:17,  2.19it/s]"
     ]
    },
    {
     "name": "stdout",
     "output_type": "stream",
     "text": [
      "Epoch 61/100, train_loss: 0.040343, map_loss: 0.094049\n"
     ]
    },
    {
     "name": "stderr",
     "output_type": "stream",
     "text": [
      " 62%|██████▏   | 62/100 [00:31<00:17,  2.22it/s]"
     ]
    },
    {
     "name": "stdout",
     "output_type": "stream",
     "text": [
      "Epoch 62/100, train_loss: 0.040963, map_loss: 0.092260\n"
     ]
    },
    {
     "name": "stderr",
     "output_type": "stream",
     "text": [
      " 63%|██████▎   | 63/100 [00:31<00:17,  2.16it/s]"
     ]
    },
    {
     "name": "stdout",
     "output_type": "stream",
     "text": [
      "Epoch 63/100, train_loss: 0.049918, map_loss: 0.087805\n"
     ]
    },
    {
     "name": "stderr",
     "output_type": "stream",
     "text": [
      " 64%|██████▍   | 64/100 [00:32<00:17,  2.07it/s]"
     ]
    },
    {
     "name": "stdout",
     "output_type": "stream",
     "text": [
      "Epoch 64/100, train_loss: 0.045732, map_loss: 0.119798\n"
     ]
    },
    {
     "name": "stderr",
     "output_type": "stream",
     "text": [
      " 65%|██████▌   | 65/100 [00:32<00:16,  2.13it/s]"
     ]
    },
    {
     "name": "stdout",
     "output_type": "stream",
     "text": [
      "Epoch 65/100, train_loss: 0.047207, map_loss: 0.115305\n"
     ]
    },
    {
     "name": "stderr",
     "output_type": "stream",
     "text": [
      " 66%|██████▌   | 66/100 [00:33<00:15,  2.22it/s]"
     ]
    },
    {
     "name": "stdout",
     "output_type": "stream",
     "text": [
      "Epoch 66/100, train_loss: 0.060444, map_loss: 0.096655\n"
     ]
    },
    {
     "name": "stderr",
     "output_type": "stream",
     "text": [
      " 67%|██████▋   | 67/100 [00:33<00:14,  2.30it/s]"
     ]
    },
    {
     "name": "stdout",
     "output_type": "stream",
     "text": [
      "Epoch 67/100, train_loss: 0.068459, map_loss: 0.112491\n"
     ]
    },
    {
     "name": "stderr",
     "output_type": "stream",
     "text": [
      " 68%|██████▊   | 68/100 [00:34<00:14,  2.24it/s]"
     ]
    },
    {
     "name": "stdout",
     "output_type": "stream",
     "text": [
      "Epoch 68/100, train_loss: 0.044955, map_loss: 0.084040\n"
     ]
    },
    {
     "name": "stderr",
     "output_type": "stream",
     "text": [
      " 69%|██████▉   | 69/100 [00:34<00:13,  2.29it/s]"
     ]
    },
    {
     "name": "stdout",
     "output_type": "stream",
     "text": [
      "Epoch 69/100, train_loss: 0.041161, map_loss: 0.091271\n"
     ]
    },
    {
     "name": "stderr",
     "output_type": "stream",
     "text": [
      " 70%|███████   | 70/100 [00:35<00:13,  2.20it/s]"
     ]
    },
    {
     "name": "stdout",
     "output_type": "stream",
     "text": [
      "Epoch 70/100, train_loss: 0.047564, map_loss: 0.077878\n"
     ]
    },
    {
     "name": "stderr",
     "output_type": "stream",
     "text": [
      " 71%|███████   | 71/100 [00:35<00:12,  2.24it/s]"
     ]
    },
    {
     "name": "stdout",
     "output_type": "stream",
     "text": [
      "Epoch 71/100, train_loss: 0.049724, map_loss: 0.100605\n"
     ]
    },
    {
     "name": "stderr",
     "output_type": "stream",
     "text": [
      " 72%|███████▏  | 72/100 [00:35<00:11,  2.34it/s]"
     ]
    },
    {
     "name": "stdout",
     "output_type": "stream",
     "text": [
      "Epoch 72/100, train_loss: 0.059985, map_loss: 0.099267\n"
     ]
    },
    {
     "name": "stderr",
     "output_type": "stream",
     "text": [
      " 73%|███████▎  | 73/100 [00:36<00:11,  2.41it/s]"
     ]
    },
    {
     "name": "stdout",
     "output_type": "stream",
     "text": [
      "Epoch 73/100, train_loss: 0.053449, map_loss: 0.080888\n"
     ]
    },
    {
     "name": "stderr",
     "output_type": "stream",
     "text": [
      " 74%|███████▍  | 74/100 [00:36<00:11,  2.33it/s]"
     ]
    },
    {
     "name": "stdout",
     "output_type": "stream",
     "text": [
      "Epoch 74/100, train_loss: 0.041418, map_loss: 0.069555\n"
     ]
    },
    {
     "name": "stderr",
     "output_type": "stream",
     "text": [
      " 75%|███████▌  | 75/100 [00:37<00:10,  2.36it/s]"
     ]
    },
    {
     "name": "stdout",
     "output_type": "stream",
     "text": [
      "Epoch 75/100, train_loss: 0.050692, map_loss: 0.080382\n"
     ]
    },
    {
     "name": "stderr",
     "output_type": "stream",
     "text": [
      " 76%|███████▌  | 76/100 [00:37<00:09,  2.40it/s]"
     ]
    },
    {
     "name": "stdout",
     "output_type": "stream",
     "text": [
      "Epoch 76/100, train_loss: 0.077105, map_loss: 0.088955\n"
     ]
    },
    {
     "name": "stderr",
     "output_type": "stream",
     "text": [
      " 77%|███████▋  | 77/100 [00:38<00:09,  2.34it/s]"
     ]
    },
    {
     "name": "stdout",
     "output_type": "stream",
     "text": [
      "Epoch 77/100, train_loss: 0.046516, map_loss: 0.129415\n"
     ]
    },
    {
     "name": "stderr",
     "output_type": "stream",
     "text": [
      " 78%|███████▊  | 78/100 [00:38<00:10,  2.12it/s]"
     ]
    },
    {
     "name": "stdout",
     "output_type": "stream",
     "text": [
      "Epoch 78/100, train_loss: 0.073432, map_loss: 0.075167\n"
     ]
    },
    {
     "name": "stderr",
     "output_type": "stream",
     "text": [
      " 79%|███████▉  | 79/100 [00:39<00:10,  2.07it/s]"
     ]
    },
    {
     "name": "stdout",
     "output_type": "stream",
     "text": [
      "Epoch 79/100, train_loss: 0.043410, map_loss: 0.060373\n"
     ]
    },
    {
     "name": "stderr",
     "output_type": "stream",
     "text": [
      " 80%|████████  | 80/100 [00:39<00:10,  2.00it/s]"
     ]
    },
    {
     "name": "stdout",
     "output_type": "stream",
     "text": [
      "Epoch 80/100, train_loss: 0.040348, map_loss: 0.065421\n"
     ]
    },
    {
     "name": "stderr",
     "output_type": "stream",
     "text": [
      " 81%|████████  | 81/100 [00:40<00:09,  2.02it/s]"
     ]
    },
    {
     "name": "stdout",
     "output_type": "stream",
     "text": [
      "Epoch 81/100, train_loss: 0.043216, map_loss: 0.054088\n"
     ]
    },
    {
     "name": "stderr",
     "output_type": "stream",
     "text": [
      " 82%|████████▏ | 82/100 [00:40<00:08,  2.13it/s]"
     ]
    },
    {
     "name": "stdout",
     "output_type": "stream",
     "text": [
      "Epoch 82/100, train_loss: 0.038328, map_loss: 0.056946\n"
     ]
    },
    {
     "name": "stderr",
     "output_type": "stream",
     "text": [
      " 83%|████████▎ | 83/100 [00:41<00:07,  2.15it/s]"
     ]
    },
    {
     "name": "stdout",
     "output_type": "stream",
     "text": [
      "Epoch 83/100, train_loss: 0.046951, map_loss: 0.059106\n"
     ]
    },
    {
     "name": "stderr",
     "output_type": "stream",
     "text": [
      " 84%|████████▍ | 84/100 [00:41<00:07,  2.22it/s]"
     ]
    },
    {
     "name": "stdout",
     "output_type": "stream",
     "text": [
      "Epoch 84/100, train_loss: 0.042939, map_loss: 0.082648\n"
     ]
    },
    {
     "name": "stderr",
     "output_type": "stream",
     "text": [
      " 85%|████████▌ | 85/100 [00:41<00:06,  2.21it/s]"
     ]
    },
    {
     "name": "stdout",
     "output_type": "stream",
     "text": [
      "Epoch 85/100, train_loss: 0.044513, map_loss: 0.041627\n"
     ]
    },
    {
     "name": "stderr",
     "output_type": "stream",
     "text": [
      " 86%|████████▌ | 86/100 [00:42<00:06,  2.25it/s]"
     ]
    },
    {
     "name": "stdout",
     "output_type": "stream",
     "text": [
      "Epoch 86/100, train_loss: 0.037510, map_loss: 0.051095\n"
     ]
    },
    {
     "name": "stderr",
     "output_type": "stream",
     "text": [
      " 87%|████████▋ | 87/100 [00:42<00:05,  2.23it/s]"
     ]
    },
    {
     "name": "stdout",
     "output_type": "stream",
     "text": [
      "Epoch 87/100, train_loss: 0.062770, map_loss: 0.042096\n"
     ]
    },
    {
     "name": "stderr",
     "output_type": "stream",
     "text": [
      " 88%|████████▊ | 88/100 [00:43<00:05,  2.20it/s]"
     ]
    },
    {
     "name": "stdout",
     "output_type": "stream",
     "text": [
      "Epoch 88/100, train_loss: 0.030163, map_loss: 0.040996\n"
     ]
    },
    {
     "name": "stderr",
     "output_type": "stream",
     "text": [
      " 89%|████████▉ | 89/100 [00:43<00:04,  2.22it/s]"
     ]
    },
    {
     "name": "stdout",
     "output_type": "stream",
     "text": [
      "Epoch 89/100, train_loss: 0.033992, map_loss: 0.041292\n"
     ]
    },
    {
     "name": "stderr",
     "output_type": "stream",
     "text": [
      " 90%|█████████ | 90/100 [00:44<00:04,  2.25it/s]"
     ]
    },
    {
     "name": "stdout",
     "output_type": "stream",
     "text": [
      "Epoch 90/100, train_loss: 0.034848, map_loss: 0.048829\n"
     ]
    },
    {
     "name": "stderr",
     "output_type": "stream",
     "text": [
      " 91%|█████████ | 91/100 [00:44<00:04,  2.17it/s]"
     ]
    },
    {
     "name": "stdout",
     "output_type": "stream",
     "text": [
      "Epoch 91/100, train_loss: 0.037882, map_loss: 0.042359\n"
     ]
    },
    {
     "name": "stderr",
     "output_type": "stream",
     "text": [
      " 92%|█████████▏| 92/100 [00:45<00:03,  2.10it/s]"
     ]
    },
    {
     "name": "stdout",
     "output_type": "stream",
     "text": [
      "Epoch 92/100, train_loss: 0.033046, map_loss: 0.050818\n"
     ]
    },
    {
     "name": "stderr",
     "output_type": "stream",
     "text": [
      " 93%|█████████▎| 93/100 [00:45<00:03,  2.00it/s]"
     ]
    },
    {
     "name": "stdout",
     "output_type": "stream",
     "text": [
      "Epoch 93/100, train_loss: 0.037632, map_loss: 0.042438\n"
     ]
    },
    {
     "name": "stderr",
     "output_type": "stream",
     "text": [
      " 94%|█████████▍| 94/100 [00:46<00:03,  1.93it/s]"
     ]
    },
    {
     "name": "stdout",
     "output_type": "stream",
     "text": [
      "Epoch 94/100, train_loss: 0.035892, map_loss: 0.053272\n"
     ]
    },
    {
     "name": "stderr",
     "output_type": "stream",
     "text": [
      " 95%|█████████▌| 95/100 [00:46<00:02,  1.86it/s]"
     ]
    },
    {
     "name": "stdout",
     "output_type": "stream",
     "text": [
      "Epoch 95/100, train_loss: 0.038706, map_loss: 0.044492\n"
     ]
    },
    {
     "name": "stderr",
     "output_type": "stream",
     "text": [
      " 96%|█████████▌| 96/100 [00:47<00:02,  1.82it/s]"
     ]
    },
    {
     "name": "stdout",
     "output_type": "stream",
     "text": [
      "Epoch 96/100, train_loss: 0.051065, map_loss: 0.048340\n"
     ]
    },
    {
     "name": "stderr",
     "output_type": "stream",
     "text": [
      " 97%|█████████▋| 97/100 [00:47<00:01,  1.84it/s]"
     ]
    },
    {
     "name": "stdout",
     "output_type": "stream",
     "text": [
      "Epoch 97/100, train_loss: 0.049268, map_loss: 0.067002\n"
     ]
    },
    {
     "name": "stderr",
     "output_type": "stream",
     "text": [
      " 98%|█████████▊| 98/100 [00:48<00:01,  1.93it/s]"
     ]
    },
    {
     "name": "stdout",
     "output_type": "stream",
     "text": [
      "Epoch 98/100, train_loss: 0.043399, map_loss: 0.073343\n"
     ]
    },
    {
     "name": "stderr",
     "output_type": "stream",
     "text": [
      " 99%|█████████▉| 99/100 [00:48<00:00,  2.10it/s]"
     ]
    },
    {
     "name": "stdout",
     "output_type": "stream",
     "text": [
      "Epoch 99/100, train_loss: 0.050855, map_loss: 0.068293\n"
     ]
    },
    {
     "name": "stderr",
     "output_type": "stream",
     "text": [
      "100%|██████████| 100/100 [00:49<00:00,  2.03it/s]"
     ]
    },
    {
     "name": "stdout",
     "output_type": "stream",
     "text": [
      "Epoch 100/100, train_loss: 0.052677, map_loss: 0.082688\n"
     ]
    },
    {
     "name": "stderr",
     "output_type": "stream",
     "text": [
      "\n"
     ]
    },
    {
     "data": {
      "text/plain": [
       "{'train_loss': [0.6332248449325562,\n",
       "  0.3807576894760132,\n",
       "  0.31708893179893494,\n",
       "  0.26942920684814453,\n",
       "  0.2581653296947479,\n",
       "  0.226084366440773,\n",
       "  0.23623891174793243,\n",
       "  0.20707175135612488,\n",
       "  0.22063688933849335,\n",
       "  0.23668956756591797,\n",
       "  0.23451314866542816,\n",
       "  0.207052543759346,\n",
       "  0.21727146208286285,\n",
       "  0.23370882868766785,\n",
       "  0.21747209131717682,\n",
       "  0.20784036815166473,\n",
       "  0.18692384660243988,\n",
       "  0.18784768879413605,\n",
       "  0.21629562973976135,\n",
       "  0.17230036854743958,\n",
       "  0.19824440777301788,\n",
       "  0.16445359587669373,\n",
       "  0.2034643292427063,\n",
       "  0.1678452044725418,\n",
       "  0.11928103119134903,\n",
       "  0.12716175615787506,\n",
       "  0.08985146880149841,\n",
       "  0.14546364545822144,\n",
       "  0.08879027515649796,\n",
       "  0.08422105759382248,\n",
       "  0.11255152523517609,\n",
       "  0.0893048420548439,\n",
       "  0.08066242933273315,\n",
       "  0.0738038569688797,\n",
       "  0.08011574298143387,\n",
       "  0.05981045588850975,\n",
       "  0.07019919157028198,\n",
       "  0.07260704040527344,\n",
       "  0.04701277241110802,\n",
       "  0.05705327168107033,\n",
       "  0.051327820867300034,\n",
       "  0.06016533821821213,\n",
       "  0.04849886894226074,\n",
       "  0.06569140404462814,\n",
       "  0.05030074343085289,\n",
       "  0.04897456616163254,\n",
       "  0.05870324745774269,\n",
       "  0.04832610487937927,\n",
       "  0.055623628199100494,\n",
       "  0.0513162687420845,\n",
       "  0.055924877524375916,\n",
       "  0.05709657073020935,\n",
       "  0.04365527629852295,\n",
       "  0.04215569421648979,\n",
       "  0.04986133426427841,\n",
       "  0.03496447950601578,\n",
       "  0.04289144277572632,\n",
       "  0.036699045449495316,\n",
       "  0.04910675436258316,\n",
       "  0.044295791536569595,\n",
       "  0.040342796593904495,\n",
       "  0.04096334055066109,\n",
       "  0.049918282777071,\n",
       "  0.04573161527514458,\n",
       "  0.047207195311784744,\n",
       "  0.06044379249215126,\n",
       "  0.06845901906490326,\n",
       "  0.044954609125852585,\n",
       "  0.04116096720099449,\n",
       "  0.04756417125463486,\n",
       "  0.049723926931619644,\n",
       "  0.05998469516634941,\n",
       "  0.05344882979989052,\n",
       "  0.04141814634203911,\n",
       "  0.05069153383374214,\n",
       "  0.07710486650466919,\n",
       "  0.046515509486198425,\n",
       "  0.07343220710754395,\n",
       "  0.04341013729572296,\n",
       "  0.04034771770238876,\n",
       "  0.04321550205349922,\n",
       "  0.0383283793926239,\n",
       "  0.04695054888725281,\n",
       "  0.04293908551335335,\n",
       "  0.04451265186071396,\n",
       "  0.037509988993406296,\n",
       "  0.06277038156986237,\n",
       "  0.030162720009684563,\n",
       "  0.033992208540439606,\n",
       "  0.03484754636883736,\n",
       "  0.03788213059306145,\n",
       "  0.03304649889469147,\n",
       "  0.03763153403997421,\n",
       "  0.035891637206077576,\n",
       "  0.038706328719854355,\n",
       "  0.051064565777778625,\n",
       "  0.04926763102412224,\n",
       "  0.04339923337101936,\n",
       "  0.05085516721010208,\n",
       "  0.052677180618047714],\n",
       " 'val_loss': [],\n",
       " 'map_loss': [1.9414806365966797,\n",
       "  3.7359330654144287,\n",
       "  3.6361641883850098,\n",
       "  2.2017977237701416,\n",
       "  1.8277043104171753,\n",
       "  1.3918296098709106,\n",
       "  1.8385212421417236,\n",
       "  1.4226733446121216,\n",
       "  1.4476423263549805,\n",
       "  1.537410020828247,\n",
       "  2.4237539768218994,\n",
       "  1.9416486024856567,\n",
       "  1.7359153032302856,\n",
       "  1.4810218811035156,\n",
       "  2.4197540283203125,\n",
       "  2.0907933712005615,\n",
       "  1.5416805744171143,\n",
       "  1.6360113620758057,\n",
       "  1.5164213180541992,\n",
       "  1.2975291013717651,\n",
       "  1.140712857246399,\n",
       "  1.0960907936096191,\n",
       "  1.2851742506027222,\n",
       "  1.0700898170471191,\n",
       "  0.8598566651344299,\n",
       "  0.46094200015068054,\n",
       "  0.36079543828964233,\n",
       "  0.4256589114665985,\n",
       "  0.3387162983417511,\n",
       "  0.366629958152771,\n",
       "  0.383109986782074,\n",
       "  0.4114789664745331,\n",
       "  0.3759916424751282,\n",
       "  0.22922830283641815,\n",
       "  0.2866700291633606,\n",
       "  0.1863974779844284,\n",
       "  0.14907275140285492,\n",
       "  0.1495787352323532,\n",
       "  0.12902842462062836,\n",
       "  0.1458396315574646,\n",
       "  0.11721348017454147,\n",
       "  0.1742774248123169,\n",
       "  0.16952107846736908,\n",
       "  0.2603226900100708,\n",
       "  0.2258199006319046,\n",
       "  0.21815811097621918,\n",
       "  0.22077636420726776,\n",
       "  0.1745542287826538,\n",
       "  0.2038385272026062,\n",
       "  0.18960407376289368,\n",
       "  0.22770731151103973,\n",
       "  0.17173032462596893,\n",
       "  0.1511640101671219,\n",
       "  0.17649339139461517,\n",
       "  0.11473967134952545,\n",
       "  0.1250668466091156,\n",
       "  0.0954294204711914,\n",
       "  0.08794602006673813,\n",
       "  0.09828361868858337,\n",
       "  0.10781991481781006,\n",
       "  0.09404917806386948,\n",
       "  0.09225992113351822,\n",
       "  0.08780459314584732,\n",
       "  0.11979775130748749,\n",
       "  0.11530523002147675,\n",
       "  0.0966554805636406,\n",
       "  0.11249131709337234,\n",
       "  0.08404045552015305,\n",
       "  0.09127090871334076,\n",
       "  0.07787849009037018,\n",
       "  0.10060491412878036,\n",
       "  0.09926746040582657,\n",
       "  0.0808875784277916,\n",
       "  0.06955495476722717,\n",
       "  0.08038236200809479,\n",
       "  0.0889548659324646,\n",
       "  0.12941494584083557,\n",
       "  0.07516688108444214,\n",
       "  0.06037289649248123,\n",
       "  0.06542056798934937,\n",
       "  0.05408838391304016,\n",
       "  0.056945715099573135,\n",
       "  0.05910603329539299,\n",
       "  0.08264751732349396,\n",
       "  0.041627220809459686,\n",
       "  0.051095180213451385,\n",
       "  0.04209616780281067,\n",
       "  0.040996454656124115,\n",
       "  0.041292183101177216,\n",
       "  0.04882878437638283,\n",
       "  0.04235903546214104,\n",
       "  0.05081847310066223,\n",
       "  0.042438190430402756,\n",
       "  0.0532718226313591,\n",
       "  0.04449231177568436,\n",
       "  0.04834017902612686,\n",
       "  0.06700199097394943,\n",
       "  0.07334323227405548,\n",
       "  0.06829262524843216,\n",
       "  0.08268798887729645]}"
      ]
     },
     "execution_count": 3,
     "metadata": {},
     "output_type": "execute_result"
    }
   ],
   "source": [
    "import gc\n",
    "import numpy as np\n",
    "import torch\n",
    "from itertools import product\n",
    "from src.utils.commons import get_config, get_device, set_seed\n",
    "from src.model.gae import GAE\n",
    "from warnings import filterwarnings\n",
    "from torch_geometric.loader import DataLoader\n",
    "from src.training.train import train\n",
    "from src.data.loader_paper import GraphDatasetPaper\n",
    "from src.utils.commons import get_config\n",
    "\n",
    "filterwarnings('ignore')\n",
    "torch.cuda.empty_cache()\n",
    "gc.collect()\n",
    "\n",
    "config = get_config('configs/paper.yaml')\n",
    "set_seed(10)\n",
    "\n",
    "train_dataset = GraphDatasetPaper(config = config['config'], split = 'train')\n",
    "val_dataset = GraphDatasetPaper(config = config['config'], split = 'val')\n",
    "device = get_device()\n",
    "\n",
    "train_loader = DataLoader(dataset=train_dataset, \n",
    "                          batch_size=1, \n",
    "                          shuffle=False,\n",
    "                          num_workers=config['training']['num_workers'])\n",
    "\n",
    "# val_loader = DataLoader(dataset=val_dataset, \n",
    "#                         batch_size=config['training']['batch_size'], \n",
    "#                         shuffle=False,\n",
    "#                         num_workers=config['training']['num_workers'])\n",
    "mu1 = np.linspace(0.5, 2., 21)[::2]\n",
    "mu2 = np.linspace(2., 0.5, 151)[::5]\n",
    "mu_space = [mu1, mu2]\n",
    "params = torch.tensor(np.array(list(product(*mu_space))))\n",
    "params = params.to(device)\n",
    "\n",
    "num_graphs = train_dataset.num_graphs\n",
    "model = GAE(config, num_graphs).to(device)\n",
    "train(model, device, params, train_loader, config = config['training'])"
   ]
  }
 ],
 "metadata": {
  "kernelspec": {
   "display_name": "'gca_rom'",
   "language": "python",
   "name": "python3"
  },
  "language_info": {
   "codemirror_mode": {
    "name": "ipython",
    "version": 3
   },
   "file_extension": ".py",
   "mimetype": "text/x-python",
   "name": "python",
   "nbconvert_exporter": "python",
   "pygments_lexer": "ipython3",
   "version": "3.10.16"
  }
 },
 "nbformat": 4,
 "nbformat_minor": 2
}
