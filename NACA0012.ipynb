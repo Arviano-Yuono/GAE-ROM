{
 "cells": [
  {
   "cell_type": "code",
   "execution_count": 1,
   "metadata": {},
   "outputs": [
    {
     "data": {
      "text/html": [
       "<pre style=\"white-space:pre;overflow-x:auto;line-height:normal;font-family:Menlo,'DejaVu Sans Mono',consolas,'Courier New',monospace\"><span style=\"color: #808000; text-decoration-color: #808000; font-weight: bold\">Warning:</span><span style=\"color: #808000; text-decoration-color: #808000\"> meshio does not support tags of string type.</span>\n",
       "<span style=\"color: #808000; text-decoration-color: #808000\">    Surface tag  airfoil will be replaced by </span><span style=\"color: #808000; text-decoration-color: #808000; font-weight: bold\">1</span>\n",
       "</pre>\n"
      ],
      "text/plain": [
       "\u001b[1;33mWarning:\u001b[0m\u001b[33m meshio does not support tags of string type.\u001b[0m\n",
       "\u001b[33m    Surface tag  airfoil will be replaced by \u001b[0m\u001b[1;33m1\u001b[0m\n"
      ]
     },
     "metadata": {},
     "output_type": "display_data"
    },
    {
     "data": {
      "text/html": [
       "<pre style=\"white-space:pre;overflow-x:auto;line-height:normal;font-family:Menlo,'DejaVu Sans Mono',consolas,'Courier New',monospace\"><span style=\"color: #808000; text-decoration-color: #808000; font-weight: bold\">Warning:</span><span style=\"color: #808000; text-decoration-color: #808000\"> meshio does not support tags of string type.</span>\n",
       "<span style=\"color: #808000; text-decoration-color: #808000\">    Surface tag  farfield will be replaced by </span><span style=\"color: #808000; text-decoration-color: #808000; font-weight: bold\">2</span>\n",
       "</pre>\n"
      ],
      "text/plain": [
       "\u001b[1;33mWarning:\u001b[0m\u001b[33m meshio does not support tags of string type.\u001b[0m\n",
       "\u001b[33m    Surface tag  farfield will be replaced by \u001b[0m\u001b[1;33m2\u001b[0m\n"
      ]
     },
     "metadata": {},
     "output_type": "display_data"
    },
    {
     "ename": "IndexError",
     "evalue": "list index out of range",
     "output_type": "error",
     "traceback": [
      "\u001b[1;31m---------------------------------------------------------------------------\u001b[0m",
      "\u001b[1;31mIndexError\u001b[0m                                Traceback (most recent call last)",
      "Cell \u001b[1;32mIn[1], line 18\u001b[0m\n\u001b[0;32m     15\u001b[0m set_seed(config[\u001b[38;5;124m'\u001b[39m\u001b[38;5;124mconfig\u001b[39m\u001b[38;5;124m'\u001b[39m][\u001b[38;5;124m'\u001b[39m\u001b[38;5;124mseed\u001b[39m\u001b[38;5;124m'\u001b[39m])\n\u001b[0;32m     17\u001b[0m device \u001b[38;5;241m=\u001b[39m get_device()\n\u001b[1;32m---> 18\u001b[0m train_dataset \u001b[38;5;241m=\u001b[39m \u001b[43mGraphDataset\u001b[49m\u001b[43m(\u001b[49m\u001b[43msplit\u001b[49m\u001b[43m \u001b[49m\u001b[38;5;241;43m=\u001b[39;49m\u001b[43m \u001b[49m\u001b[38;5;124;43m'\u001b[39;49m\u001b[38;5;124;43mtrain\u001b[39;49m\u001b[38;5;124;43m'\u001b[39;49m\u001b[43m,\u001b[49m\u001b[43m \u001b[49m\u001b[43mconfig\u001b[49m\u001b[38;5;241;43m=\u001b[39;49m\u001b[43mconfig\u001b[49m\u001b[43m[\u001b[49m\u001b[38;5;124;43m'\u001b[39;49m\u001b[38;5;124;43mconfig\u001b[39;49m\u001b[38;5;124;43m'\u001b[39;49m\u001b[43m]\u001b[49m\u001b[43m)\u001b[49m\n\u001b[0;32m     19\u001b[0m \u001b[38;5;66;03m# model = GAE(config=config).to(device)\u001b[39;00m\n\u001b[0;32m     20\u001b[0m \n\u001b[0;32m     21\u001b[0m \u001b[38;5;66;03m# train_loader = DataLoader(dataset=train_dataset, \u001b[39;00m\n\u001b[1;32m   (...)\u001b[0m\n\u001b[0;32m     31\u001b[0m \u001b[38;5;66;03m#                       save_best_model=config['training']['save_best_model'],\u001b[39;00m\n\u001b[0;32m     32\u001b[0m \u001b[38;5;66;03m#                       config=config['training'])\u001b[39;00m\n",
      "File \u001b[1;32md:\\TA\\TA2\\GAE-ROM\\src\\data\\loader.py:26\u001b[0m, in \u001b[0;36mGraphDataset.__init__\u001b[1;34m(self, config, split)\u001b[0m\n\u001b[0;32m     23\u001b[0m \u001b[38;5;28mself\u001b[39m\u001b[38;5;241m.\u001b[39msplit \u001b[38;5;241m=\u001b[39m split\n\u001b[0;32m     25\u001b[0m \u001b[38;5;66;03m# load mesh\u001b[39;00m\n\u001b[1;32m---> 26\u001b[0m \u001b[38;5;28mself\u001b[39m\u001b[38;5;241m.\u001b[39mpoints, \u001b[38;5;28mself\u001b[39m\u001b[38;5;241m.\u001b[39mtriangles, \u001b[38;5;28mself\u001b[39m\u001b[38;5;241m.\u001b[39mareas \u001b[38;5;241m=\u001b[39m \u001b[38;5;28;43mself\u001b[39;49m\u001b[38;5;241;43m.\u001b[39;49m\u001b[43mtransform_mesh\u001b[49m\u001b[43m(\u001b[49m\u001b[43m)\u001b[49m\n\u001b[0;32m     27\u001b[0m \u001b[38;5;28mself\u001b[39m\u001b[38;5;241m.\u001b[39mcell_coordinates \u001b[38;5;241m=\u001b[39m \u001b[38;5;28mself\u001b[39m\u001b[38;5;241m.\u001b[39mcompute_cell_center_coordinates()\n\u001b[0;32m     28\u001b[0m \u001b[38;5;28;01mif\u001b[39;00m \u001b[38;5;28mself\u001b[39m\u001b[38;5;241m.\u001b[39mconfig[\u001b[38;5;124m'\u001b[39m\u001b[38;5;124mpreprocessing\u001b[39m\u001b[38;5;124m'\u001b[39m][\u001b[38;5;124m'\u001b[39m\u001b[38;5;124mwith_edge_features\u001b[39m\u001b[38;5;124m'\u001b[39m]:\n",
      "File \u001b[1;32md:\\TA\\TA2\\GAE-ROM\\src\\data\\loader.py:118\u001b[0m, in \u001b[0;36mGraphDataset.transform_mesh\u001b[1;34m(self)\u001b[0m\n\u001b[0;32m    116\u001b[0m \u001b[38;5;28mself\u001b[39m\u001b[38;5;241m.\u001b[39mmesh \u001b[38;5;241m=\u001b[39m \u001b[38;5;28mself\u001b[39m\u001b[38;5;241m.\u001b[39mload_mesh()\n\u001b[0;32m    117\u001b[0m points \u001b[38;5;241m=\u001b[39m \u001b[38;5;28mself\u001b[39m\u001b[38;5;241m.\u001b[39mmesh\u001b[38;5;241m.\u001b[39mpoints\n\u001b[1;32m--> 118\u001b[0m triangles \u001b[38;5;241m=\u001b[39m \u001b[38;5;28;43mself\u001b[39;49m\u001b[38;5;241;43m.\u001b[39;49m\u001b[43mmesh\u001b[49m\u001b[38;5;241;43m.\u001b[39;49m\u001b[43mcells\u001b[49m\u001b[43m[\u001b[49m\u001b[38;5;241;43m2\u001b[39;49m\u001b[43m]\u001b[49m\u001b[38;5;241m.\u001b[39mdata\n\u001b[0;32m    119\u001b[0m \u001b[38;5;66;03m# Convert 1-based indices to 0-based indices\u001b[39;00m\n\u001b[0;32m    120\u001b[0m triangles \u001b[38;5;241m=\u001b[39m triangles \u001b[38;5;241m-\u001b[39m \u001b[38;5;241m1\u001b[39m\n",
      "\u001b[1;31mIndexError\u001b[0m: list index out of range"
     ]
    }
   ],
   "source": [
    "import gc\n",
    "import torch\n",
    "from src.utils.commons import get_config, get_device, set_seed\n",
    "# from src.model.gae import GAE\n",
    "from src.data.loader_paper import GraphDatasetPaper as GraphDataset\n",
    "from warnings import filterwarnings\n",
    "from torch_geometric.loader import DataLoader\n",
    "from src.training.train import train\n",
    "\n",
    "filterwarnings('ignore')\n",
    "torch.cuda.empty_cache()\n",
    "gc.collect()\n",
    "\n",
    "config = get_config('configs/NACA0012.yaml')\n",
    "set_seed(config['config']['seed'])\n",
    "\n",
    "device = get_device()\n",
    "train_dataset = GraphDataset(split = 'train', config=config['config'])\n",
    "# model = GAE(config=config).to(device)\n",
    "\n",
    "# train_loader = DataLoader(dataset=train_dataset, \n",
    "#                           batch_size=config['training']['batch_size'], \n",
    "#                           shuffle=False,\n",
    "#                           num_workers=config['training']['num_workers'])\n",
    "\n",
    "# train_history = train(model=model, \n",
    "#                       device=device,\n",
    "#                       train_loader=train_loader,\n",
    "#                       is_tqdm=False,\n",
    "#                       single_batch=config['training']['single_batch_run'],\n",
    "#                       save_best_model=config['training']['save_best_model'],\n",
    "#                       config=config['training'])"
   ]
  },
  {
   "cell_type": "code",
   "execution_count": 4,
   "metadata": {},
   "outputs": [],
   "source": [
    "import torch.nn.functional as F\n",
    "train_dataset = GraphDataset(split = 'train')\n",
    "model.eval()\n",
    "train_loader = DataLoader(dataset=train_dataset, \n",
    "                          batch_size=config['training']['batch_size'], \n",
    "                          shuffle=False,\n",
    "                          num_workers=config['training']['num_workers'])\n",
    "data = next(iter(train_loader))\n",
    "target = data.x\n",
    "predicted, _ = model(data)  # Your model output"
   ]
  },
  {
   "cell_type": "code",
   "execution_count": 5,
   "metadata": {},
   "outputs": [
    {
     "name": "stdout",
     "output_type": "stream",
     "text": [
      "Re-evaluation loss: 0.5730345845222473\n"
     ]
    }
   ],
   "source": [
    "loss = F.mse_loss(predicted, target)\n",
    "print(f\"Re-evaluation loss: {loss.item()}\")"
   ]
  },
  {
   "cell_type": "code",
   "execution_count": 4,
   "metadata": {},
   "outputs": [],
   "source": [
    "from src.utils.commons import save_model\n",
    "save_model(model, f'artifacts/{config[\"config\"][\"name\"]}.pth')\n"
   ]
  },
  {
   "cell_type": "code",
   "execution_count": 5,
   "metadata": {},
   "outputs": [
    {
     "data": {
      "text/plain": [
       "[<matplotlib.lines.Line2D at 0x1eca161e260>]"
      ]
     },
     "execution_count": 5,
     "metadata": {},
     "output_type": "execute_result"
    },
    {
     "data": {
      "image/png": "[encoded data removed]",
      "text/plain": [
       "<Figure size 640x480 with 1 Axes>"
      ]
     },
     "metadata": {},
     "output_type": "display_data"
    }
   ],
   "source": [
    "import matplotlib.pyplot as plt\n",
    "\n",
    "plt.plot(train_history['train_loss'])\n",
    "plt.plot(train_history['val_loss'])"
   ]
  },
  {
   "cell_type": "code",
   "execution_count": null,
   "metadata": {},
   "outputs": [
    {
     "name": "stdout",
     "output_type": "stream",
     "text": [
      "Re-evaluation loss: 0.5067916512489319\n"
     ]
    }
   ],
   "source": [
    "from src.utils.commons import load_model, set_seed, get_device\n",
    "from src.data.loader import GraphDataset\n",
    "from torch_geometric.loader import DataLoader\n",
    "import torch.nn.functional as F\n",
    "\n",
    "set_seed(42)\n",
    "device = get_device()\n",
    "train_dataset = GraphDataset(split = 'train')\n",
    "model = load_model('artifacts/GAT_100_pool.pth')\n",
    "model.to(device)\n",
    "model.eval()\n",
    "train_loader = DataLoader(dataset=train_dataset, \n",
    "                          batch_size=config['training']['batch_size'], \n",
    "                          shuffle=False,\n",
    "                          num_workers=config['training']['num_workers'])\n",
    "\n",
    "batch = next(iter(train_loader)).to(device)\n",
    "target = batch.x\n",
    "out, _ = model(batch)\n",
    "loss = F.mse_loss(out, target)\n",
    "print(f\"Re-evaluation loss: {loss.item()}\")"
   ]
  },
  {
   "cell_type": "code",
   "execution_count": 1,
   "metadata": {},
   "outputs": [],
   "source": [
    "from src.utils.commons import load_model, get_config, set_seed\n",
    "from src.data.loader import GraphDataset\n",
    "from torch_geometric.loader import DataLoader\n",
    "\n",
    "config = get_config('configs/default.yaml')\n",
    "set_seed(config['config']['seed'])\n",
    "\n",
    "train_dataset = GraphDataset(split = 'train')\n",
    "model = load_model(save_path = f'artifacts/GAT_100_pool.pth')\n",
    "model.eval()\n",
    "data = train_dataset[0]\n",
    "target = data.x\n",
    "predicted, _ = model(data)  # Your model output"
   ]
  },
  {
   "cell_type": "code",
   "execution_count": 12,
   "metadata": {},
   "outputs": [
    {
     "name": "stdout",
     "output_type": "stream",
     "text": [
      "Mean: 4.946764109448054e-10\n",
      "Std: 1.000016212463379\n",
      "Max: 1.93668794631958\n",
      "Min: -5.757261753082275\n"
     ]
    }
   ],
   "source": [
    "import torch\n",
    "print(f\"Mean: {torch.mean(target[:,0])}\")\n",
    "print(f\"Std: {torch.std(target[:,0])}\")\n",
    "print(f\"Max: {torch.max(target[:,0])}\")\n",
    "print(f\"Min: {torch.min(target[:,0])}\")\n"
   ]
  },
  {
   "cell_type": "code",
   "execution_count": 13,
   "metadata": {},
   "outputs": [
    {
     "data": {
      "text/plain": [
       "tensor([[ 2.3000, -0.6171],\n",
       "        [ 0.6963, -0.6171],\n",
       "        [ 1.2671, -0.6171],\n",
       "        ...,\n",
       "        [-1.3286, -0.6171],\n",
       "        [-0.2173, -0.6171],\n",
       "        [-0.7265, -0.4834]], grad_fn=<NativeBatchNormBackward0>)"
      ]
     },
     "execution_count": 13,
     "metadata": {},
     "output_type": "execute_result"
    }
   ],
   "source": [
    "predicted"
   ]
  },
  {
   "cell_type": "code",
   "execution_count": 14,
   "metadata": {},
   "outputs": [
    {
     "data": {
      "text/plain": [
       "tensor([[ 1.6893, -0.3061],\n",
       "        [ 0.6079, -0.5585],\n",
       "        [ 0.8825, -0.5192],\n",
       "        ...,\n",
       "        [-0.7824, -0.8180],\n",
       "        [-0.0327, -0.1216],\n",
       "        [-0.0343, -0.0886]])"
      ]
     },
     "execution_count": 14,
     "metadata": {},
     "output_type": "execute_result"
    }
   ],
   "source": [
    "target"
   ]
  },
  {
   "cell_type": "code",
   "execution_count": 2,
   "metadata": {},
   "outputs": [
    {
     "name": "stdout",
     "output_type": "stream",
     "text": [
      "0.62439245\n",
      "0.50935614\n",
      "0.235132\n",
      "0.235132\n",
      "0.235132\n",
      "0.50935614\n"
     ]
    }
   ],
   "source": [
    "import torch.nn.functional as F\n",
    "print(F.mse_loss(predicted[:,0], target[:,0]).detach().cpu().numpy())\n",
    "# print(F.rmse_loss(predicted[:,0], target[:,0]).detach().cpu().numpy())\n",
    "print(F.l1_loss(predicted[:,0], target[:,0]).detach().cpu().numpy())\n",
    "print(F.smooth_l1_loss(predicted[:,0], target[:,0]).detach().cpu().numpy())\n",
    "print(F.huber_loss(predicted[:,0], target[:,0]).detach().cpu().numpy())\n",
    "print(F.smooth_l1_loss(predicted[:,0], target[:,0]).detach().cpu().numpy())\n",
    "print(F.l1_loss(predicted[:,0], target[:,0]).detach().cpu().numpy())"
   ]
  },
  {
   "cell_type": "code",
   "execution_count": null,
   "metadata": {},
   "outputs": [],
   "source": [
    "from src.utils.plot import Plot\n",
    "\n",
    "# Create plotter\n",
    "plotter = Plot(save_dir='output/')\n",
    "\n",
    "# After getting model output\n",
    "plotter.plot_velocity_field(predicted_batch, title=\"Model Prediction\", save=False)"
   ]
  },
  {
   "cell_type": "code",
   "execution_count": null,
   "metadata": {},
   "outputs": [],
   "source": [
    "import matplotlib.pyplot as plt\n",
    "\n",
    "train_dataset.mesh.points[:,:2]\n",
    "plt.scatter(train_dataset.mesh.points[:,0], \n",
    "            train_dataset.mesh.points[:,1])\n",
    "# make the aspect ratio 8:4\n",
    "plt.gca().set_aspect('equal', 'box')\n",
    "plt.show()\n"
   ]
  },
  {
   "cell_type": "code",
   "execution_count": null,
   "metadata": {},
   "outputs": [],
   "source": [
    "batch = train_dataset[3]\n",
    "plt.scatter(batch.pos[:, 0].detach().cpu().numpy(), \n",
    "            batch.pos[:, 1].detach().cpu().numpy(), \n",
    "            c=batch.x[:, 0].detach().cpu().numpy(), \n",
    "            cmap='viridis',\n",
    "            s=0.05)\n",
    "plt.gca().set_aspect('equal', 'box')\n",
    "plt.show()"
   ]
  }
 ],
 "metadata": {
  "kernelspec": {
   "display_name": "'gca_rom'",
   "language": "python",
   "name": "python3"
  },
  "language_info": {
   "codemirror_mode": {
    "name": "ipython",
    "version": 3
   },
   "file_extension": ".py",
   "mimetype": "text/x-python",
   "name": "python",
   "nbconvert_exporter": "python",
   "pygments_lexer": "ipython3",
   "version": "3.10.16"
  }
 },
 "nbformat": 4,
 "nbformat_minor": 2
}
