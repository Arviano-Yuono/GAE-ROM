{
 "cells": [
  {
   "cell_type": "markdown",
   "metadata": {},
   "source": [
    "# vtu to h5"
   ]
  },
  {
   "cell_type": "code",
   "execution_count": 2,
   "metadata": {},
   "outputs": [
    {
     "name": "stdout",
     "output_type": "stream",
     "text": [
      "Pass 1: Reading all VTU files and extracting data...\n"
     ]
    },
    {
     "name": "stderr",
     "output_type": "stream",
     "text": [
      "Reading VTUs:   1%|          | 3/358 [00:00<00:12, 28.60it/s]"
     ]
    },
    {
     "name": "stdout",
     "output_type": "stream",
     "text": [
      "  ✅ Extracted: Re=1.0e+06, alpha=0.0° from flow_Re_1000000_alpha_0.vtu\n",
      "  ✅ Extracted: Re=1.0e+06, alpha=1.0° from flow_Re_1000000_alpha_1.vtu\n",
      "  ✅ Extracted: Re=1.0e+06, alpha=10.0° from flow_Re_1000000_alpha_10.vtu\n",
      "  ✅ Extracted: Re=1.0e+06, alpha=12.0° from flow_Re_1000000_alpha_12.vtu\n",
      "  ✅ Extracted: Re=1.0e+06, alpha=13.0° from flow_Re_1000000_alpha_13.vtu\n",
      "  ✅ Extracted: Re=1.0e+06, alpha=14.0° from flow_Re_1000000_alpha_14.vtu\n",
      "  ✅ Extracted: Re=1.0e+06, alpha=15.0° from flow_Re_1000000_alpha_15.vtu\n",
      "  ✅ Extracted: Re=1.0e+06, alpha=16.0° from flow_Re_1000000_alpha_16.vtu\n",
      "  ✅ Extracted: Re=1.0e+06, alpha=17.0° from flow_Re_1000000_alpha_17.vtu\n",
      "  ✅ Extracted: Re=1.0e+06, alpha=18.0° from flow_Re_1000000_alpha_18.vtu\n",
      "  ✅ Extracted: Re=1.0e+06, alpha=19.0° from flow_Re_1000000_alpha_19.vtu\n",
      "  ✅ Extracted: Re=1.0e+06, alpha=3.0° from flow_Re_1000000_alpha_3.vtu\n",
      "  ✅ Extracted: Re=1.0e+06, alpha=6.0° from flow_Re_1000000_alpha_6.vtu\n",
      "  ✅ Extracted: Re=1.0e+06, alpha=7.0° from flow_Re_1000000_alpha_7.vtu\n",
      "  ✅ Extracted: Re=1.0e+06, alpha=8.0° from flow_Re_1000000_alpha_8.vtu\n",
      "  ✅ Extracted: Re=1.0e+06, alpha=9.0° from flow_Re_1000000_alpha_9.vtu\n",
      "  ✅ Extracted: Re=1.0e+05, alpha=0.0° from flow_Re_100000_alpha_0.vtu\n"
     ]
    },
    {
     "name": "stderr",
     "output_type": "stream",
     "text": [
      "Reading VTUs:  13%|█▎        | 48/358 [00:00<00:02, 129.67it/s]"
     ]
    },
    {
     "name": "stdout",
     "output_type": "stream",
     "text": [
      "  ✅ Extracted: Re=1.0e+05, alpha=1.0° from flow_Re_100000_alpha_1.vtu\n",
      "  ✅ Extracted: Re=1.0e+05, alpha=10.0° from flow_Re_100000_alpha_10.vtu\n",
      "  ✅ Extracted: Re=1.0e+05, alpha=11.0° from flow_Re_100000_alpha_11.vtu\n",
      "  ✅ Extracted: Re=1.0e+05, alpha=12.0° from flow_Re_100000_alpha_12.vtu\n",
      "  ✅ Extracted: Re=1.0e+05, alpha=13.0° from flow_Re_100000_alpha_13.vtu\n",
      "  ✅ Extracted: Re=1.0e+05, alpha=14.0° from flow_Re_100000_alpha_14.vtu\n",
      "  ✅ Extracted: Re=1.0e+05, alpha=15.0° from flow_Re_100000_alpha_15.vtu\n",
      "  ✅ Extracted: Re=1.0e+05, alpha=16.0° from flow_Re_100000_alpha_16.vtu\n",
      "  ✅ Extracted: Re=1.0e+05, alpha=17.0° from flow_Re_100000_alpha_17.vtu\n",
      "  ✅ Extracted: Re=1.0e+05, alpha=18.0° from flow_Re_100000_alpha_18.vtu\n",
      "  ✅ Extracted: Re=1.0e+05, alpha=19.0° from flow_Re_100000_alpha_19.vtu\n",
      "  ✅ Extracted: Re=1.0e+05, alpha=2.0° from flow_Re_100000_alpha_2.vtu\n",
      "  ✅ Extracted: Re=1.0e+05, alpha=20.0° from flow_Re_100000_alpha_20.vtu\n",
      "  ✅ Extracted: Re=1.0e+05, alpha=3.0° from flow_Re_100000_alpha_3.vtu\n",
      "  ✅ Extracted: Re=1.0e+05, alpha=4.0° from flow_Re_100000_alpha_4.vtu\n",
      "  ✅ Extracted: Re=1.0e+05, alpha=5.0° from flow_Re_100000_alpha_5.vtu\n",
      "  ✅ Extracted: Re=1.0e+05, alpha=6.0° from flow_Re_100000_alpha_6.vtu\n",
      "  ✅ Extracted: Re=1.0e+05, alpha=7.0° from flow_Re_100000_alpha_7.vtu\n",
      "  ✅ Extracted: Re=1.0e+05, alpha=8.0° from flow_Re_100000_alpha_8.vtu\n",
      "  ✅ Extracted: Re=1.0e+05, alpha=9.0° from flow_Re_100000_alpha_9.vtu\n",
      "  ✅ Extracted: Re=1.5e+05, alpha=0.0° from flow_Re_150000_alpha_0.vtu\n",
      "  ✅ Extracted: Re=1.5e+05, alpha=1.0° from flow_Re_150000_alpha_1.vtu\n",
      "  ✅ Extracted: Re=1.5e+05, alpha=11.0° from flow_Re_150000_alpha_11.vtu\n",
      "  ✅ Extracted: Re=1.5e+05, alpha=12.0° from flow_Re_150000_alpha_12.vtu\n",
      "  ✅ Extracted: Re=1.5e+05, alpha=14.0° from flow_Re_150000_alpha_14.vtu\n",
      "  ✅ Extracted: Re=1.5e+05, alpha=15.0° from flow_Re_150000_alpha_15.vtu\n",
      "  ✅ Extracted: Re=1.5e+05, alpha=16.0° from flow_Re_150000_alpha_16.vtu\n",
      "  ✅ Extracted: Re=1.5e+05, alpha=17.0° from flow_Re_150000_alpha_17.vtu\n",
      "  ✅ Extracted: Re=1.5e+05, alpha=19.0° from flow_Re_150000_alpha_19.vtu\n",
      "  ✅ Extracted: Re=1.5e+05, alpha=2.0° from flow_Re_150000_alpha_2.vtu\n",
      "  ✅ Extracted: Re=1.5e+05, alpha=20.0° from flow_Re_150000_alpha_20.vtu\n"
     ]
    },
    {
     "name": "stderr",
     "output_type": "stream",
     "text": [
      "Reading VTUs:  22%|██▏       | 77/358 [00:00<00:02, 137.95it/s]"
     ]
    },
    {
     "name": "stdout",
     "output_type": "stream",
     "text": [
      "  ✅ Extracted: Re=1.5e+05, alpha=3.0° from flow_Re_150000_alpha_3.vtu\n",
      "  ✅ Extracted: Re=1.5e+05, alpha=5.0° from flow_Re_150000_alpha_5.vtu\n",
      "  ✅ Extracted: Re=1.5e+05, alpha=6.0° from flow_Re_150000_alpha_6.vtu\n",
      "  ✅ Extracted: Re=1.5e+05, alpha=7.0° from flow_Re_150000_alpha_7.vtu\n",
      "  ✅ Extracted: Re=1.5e+05, alpha=8.0° from flow_Re_150000_alpha_8.vtu\n",
      "  ✅ Extracted: Re=1.5e+05, alpha=9.0° from flow_Re_150000_alpha_9.vtu\n",
      "  ✅ Extracted: Re=2.0e+05, alpha=0.0° from flow_Re_200000_alpha_0.vtu\n",
      "  ✅ Extracted: Re=2.0e+05, alpha=1.0° from flow_Re_200000_alpha_1.vtu\n",
      "  ✅ Extracted: Re=2.0e+05, alpha=10.0° from flow_Re_200000_alpha_10.vtu\n",
      "  ✅ Extracted: Re=2.0e+05, alpha=11.0° from flow_Re_200000_alpha_11.vtu\n",
      "  ✅ Extracted: Re=2.0e+05, alpha=12.0° from flow_Re_200000_alpha_12.vtu\n",
      "  ✅ Extracted: Re=2.0e+05, alpha=13.0° from flow_Re_200000_alpha_13.vtu\n",
      "  ✅ Extracted: Re=2.0e+05, alpha=14.0° from flow_Re_200000_alpha_14.vtu\n",
      "  ✅ Extracted: Re=2.0e+05, alpha=15.0° from flow_Re_200000_alpha_15.vtu\n",
      "  ✅ Extracted: Re=2.0e+05, alpha=17.0° from flow_Re_200000_alpha_17.vtu\n",
      "  ✅ Extracted: Re=2.0e+05, alpha=18.0° from flow_Re_200000_alpha_18.vtu\n",
      "  ✅ Extracted: Re=2.0e+05, alpha=19.0° from flow_Re_200000_alpha_19.vtu\n",
      "  ✅ Extracted: Re=2.0e+05, alpha=2.0° from flow_Re_200000_alpha_2.vtu\n",
      "  ✅ Extracted: Re=2.0e+05, alpha=20.0° from flow_Re_200000_alpha_20.vtu\n",
      "  ✅ Extracted: Re=2.0e+05, alpha=3.0° from flow_Re_200000_alpha_3.vtu\n",
      "  ✅ Extracted: Re=2.0e+05, alpha=4.0° from flow_Re_200000_alpha_4.vtu\n",
      "  ✅ Extracted: Re=2.0e+05, alpha=5.0° from flow_Re_200000_alpha_5.vtu\n",
      "  ✅ Extracted: Re=2.0e+05, alpha=6.0° from flow_Re_200000_alpha_6.vtu\n",
      "  ✅ Extracted: Re=2.0e+05, alpha=8.0° from flow_Re_200000_alpha_8.vtu\n",
      "  ✅ Extracted: Re=2.0e+05, alpha=9.0° from flow_Re_200000_alpha_9.vtu\n",
      "  ✅ Extracted: Re=2.5e+05, alpha=0.0° from flow_Re_250000_alpha_0.vtu\n",
      "  ✅ Extracted: Re=2.5e+05, alpha=1.0° from flow_Re_250000_alpha_1.vtu\n",
      "  ✅ Extracted: Re=2.5e+05, alpha=10.0° from flow_Re_250000_alpha_10.vtu\n",
      "  ✅ Extracted: Re=2.5e+05, alpha=11.0° from flow_Re_250000_alpha_11.vtu\n"
     ]
    },
    {
     "name": "stderr",
     "output_type": "stream",
     "text": [
      "Reading VTUs:  26%|██▌       | 92/358 [00:00<00:01, 139.90it/s]"
     ]
    },
    {
     "name": "stdout",
     "output_type": "stream",
     "text": [
      "  ✅ Extracted: Re=2.5e+05, alpha=12.0° from flow_Re_250000_alpha_12.vtu\n",
      "  ✅ Extracted: Re=2.5e+05, alpha=13.0° from flow_Re_250000_alpha_13.vtu\n",
      "  ✅ Extracted: Re=2.5e+05, alpha=14.0° from flow_Re_250000_alpha_14.vtu\n",
      "  ✅ Extracted: Re=2.5e+05, alpha=15.0° from flow_Re_250000_alpha_15.vtu\n",
      "  ✅ Extracted: Re=2.5e+05, alpha=16.0° from flow_Re_250000_alpha_16.vtu\n",
      "  ✅ Extracted: Re=2.5e+05, alpha=17.0° from flow_Re_250000_alpha_17.vtu\n",
      "  ✅ Extracted: Re=2.5e+05, alpha=18.0° from flow_Re_250000_alpha_18.vtu\n",
      "  ✅ Extracted: Re=2.5e+05, alpha=19.0° from flow_Re_250000_alpha_19.vtu\n",
      "  ✅ Extracted: Re=2.5e+05, alpha=2.0° from flow_Re_250000_alpha_2.vtu\n",
      "  ✅ Extracted: Re=2.5e+05, alpha=20.0° from flow_Re_250000_alpha_20.vtu\n",
      "  ✅ Extracted: Re=2.5e+05, alpha=3.0° from flow_Re_250000_alpha_3.vtu\n",
      "  ✅ Extracted: Re=2.5e+05, alpha=4.0° from flow_Re_250000_alpha_4.vtu\n",
      "  ✅ Extracted: Re=2.5e+05, alpha=5.0° from flow_Re_250000_alpha_5.vtu\n",
      "  ✅ Extracted: Re=2.5e+05, alpha=7.0° from flow_Re_250000_alpha_7.vtu\n",
      "  ✅ Extracted: Re=2.5e+05, alpha=8.0° from flow_Re_250000_alpha_8.vtu\n",
      "  ✅ Extracted: Re=2.5e+05, alpha=9.0° from flow_Re_250000_alpha_9.vtu\n",
      "  ✅ Extracted: Re=3.0e+05, alpha=0.0° from flow_Re_300000_alpha_0.vtu\n",
      "  ✅ Extracted: Re=3.0e+05, alpha=1.0° from flow_Re_300000_alpha_1.vtu\n",
      "  ✅ Extracted: Re=3.0e+05, alpha=10.0° from flow_Re_300000_alpha_10.vtu\n",
      "  ✅ Extracted: Re=3.0e+05, alpha=11.0° from flow_Re_300000_alpha_11.vtu\n",
      "  ✅ Extracted: Re=3.0e+05, alpha=12.0° from flow_Re_300000_alpha_12.vtu\n",
      "  ✅ Extracted: Re=3.0e+05, alpha=13.0° from flow_Re_300000_alpha_13.vtu\n",
      "  ✅ Extracted: Re=3.0e+05, alpha=16.0° from flow_Re_300000_alpha_16.vtu\n",
      "  ✅ Extracted: Re=3.0e+05, alpha=18.0° from flow_Re_300000_alpha_18.vtu\n",
      "  ✅ Extracted: Re=3.0e+05, alpha=19.0° from flow_Re_300000_alpha_19.vtu\n",
      "  ✅ Extracted: Re=3.0e+05, alpha=2.0° from flow_Re_300000_alpha_2.vtu\n",
      "  ✅ Extracted: Re=3.0e+05, alpha=20.0° from flow_Re_300000_alpha_20.vtu\n",
      "  ✅ Extracted: Re=3.0e+05, alpha=4.0° from flow_Re_300000_alpha_4.vtu\n",
      "  ✅ Extracted: Re=3.0e+05, alpha=5.0° from flow_Re_300000_alpha_5.vtu\n",
      "  ✅ Extracted: Re=3.0e+05, alpha=6.0° from flow_Re_300000_alpha_6.vtu\n"
     ]
    },
    {
     "name": "stderr",
     "output_type": "stream",
     "text": [
      "Reading VTUs:  34%|███▍      | 122/358 [00:00<00:01, 142.95it/s]"
     ]
    },
    {
     "name": "stdout",
     "output_type": "stream",
     "text": [
      "  ✅ Extracted: Re=3.0e+05, alpha=7.0° from flow_Re_300000_alpha_7.vtu\n",
      "  ✅ Extracted: Re=3.0e+05, alpha=8.0° from flow_Re_300000_alpha_8.vtu\n",
      "  ✅ Extracted: Re=3.5e+05, alpha=0.0° from flow_Re_350000_alpha_0.vtu\n",
      "  ✅ Extracted: Re=3.5e+05, alpha=1.0° from flow_Re_350000_alpha_1.vtu\n",
      "  ✅ Extracted: Re=3.5e+05, alpha=10.0° from flow_Re_350000_alpha_10.vtu\n",
      "  ✅ Extracted: Re=3.5e+05, alpha=11.0° from flow_Re_350000_alpha_11.vtu\n",
      "  ✅ Extracted: Re=3.5e+05, alpha=12.0° from flow_Re_350000_alpha_12.vtu\n",
      "  ✅ Extracted: Re=3.5e+05, alpha=13.0° from flow_Re_350000_alpha_13.vtu\n",
      "  ✅ Extracted: Re=3.5e+05, alpha=14.0° from flow_Re_350000_alpha_14.vtu\n",
      "  ✅ Extracted: Re=3.5e+05, alpha=15.0° from flow_Re_350000_alpha_15.vtu\n",
      "  ✅ Extracted: Re=3.5e+05, alpha=16.0° from flow_Re_350000_alpha_16.vtu\n",
      "  ✅ Extracted: Re=3.5e+05, alpha=17.0° from flow_Re_350000_alpha_17.vtu\n",
      "  ✅ Extracted: Re=3.5e+05, alpha=18.0° from flow_Re_350000_alpha_18.vtu\n",
      "  ✅ Extracted: Re=3.5e+05, alpha=19.0° from flow_Re_350000_alpha_19.vtu\n",
      "  ✅ Extracted: Re=3.5e+05, alpha=2.0° from flow_Re_350000_alpha_2.vtu\n",
      "  ✅ Extracted: Re=3.5e+05, alpha=20.0° from flow_Re_350000_alpha_20.vtu\n",
      "  ✅ Extracted: Re=3.5e+05, alpha=4.0° from flow_Re_350000_alpha_4.vtu\n",
      "  ✅ Extracted: Re=3.5e+05, alpha=6.0° from flow_Re_350000_alpha_6.vtu\n",
      "  ✅ Extracted: Re=3.5e+05, alpha=7.0° from flow_Re_350000_alpha_7.vtu\n",
      "  ✅ Extracted: Re=3.5e+05, alpha=8.0° from flow_Re_350000_alpha_8.vtu\n",
      "  ✅ Extracted: Re=3.5e+05, alpha=9.0° from flow_Re_350000_alpha_9.vtu\n",
      "  ✅ Extracted: Re=4.0e+05, alpha=0.0° from flow_Re_400000_alpha_0.vtu\n",
      "  ✅ Extracted: Re=4.0e+05, alpha=1.0° from flow_Re_400000_alpha_1.vtu\n",
      "  ✅ Extracted: Re=4.0e+05, alpha=10.0° from flow_Re_400000_alpha_10.vtu\n",
      "  ✅ Extracted: Re=4.0e+05, alpha=11.0° from flow_Re_400000_alpha_11.vtu\n",
      "  ✅ Extracted: Re=4.0e+05, alpha=12.0° from flow_Re_400000_alpha_12.vtu\n",
      "  ✅ Extracted: Re=4.0e+05, alpha=13.0° from flow_Re_400000_alpha_13.vtu\n",
      "  ✅ Extracted: Re=4.0e+05, alpha=14.0° from flow_Re_400000_alpha_14.vtu\n",
      "  ✅ Extracted: Re=4.0e+05, alpha=15.0° from flow_Re_400000_alpha_15.vtu\n"
     ]
    },
    {
     "name": "stderr",
     "output_type": "stream",
     "text": [
      "Reading VTUs:  42%|████▏     | 152/358 [00:01<00:01, 141.37it/s]"
     ]
    },
    {
     "name": "stdout",
     "output_type": "stream",
     "text": [
      "  ✅ Extracted: Re=4.0e+05, alpha=16.0° from flow_Re_400000_alpha_16.vtu\n",
      "  ✅ Extracted: Re=4.0e+05, alpha=17.0° from flow_Re_400000_alpha_17.vtu\n",
      "  ✅ Extracted: Re=4.0e+05, alpha=18.0° from flow_Re_400000_alpha_18.vtu\n",
      "  ✅ Extracted: Re=4.0e+05, alpha=19.0° from flow_Re_400000_alpha_19.vtu\n",
      "  ✅ Extracted: Re=4.0e+05, alpha=2.0° from flow_Re_400000_alpha_2.vtu\n",
      "  ✅ Extracted: Re=4.0e+05, alpha=20.0° from flow_Re_400000_alpha_20.vtu\n",
      "  ✅ Extracted: Re=4.0e+05, alpha=3.0° from flow_Re_400000_alpha_3.vtu\n",
      "  ✅ Extracted: Re=4.0e+05, alpha=4.0° from flow_Re_400000_alpha_4.vtu\n",
      "  ✅ Extracted: Re=4.0e+05, alpha=5.0° from flow_Re_400000_alpha_5.vtu\n",
      "  ✅ Extracted: Re=4.0e+05, alpha=6.0° from flow_Re_400000_alpha_6.vtu\n",
      "  ✅ Extracted: Re=4.0e+05, alpha=7.0° from flow_Re_400000_alpha_7.vtu\n",
      "  ✅ Extracted: Re=4.0e+05, alpha=8.0° from flow_Re_400000_alpha_8.vtu\n",
      "  ✅ Extracted: Re=4.0e+05, alpha=9.0° from flow_Re_400000_alpha_9.vtu\n",
      "  ✅ Extracted: Re=4.5e+05, alpha=0.0° from flow_Re_450000_alpha_0.vtu\n",
      "  ✅ Extracted: Re=4.5e+05, alpha=1.0° from flow_Re_450000_alpha_1.vtu\n",
      "  ✅ Extracted: Re=4.5e+05, alpha=10.0° from flow_Re_450000_alpha_10.vtu\n",
      "  ✅ Extracted: Re=4.5e+05, alpha=11.0° from flow_Re_450000_alpha_11.vtu\n",
      "  ✅ Extracted: Re=4.5e+05, alpha=12.0° from flow_Re_450000_alpha_12.vtu\n",
      "  ✅ Extracted: Re=4.5e+05, alpha=13.0° from flow_Re_450000_alpha_13.vtu\n",
      "  ✅ Extracted: Re=4.5e+05, alpha=15.0° from flow_Re_450000_alpha_15.vtu\n",
      "  ✅ Extracted: Re=4.5e+05, alpha=16.0° from flow_Re_450000_alpha_16.vtu\n",
      "  ✅ Extracted: Re=4.5e+05, alpha=17.0° from flow_Re_450000_alpha_17.vtu\n",
      "  ✅ Extracted: Re=4.5e+05, alpha=18.0° from flow_Re_450000_alpha_18.vtu\n",
      "  ✅ Extracted: Re=4.5e+05, alpha=19.0° from flow_Re_450000_alpha_19.vtu\n",
      "  ✅ Extracted: Re=4.5e+05, alpha=2.0° from flow_Re_450000_alpha_2.vtu\n",
      "  ✅ Extracted: Re=4.5e+05, alpha=20.0° from flow_Re_450000_alpha_20.vtu\n",
      "  ✅ Extracted: Re=4.5e+05, alpha=3.0° from flow_Re_450000_alpha_3.vtu\n"
     ]
    },
    {
     "name": "stderr",
     "output_type": "stream",
     "text": [
      "Reading VTUs:  51%|█████     | 183/358 [00:01<00:01, 136.66it/s]"
     ]
    },
    {
     "name": "stdout",
     "output_type": "stream",
     "text": [
      "  ✅ Extracted: Re=4.5e+05, alpha=4.0° from flow_Re_450000_alpha_4.vtu\n",
      "  ✅ Extracted: Re=4.5e+05, alpha=5.0° from flow_Re_450000_alpha_5.vtu\n",
      "  ✅ Extracted: Re=4.5e+05, alpha=6.0° from flow_Re_450000_alpha_6.vtu\n",
      "  ✅ Extracted: Re=4.5e+05, alpha=7.0° from flow_Re_450000_alpha_7.vtu\n",
      "  ✅ Extracted: Re=4.5e+05, alpha=8.0° from flow_Re_450000_alpha_8.vtu\n",
      "  ✅ Extracted: Re=4.5e+05, alpha=9.0° from flow_Re_450000_alpha_9.vtu\n",
      "  ✅ Extracted: Re=5.0e+05, alpha=0.0° from flow_Re_500000_alpha_0.vtu\n",
      "  ✅ Extracted: Re=5.0e+05, alpha=1.0° from flow_Re_500000_alpha_1.vtu\n",
      "  ✅ Extracted: Re=5.0e+05, alpha=10.0° from flow_Re_500000_alpha_10.vtu\n",
      "  ✅ Extracted: Re=5.0e+05, alpha=11.0° from flow_Re_500000_alpha_11.vtu\n",
      "  ✅ Extracted: Re=5.0e+05, alpha=12.0° from flow_Re_500000_alpha_12.vtu\n",
      "  ✅ Extracted: Re=5.0e+05, alpha=13.0° from flow_Re_500000_alpha_13.vtu\n",
      "  ✅ Extracted: Re=5.0e+05, alpha=14.0° from flow_Re_500000_alpha_14.vtu\n",
      "  ✅ Extracted: Re=5.0e+05, alpha=15.0° from flow_Re_500000_alpha_15.vtu\n",
      "  ✅ Extracted: Re=5.0e+05, alpha=16.0° from flow_Re_500000_alpha_16.vtu\n",
      "  ✅ Extracted: Re=5.0e+05, alpha=17.0° from flow_Re_500000_alpha_17.vtu\n",
      "  ✅ Extracted: Re=5.0e+05, alpha=18.0° from flow_Re_500000_alpha_18.vtu\n",
      "  ✅ Extracted: Re=5.0e+05, alpha=19.0° from flow_Re_500000_alpha_19.vtu\n",
      "  ✅ Extracted: Re=5.0e+05, alpha=2.0° from flow_Re_500000_alpha_2.vtu\n",
      "  ✅ Extracted: Re=5.0e+05, alpha=20.0° from flow_Re_500000_alpha_20.vtu\n",
      "  ✅ Extracted: Re=5.0e+05, alpha=3.0° from flow_Re_500000_alpha_3.vtu\n",
      "  ✅ Extracted: Re=5.0e+05, alpha=4.0° from flow_Re_500000_alpha_4.vtu\n",
      "  ✅ Extracted: Re=5.0e+05, alpha=5.0° from flow_Re_500000_alpha_5.vtu\n",
      "  ✅ Extracted: Re=5.0e+05, alpha=6.0° from flow_Re_500000_alpha_6.vtu\n",
      "  ✅ Extracted: Re=5.0e+05, alpha=7.0° from flow_Re_500000_alpha_7.vtu\n",
      "  ✅ Extracted: Re=5.0e+05, alpha=8.0° from flow_Re_500000_alpha_8.vtu\n",
      "  ✅ Extracted: Re=5.0e+05, alpha=9.0° from flow_Re_500000_alpha_9.vtu\n",
      "  ✅ Extracted: Re=5.5e+05, alpha=0.0° from flow_Re_550000_alpha_0.vtu\n",
      "  ✅ Extracted: Re=5.5e+05, alpha=1.0° from flow_Re_550000_alpha_1.vtu\n",
      "  ✅ Extracted: Re=5.5e+05, alpha=10.0° from flow_Re_550000_alpha_10.vtu\n",
      "  ✅ Extracted: Re=5.5e+05, alpha=11.0° from flow_Re_550000_alpha_11.vtu\n"
     ]
    },
    {
     "name": "stderr",
     "output_type": "stream",
     "text": [
      "Reading VTUs:  59%|█████▉    | 211/358 [00:01<00:01, 137.24it/s]"
     ]
    },
    {
     "name": "stdout",
     "output_type": "stream",
     "text": [
      "  ✅ Extracted: Re=5.5e+05, alpha=13.0° from flow_Re_550000_alpha_13.vtu\n",
      "  ✅ Extracted: Re=5.5e+05, alpha=15.0° from flow_Re_550000_alpha_15.vtu\n",
      "  ✅ Extracted: Re=5.5e+05, alpha=16.0° from flow_Re_550000_alpha_16.vtu\n",
      "  ✅ Extracted: Re=5.5e+05, alpha=17.0° from flow_Re_550000_alpha_17.vtu\n",
      "  ✅ Extracted: Re=5.5e+05, alpha=18.0° from flow_Re_550000_alpha_18.vtu\n",
      "  ✅ Extracted: Re=5.5e+05, alpha=19.0° from flow_Re_550000_alpha_19.vtu\n",
      "  ✅ Extracted: Re=5.5e+05, alpha=2.0° from flow_Re_550000_alpha_2.vtu\n",
      "  ✅ Extracted: Re=5.5e+05, alpha=20.0° from flow_Re_550000_alpha_20.vtu\n",
      "  ✅ Extracted: Re=5.5e+05, alpha=3.0° from flow_Re_550000_alpha_3.vtu\n",
      "  ✅ Extracted: Re=5.5e+05, alpha=4.0° from flow_Re_550000_alpha_4.vtu\n",
      "  ✅ Extracted: Re=5.5e+05, alpha=5.0° from flow_Re_550000_alpha_5.vtu\n",
      "  ✅ Extracted: Re=5.5e+05, alpha=6.0° from flow_Re_550000_alpha_6.vtu\n",
      "  ✅ Extracted: Re=5.5e+05, alpha=7.0° from flow_Re_550000_alpha_7.vtu\n",
      "  ✅ Extracted: Re=5.5e+05, alpha=9.0° from flow_Re_550000_alpha_9.vtu\n",
      "  ✅ Extracted: Re=6.0e+05, alpha=0.0° from flow_Re_600000_alpha_0.vtu\n",
      "  ✅ Extracted: Re=6.0e+05, alpha=1.0° from flow_Re_600000_alpha_1.vtu\n",
      "  ✅ Extracted: Re=6.0e+05, alpha=10.0° from flow_Re_600000_alpha_10.vtu\n",
      "  ✅ Extracted: Re=6.0e+05, alpha=11.0° from flow_Re_600000_alpha_11.vtu\n",
      "  ✅ Extracted: Re=6.0e+05, alpha=12.0° from flow_Re_600000_alpha_12.vtu\n",
      "  ✅ Extracted: Re=6.0e+05, alpha=13.0° from flow_Re_600000_alpha_13.vtu\n",
      "  ✅ Extracted: Re=6.0e+05, alpha=14.0° from flow_Re_600000_alpha_14.vtu\n",
      "  ✅ Extracted: Re=6.0e+05, alpha=15.0° from flow_Re_600000_alpha_15.vtu\n",
      "  ✅ Extracted: Re=6.0e+05, alpha=16.0° from flow_Re_600000_alpha_16.vtu\n",
      "  ✅ Extracted: Re=6.0e+05, alpha=17.0° from flow_Re_600000_alpha_17.vtu\n",
      "  ✅ Extracted: Re=6.0e+05, alpha=18.0° from flow_Re_600000_alpha_18.vtu\n",
      "  ✅ Extracted: Re=6.0e+05, alpha=19.0° from flow_Re_600000_alpha_19.vtu\n",
      "  ✅ Extracted: Re=6.0e+05, alpha=2.0° from flow_Re_600000_alpha_2.vtu\n",
      "  ✅ Extracted: Re=6.0e+05, alpha=20.0° from flow_Re_600000_alpha_20.vtu\n"
     ]
    },
    {
     "name": "stderr",
     "output_type": "stream",
     "text": [
      "Reading VTUs:  67%|██████▋   | 241/358 [00:01<00:00, 142.18it/s]"
     ]
    },
    {
     "name": "stdout",
     "output_type": "stream",
     "text": [
      "  ✅ Extracted: Re=6.0e+05, alpha=3.0° from flow_Re_600000_alpha_3.vtu\n",
      "  ✅ Extracted: Re=6.0e+05, alpha=4.0° from flow_Re_600000_alpha_4.vtu\n",
      "  ✅ Extracted: Re=6.0e+05, alpha=5.0° from flow_Re_600000_alpha_5.vtu\n",
      "  ✅ Extracted: Re=6.0e+05, alpha=6.0° from flow_Re_600000_alpha_6.vtu\n",
      "  ✅ Extracted: Re=6.0e+05, alpha=7.0° from flow_Re_600000_alpha_7.vtu\n",
      "  ✅ Extracted: Re=6.0e+05, alpha=8.0° from flow_Re_600000_alpha_8.vtu\n",
      "  ✅ Extracted: Re=6.0e+05, alpha=9.0° from flow_Re_600000_alpha_9.vtu\n",
      "  ✅ Extracted: Re=6.5e+05, alpha=0.0° from flow_Re_650000_alpha_0.vtu\n",
      "  ✅ Extracted: Re=6.5e+05, alpha=1.0° from flow_Re_650000_alpha_1.vtu\n",
      "  ✅ Extracted: Re=6.5e+05, alpha=10.0° from flow_Re_650000_alpha_10.vtu\n",
      "  ✅ Extracted: Re=6.5e+05, alpha=11.0° from flow_Re_650000_alpha_11.vtu\n",
      "  ✅ Extracted: Re=6.5e+05, alpha=12.0° from flow_Re_650000_alpha_12.vtu\n",
      "  ✅ Extracted: Re=6.5e+05, alpha=13.0° from flow_Re_650000_alpha_13.vtu\n",
      "  ✅ Extracted: Re=6.5e+05, alpha=15.0° from flow_Re_650000_alpha_15.vtu\n",
      "  ✅ Extracted: Re=6.5e+05, alpha=16.0° from flow_Re_650000_alpha_16.vtu\n",
      "  ✅ Extracted: Re=6.5e+05, alpha=17.0° from flow_Re_650000_alpha_17.vtu\n",
      "  ✅ Extracted: Re=6.5e+05, alpha=18.0° from flow_Re_650000_alpha_18.vtu\n",
      "  ✅ Extracted: Re=6.5e+05, alpha=19.0° from flow_Re_650000_alpha_19.vtu\n",
      "  ✅ Extracted: Re=6.5e+05, alpha=2.0° from flow_Re_650000_alpha_2.vtu\n",
      "  ✅ Extracted: Re=6.5e+05, alpha=20.0° from flow_Re_650000_alpha_20.vtu\n",
      "  ✅ Extracted: Re=6.5e+05, alpha=3.0° from flow_Re_650000_alpha_3.vtu\n",
      "  ✅ Extracted: Re=6.5e+05, alpha=4.0° from flow_Re_650000_alpha_4.vtu\n",
      "  ✅ Extracted: Re=6.5e+05, alpha=5.0° from flow_Re_650000_alpha_5.vtu\n",
      "  ✅ Extracted: Re=6.5e+05, alpha=6.0° from flow_Re_650000_alpha_6.vtu\n",
      "  ✅ Extracted: Re=6.5e+05, alpha=7.0° from flow_Re_650000_alpha_7.vtu\n",
      "  ✅ Extracted: Re=6.5e+05, alpha=8.0° from flow_Re_650000_alpha_8.vtu\n",
      "  ✅ Extracted: Re=6.5e+05, alpha=9.0° from flow_Re_650000_alpha_9.vtu\n",
      "  ✅ Extracted: Re=7.0e+05, alpha=0.0° from flow_Re_700000_alpha_0.vtu\n",
      "  ✅ Extracted: Re=7.0e+05, alpha=1.0° from flow_Re_700000_alpha_1.vtu\n"
     ]
    },
    {
     "name": "stderr",
     "output_type": "stream",
     "text": [
      "Reading VTUs:  76%|███████▌  | 271/358 [00:02<00:00, 140.58it/s]"
     ]
    },
    {
     "name": "stdout",
     "output_type": "stream",
     "text": [
      "  ✅ Extracted: Re=7.0e+05, alpha=10.0° from flow_Re_700000_alpha_10.vtu\n",
      "  ✅ Extracted: Re=7.0e+05, alpha=11.0° from flow_Re_700000_alpha_11.vtu\n",
      "  ✅ Extracted: Re=7.0e+05, alpha=12.0° from flow_Re_700000_alpha_12.vtu\n",
      "  ✅ Extracted: Re=7.0e+05, alpha=13.0° from flow_Re_700000_alpha_13.vtu\n",
      "  ✅ Extracted: Re=7.0e+05, alpha=15.0° from flow_Re_700000_alpha_15.vtu\n",
      "  ✅ Extracted: Re=7.0e+05, alpha=16.0° from flow_Re_700000_alpha_16.vtu\n",
      "  ✅ Extracted: Re=7.0e+05, alpha=17.0° from flow_Re_700000_alpha_17.vtu\n",
      "  ✅ Extracted: Re=7.0e+05, alpha=18.0° from flow_Re_700000_alpha_18.vtu\n",
      "  ✅ Extracted: Re=7.0e+05, alpha=19.0° from flow_Re_700000_alpha_19.vtu\n",
      "  ✅ Extracted: Re=7.0e+05, alpha=2.0° from flow_Re_700000_alpha_2.vtu\n",
      "  ✅ Extracted: Re=7.0e+05, alpha=20.0° from flow_Re_700000_alpha_20.vtu\n",
      "  ✅ Extracted: Re=7.0e+05, alpha=4.0° from flow_Re_700000_alpha_4.vtu\n",
      "  ✅ Extracted: Re=7.0e+05, alpha=5.0° from flow_Re_700000_alpha_5.vtu\n",
      "  ✅ Extracted: Re=7.0e+05, alpha=6.0° from flow_Re_700000_alpha_6.vtu\n",
      "  ✅ Extracted: Re=7.0e+05, alpha=7.0° from flow_Re_700000_alpha_7.vtu\n",
      "  ✅ Extracted: Re=7.0e+05, alpha=8.0° from flow_Re_700000_alpha_8.vtu\n",
      "  ✅ Extracted: Re=7.0e+05, alpha=9.0° from flow_Re_700000_alpha_9.vtu\n",
      "  ✅ Extracted: Re=7.5e+05, alpha=0.0° from flow_Re_750000_alpha_0.vtu\n",
      "  ✅ Extracted: Re=7.5e+05, alpha=1.0° from flow_Re_750000_alpha_1.vtu\n",
      "  ✅ Extracted: Re=7.5e+05, alpha=10.0° from flow_Re_750000_alpha_10.vtu\n",
      "  ✅ Extracted: Re=7.5e+05, alpha=11.0° from flow_Re_750000_alpha_11.vtu\n",
      "  ✅ Extracted: Re=7.5e+05, alpha=12.0° from flow_Re_750000_alpha_12.vtu\n",
      "  ✅ Extracted: Re=7.5e+05, alpha=13.0° from flow_Re_750000_alpha_13.vtu\n",
      "  ✅ Extracted: Re=7.5e+05, alpha=14.0° from flow_Re_750000_alpha_14.vtu\n",
      "  ✅ Extracted: Re=7.5e+05, alpha=17.0° from flow_Re_750000_alpha_17.vtu\n",
      "  ✅ Extracted: Re=7.5e+05, alpha=18.0° from flow_Re_750000_alpha_18.vtu\n",
      "  ✅ Extracted: Re=7.5e+05, alpha=19.0° from flow_Re_750000_alpha_19.vtu\n",
      "  ✅ Extracted: Re=7.5e+05, alpha=2.0° from flow_Re_750000_alpha_2.vtu\n",
      "  ✅ Extracted: Re=7.5e+05, alpha=20.0° from flow_Re_750000_alpha_20.vtu\n",
      "  ✅ Extracted: Re=7.5e+05, alpha=4.0° from flow_Re_750000_alpha_4.vtu\n",
      "  ✅ Extracted: Re=7.5e+05, alpha=5.0° from flow_Re_750000_alpha_5.vtu\n"
     ]
    },
    {
     "name": "stderr",
     "output_type": "stream",
     "text": [
      "Reading VTUs:  84%|████████▍ | 301/358 [00:02<00:00, 141.39it/s]"
     ]
    },
    {
     "name": "stdout",
     "output_type": "stream",
     "text": [
      "  ✅ Extracted: Re=7.5e+05, alpha=6.0° from flow_Re_750000_alpha_6.vtu\n",
      "  ✅ Extracted: Re=7.5e+05, alpha=7.0° from flow_Re_750000_alpha_7.vtu\n",
      "  ✅ Extracted: Re=7.5e+05, alpha=8.0° from flow_Re_750000_alpha_8.vtu\n",
      "  ✅ Extracted: Re=7.5e+05, alpha=9.0° from flow_Re_750000_alpha_9.vtu\n",
      "  ✅ Extracted: Re=8.0e+05, alpha=0.0° from flow_Re_800000_alpha_0.vtu\n",
      "  ✅ Extracted: Re=8.0e+05, alpha=1.0° from flow_Re_800000_alpha_1.vtu\n",
      "  ✅ Extracted: Re=8.0e+05, alpha=10.0° from flow_Re_800000_alpha_10.vtu\n",
      "  ✅ Extracted: Re=8.0e+05, alpha=11.0° from flow_Re_800000_alpha_11.vtu\n",
      "  ✅ Extracted: Re=8.0e+05, alpha=12.0° from flow_Re_800000_alpha_12.vtu\n",
      "  ✅ Extracted: Re=8.0e+05, alpha=13.0° from flow_Re_800000_alpha_13.vtu\n",
      "  ✅ Extracted: Re=8.0e+05, alpha=14.0° from flow_Re_800000_alpha_14.vtu\n",
      "  ✅ Extracted: Re=8.0e+05, alpha=15.0° from flow_Re_800000_alpha_15.vtu\n",
      "  ✅ Extracted: Re=8.0e+05, alpha=16.0° from flow_Re_800000_alpha_16.vtu\n",
      "  ✅ Extracted: Re=8.0e+05, alpha=17.0° from flow_Re_800000_alpha_17.vtu\n",
      "  ✅ Extracted: Re=8.0e+05, alpha=18.0° from flow_Re_800000_alpha_18.vtu\n",
      "  ✅ Extracted: Re=8.0e+05, alpha=19.0° from flow_Re_800000_alpha_19.vtu\n",
      "  ✅ Extracted: Re=8.0e+05, alpha=20.0° from flow_Re_800000_alpha_20.vtu\n",
      "  ✅ Extracted: Re=8.0e+05, alpha=3.0° from flow_Re_800000_alpha_3.vtu\n",
      "  ✅ Extracted: Re=8.0e+05, alpha=4.0° from flow_Re_800000_alpha_4.vtu\n",
      "  ✅ Extracted: Re=8.0e+05, alpha=5.0° from flow_Re_800000_alpha_5.vtu\n",
      "  ✅ Extracted: Re=8.0e+05, alpha=7.0° from flow_Re_800000_alpha_7.vtu\n",
      "  ✅ Extracted: Re=8.0e+05, alpha=8.0° from flow_Re_800000_alpha_8.vtu\n",
      "  ✅ Extracted: Re=8.0e+05, alpha=9.0° from flow_Re_800000_alpha_9.vtu\n",
      "  ✅ Extracted: Re=8.5e+05, alpha=0.0° from flow_Re_850000_alpha_0.vtu\n"
     ]
    },
    {
     "name": "stderr",
     "output_type": "stream",
     "text": [
      "Reading VTUs:  93%|█████████▎| 332/358 [00:02<00:00, 141.56it/s]"
     ]
    },
    {
     "name": "stdout",
     "output_type": "stream",
     "text": [
      "  ✅ Extracted: Re=8.5e+05, alpha=1.0° from flow_Re_850000_alpha_1.vtu\n",
      "  ✅ Extracted: Re=8.5e+05, alpha=10.0° from flow_Re_850000_alpha_10.vtu\n",
      "  ✅ Extracted: Re=8.5e+05, alpha=11.0° from flow_Re_850000_alpha_11.vtu\n",
      "  ✅ Extracted: Re=8.5e+05, alpha=12.0° from flow_Re_850000_alpha_12.vtu\n",
      "  ✅ Extracted: Re=8.5e+05, alpha=13.0° from flow_Re_850000_alpha_13.vtu\n",
      "  ✅ Extracted: Re=8.5e+05, alpha=14.0° from flow_Re_850000_alpha_14.vtu\n",
      "  ✅ Extracted: Re=8.5e+05, alpha=15.0° from flow_Re_850000_alpha_15.vtu\n",
      "  ✅ Extracted: Re=8.5e+05, alpha=16.0° from flow_Re_850000_alpha_16.vtu\n",
      "  ✅ Extracted: Re=8.5e+05, alpha=17.0° from flow_Re_850000_alpha_17.vtu\n",
      "  ✅ Extracted: Re=8.5e+05, alpha=19.0° from flow_Re_850000_alpha_19.vtu\n",
      "  ✅ Extracted: Re=8.5e+05, alpha=2.0° from flow_Re_850000_alpha_2.vtu\n",
      "  ✅ Extracted: Re=8.5e+05, alpha=20.0° from flow_Re_850000_alpha_20.vtu\n",
      "  ✅ Extracted: Re=8.5e+05, alpha=3.0° from flow_Re_850000_alpha_3.vtu\n",
      "  ✅ Extracted: Re=8.5e+05, alpha=4.0° from flow_Re_850000_alpha_4.vtu\n",
      "  ✅ Extracted: Re=8.5e+05, alpha=5.0° from flow_Re_850000_alpha_5.vtu\n",
      "  ✅ Extracted: Re=8.5e+05, alpha=6.0° from flow_Re_850000_alpha_6.vtu\n",
      "  ✅ Extracted: Re=8.5e+05, alpha=7.0° from flow_Re_850000_alpha_7.vtu\n",
      "  ✅ Extracted: Re=8.5e+05, alpha=8.0° from flow_Re_850000_alpha_8.vtu\n",
      "  ✅ Extracted: Re=8.5e+05, alpha=9.0° from flow_Re_850000_alpha_9.vtu\n",
      "  ✅ Extracted: Re=9.0e+05, alpha=1.0° from flow_Re_900000_alpha_1.vtu\n",
      "  ✅ Extracted: Re=9.0e+05, alpha=11.0° from flow_Re_900000_alpha_11.vtu\n",
      "  ✅ Extracted: Re=9.0e+05, alpha=12.0° from flow_Re_900000_alpha_12.vtu\n",
      "  ✅ Extracted: Re=9.0e+05, alpha=13.0° from flow_Re_900000_alpha_13.vtu\n",
      "  ✅ Extracted: Re=9.0e+05, alpha=14.0° from flow_Re_900000_alpha_14.vtu\n",
      "  ✅ Extracted: Re=9.0e+05, alpha=16.0° from flow_Re_900000_alpha_16.vtu\n",
      "  ✅ Extracted: Re=9.0e+05, alpha=18.0° from flow_Re_900000_alpha_18.vtu\n",
      "  ✅ Extracted: Re=9.0e+05, alpha=19.0° from flow_Re_900000_alpha_19.vtu\n",
      "  ✅ Extracted: Re=9.0e+05, alpha=2.0° from flow_Re_900000_alpha_2.vtu\n",
      "  ✅ Extracted: Re=9.0e+05, alpha=20.0° from flow_Re_900000_alpha_20.vtu\n",
      "  ✅ Extracted: Re=9.0e+05, alpha=3.0° from flow_Re_900000_alpha_3.vtu\n",
      "  ✅ Extracted: Re=9.0e+05, alpha=4.0° from flow_Re_900000_alpha_4.vtu\n"
     ]
    },
    {
     "name": "stderr",
     "output_type": "stream",
     "text": [
      "Reading VTUs: 100%|██████████| 358/358 [00:02<00:00, 136.26it/s]"
     ]
    },
    {
     "name": "stdout",
     "output_type": "stream",
     "text": [
      "  ✅ Extracted: Re=9.0e+05, alpha=5.0° from flow_Re_900000_alpha_5.vtu\n",
      "  ✅ Extracted: Re=9.0e+05, alpha=6.0° from flow_Re_900000_alpha_6.vtu\n",
      "  ✅ Extracted: Re=9.0e+05, alpha=7.0° from flow_Re_900000_alpha_7.vtu\n",
      "  ✅ Extracted: Re=9.0e+05, alpha=8.0° from flow_Re_900000_alpha_8.vtu\n",
      "  ✅ Extracted: Re=9.5e+05, alpha=0.0° from flow_Re_950000_alpha_0.vtu\n",
      "  ✅ Extracted: Re=9.5e+05, alpha=10.0° from flow_Re_950000_alpha_10.vtu\n",
      "  ✅ Extracted: Re=9.5e+05, alpha=11.0° from flow_Re_950000_alpha_11.vtu\n",
      "  ✅ Extracted: Re=9.5e+05, alpha=12.0° from flow_Re_950000_alpha_12.vtu\n",
      "  ✅ Extracted: Re=9.5e+05, alpha=14.0° from flow_Re_950000_alpha_14.vtu\n",
      "  ✅ Extracted: Re=9.5e+05, alpha=15.0° from flow_Re_950000_alpha_15.vtu\n",
      "  ✅ Extracted: Re=9.5e+05, alpha=17.0° from flow_Re_950000_alpha_17.vtu\n",
      "  ✅ Extracted: Re=9.5e+05, alpha=18.0° from flow_Re_950000_alpha_18.vtu\n",
      "  ✅ Extracted: Re=9.5e+05, alpha=19.0° from flow_Re_950000_alpha_19.vtu\n",
      "  ✅ Extracted: Re=9.5e+05, alpha=2.0° from flow_Re_950000_alpha_2.vtu\n",
      "  ✅ Extracted: Re=9.5e+05, alpha=20.0° from flow_Re_950000_alpha_20.vtu\n",
      "  ✅ Extracted: Re=9.5e+05, alpha=3.0° from flow_Re_950000_alpha_3.vtu\n",
      "  ✅ Extracted: Re=9.5e+05, alpha=4.0° from flow_Re_950000_alpha_4.vtu\n",
      "  ✅ Extracted: Re=9.5e+05, alpha=5.0° from flow_Re_950000_alpha_5.vtu\n",
      "  ✅ Extracted: Re=9.5e+05, alpha=7.0° from flow_Re_950000_alpha_7.vtu\n",
      "  ✅ Extracted: Re=9.5e+05, alpha=8.0° from flow_Re_950000_alpha_8.vtu\n",
      "  ✅ Extracted: Re=9.5e+05, alpha=9.0° from flow_Re_950000_alpha_9.vtu\n",
      "\n",
      "📊 Flow Parameters Summary:\n",
      "  Re=1.0e+05, alpha=0.0°: 1 files\n",
      "  Re=1.0e+05, alpha=1.0°: 1 files\n",
      "  Re=1.0e+05, alpha=2.0°: 1 files\n",
      "  Re=1.0e+05, alpha=3.0°: 1 files\n",
      "  Re=1.0e+05, alpha=4.0°: 1 files\n",
      "  Re=1.0e+05, alpha=5.0°: 1 files\n",
      "  Re=1.0e+05, alpha=6.0°: 1 files\n",
      "  Re=1.0e+05, alpha=7.0°: 1 files\n",
      "  Re=1.0e+05, alpha=8.0°: 1 files\n",
      "  Re=1.0e+05, alpha=9.0°: 1 files\n",
      "  Re=1.0e+05, alpha=10.0°: 1 files\n",
      "  Re=1.0e+05, alpha=11.0°: 1 files\n",
      "  Re=1.0e+05, alpha=12.0°: 1 files\n",
      "  Re=1.0e+05, alpha=13.0°: 1 files\n",
      "  Re=1.0e+05, alpha=14.0°: 1 files\n",
      "  Re=1.0e+05, alpha=15.0°: 1 files\n",
      "  Re=1.0e+05, alpha=16.0°: 1 files\n",
      "  Re=1.0e+05, alpha=17.0°: 1 files\n",
      "  Re=1.0e+05, alpha=18.0°: 1 files\n",
      "  Re=1.0e+05, alpha=19.0°: 1 files\n",
      "  Re=1.0e+05, alpha=20.0°: 1 files\n",
      "  Re=1.5e+05, alpha=0.0°: 1 files\n",
      "  Re=1.5e+05, alpha=1.0°: 1 files\n",
      "  Re=1.5e+05, alpha=2.0°: 1 files\n",
      "  Re=1.5e+05, alpha=3.0°: 1 files\n",
      "  Re=1.5e+05, alpha=5.0°: 1 files\n",
      "  Re=1.5e+05, alpha=6.0°: 1 files\n",
      "  Re=1.5e+05, alpha=7.0°: 1 files\n",
      "  Re=1.5e+05, alpha=8.0°: 1 files\n",
      "  Re=1.5e+05, alpha=9.0°: 1 files\n",
      "  Re=1.5e+05, alpha=11.0°: 1 files\n",
      "  Re=1.5e+05, alpha=12.0°: 1 files\n",
      "  Re=1.5e+05, alpha=14.0°: 1 files\n",
      "  Re=1.5e+05, alpha=15.0°: 1 files\n",
      "  Re=1.5e+05, alpha=16.0°: 1 files\n",
      "  Re=1.5e+05, alpha=17.0°: 1 files\n",
      "  Re=1.5e+05, alpha=19.0°: 1 files\n",
      "  Re=1.5e+05, alpha=20.0°: 1 files\n",
      "  Re=2.0e+05, alpha=0.0°: 1 files\n",
      "  Re=2.0e+05, alpha=1.0°: 1 files\n",
      "  Re=2.0e+05, alpha=2.0°: 1 files\n",
      "  Re=2.0e+05, alpha=3.0°: 1 files\n",
      "  Re=2.0e+05, alpha=4.0°: 1 files\n",
      "  Re=2.0e+05, alpha=5.0°: 1 files\n",
      "  Re=2.0e+05, alpha=6.0°: 1 files\n",
      "  Re=2.0e+05, alpha=8.0°: 1 files\n",
      "  Re=2.0e+05, alpha=9.0°: 1 files\n",
      "  Re=2.0e+05, alpha=10.0°: 1 files\n",
      "  Re=2.0e+05, alpha=11.0°: 1 files\n",
      "  Re=2.0e+05, alpha=12.0°: 1 files\n",
      "  Re=2.0e+05, alpha=13.0°: 1 files\n",
      "  Re=2.0e+05, alpha=14.0°: 1 files\n",
      "  Re=2.0e+05, alpha=15.0°: 1 files\n",
      "  Re=2.0e+05, alpha=17.0°: 1 files\n",
      "  Re=2.0e+05, alpha=18.0°: 1 files\n",
      "  Re=2.0e+05, alpha=19.0°: 1 files\n",
      "  Re=2.0e+05, alpha=20.0°: 1 files\n",
      "  Re=2.5e+05, alpha=0.0°: 1 files\n",
      "  Re=2.5e+05, alpha=1.0°: 1 files\n",
      "  Re=2.5e+05, alpha=2.0°: 1 files\n",
      "  Re=2.5e+05, alpha=3.0°: 1 files\n",
      "  Re=2.5e+05, alpha=4.0°: 1 files\n",
      "  Re=2.5e+05, alpha=5.0°: 1 files\n",
      "  Re=2.5e+05, alpha=7.0°: 1 files\n",
      "  Re=2.5e+05, alpha=8.0°: 1 files\n",
      "  Re=2.5e+05, alpha=9.0°: 1 files\n",
      "  Re=2.5e+05, alpha=10.0°: 1 files\n",
      "  Re=2.5e+05, alpha=11.0°: 1 files\n",
      "  Re=2.5e+05, alpha=12.0°: 1 files\n",
      "  Re=2.5e+05, alpha=13.0°: 1 files\n",
      "  Re=2.5e+05, alpha=14.0°: 1 files\n",
      "  Re=2.5e+05, alpha=15.0°: 1 files\n",
      "  Re=2.5e+05, alpha=16.0°: 1 files\n",
      "  Re=2.5e+05, alpha=17.0°: 1 files\n",
      "  Re=2.5e+05, alpha=18.0°: 1 files\n",
      "  Re=2.5e+05, alpha=19.0°: 1 files\n",
      "  Re=2.5e+05, alpha=20.0°: 1 files\n",
      "  Re=3.0e+05, alpha=0.0°: 1 files\n",
      "  Re=3.0e+05, alpha=1.0°: 1 files\n",
      "  Re=3.0e+05, alpha=2.0°: 1 files\n",
      "  Re=3.0e+05, alpha=4.0°: 1 files\n",
      "  Re=3.0e+05, alpha=5.0°: 1 files\n",
      "  Re=3.0e+05, alpha=6.0°: 1 files\n",
      "  Re=3.0e+05, alpha=7.0°: 1 files\n",
      "  Re=3.0e+05, alpha=8.0°: 1 files\n",
      "  Re=3.0e+05, alpha=10.0°: 1 files\n",
      "  Re=3.0e+05, alpha=11.0°: 1 files\n",
      "  Re=3.0e+05, alpha=12.0°: 1 files\n",
      "  Re=3.0e+05, alpha=13.0°: 1 files\n",
      "  Re=3.0e+05, alpha=16.0°: 1 files\n",
      "  Re=3.0e+05, alpha=18.0°: 1 files\n",
      "  Re=3.0e+05, alpha=19.0°: 1 files\n",
      "  Re=3.0e+05, alpha=20.0°: 1 files\n",
      "  Re=3.5e+05, alpha=0.0°: 1 files\n",
      "  Re=3.5e+05, alpha=1.0°: 1 files\n",
      "  Re=3.5e+05, alpha=2.0°: 1 files\n",
      "  Re=3.5e+05, alpha=4.0°: 1 files\n",
      "  Re=3.5e+05, alpha=6.0°: 1 files\n",
      "  Re=3.5e+05, alpha=7.0°: 1 files\n",
      "  Re=3.5e+05, alpha=8.0°: 1 files\n",
      "  Re=3.5e+05, alpha=9.0°: 1 files\n",
      "  Re=3.5e+05, alpha=10.0°: 1 files\n",
      "  Re=3.5e+05, alpha=11.0°: 1 files\n",
      "  Re=3.5e+05, alpha=12.0°: 1 files\n",
      "  Re=3.5e+05, alpha=13.0°: 1 files\n",
      "  Re=3.5e+05, alpha=14.0°: 1 files\n",
      "  Re=3.5e+05, alpha=15.0°: 1 files\n",
      "  Re=3.5e+05, alpha=16.0°: 1 files\n",
      "  Re=3.5e+05, alpha=17.0°: 1 files\n",
      "  Re=3.5e+05, alpha=18.0°: 1 files\n",
      "  Re=3.5e+05, alpha=19.0°: 1 files\n",
      "  Re=3.5e+05, alpha=20.0°: 1 files\n",
      "  Re=4.0e+05, alpha=0.0°: 1 files\n",
      "  Re=4.0e+05, alpha=1.0°: 1 files\n",
      "  Re=4.0e+05, alpha=2.0°: 1 files\n",
      "  Re=4.0e+05, alpha=3.0°: 1 files\n",
      "  Re=4.0e+05, alpha=4.0°: 1 files\n",
      "  Re=4.0e+05, alpha=5.0°: 1 files\n",
      "  Re=4.0e+05, alpha=6.0°: 1 files\n",
      "  Re=4.0e+05, alpha=7.0°: 1 files\n",
      "  Re=4.0e+05, alpha=8.0°: 1 files\n",
      "  Re=4.0e+05, alpha=9.0°: 1 files\n",
      "  Re=4.0e+05, alpha=10.0°: 1 files\n",
      "  Re=4.0e+05, alpha=11.0°: 1 files\n",
      "  Re=4.0e+05, alpha=12.0°: 1 files\n",
      "  Re=4.0e+05, alpha=13.0°: 1 files\n",
      "  Re=4.0e+05, alpha=14.0°: 1 files\n",
      "  Re=4.0e+05, alpha=15.0°: 1 files\n",
      "  Re=4.0e+05, alpha=16.0°: 1 files\n",
      "  Re=4.0e+05, alpha=17.0°: 1 files\n",
      "  Re=4.0e+05, alpha=18.0°: 1 files\n",
      "  Re=4.0e+05, alpha=19.0°: 1 files\n",
      "  Re=4.0e+05, alpha=20.0°: 1 files\n",
      "  Re=4.5e+05, alpha=0.0°: 1 files\n",
      "  Re=4.5e+05, alpha=1.0°: 1 files\n",
      "  Re=4.5e+05, alpha=2.0°: 1 files\n",
      "  Re=4.5e+05, alpha=3.0°: 1 files\n",
      "  Re=4.5e+05, alpha=4.0°: 1 files\n",
      "  Re=4.5e+05, alpha=5.0°: 1 files\n",
      "  Re=4.5e+05, alpha=6.0°: 1 files\n",
      "  Re=4.5e+05, alpha=7.0°: 1 files\n",
      "  Re=4.5e+05, alpha=8.0°: 1 files\n",
      "  Re=4.5e+05, alpha=9.0°: 1 files\n",
      "  Re=4.5e+05, alpha=10.0°: 1 files\n",
      "  Re=4.5e+05, alpha=11.0°: 1 files\n",
      "  Re=4.5e+05, alpha=12.0°: 1 files\n",
      "  Re=4.5e+05, alpha=13.0°: 1 files\n",
      "  Re=4.5e+05, alpha=15.0°: 1 files\n",
      "  Re=4.5e+05, alpha=16.0°: 1 files\n",
      "  Re=4.5e+05, alpha=17.0°: 1 files\n",
      "  Re=4.5e+05, alpha=18.0°: 1 files\n",
      "  Re=4.5e+05, alpha=19.0°: 1 files\n",
      "  Re=4.5e+05, alpha=20.0°: 1 files\n",
      "  Re=5.0e+05, alpha=0.0°: 1 files\n",
      "  Re=5.0e+05, alpha=1.0°: 1 files\n",
      "  Re=5.0e+05, alpha=2.0°: 1 files\n",
      "  Re=5.0e+05, alpha=3.0°: 1 files\n",
      "  Re=5.0e+05, alpha=4.0°: 1 files\n",
      "  Re=5.0e+05, alpha=5.0°: 1 files\n",
      "  Re=5.0e+05, alpha=6.0°: 1 files\n",
      "  Re=5.0e+05, alpha=7.0°: 1 files\n",
      "  Re=5.0e+05, alpha=8.0°: 1 files\n",
      "  Re=5.0e+05, alpha=9.0°: 1 files\n",
      "  Re=5.0e+05, alpha=10.0°: 1 files\n",
      "  Re=5.0e+05, alpha=11.0°: 1 files\n",
      "  Re=5.0e+05, alpha=12.0°: 1 files\n",
      "  Re=5.0e+05, alpha=13.0°: 1 files\n",
      "  Re=5.0e+05, alpha=14.0°: 1 files\n",
      "  Re=5.0e+05, alpha=15.0°: 1 files\n",
      "  Re=5.0e+05, alpha=16.0°: 1 files\n",
      "  Re=5.0e+05, alpha=17.0°: 1 files\n",
      "  Re=5.0e+05, alpha=18.0°: 1 files\n",
      "  Re=5.0e+05, alpha=19.0°: 1 files\n",
      "  Re=5.0e+05, alpha=20.0°: 1 files\n",
      "  Re=5.5e+05, alpha=0.0°: 1 files\n",
      "  Re=5.5e+05, alpha=1.0°: 1 files\n",
      "  Re=5.5e+05, alpha=2.0°: 1 files\n",
      "  Re=5.5e+05, alpha=3.0°: 1 files\n",
      "  Re=5.5e+05, alpha=4.0°: 1 files\n",
      "  Re=5.5e+05, alpha=5.0°: 1 files\n",
      "  Re=5.5e+05, alpha=6.0°: 1 files\n",
      "  Re=5.5e+05, alpha=7.0°: 1 files\n",
      "  Re=5.5e+05, alpha=9.0°: 1 files\n",
      "  Re=5.5e+05, alpha=10.0°: 1 files\n",
      "  Re=5.5e+05, alpha=11.0°: 1 files\n",
      "  Re=5.5e+05, alpha=13.0°: 1 files\n",
      "  Re=5.5e+05, alpha=15.0°: 1 files\n",
      "  Re=5.5e+05, alpha=16.0°: 1 files\n",
      "  Re=5.5e+05, alpha=17.0°: 1 files\n",
      "  Re=5.5e+05, alpha=18.0°: 1 files\n",
      "  Re=5.5e+05, alpha=19.0°: 1 files\n",
      "  Re=5.5e+05, alpha=20.0°: 1 files\n",
      "  Re=6.0e+05, alpha=0.0°: 1 files\n",
      "  Re=6.0e+05, alpha=1.0°: 1 files\n",
      "  Re=6.0e+05, alpha=2.0°: 1 files\n",
      "  Re=6.0e+05, alpha=3.0°: 1 files\n",
      "  Re=6.0e+05, alpha=4.0°: 1 files\n",
      "  Re=6.0e+05, alpha=5.0°: 1 files\n",
      "  Re=6.0e+05, alpha=6.0°: 1 files\n",
      "  Re=6.0e+05, alpha=7.0°: 1 files\n",
      "  Re=6.0e+05, alpha=8.0°: 1 files\n",
      "  Re=6.0e+05, alpha=9.0°: 1 files\n",
      "  Re=6.0e+05, alpha=10.0°: 1 files\n",
      "  Re=6.0e+05, alpha=11.0°: 1 files\n",
      "  Re=6.0e+05, alpha=12.0°: 1 files\n",
      "  Re=6.0e+05, alpha=13.0°: 1 files\n",
      "  Re=6.0e+05, alpha=14.0°: 1 files\n",
      "  Re=6.0e+05, alpha=15.0°: 1 files\n",
      "  Re=6.0e+05, alpha=16.0°: 1 files\n",
      "  Re=6.0e+05, alpha=17.0°: 1 files\n",
      "  Re=6.0e+05, alpha=18.0°: 1 files\n",
      "  Re=6.0e+05, alpha=19.0°: 1 files\n",
      "  Re=6.0e+05, alpha=20.0°: 1 files\n",
      "  Re=6.5e+05, alpha=0.0°: 1 files\n",
      "  Re=6.5e+05, alpha=1.0°: 1 files\n",
      "  Re=6.5e+05, alpha=2.0°: 1 files\n",
      "  Re=6.5e+05, alpha=3.0°: 1 files\n",
      "  Re=6.5e+05, alpha=4.0°: 1 files\n",
      "  Re=6.5e+05, alpha=5.0°: 1 files\n",
      "  Re=6.5e+05, alpha=6.0°: 1 files\n",
      "  Re=6.5e+05, alpha=7.0°: 1 files\n",
      "  Re=6.5e+05, alpha=8.0°: 1 files\n",
      "  Re=6.5e+05, alpha=9.0°: 1 files\n",
      "  Re=6.5e+05, alpha=10.0°: 1 files\n",
      "  Re=6.5e+05, alpha=11.0°: 1 files\n",
      "  Re=6.5e+05, alpha=12.0°: 1 files\n",
      "  Re=6.5e+05, alpha=13.0°: 1 files\n",
      "  Re=6.5e+05, alpha=15.0°: 1 files\n",
      "  Re=6.5e+05, alpha=16.0°: 1 files\n",
      "  Re=6.5e+05, alpha=17.0°: 1 files\n",
      "  Re=6.5e+05, alpha=18.0°: 1 files\n",
      "  Re=6.5e+05, alpha=19.0°: 1 files\n",
      "  Re=6.5e+05, alpha=20.0°: 1 files\n",
      "  Re=7.0e+05, alpha=0.0°: 1 files\n",
      "  Re=7.0e+05, alpha=1.0°: 1 files\n",
      "  Re=7.0e+05, alpha=2.0°: 1 files\n",
      "  Re=7.0e+05, alpha=4.0°: 1 files\n",
      "  Re=7.0e+05, alpha=5.0°: 1 files\n",
      "  Re=7.0e+05, alpha=6.0°: 1 files\n",
      "  Re=7.0e+05, alpha=7.0°: 1 files\n",
      "  Re=7.0e+05, alpha=8.0°: 1 files\n",
      "  Re=7.0e+05, alpha=9.0°: 1 files\n",
      "  Re=7.0e+05, alpha=10.0°: 1 files\n",
      "  Re=7.0e+05, alpha=11.0°: 1 files\n",
      "  Re=7.0e+05, alpha=12.0°: 1 files\n",
      "  Re=7.0e+05, alpha=13.0°: 1 files\n",
      "  Re=7.0e+05, alpha=15.0°: 1 files\n",
      "  Re=7.0e+05, alpha=16.0°: 1 files\n",
      "  Re=7.0e+05, alpha=17.0°: 1 files\n",
      "  Re=7.0e+05, alpha=18.0°: 1 files\n",
      "  Re=7.0e+05, alpha=19.0°: 1 files\n",
      "  Re=7.0e+05, alpha=20.0°: 1 files\n",
      "  Re=7.5e+05, alpha=0.0°: 1 files\n",
      "  Re=7.5e+05, alpha=1.0°: 1 files\n",
      "  Re=7.5e+05, alpha=2.0°: 1 files\n",
      "  Re=7.5e+05, alpha=4.0°: 1 files\n",
      "  Re=7.5e+05, alpha=5.0°: 1 files\n",
      "  Re=7.5e+05, alpha=6.0°: 1 files\n",
      "  Re=7.5e+05, alpha=7.0°: 1 files\n",
      "  Re=7.5e+05, alpha=8.0°: 1 files\n",
      "  Re=7.5e+05, alpha=9.0°: 1 files\n",
      "  Re=7.5e+05, alpha=10.0°: 1 files\n",
      "  Re=7.5e+05, alpha=11.0°: 1 files\n",
      "  Re=7.5e+05, alpha=12.0°: 1 files\n",
      "  Re=7.5e+05, alpha=13.0°: 1 files\n",
      "  Re=7.5e+05, alpha=14.0°: 1 files\n",
      "  Re=7.5e+05, alpha=17.0°: 1 files\n",
      "  Re=7.5e+05, alpha=18.0°: 1 files\n",
      "  Re=7.5e+05, alpha=19.0°: 1 files\n",
      "  Re=7.5e+05, alpha=20.0°: 1 files\n",
      "  Re=8.0e+05, alpha=0.0°: 1 files\n",
      "  Re=8.0e+05, alpha=1.0°: 1 files\n",
      "  Re=8.0e+05, alpha=3.0°: 1 files\n",
      "  Re=8.0e+05, alpha=4.0°: 1 files\n",
      "  Re=8.0e+05, alpha=5.0°: 1 files\n",
      "  Re=8.0e+05, alpha=7.0°: 1 files\n",
      "  Re=8.0e+05, alpha=8.0°: 1 files\n",
      "  Re=8.0e+05, alpha=9.0°: 1 files\n",
      "  Re=8.0e+05, alpha=10.0°: 1 files\n",
      "  Re=8.0e+05, alpha=11.0°: 1 files\n",
      "  Re=8.0e+05, alpha=12.0°: 1 files\n",
      "  Re=8.0e+05, alpha=13.0°: 1 files\n",
      "  Re=8.0e+05, alpha=14.0°: 1 files\n",
      "  Re=8.0e+05, alpha=15.0°: 1 files\n",
      "  Re=8.0e+05, alpha=16.0°: 1 files\n",
      "  Re=8.0e+05, alpha=17.0°: 1 files\n",
      "  Re=8.0e+05, alpha=18.0°: 1 files\n",
      "  Re=8.0e+05, alpha=19.0°: 1 files\n",
      "  Re=8.0e+05, alpha=20.0°: 1 files\n",
      "  Re=8.5e+05, alpha=0.0°: 1 files\n",
      "  Re=8.5e+05, alpha=1.0°: 1 files\n",
      "  Re=8.5e+05, alpha=2.0°: 1 files\n",
      "  Re=8.5e+05, alpha=3.0°: 1 files\n",
      "  Re=8.5e+05, alpha=4.0°: 1 files\n",
      "  Re=8.5e+05, alpha=5.0°: 1 files\n",
      "  Re=8.5e+05, alpha=6.0°: 1 files\n",
      "  Re=8.5e+05, alpha=7.0°: 1 files\n",
      "  Re=8.5e+05, alpha=8.0°: 1 files\n",
      "  Re=8.5e+05, alpha=9.0°: 1 files\n",
      "  Re=8.5e+05, alpha=10.0°: 1 files\n",
      "  Re=8.5e+05, alpha=11.0°: 1 files\n",
      "  Re=8.5e+05, alpha=12.0°: 1 files\n",
      "  Re=8.5e+05, alpha=13.0°: 1 files\n",
      "  Re=8.5e+05, alpha=14.0°: 1 files\n",
      "  Re=8.5e+05, alpha=15.0°: 1 files\n",
      "  Re=8.5e+05, alpha=16.0°: 1 files\n",
      "  Re=8.5e+05, alpha=17.0°: 1 files\n",
      "  Re=8.5e+05, alpha=19.0°: 1 files\n",
      "  Re=8.5e+05, alpha=20.0°: 1 files\n",
      "  Re=9.0e+05, alpha=1.0°: 1 files\n",
      "  Re=9.0e+05, alpha=2.0°: 1 files\n",
      "  Re=9.0e+05, alpha=3.0°: 1 files\n",
      "  Re=9.0e+05, alpha=4.0°: 1 files\n",
      "  Re=9.0e+05, alpha=5.0°: 1 files\n",
      "  Re=9.0e+05, alpha=6.0°: 1 files\n",
      "  Re=9.0e+05, alpha=7.0°: 1 files\n",
      "  Re=9.0e+05, alpha=8.0°: 1 files\n",
      "  Re=9.0e+05, alpha=11.0°: 1 files\n",
      "  Re=9.0e+05, alpha=12.0°: 1 files\n",
      "  Re=9.0e+05, alpha=13.0°: 1 files\n",
      "  Re=9.0e+05, alpha=14.0°: 1 files\n",
      "  Re=9.0e+05, alpha=16.0°: 1 files\n",
      "  Re=9.0e+05, alpha=18.0°: 1 files\n",
      "  Re=9.0e+05, alpha=19.0°: 1 files\n",
      "  Re=9.0e+05, alpha=20.0°: 1 files\n",
      "  Re=9.5e+05, alpha=0.0°: 1 files\n",
      "  Re=9.5e+05, alpha=2.0°: 1 files\n",
      "  Re=9.5e+05, alpha=3.0°: 1 files\n",
      "  Re=9.5e+05, alpha=4.0°: 1 files\n",
      "  Re=9.5e+05, alpha=5.0°: 1 files\n",
      "  Re=9.5e+05, alpha=7.0°: 1 files\n",
      "  Re=9.5e+05, alpha=8.0°: 1 files\n",
      "  Re=9.5e+05, alpha=9.0°: 1 files\n",
      "  Re=9.5e+05, alpha=10.0°: 1 files\n",
      "  Re=9.5e+05, alpha=11.0°: 1 files\n",
      "  Re=9.5e+05, alpha=12.0°: 1 files\n",
      "  Re=9.5e+05, alpha=14.0°: 1 files\n",
      "  Re=9.5e+05, alpha=15.0°: 1 files\n",
      "  Re=9.5e+05, alpha=17.0°: 1 files\n",
      "  Re=9.5e+05, alpha=18.0°: 1 files\n",
      "  Re=9.5e+05, alpha=19.0°: 1 files\n",
      "  Re=9.5e+05, alpha=20.0°: 1 files\n",
      "  Re=1.0e+06, alpha=0.0°: 1 files\n",
      "  Re=1.0e+06, alpha=1.0°: 1 files\n",
      "  Re=1.0e+06, alpha=3.0°: 1 files\n",
      "  Re=1.0e+06, alpha=6.0°: 1 files\n",
      "  Re=1.0e+06, alpha=7.0°: 1 files\n",
      "  Re=1.0e+06, alpha=8.0°: 1 files\n",
      "  Re=1.0e+06, alpha=9.0°: 1 files\n",
      "  Re=1.0e+06, alpha=10.0°: 1 files\n",
      "  Re=1.0e+06, alpha=12.0°: 1 files\n",
      "  Re=1.0e+06, alpha=13.0°: 1 files\n",
      "  Re=1.0e+06, alpha=14.0°: 1 files\n",
      "  Re=1.0e+06, alpha=15.0°: 1 files\n",
      "  Re=1.0e+06, alpha=16.0°: 1 files\n",
      "  Re=1.0e+06, alpha=17.0°: 1 files\n",
      "  Re=1.0e+06, alpha=18.0°: 1 files\n",
      "  Re=1.0e+06, alpha=19.0°: 1 files\n",
      "Fitting scaler on training data of shape: torch.Size([510160, 6])\n"
     ]
    },
    {
     "name": "stderr",
     "output_type": "stream",
     "text": [
      "\n"
     ]
    },
    {
     "name": "stdout",
     "output_type": "stream",
     "text": [
      "Scaler fitted. Applying to the entire dataset.\n",
      "Warning: Scaler is a list. Using first scaler for transformation.\n",
      "Scaler saved to dataset/renamed_h5_files\\scaler.pkl\n",
      "Writing training data to dataset/renamed_h5_files\\train.h5 (35 trajectories)\n"
     ]
    },
    {
     "name": "stderr",
     "output_type": "stream",
     "text": [
      "Writing train.h5: 100%|██████████| 35/35 [00:00<00:00, 1217.98it/s]\n"
     ]
    },
    {
     "name": "stdout",
     "output_type": "stream",
     "text": [
      "📊 Summary: No duplicate flow parameters found.\n",
      "Writing validation data to dataset/renamed_h5_files\\val.h5 (323 trajectories)\n"
     ]
    },
    {
     "name": "stderr",
     "output_type": "stream",
     "text": [
      "Writing val.h5: 100%|██████████| 323/323 [00:00<00:00, 1263.23it/s]"
     ]
    },
    {
     "name": "stdout",
     "output_type": "stream",
     "text": [
      "📊 Summary: No duplicate flow parameters found.\n",
      "VTU to H5 conversion with scaling and splitting complete. Output in dataset/renamed_h5_files\n"
     ]
    },
    {
     "name": "stderr",
     "output_type": "stream",
     "text": [
      "\n"
     ]
    }
   ],
   "source": [
    "from src.utils.commons import set_seed, get_config\n",
    "import pyvista as pv\n",
    "import numpy as np\n",
    "from src.data.vtu_to_h5 import vtu_to_h5, rename_vtu_files, split_dataset_trajectories\n",
    "import os\n",
    "\n",
    "config = get_config('configs/paper.yaml')['config']\n",
    "set_seed(10)\n",
    "\n",
    "vtu_dir = \"dataset/full\"\n",
    "h5_dir = \"dataset/renamed_h5_files\"\n",
    "\n",
    "result = vtu_to_h5(vtu_dir, h5_dir, \n",
    "          train_ratio=0.1, overwrite=True)"
   ]
  },
  {
   "cell_type": "code",
   "execution_count": 2,
   "metadata": {},
   "outputs": [
    {
     "data": {
      "text/plain": [
       "['flow_Re_100000_alpha_0.vtu',\n",
       " 'flow_Re_100000_alpha_1.vtu',\n",
       " 'flow_Re_100000_alpha_2.vtu',\n",
       " 'flow_Re_100000_alpha_3.vtu',\n",
       " 'flow_Re_100000_alpha_4.vtu']"
      ]
     },
     "execution_count": 2,
     "metadata": {},
     "output_type": "execute_result"
    }
   ],
   "source": [
    "vtu_files =sorted([f for f in os.listdir(vtu_dir) if f.lower().endswith('.vtu')])\n",
    "sorted_vtu_files = sorted(vtu_files, key=lambda x: int(x.split('_')[2]))\n",
    "sorted_vtu_files = sorted(sorted_vtu_files,key=lambda x: (int(x.split('_')[2]), int(x.split('_')[4].split('.')[0])))\n",
    "sorted_vtu_files[:5]"
   ]
  },
  {
   "cell_type": "markdown",
   "metadata": {},
   "source": [
    "## renamne the files based on the Re and then alpha"
   ]
  },
  {
   "cell_type": "code",
   "execution_count": 3,
   "metadata": {},
   "outputs": [
    {
     "name": "stdout",
     "output_type": "stream",
     "text": [
      "Renamed flow_Re_100000_alpha_0.vtu to configuration_1.vtu\n",
      "Error renaming flow_Re_100000_alpha_0.vtu: [WinError 2] The system cannot find the file specified: 'dataset/flows\\\\flow_Re_100000_alpha_0.vtu'\n",
      "Renamed flow_Re_100000_alpha_1.vtu to configuration_2.vtu\n",
      "Error renaming flow_Re_100000_alpha_1.vtu: [WinError 2] The system cannot find the file specified: 'dataset/flows\\\\flow_Re_100000_alpha_1.vtu'\n",
      "Renamed flow_Re_100000_alpha_2.vtu to configuration_3.vtu\n",
      "Error renaming flow_Re_100000_alpha_2.vtu: [WinError 2] The system cannot find the file specified: 'dataset/flows\\\\flow_Re_100000_alpha_2.vtu'\n",
      "Renamed flow_Re_100000_alpha_3.vtu to configuration_4.vtu\n",
      "Error renaming flow_Re_100000_alpha_3.vtu: [WinError 2] The system cannot find the file specified: 'dataset/flows\\\\flow_Re_100000_alpha_3.vtu'\n",
      "Renamed flow_Re_100000_alpha_4.vtu to configuration_5.vtu\n",
      "Error renaming flow_Re_100000_alpha_4.vtu: [WinError 2] The system cannot find the file specified: 'dataset/flows\\\\flow_Re_100000_alpha_4.vtu'\n",
      "Renamed flow_Re_100000_alpha_5.vtu to configuration_6.vtu\n",
      "Error renaming flow_Re_100000_alpha_5.vtu: [WinError 2] The system cannot find the file specified: 'dataset/flows\\\\flow_Re_100000_alpha_5.vtu'\n",
      "Renamed flow_Re_100000_alpha_6.vtu to configuration_7.vtu\n",
      "Error renaming flow_Re_100000_alpha_6.vtu: [WinError 2] The system cannot find the file specified: 'dataset/flows\\\\flow_Re_100000_alpha_6.vtu'\n",
      "Renamed flow_Re_100000_alpha_7.vtu to configuration_8.vtu\n",
      "Error renaming flow_Re_100000_alpha_7.vtu: [WinError 2] The system cannot find the file specified: 'dataset/flows\\\\flow_Re_100000_alpha_7.vtu'\n",
      "Renamed flow_Re_100000_alpha_8.vtu to configuration_9.vtu\n",
      "Error renaming flow_Re_100000_alpha_8.vtu: [WinError 2] The system cannot find the file specified: 'dataset/flows\\\\flow_Re_100000_alpha_8.vtu'\n",
      "Renamed flow_Re_100000_alpha_9.vtu to configuration_10.vtu\n",
      "Error renaming flow_Re_100000_alpha_9.vtu: [WinError 2] The system cannot find the file specified: 'dataset/flows\\\\flow_Re_100000_alpha_9.vtu'\n",
      "Renamed flow_Re_100000_alpha_10.vtu to configuration_11.vtu\n",
      "Error renaming flow_Re_100000_alpha_10.vtu: [WinError 2] The system cannot find the file specified: 'dataset/flows\\\\flow_Re_100000_alpha_10.vtu'\n",
      "Renamed flow_Re_100000_alpha_11.vtu to configuration_12.vtu\n",
      "Error renaming flow_Re_100000_alpha_11.vtu: [WinError 2] The system cannot find the file specified: 'dataset/flows\\\\flow_Re_100000_alpha_11.vtu'\n",
      "Renamed flow_Re_100000_alpha_12.vtu to configuration_13.vtu\n",
      "Error renaming flow_Re_100000_alpha_12.vtu: [WinError 2] The system cannot find the file specified: 'dataset/flows\\\\flow_Re_100000_alpha_12.vtu'\n",
      "Renamed flow_Re_100000_alpha_13.vtu to configuration_14.vtu\n",
      "Error renaming flow_Re_100000_alpha_13.vtu: [WinError 2] The system cannot find the file specified: 'dataset/flows\\\\flow_Re_100000_alpha_13.vtu'\n",
      "Renamed flow_Re_100000_alpha_14.vtu to configuration_15.vtu\n",
      "Error renaming flow_Re_100000_alpha_14.vtu: [WinError 2] The system cannot find the file specified: 'dataset/flows\\\\flow_Re_100000_alpha_14.vtu'\n",
      "Renamed flow_Re_100000_alpha_15.vtu to configuration_16.vtu\n",
      "Error renaming flow_Re_100000_alpha_15.vtu: [WinError 2] The system cannot find the file specified: 'dataset/flows\\\\flow_Re_100000_alpha_15.vtu'\n",
      "Renamed flow_Re_100000_alpha_16.vtu to configuration_17.vtu\n",
      "Error renaming flow_Re_100000_alpha_16.vtu: [WinError 2] The system cannot find the file specified: 'dataset/flows\\\\flow_Re_100000_alpha_16.vtu'\n",
      "Renamed flow_Re_100000_alpha_17.vtu to configuration_18.vtu\n",
      "Error renaming flow_Re_100000_alpha_17.vtu: [WinError 2] The system cannot find the file specified: 'dataset/flows\\\\flow_Re_100000_alpha_17.vtu'\n",
      "Renamed flow_Re_100000_alpha_18.vtu to configuration_19.vtu\n",
      "Error renaming flow_Re_100000_alpha_18.vtu: [WinError 2] The system cannot find the file specified: 'dataset/flows\\\\flow_Re_100000_alpha_18.vtu'\n",
      "Renamed flow_Re_100000_alpha_19.vtu to configuration_20.vtu\n",
      "Error renaming flow_Re_100000_alpha_19.vtu: [WinError 2] The system cannot find the file specified: 'dataset/flows\\\\flow_Re_100000_alpha_19.vtu'\n",
      "Renamed flow_Re_100000_alpha_20.vtu to configuration_21.vtu\n",
      "Error renaming flow_Re_100000_alpha_20.vtu: [WinError 2] The system cannot find the file specified: 'dataset/flows\\\\flow_Re_100000_alpha_20.vtu'\n",
      "Renamed flow_Re_150000_alpha_0.vtu to configuration_22.vtu\n",
      "Error renaming flow_Re_150000_alpha_0.vtu: [WinError 2] The system cannot find the file specified: 'dataset/flows\\\\flow_Re_150000_alpha_0.vtu'\n",
      "Renamed flow_Re_150000_alpha_1.vtu to configuration_23.vtu\n",
      "Error renaming flow_Re_150000_alpha_1.vtu: [WinError 2] The system cannot find the file specified: 'dataset/flows\\\\flow_Re_150000_alpha_1.vtu'\n",
      "Renamed flow_Re_150000_alpha_2.vtu to configuration_24.vtu\n",
      "Error renaming flow_Re_150000_alpha_2.vtu: [WinError 2] The system cannot find the file specified: 'dataset/flows\\\\flow_Re_150000_alpha_2.vtu'\n",
      "Renamed flow_Re_150000_alpha_3.vtu to configuration_25.vtu\n",
      "Error renaming flow_Re_150000_alpha_3.vtu: [WinError 2] The system cannot find the file specified: 'dataset/flows\\\\flow_Re_150000_alpha_3.vtu'\n",
      "Renamed flow_Re_150000_alpha_5.vtu to configuration_26.vtu\n",
      "Error renaming flow_Re_150000_alpha_5.vtu: [WinError 2] The system cannot find the file specified: 'dataset/flows\\\\flow_Re_150000_alpha_5.vtu'\n",
      "Renamed flow_Re_150000_alpha_6.vtu to configuration_27.vtu\n",
      "Error renaming flow_Re_150000_alpha_6.vtu: [WinError 2] The system cannot find the file specified: 'dataset/flows\\\\flow_Re_150000_alpha_6.vtu'\n",
      "Renamed flow_Re_150000_alpha_7.vtu to configuration_28.vtu\n",
      "Error renaming flow_Re_150000_alpha_7.vtu: [WinError 2] The system cannot find the file specified: 'dataset/flows\\\\flow_Re_150000_alpha_7.vtu'\n",
      "Renamed flow_Re_150000_alpha_8.vtu to configuration_29.vtu\n",
      "Error renaming flow_Re_150000_alpha_8.vtu: [WinError 2] The system cannot find the file specified: 'dataset/flows\\\\flow_Re_150000_alpha_8.vtu'\n",
      "Renamed flow_Re_150000_alpha_9.vtu to configuration_30.vtu\n",
      "Error renaming flow_Re_150000_alpha_9.vtu: [WinError 2] The system cannot find the file specified: 'dataset/flows\\\\flow_Re_150000_alpha_9.vtu'\n",
      "Renamed flow_Re_150000_alpha_11.vtu to configuration_31.vtu\n",
      "Error renaming flow_Re_150000_alpha_11.vtu: [WinError 2] The system cannot find the file specified: 'dataset/flows\\\\flow_Re_150000_alpha_11.vtu'\n",
      "Renamed flow_Re_150000_alpha_12.vtu to configuration_32.vtu\n",
      "Error renaming flow_Re_150000_alpha_12.vtu: [WinError 2] The system cannot find the file specified: 'dataset/flows\\\\flow_Re_150000_alpha_12.vtu'\n",
      "Renamed flow_Re_150000_alpha_14.vtu to configuration_33.vtu\n",
      "Error renaming flow_Re_150000_alpha_14.vtu: [WinError 2] The system cannot find the file specified: 'dataset/flows\\\\flow_Re_150000_alpha_14.vtu'\n",
      "Renamed flow_Re_150000_alpha_15.vtu to configuration_34.vtu\n",
      "Error renaming flow_Re_150000_alpha_15.vtu: [WinError 2] The system cannot find the file specified: 'dataset/flows\\\\flow_Re_150000_alpha_15.vtu'\n",
      "Renamed flow_Re_150000_alpha_16.vtu to configuration_35.vtu\n",
      "Error renaming flow_Re_150000_alpha_16.vtu: [WinError 2] The system cannot find the file specified: 'dataset/flows\\\\flow_Re_150000_alpha_16.vtu'\n",
      "Renamed flow_Re_150000_alpha_17.vtu to configuration_36.vtu\n",
      "Error renaming flow_Re_150000_alpha_17.vtu: [WinError 2] The system cannot find the file specified: 'dataset/flows\\\\flow_Re_150000_alpha_17.vtu'\n",
      "Renamed flow_Re_150000_alpha_19.vtu to configuration_37.vtu\n",
      "Error renaming flow_Re_150000_alpha_19.vtu: [WinError 2] The system cannot find the file specified: 'dataset/flows\\\\flow_Re_150000_alpha_19.vtu'\n",
      "Renamed flow_Re_150000_alpha_20.vtu to configuration_38.vtu\n",
      "Error renaming flow_Re_150000_alpha_20.vtu: [WinError 2] The system cannot find the file specified: 'dataset/flows\\\\flow_Re_150000_alpha_20.vtu'\n",
      "Renamed flow_Re_200000_alpha_0.vtu to configuration_39.vtu\n",
      "Error renaming flow_Re_200000_alpha_0.vtu: [WinError 2] The system cannot find the file specified: 'dataset/flows\\\\flow_Re_200000_alpha_0.vtu'\n",
      "Renamed flow_Re_200000_alpha_1.vtu to configuration_40.vtu\n",
      "Error renaming flow_Re_200000_alpha_1.vtu: [WinError 2] The system cannot find the file specified: 'dataset/flows\\\\flow_Re_200000_alpha_1.vtu'\n",
      "Renamed flow_Re_200000_alpha_2.vtu to configuration_41.vtu\n",
      "Error renaming flow_Re_200000_alpha_2.vtu: [WinError 2] The system cannot find the file specified: 'dataset/flows\\\\flow_Re_200000_alpha_2.vtu'\n",
      "Renamed flow_Re_200000_alpha_3.vtu to configuration_42.vtu\n",
      "Error renaming flow_Re_200000_alpha_3.vtu: [WinError 2] The system cannot find the file specified: 'dataset/flows\\\\flow_Re_200000_alpha_3.vtu'\n",
      "Renamed flow_Re_200000_alpha_4.vtu to configuration_43.vtu\n",
      "Error renaming flow_Re_200000_alpha_4.vtu: [WinError 2] The system cannot find the file specified: 'dataset/flows\\\\flow_Re_200000_alpha_4.vtu'\n",
      "Renamed flow_Re_200000_alpha_5.vtu to configuration_44.vtu\n",
      "Error renaming flow_Re_200000_alpha_5.vtu: [WinError 2] The system cannot find the file specified: 'dataset/flows\\\\flow_Re_200000_alpha_5.vtu'\n",
      "Renamed flow_Re_200000_alpha_6.vtu to configuration_45.vtu\n",
      "Error renaming flow_Re_200000_alpha_6.vtu: [WinError 2] The system cannot find the file specified: 'dataset/flows\\\\flow_Re_200000_alpha_6.vtu'\n",
      "Renamed flow_Re_200000_alpha_8.vtu to configuration_46.vtu\n",
      "Error renaming flow_Re_200000_alpha_8.vtu: [WinError 2] The system cannot find the file specified: 'dataset/flows\\\\flow_Re_200000_alpha_8.vtu'\n",
      "Renamed flow_Re_200000_alpha_9.vtu to configuration_47.vtu\n",
      "Error renaming flow_Re_200000_alpha_9.vtu: [WinError 2] The system cannot find the file specified: 'dataset/flows\\\\flow_Re_200000_alpha_9.vtu'\n",
      "Renamed flow_Re_200000_alpha_10.vtu to configuration_48.vtu\n",
      "Error renaming flow_Re_200000_alpha_10.vtu: [WinError 2] The system cannot find the file specified: 'dataset/flows\\\\flow_Re_200000_alpha_10.vtu'\n",
      "Renamed flow_Re_200000_alpha_11.vtu to configuration_49.vtu\n",
      "Error renaming flow_Re_200000_alpha_11.vtu: [WinError 2] The system cannot find the file specified: 'dataset/flows\\\\flow_Re_200000_alpha_11.vtu'\n",
      "Renamed flow_Re_200000_alpha_12.vtu to configuration_50.vtu\n",
      "Error renaming flow_Re_200000_alpha_12.vtu: [WinError 2] The system cannot find the file specified: 'dataset/flows\\\\flow_Re_200000_alpha_12.vtu'\n",
      "Renamed flow_Re_200000_alpha_13.vtu to configuration_51.vtu\n",
      "Error renaming flow_Re_200000_alpha_13.vtu: [WinError 2] The system cannot find the file specified: 'dataset/flows\\\\flow_Re_200000_alpha_13.vtu'\n",
      "Renamed flow_Re_200000_alpha_14.vtu to configuration_52.vtu\n",
      "Error renaming flow_Re_200000_alpha_14.vtu: [WinError 2] The system cannot find the file specified: 'dataset/flows\\\\flow_Re_200000_alpha_14.vtu'\n",
      "Renamed flow_Re_200000_alpha_15.vtu to configuration_53.vtu\n",
      "Error renaming flow_Re_200000_alpha_15.vtu: [WinError 2] The system cannot find the file specified: 'dataset/flows\\\\flow_Re_200000_alpha_15.vtu'\n",
      "Renamed flow_Re_200000_alpha_17.vtu to configuration_54.vtu\n",
      "Error renaming flow_Re_200000_alpha_17.vtu: [WinError 2] The system cannot find the file specified: 'dataset/flows\\\\flow_Re_200000_alpha_17.vtu'\n",
      "Renamed flow_Re_200000_alpha_18.vtu to configuration_55.vtu\n",
      "Error renaming flow_Re_200000_alpha_18.vtu: [WinError 2] The system cannot find the file specified: 'dataset/flows\\\\flow_Re_200000_alpha_18.vtu'\n",
      "Renamed flow_Re_200000_alpha_19.vtu to configuration_56.vtu\n",
      "Error renaming flow_Re_200000_alpha_19.vtu: [WinError 2] The system cannot find the file specified: 'dataset/flows\\\\flow_Re_200000_alpha_19.vtu'\n",
      "Renamed flow_Re_200000_alpha_20.vtu to configuration_57.vtu\n",
      "Error renaming flow_Re_200000_alpha_20.vtu: [WinError 2] The system cannot find the file specified: 'dataset/flows\\\\flow_Re_200000_alpha_20.vtu'\n",
      "Renamed flow_Re_250000_alpha_0.vtu to configuration_58.vtu\n",
      "Error renaming flow_Re_250000_alpha_0.vtu: [WinError 2] The system cannot find the file specified: 'dataset/flows\\\\flow_Re_250000_alpha_0.vtu'\n",
      "Renamed flow_Re_250000_alpha_1.vtu to configuration_59.vtu\n",
      "Error renaming flow_Re_250000_alpha_1.vtu: [WinError 2] The system cannot find the file specified: 'dataset/flows\\\\flow_Re_250000_alpha_1.vtu'\n",
      "Renamed flow_Re_250000_alpha_2.vtu to configuration_60.vtu\n",
      "Error renaming flow_Re_250000_alpha_2.vtu: [WinError 2] The system cannot find the file specified: 'dataset/flows\\\\flow_Re_250000_alpha_2.vtu'\n",
      "Renamed flow_Re_250000_alpha_3.vtu to configuration_61.vtu\n",
      "Error renaming flow_Re_250000_alpha_3.vtu: [WinError 2] The system cannot find the file specified: 'dataset/flows\\\\flow_Re_250000_alpha_3.vtu'\n",
      "Renamed flow_Re_250000_alpha_4.vtu to configuration_62.vtu\n",
      "Error renaming flow_Re_250000_alpha_4.vtu: [WinError 2] The system cannot find the file specified: 'dataset/flows\\\\flow_Re_250000_alpha_4.vtu'\n",
      "Renamed flow_Re_250000_alpha_5.vtu to configuration_63.vtu\n",
      "Error renaming flow_Re_250000_alpha_5.vtu: [WinError 2] The system cannot find the file specified: 'dataset/flows\\\\flow_Re_250000_alpha_5.vtu'\n",
      "Renamed flow_Re_250000_alpha_7.vtu to configuration_64.vtu\n",
      "Error renaming flow_Re_250000_alpha_7.vtu: [WinError 2] The system cannot find the file specified: 'dataset/flows\\\\flow_Re_250000_alpha_7.vtu'\n",
      "Renamed flow_Re_250000_alpha_8.vtu to configuration_65.vtu\n",
      "Error renaming flow_Re_250000_alpha_8.vtu: [WinError 2] The system cannot find the file specified: 'dataset/flows\\\\flow_Re_250000_alpha_8.vtu'\n",
      "Renamed flow_Re_250000_alpha_9.vtu to configuration_66.vtu\n",
      "Error renaming flow_Re_250000_alpha_9.vtu: [WinError 2] The system cannot find the file specified: 'dataset/flows\\\\flow_Re_250000_alpha_9.vtu'\n",
      "Renamed flow_Re_250000_alpha_10.vtu to configuration_67.vtu\n",
      "Error renaming flow_Re_250000_alpha_10.vtu: [WinError 2] The system cannot find the file specified: 'dataset/flows\\\\flow_Re_250000_alpha_10.vtu'\n",
      "Renamed flow_Re_250000_alpha_11.vtu to configuration_68.vtu\n",
      "Error renaming flow_Re_250000_alpha_11.vtu: [WinError 2] The system cannot find the file specified: 'dataset/flows\\\\flow_Re_250000_alpha_11.vtu'\n",
      "Renamed flow_Re_250000_alpha_12.vtu to configuration_69.vtu\n",
      "Error renaming flow_Re_250000_alpha_12.vtu: [WinError 2] The system cannot find the file specified: 'dataset/flows\\\\flow_Re_250000_alpha_12.vtu'\n",
      "Renamed flow_Re_250000_alpha_13.vtu to configuration_70.vtu\n",
      "Error renaming flow_Re_250000_alpha_13.vtu: [WinError 2] The system cannot find the file specified: 'dataset/flows\\\\flow_Re_250000_alpha_13.vtu'\n",
      "Renamed flow_Re_250000_alpha_14.vtu to configuration_71.vtu\n",
      "Error renaming flow_Re_250000_alpha_14.vtu: [WinError 2] The system cannot find the file specified: 'dataset/flows\\\\flow_Re_250000_alpha_14.vtu'\n",
      "Renamed flow_Re_250000_alpha_15.vtu to configuration_72.vtu\n",
      "Error renaming flow_Re_250000_alpha_15.vtu: [WinError 2] The system cannot find the file specified: 'dataset/flows\\\\flow_Re_250000_alpha_15.vtu'\n",
      "Renamed flow_Re_250000_alpha_16.vtu to configuration_73.vtu\n",
      "Error renaming flow_Re_250000_alpha_16.vtu: [WinError 2] The system cannot find the file specified: 'dataset/flows\\\\flow_Re_250000_alpha_16.vtu'\n",
      "Renamed flow_Re_250000_alpha_17.vtu to configuration_74.vtu\n",
      "Error renaming flow_Re_250000_alpha_17.vtu: [WinError 2] The system cannot find the file specified: 'dataset/flows\\\\flow_Re_250000_alpha_17.vtu'\n",
      "Renamed flow_Re_250000_alpha_18.vtu to configuration_75.vtu\n",
      "Error renaming flow_Re_250000_alpha_18.vtu: [WinError 2] The system cannot find the file specified: 'dataset/flows\\\\flow_Re_250000_alpha_18.vtu'\n",
      "Renamed flow_Re_250000_alpha_19.vtu to configuration_76.vtu\n",
      "Error renaming flow_Re_250000_alpha_19.vtu: [WinError 2] The system cannot find the file specified: 'dataset/flows\\\\flow_Re_250000_alpha_19.vtu'\n",
      "Renamed flow_Re_250000_alpha_20.vtu to configuration_77.vtu\n",
      "Error renaming flow_Re_250000_alpha_20.vtu: [WinError 2] The system cannot find the file specified: 'dataset/flows\\\\flow_Re_250000_alpha_20.vtu'\n",
      "Renamed flow_Re_300000_alpha_0.vtu to configuration_78.vtu\n",
      "Error renaming flow_Re_300000_alpha_0.vtu: [WinError 2] The system cannot find the file specified: 'dataset/flows\\\\flow_Re_300000_alpha_0.vtu'\n",
      "Renamed flow_Re_300000_alpha_1.vtu to configuration_79.vtu\n",
      "Error renaming flow_Re_300000_alpha_1.vtu: [WinError 2] The system cannot find the file specified: 'dataset/flows\\\\flow_Re_300000_alpha_1.vtu'\n",
      "Renamed flow_Re_300000_alpha_2.vtu to configuration_80.vtu\n",
      "Error renaming flow_Re_300000_alpha_2.vtu: [WinError 2] The system cannot find the file specified: 'dataset/flows\\\\flow_Re_300000_alpha_2.vtu'\n",
      "Renamed flow_Re_300000_alpha_4.vtu to configuration_81.vtu\n",
      "Error renaming flow_Re_300000_alpha_4.vtu: [WinError 2] The system cannot find the file specified: 'dataset/flows\\\\flow_Re_300000_alpha_4.vtu'\n",
      "Renamed flow_Re_300000_alpha_5.vtu to configuration_82.vtu\n",
      "Error renaming flow_Re_300000_alpha_5.vtu: [WinError 2] The system cannot find the file specified: 'dataset/flows\\\\flow_Re_300000_alpha_5.vtu'\n",
      "Renamed flow_Re_300000_alpha_6.vtu to configuration_83.vtu\n",
      "Error renaming flow_Re_300000_alpha_6.vtu: [WinError 2] The system cannot find the file specified: 'dataset/flows\\\\flow_Re_300000_alpha_6.vtu'\n",
      "Renamed flow_Re_300000_alpha_7.vtu to configuration_84.vtu\n",
      "Error renaming flow_Re_300000_alpha_7.vtu: [WinError 2] The system cannot find the file specified: 'dataset/flows\\\\flow_Re_300000_alpha_7.vtu'\n",
      "Renamed flow_Re_300000_alpha_8.vtu to configuration_85.vtu\n",
      "Error renaming flow_Re_300000_alpha_8.vtu: [WinError 2] The system cannot find the file specified: 'dataset/flows\\\\flow_Re_300000_alpha_8.vtu'\n",
      "Renamed flow_Re_300000_alpha_10.vtu to configuration_86.vtu\n",
      "Error renaming flow_Re_300000_alpha_10.vtu: [WinError 2] The system cannot find the file specified: 'dataset/flows\\\\flow_Re_300000_alpha_10.vtu'\n",
      "Renamed flow_Re_300000_alpha_11.vtu to configuration_87.vtu\n",
      "Error renaming flow_Re_300000_alpha_11.vtu: [WinError 2] The system cannot find the file specified: 'dataset/flows\\\\flow_Re_300000_alpha_11.vtu'\n",
      "Renamed flow_Re_300000_alpha_12.vtu to configuration_88.vtu\n",
      "Error renaming flow_Re_300000_alpha_12.vtu: [WinError 2] The system cannot find the file specified: 'dataset/flows\\\\flow_Re_300000_alpha_12.vtu'\n",
      "Renamed flow_Re_300000_alpha_13.vtu to configuration_89.vtu\n",
      "Error renaming flow_Re_300000_alpha_13.vtu: [WinError 2] The system cannot find the file specified: 'dataset/flows\\\\flow_Re_300000_alpha_13.vtu'\n",
      "Renamed flow_Re_300000_alpha_16.vtu to configuration_90.vtu\n",
      "Error renaming flow_Re_300000_alpha_16.vtu: [WinError 2] The system cannot find the file specified: 'dataset/flows\\\\flow_Re_300000_alpha_16.vtu'\n",
      "Renamed flow_Re_300000_alpha_18.vtu to configuration_91.vtu\n",
      "Error renaming flow_Re_300000_alpha_18.vtu: [WinError 2] The system cannot find the file specified: 'dataset/flows\\\\flow_Re_300000_alpha_18.vtu'\n",
      "Renamed flow_Re_300000_alpha_19.vtu to configuration_92.vtu\n",
      "Error renaming flow_Re_300000_alpha_19.vtu: [WinError 2] The system cannot find the file specified: 'dataset/flows\\\\flow_Re_300000_alpha_19.vtu'\n",
      "Renamed flow_Re_300000_alpha_20.vtu to configuration_93.vtu\n",
      "Error renaming flow_Re_300000_alpha_20.vtu: [WinError 2] The system cannot find the file specified: 'dataset/flows\\\\flow_Re_300000_alpha_20.vtu'\n",
      "Renamed flow_Re_350000_alpha_0.vtu to configuration_94.vtu\n",
      "Error renaming flow_Re_350000_alpha_0.vtu: [WinError 2] The system cannot find the file specified: 'dataset/flows\\\\flow_Re_350000_alpha_0.vtu'\n",
      "Renamed flow_Re_350000_alpha_1.vtu to configuration_95.vtu\n",
      "Error renaming flow_Re_350000_alpha_1.vtu: [WinError 2] The system cannot find the file specified: 'dataset/flows\\\\flow_Re_350000_alpha_1.vtu'\n",
      "Renamed flow_Re_350000_alpha_2.vtu to configuration_96.vtu\n",
      "Error renaming flow_Re_350000_alpha_2.vtu: [WinError 2] The system cannot find the file specified: 'dataset/flows\\\\flow_Re_350000_alpha_2.vtu'\n",
      "Renamed flow_Re_350000_alpha_4.vtu to configuration_97.vtu\n",
      "Error renaming flow_Re_350000_alpha_4.vtu: [WinError 2] The system cannot find the file specified: 'dataset/flows\\\\flow_Re_350000_alpha_4.vtu'\n",
      "Renamed flow_Re_350000_alpha_6.vtu to configuration_98.vtu\n",
      "Error renaming flow_Re_350000_alpha_6.vtu: [WinError 2] The system cannot find the file specified: 'dataset/flows\\\\flow_Re_350000_alpha_6.vtu'\n",
      "Renamed flow_Re_350000_alpha_7.vtu to configuration_99.vtu\n",
      "Error renaming flow_Re_350000_alpha_7.vtu: [WinError 2] The system cannot find the file specified: 'dataset/flows\\\\flow_Re_350000_alpha_7.vtu'\n",
      "Renamed flow_Re_350000_alpha_8.vtu to configuration_100.vtu\n",
      "Error renaming flow_Re_350000_alpha_8.vtu: [WinError 2] The system cannot find the file specified: 'dataset/flows\\\\flow_Re_350000_alpha_8.vtu'\n",
      "Renamed flow_Re_350000_alpha_9.vtu to configuration_101.vtu\n",
      "Error renaming flow_Re_350000_alpha_9.vtu: [WinError 2] The system cannot find the file specified: 'dataset/flows\\\\flow_Re_350000_alpha_9.vtu'\n",
      "Renamed flow_Re_350000_alpha_10.vtu to configuration_102.vtu\n",
      "Error renaming flow_Re_350000_alpha_10.vtu: [WinError 2] The system cannot find the file specified: 'dataset/flows\\\\flow_Re_350000_alpha_10.vtu'\n",
      "Renamed flow_Re_350000_alpha_11.vtu to configuration_103.vtu\n",
      "Error renaming flow_Re_350000_alpha_11.vtu: [WinError 2] The system cannot find the file specified: 'dataset/flows\\\\flow_Re_350000_alpha_11.vtu'\n",
      "Renamed flow_Re_350000_alpha_12.vtu to configuration_104.vtu\n",
      "Error renaming flow_Re_350000_alpha_12.vtu: [WinError 2] The system cannot find the file specified: 'dataset/flows\\\\flow_Re_350000_alpha_12.vtu'\n",
      "Renamed flow_Re_350000_alpha_13.vtu to configuration_105.vtu\n",
      "Error renaming flow_Re_350000_alpha_13.vtu: [WinError 2] The system cannot find the file specified: 'dataset/flows\\\\flow_Re_350000_alpha_13.vtu'\n",
      "Renamed flow_Re_350000_alpha_14.vtu to configuration_106.vtu\n",
      "Error renaming flow_Re_350000_alpha_14.vtu: [WinError 2] The system cannot find the file specified: 'dataset/flows\\\\flow_Re_350000_alpha_14.vtu'\n",
      "Renamed flow_Re_350000_alpha_15.vtu to configuration_107.vtu\n",
      "Error renaming flow_Re_350000_alpha_15.vtu: [WinError 2] The system cannot find the file specified: 'dataset/flows\\\\flow_Re_350000_alpha_15.vtu'\n",
      "Renamed flow_Re_350000_alpha_16.vtu to configuration_108.vtu\n",
      "Error renaming flow_Re_350000_alpha_16.vtu: [WinError 2] The system cannot find the file specified: 'dataset/flows\\\\flow_Re_350000_alpha_16.vtu'\n",
      "Renamed flow_Re_350000_alpha_17.vtu to configuration_109.vtu\n",
      "Error renaming flow_Re_350000_alpha_17.vtu: [WinError 2] The system cannot find the file specified: 'dataset/flows\\\\flow_Re_350000_alpha_17.vtu'\n",
      "Renamed flow_Re_350000_alpha_18.vtu to configuration_110.vtu\n",
      "Error renaming flow_Re_350000_alpha_18.vtu: [WinError 2] The system cannot find the file specified: 'dataset/flows\\\\flow_Re_350000_alpha_18.vtu'\n",
      "Renamed flow_Re_350000_alpha_19.vtu to configuration_111.vtu\n",
      "Error renaming flow_Re_350000_alpha_19.vtu: [WinError 2] The system cannot find the file specified: 'dataset/flows\\\\flow_Re_350000_alpha_19.vtu'\n",
      "Renamed flow_Re_350000_alpha_20.vtu to configuration_112.vtu\n",
      "Error renaming flow_Re_350000_alpha_20.vtu: [WinError 2] The system cannot find the file specified: 'dataset/flows\\\\flow_Re_350000_alpha_20.vtu'\n",
      "Renamed flow_Re_400000_alpha_0.vtu to configuration_113.vtu\n",
      "Error renaming flow_Re_400000_alpha_0.vtu: [WinError 2] The system cannot find the file specified: 'dataset/flows\\\\flow_Re_400000_alpha_0.vtu'\n",
      "Renamed flow_Re_400000_alpha_1.vtu to configuration_114.vtu\n",
      "Error renaming flow_Re_400000_alpha_1.vtu: [WinError 2] The system cannot find the file specified: 'dataset/flows\\\\flow_Re_400000_alpha_1.vtu'\n",
      "Renamed flow_Re_400000_alpha_2.vtu to configuration_115.vtu\n",
      "Error renaming flow_Re_400000_alpha_2.vtu: [WinError 2] The system cannot find the file specified: 'dataset/flows\\\\flow_Re_400000_alpha_2.vtu'\n",
      "Renamed flow_Re_400000_alpha_3.vtu to configuration_116.vtu\n",
      "Error renaming flow_Re_400000_alpha_3.vtu: [WinError 2] The system cannot find the file specified: 'dataset/flows\\\\flow_Re_400000_alpha_3.vtu'\n",
      "Renamed flow_Re_400000_alpha_4.vtu to configuration_117.vtu\n",
      "Error renaming flow_Re_400000_alpha_4.vtu: [WinError 2] The system cannot find the file specified: 'dataset/flows\\\\flow_Re_400000_alpha_4.vtu'\n",
      "Renamed flow_Re_400000_alpha_5.vtu to configuration_118.vtu\n",
      "Error renaming flow_Re_400000_alpha_5.vtu: [WinError 2] The system cannot find the file specified: 'dataset/flows\\\\flow_Re_400000_alpha_5.vtu'\n",
      "Renamed flow_Re_400000_alpha_6.vtu to configuration_119.vtu\n",
      "Error renaming flow_Re_400000_alpha_6.vtu: [WinError 2] The system cannot find the file specified: 'dataset/flows\\\\flow_Re_400000_alpha_6.vtu'\n",
      "Renamed flow_Re_400000_alpha_7.vtu to configuration_120.vtu\n",
      "Error renaming flow_Re_400000_alpha_7.vtu: [WinError 2] The system cannot find the file specified: 'dataset/flows\\\\flow_Re_400000_alpha_7.vtu'\n",
      "Renamed flow_Re_400000_alpha_8.vtu to configuration_121.vtu\n",
      "Error renaming flow_Re_400000_alpha_8.vtu: [WinError 2] The system cannot find the file specified: 'dataset/flows\\\\flow_Re_400000_alpha_8.vtu'\n",
      "Renamed flow_Re_400000_alpha_9.vtu to configuration_122.vtu\n",
      "Error renaming flow_Re_400000_alpha_9.vtu: [WinError 2] The system cannot find the file specified: 'dataset/flows\\\\flow_Re_400000_alpha_9.vtu'\n",
      "Renamed flow_Re_400000_alpha_10.vtu to configuration_123.vtu\n",
      "Error renaming flow_Re_400000_alpha_10.vtu: [WinError 2] The system cannot find the file specified: 'dataset/flows\\\\flow_Re_400000_alpha_10.vtu'\n",
      "Renamed flow_Re_400000_alpha_11.vtu to configuration_124.vtu\n",
      "Error renaming flow_Re_400000_alpha_11.vtu: [WinError 2] The system cannot find the file specified: 'dataset/flows\\\\flow_Re_400000_alpha_11.vtu'\n",
      "Renamed flow_Re_400000_alpha_12.vtu to configuration_125.vtu\n",
      "Error renaming flow_Re_400000_alpha_12.vtu: [WinError 2] The system cannot find the file specified: 'dataset/flows\\\\flow_Re_400000_alpha_12.vtu'\n",
      "Renamed flow_Re_400000_alpha_13.vtu to configuration_126.vtu\n",
      "Error renaming flow_Re_400000_alpha_13.vtu: [WinError 2] The system cannot find the file specified: 'dataset/flows\\\\flow_Re_400000_alpha_13.vtu'\n",
      "Renamed flow_Re_400000_alpha_14.vtu to configuration_127.vtu\n",
      "Error renaming flow_Re_400000_alpha_14.vtu: [WinError 2] The system cannot find the file specified: 'dataset/flows\\\\flow_Re_400000_alpha_14.vtu'\n",
      "Renamed flow_Re_400000_alpha_15.vtu to configuration_128.vtu\n",
      "Error renaming flow_Re_400000_alpha_15.vtu: [WinError 2] The system cannot find the file specified: 'dataset/flows\\\\flow_Re_400000_alpha_15.vtu'\n",
      "Renamed flow_Re_400000_alpha_16.vtu to configuration_129.vtu\n",
      "Error renaming flow_Re_400000_alpha_16.vtu: [WinError 2] The system cannot find the file specified: 'dataset/flows\\\\flow_Re_400000_alpha_16.vtu'\n",
      "Renamed flow_Re_400000_alpha_17.vtu to configuration_130.vtu\n",
      "Error renaming flow_Re_400000_alpha_17.vtu: [WinError 2] The system cannot find the file specified: 'dataset/flows\\\\flow_Re_400000_alpha_17.vtu'\n",
      "Renamed flow_Re_400000_alpha_18.vtu to configuration_131.vtu\n",
      "Error renaming flow_Re_400000_alpha_18.vtu: [WinError 2] The system cannot find the file specified: 'dataset/flows\\\\flow_Re_400000_alpha_18.vtu'\n",
      "Renamed flow_Re_400000_alpha_19.vtu to configuration_132.vtu\n",
      "Error renaming flow_Re_400000_alpha_19.vtu: [WinError 2] The system cannot find the file specified: 'dataset/flows\\\\flow_Re_400000_alpha_19.vtu'\n",
      "Renamed flow_Re_400000_alpha_20.vtu to configuration_133.vtu\n",
      "Error renaming flow_Re_400000_alpha_20.vtu: [WinError 2] The system cannot find the file specified: 'dataset/flows\\\\flow_Re_400000_alpha_20.vtu'\n",
      "Renamed flow_Re_450000_alpha_0.vtu to configuration_134.vtu\n",
      "Error renaming flow_Re_450000_alpha_0.vtu: [WinError 2] The system cannot find the file specified: 'dataset/flows\\\\flow_Re_450000_alpha_0.vtu'\n",
      "Renamed flow_Re_450000_alpha_1.vtu to configuration_135.vtu\n",
      "Error renaming flow_Re_450000_alpha_1.vtu: [WinError 2] The system cannot find the file specified: 'dataset/flows\\\\flow_Re_450000_alpha_1.vtu'\n",
      "Renamed flow_Re_450000_alpha_2.vtu to configuration_136.vtu\n",
      "Error renaming flow_Re_450000_alpha_2.vtu: [WinError 2] The system cannot find the file specified: 'dataset/flows\\\\flow_Re_450000_alpha_2.vtu'\n",
      "Renamed flow_Re_450000_alpha_3.vtu to configuration_137.vtu\n",
      "Error renaming flow_Re_450000_alpha_3.vtu: [WinError 2] The system cannot find the file specified: 'dataset/flows\\\\flow_Re_450000_alpha_3.vtu'\n",
      "Renamed flow_Re_450000_alpha_4.vtu to configuration_138.vtu\n",
      "Error renaming flow_Re_450000_alpha_4.vtu: [WinError 2] The system cannot find the file specified: 'dataset/flows\\\\flow_Re_450000_alpha_4.vtu'\n",
      "Renamed flow_Re_450000_alpha_5.vtu to configuration_139.vtu\n",
      "Error renaming flow_Re_450000_alpha_5.vtu: [WinError 2] The system cannot find the file specified: 'dataset/flows\\\\flow_Re_450000_alpha_5.vtu'\n",
      "Renamed flow_Re_450000_alpha_6.vtu to configuration_140.vtu\n",
      "Error renaming flow_Re_450000_alpha_6.vtu: [WinError 2] The system cannot find the file specified: 'dataset/flows\\\\flow_Re_450000_alpha_6.vtu'\n",
      "Renamed flow_Re_450000_alpha_7.vtu to configuration_141.vtu\n",
      "Error renaming flow_Re_450000_alpha_7.vtu: [WinError 2] The system cannot find the file specified: 'dataset/flows\\\\flow_Re_450000_alpha_7.vtu'\n",
      "Renamed flow_Re_450000_alpha_8.vtu to configuration_142.vtu\n",
      "Error renaming flow_Re_450000_alpha_8.vtu: [WinError 2] The system cannot find the file specified: 'dataset/flows\\\\flow_Re_450000_alpha_8.vtu'\n",
      "Renamed flow_Re_450000_alpha_9.vtu to configuration_143.vtu\n",
      "Error renaming flow_Re_450000_alpha_9.vtu: [WinError 2] The system cannot find the file specified: 'dataset/flows\\\\flow_Re_450000_alpha_9.vtu'\n",
      "Renamed flow_Re_450000_alpha_10.vtu to configuration_144.vtu\n",
      "Error renaming flow_Re_450000_alpha_10.vtu: [WinError 2] The system cannot find the file specified: 'dataset/flows\\\\flow_Re_450000_alpha_10.vtu'\n",
      "Renamed flow_Re_450000_alpha_11.vtu to configuration_145.vtu\n",
      "Error renaming flow_Re_450000_alpha_11.vtu: [WinError 2] The system cannot find the file specified: 'dataset/flows\\\\flow_Re_450000_alpha_11.vtu'\n",
      "Renamed flow_Re_450000_alpha_12.vtu to configuration_146.vtu\n",
      "Error renaming flow_Re_450000_alpha_12.vtu: [WinError 2] The system cannot find the file specified: 'dataset/flows\\\\flow_Re_450000_alpha_12.vtu'\n",
      "Renamed flow_Re_450000_alpha_13.vtu to configuration_147.vtu\n",
      "Error renaming flow_Re_450000_alpha_13.vtu: [WinError 2] The system cannot find the file specified: 'dataset/flows\\\\flow_Re_450000_alpha_13.vtu'\n",
      "Renamed flow_Re_450000_alpha_15.vtu to configuration_148.vtu\n",
      "Error renaming flow_Re_450000_alpha_15.vtu: [WinError 2] The system cannot find the file specified: 'dataset/flows\\\\flow_Re_450000_alpha_15.vtu'\n",
      "Renamed flow_Re_450000_alpha_16.vtu to configuration_149.vtu\n",
      "Error renaming flow_Re_450000_alpha_16.vtu: [WinError 2] The system cannot find the file specified: 'dataset/flows\\\\flow_Re_450000_alpha_16.vtu'\n",
      "Renamed flow_Re_450000_alpha_17.vtu to configuration_150.vtu\n",
      "Error renaming flow_Re_450000_alpha_17.vtu: [WinError 2] The system cannot find the file specified: 'dataset/flows\\\\flow_Re_450000_alpha_17.vtu'\n",
      "Renamed flow_Re_450000_alpha_18.vtu to configuration_151.vtu\n",
      "Error renaming flow_Re_450000_alpha_18.vtu: [WinError 2] The system cannot find the file specified: 'dataset/flows\\\\flow_Re_450000_alpha_18.vtu'\n",
      "Renamed flow_Re_450000_alpha_19.vtu to configuration_152.vtu\n",
      "Error renaming flow_Re_450000_alpha_19.vtu: [WinError 2] The system cannot find the file specified: 'dataset/flows\\\\flow_Re_450000_alpha_19.vtu'\n",
      "Renamed flow_Re_450000_alpha_20.vtu to configuration_153.vtu\n",
      "Error renaming flow_Re_450000_alpha_20.vtu: [WinError 2] The system cannot find the file specified: 'dataset/flows\\\\flow_Re_450000_alpha_20.vtu'\n",
      "Renamed flow_Re_500000_alpha_0.vtu to configuration_154.vtu\n",
      "Error renaming flow_Re_500000_alpha_0.vtu: [WinError 2] The system cannot find the file specified: 'dataset/flows\\\\flow_Re_500000_alpha_0.vtu'\n",
      "Renamed flow_Re_500000_alpha_1.vtu to configuration_155.vtu\n",
      "Error renaming flow_Re_500000_alpha_1.vtu: [WinError 2] The system cannot find the file specified: 'dataset/flows\\\\flow_Re_500000_alpha_1.vtu'\n",
      "Renamed flow_Re_500000_alpha_2.vtu to configuration_156.vtu\n",
      "Error renaming flow_Re_500000_alpha_2.vtu: [WinError 2] The system cannot find the file specified: 'dataset/flows\\\\flow_Re_500000_alpha_2.vtu'\n",
      "Renamed flow_Re_500000_alpha_3.vtu to configuration_157.vtu\n",
      "Error renaming flow_Re_500000_alpha_3.vtu: [WinError 2] The system cannot find the file specified: 'dataset/flows\\\\flow_Re_500000_alpha_3.vtu'\n",
      "Renamed flow_Re_500000_alpha_4.vtu to configuration_158.vtu\n",
      "Error renaming flow_Re_500000_alpha_4.vtu: [WinError 2] The system cannot find the file specified: 'dataset/flows\\\\flow_Re_500000_alpha_4.vtu'\n",
      "Renamed flow_Re_500000_alpha_5.vtu to configuration_159.vtu\n",
      "Error renaming flow_Re_500000_alpha_5.vtu: [WinError 2] The system cannot find the file specified: 'dataset/flows\\\\flow_Re_500000_alpha_5.vtu'\n",
      "Renamed flow_Re_500000_alpha_6.vtu to configuration_160.vtu\n",
      "Error renaming flow_Re_500000_alpha_6.vtu: [WinError 2] The system cannot find the file specified: 'dataset/flows\\\\flow_Re_500000_alpha_6.vtu'\n",
      "Renamed flow_Re_500000_alpha_7.vtu to configuration_161.vtu\n",
      "Error renaming flow_Re_500000_alpha_7.vtu: [WinError 2] The system cannot find the file specified: 'dataset/flows\\\\flow_Re_500000_alpha_7.vtu'\n",
      "Renamed flow_Re_500000_alpha_8.vtu to configuration_162.vtu\n",
      "Error renaming flow_Re_500000_alpha_8.vtu: [WinError 2] The system cannot find the file specified: 'dataset/flows\\\\flow_Re_500000_alpha_8.vtu'\n",
      "Renamed flow_Re_500000_alpha_9.vtu to configuration_163.vtu\n",
      "Error renaming flow_Re_500000_alpha_9.vtu: [WinError 2] The system cannot find the file specified: 'dataset/flows\\\\flow_Re_500000_alpha_9.vtu'\n",
      "Renamed flow_Re_500000_alpha_10.vtu to configuration_164.vtu\n",
      "Error renaming flow_Re_500000_alpha_10.vtu: [WinError 2] The system cannot find the file specified: 'dataset/flows\\\\flow_Re_500000_alpha_10.vtu'\n",
      "Renamed flow_Re_500000_alpha_11.vtu to configuration_165.vtu\n",
      "Error renaming flow_Re_500000_alpha_11.vtu: [WinError 2] The system cannot find the file specified: 'dataset/flows\\\\flow_Re_500000_alpha_11.vtu'\n",
      "Renamed flow_Re_500000_alpha_12.vtu to configuration_166.vtu\n",
      "Error renaming flow_Re_500000_alpha_12.vtu: [WinError 2] The system cannot find the file specified: 'dataset/flows\\\\flow_Re_500000_alpha_12.vtu'\n",
      "Renamed flow_Re_500000_alpha_13.vtu to configuration_167.vtu\n",
      "Error renaming flow_Re_500000_alpha_13.vtu: [WinError 2] The system cannot find the file specified: 'dataset/flows\\\\flow_Re_500000_alpha_13.vtu'\n",
      "Renamed flow_Re_500000_alpha_14.vtu to configuration_168.vtu\n",
      "Error renaming flow_Re_500000_alpha_14.vtu: [WinError 2] The system cannot find the file specified: 'dataset/flows\\\\flow_Re_500000_alpha_14.vtu'\n",
      "Renamed flow_Re_500000_alpha_15.vtu to configuration_169.vtu\n",
      "Error renaming flow_Re_500000_alpha_15.vtu: [WinError 2] The system cannot find the file specified: 'dataset/flows\\\\flow_Re_500000_alpha_15.vtu'\n",
      "Renamed flow_Re_500000_alpha_16.vtu to configuration_170.vtu\n",
      "Error renaming flow_Re_500000_alpha_16.vtu: [WinError 2] The system cannot find the file specified: 'dataset/flows\\\\flow_Re_500000_alpha_16.vtu'\n",
      "Renamed flow_Re_500000_alpha_17.vtu to configuration_171.vtu\n",
      "Error renaming flow_Re_500000_alpha_17.vtu: [WinError 2] The system cannot find the file specified: 'dataset/flows\\\\flow_Re_500000_alpha_17.vtu'\n",
      "Renamed flow_Re_500000_alpha_18.vtu to configuration_172.vtu\n",
      "Error renaming flow_Re_500000_alpha_18.vtu: [WinError 2] The system cannot find the file specified: 'dataset/flows\\\\flow_Re_500000_alpha_18.vtu'\n",
      "Renamed flow_Re_500000_alpha_19.vtu to configuration_173.vtu\n",
      "Error renaming flow_Re_500000_alpha_19.vtu: [WinError 2] The system cannot find the file specified: 'dataset/flows\\\\flow_Re_500000_alpha_19.vtu'\n",
      "Renamed flow_Re_500000_alpha_20.vtu to configuration_174.vtu\n",
      "Error renaming flow_Re_500000_alpha_20.vtu: [WinError 2] The system cannot find the file specified: 'dataset/flows\\\\flow_Re_500000_alpha_20.vtu'\n",
      "Renamed flow_Re_550000_alpha_0.vtu to configuration_175.vtu\n",
      "Error renaming flow_Re_550000_alpha_0.vtu: [WinError 2] The system cannot find the file specified: 'dataset/flows\\\\flow_Re_550000_alpha_0.vtu'\n",
      "Renamed flow_Re_550000_alpha_1.vtu to configuration_176.vtu\n",
      "Error renaming flow_Re_550000_alpha_1.vtu: [WinError 2] The system cannot find the file specified: 'dataset/flows\\\\flow_Re_550000_alpha_1.vtu'\n",
      "Renamed flow_Re_550000_alpha_2.vtu to configuration_177.vtu\n",
      "Error renaming flow_Re_550000_alpha_2.vtu: [WinError 2] The system cannot find the file specified: 'dataset/flows\\\\flow_Re_550000_alpha_2.vtu'\n",
      "Renamed flow_Re_550000_alpha_3.vtu to configuration_178.vtu\n",
      "Error renaming flow_Re_550000_alpha_3.vtu: [WinError 2] The system cannot find the file specified: 'dataset/flows\\\\flow_Re_550000_alpha_3.vtu'\n",
      "Renamed flow_Re_550000_alpha_4.vtu to configuration_179.vtu\n",
      "Error renaming flow_Re_550000_alpha_4.vtu: [WinError 2] The system cannot find the file specified: 'dataset/flows\\\\flow_Re_550000_alpha_4.vtu'\n",
      "Renamed flow_Re_550000_alpha_5.vtu to configuration_180.vtu\n",
      "Error renaming flow_Re_550000_alpha_5.vtu: [WinError 2] The system cannot find the file specified: 'dataset/flows\\\\flow_Re_550000_alpha_5.vtu'\n",
      "Renamed flow_Re_550000_alpha_6.vtu to configuration_181.vtu\n",
      "Error renaming flow_Re_550000_alpha_6.vtu: [WinError 2] The system cannot find the file specified: 'dataset/flows\\\\flow_Re_550000_alpha_6.vtu'\n",
      "Renamed flow_Re_550000_alpha_7.vtu to configuration_182.vtu\n",
      "Error renaming flow_Re_550000_alpha_7.vtu: [WinError 2] The system cannot find the file specified: 'dataset/flows\\\\flow_Re_550000_alpha_7.vtu'\n",
      "Renamed flow_Re_550000_alpha_9.vtu to configuration_183.vtu\n",
      "Error renaming flow_Re_550000_alpha_9.vtu: [WinError 2] The system cannot find the file specified: 'dataset/flows\\\\flow_Re_550000_alpha_9.vtu'\n",
      "Renamed flow_Re_550000_alpha_10.vtu to configuration_184.vtu\n",
      "Error renaming flow_Re_550000_alpha_10.vtu: [WinError 2] The system cannot find the file specified: 'dataset/flows\\\\flow_Re_550000_alpha_10.vtu'\n",
      "Renamed flow_Re_550000_alpha_11.vtu to configuration_185.vtu\n",
      "Error renaming flow_Re_550000_alpha_11.vtu: [WinError 2] The system cannot find the file specified: 'dataset/flows\\\\flow_Re_550000_alpha_11.vtu'\n",
      "Renamed flow_Re_550000_alpha_13.vtu to configuration_186.vtu\n",
      "Error renaming flow_Re_550000_alpha_13.vtu: [WinError 2] The system cannot find the file specified: 'dataset/flows\\\\flow_Re_550000_alpha_13.vtu'\n",
      "Renamed flow_Re_550000_alpha_15.vtu to configuration_187.vtu\n",
      "Error renaming flow_Re_550000_alpha_15.vtu: [WinError 2] The system cannot find the file specified: 'dataset/flows\\\\flow_Re_550000_alpha_15.vtu'\n",
      "Renamed flow_Re_550000_alpha_16.vtu to configuration_188.vtu\n",
      "Error renaming flow_Re_550000_alpha_16.vtu: [WinError 2] The system cannot find the file specified: 'dataset/flows\\\\flow_Re_550000_alpha_16.vtu'\n",
      "Renamed flow_Re_550000_alpha_17.vtu to configuration_189.vtu\n",
      "Error renaming flow_Re_550000_alpha_17.vtu: [WinError 2] The system cannot find the file specified: 'dataset/flows\\\\flow_Re_550000_alpha_17.vtu'\n",
      "Renamed flow_Re_550000_alpha_18.vtu to configuration_190.vtu\n",
      "Error renaming flow_Re_550000_alpha_18.vtu: [WinError 2] The system cannot find the file specified: 'dataset/flows\\\\flow_Re_550000_alpha_18.vtu'\n",
      "Renamed flow_Re_550000_alpha_19.vtu to configuration_191.vtu\n",
      "Error renaming flow_Re_550000_alpha_19.vtu: [WinError 2] The system cannot find the file specified: 'dataset/flows\\\\flow_Re_550000_alpha_19.vtu'\n",
      "Renamed flow_Re_550000_alpha_20.vtu to configuration_192.vtu\n",
      "Error renaming flow_Re_550000_alpha_20.vtu: [WinError 2] The system cannot find the file specified: 'dataset/flows\\\\flow_Re_550000_alpha_20.vtu'\n",
      "Renamed flow_Re_600000_alpha_0.vtu to configuration_193.vtu\n",
      "Error renaming flow_Re_600000_alpha_0.vtu: [WinError 2] The system cannot find the file specified: 'dataset/flows\\\\flow_Re_600000_alpha_0.vtu'\n",
      "Renamed flow_Re_600000_alpha_1.vtu to configuration_194.vtu\n",
      "Error renaming flow_Re_600000_alpha_1.vtu: [WinError 2] The system cannot find the file specified: 'dataset/flows\\\\flow_Re_600000_alpha_1.vtu'\n",
      "Renamed flow_Re_600000_alpha_2.vtu to configuration_195.vtu\n",
      "Error renaming flow_Re_600000_alpha_2.vtu: [WinError 2] The system cannot find the file specified: 'dataset/flows\\\\flow_Re_600000_alpha_2.vtu'\n",
      "Renamed flow_Re_600000_alpha_3.vtu to configuration_196.vtu\n",
      "Error renaming flow_Re_600000_alpha_3.vtu: [WinError 2] The system cannot find the file specified: 'dataset/flows\\\\flow_Re_600000_alpha_3.vtu'\n",
      "Renamed flow_Re_600000_alpha_4.vtu to configuration_197.vtu\n",
      "Error renaming flow_Re_600000_alpha_4.vtu: [WinError 2] The system cannot find the file specified: 'dataset/flows\\\\flow_Re_600000_alpha_4.vtu'\n",
      "Renamed flow_Re_600000_alpha_5.vtu to configuration_198.vtu\n",
      "Error renaming flow_Re_600000_alpha_5.vtu: [WinError 2] The system cannot find the file specified: 'dataset/flows\\\\flow_Re_600000_alpha_5.vtu'\n",
      "Renamed flow_Re_600000_alpha_6.vtu to configuration_199.vtu\n",
      "Error renaming flow_Re_600000_alpha_6.vtu: [WinError 2] The system cannot find the file specified: 'dataset/flows\\\\flow_Re_600000_alpha_6.vtu'\n",
      "Renamed flow_Re_600000_alpha_7.vtu to configuration_200.vtu\n",
      "Error renaming flow_Re_600000_alpha_7.vtu: [WinError 2] The system cannot find the file specified: 'dataset/flows\\\\flow_Re_600000_alpha_7.vtu'\n",
      "Renamed flow_Re_600000_alpha_8.vtu to configuration_201.vtu\n",
      "Error renaming flow_Re_600000_alpha_8.vtu: [WinError 2] The system cannot find the file specified: 'dataset/flows\\\\flow_Re_600000_alpha_8.vtu'\n",
      "Renamed flow_Re_600000_alpha_9.vtu to configuration_202.vtu\n",
      "Error renaming flow_Re_600000_alpha_9.vtu: [WinError 2] The system cannot find the file specified: 'dataset/flows\\\\flow_Re_600000_alpha_9.vtu'\n",
      "Renamed flow_Re_600000_alpha_10.vtu to configuration_203.vtu\n",
      "Error renaming flow_Re_600000_alpha_10.vtu: [WinError 2] The system cannot find the file specified: 'dataset/flows\\\\flow_Re_600000_alpha_10.vtu'\n",
      "Renamed flow_Re_600000_alpha_11.vtu to configuration_204.vtu\n",
      "Error renaming flow_Re_600000_alpha_11.vtu: [WinError 2] The system cannot find the file specified: 'dataset/flows\\\\flow_Re_600000_alpha_11.vtu'\n",
      "Renamed flow_Re_600000_alpha_12.vtu to configuration_205.vtu\n",
      "Error renaming flow_Re_600000_alpha_12.vtu: [WinError 2] The system cannot find the file specified: 'dataset/flows\\\\flow_Re_600000_alpha_12.vtu'\n",
      "Renamed flow_Re_600000_alpha_13.vtu to configuration_206.vtu\n",
      "Error renaming flow_Re_600000_alpha_13.vtu: [WinError 2] The system cannot find the file specified: 'dataset/flows\\\\flow_Re_600000_alpha_13.vtu'\n",
      "Renamed flow_Re_600000_alpha_14.vtu to configuration_207.vtu\n",
      "Error renaming flow_Re_600000_alpha_14.vtu: [WinError 2] The system cannot find the file specified: 'dataset/flows\\\\flow_Re_600000_alpha_14.vtu'\n",
      "Renamed flow_Re_600000_alpha_15.vtu to configuration_208.vtu\n",
      "Error renaming flow_Re_600000_alpha_15.vtu: [WinError 2] The system cannot find the file specified: 'dataset/flows\\\\flow_Re_600000_alpha_15.vtu'\n",
      "Renamed flow_Re_600000_alpha_16.vtu to configuration_209.vtu\n",
      "Error renaming flow_Re_600000_alpha_16.vtu: [WinError 2] The system cannot find the file specified: 'dataset/flows\\\\flow_Re_600000_alpha_16.vtu'\n",
      "Renamed flow_Re_600000_alpha_17.vtu to configuration_210.vtu\n",
      "Error renaming flow_Re_600000_alpha_17.vtu: [WinError 2] The system cannot find the file specified: 'dataset/flows\\\\flow_Re_600000_alpha_17.vtu'\n",
      "Renamed flow_Re_600000_alpha_18.vtu to configuration_211.vtu\n",
      "Error renaming flow_Re_600000_alpha_18.vtu: [WinError 2] The system cannot find the file specified: 'dataset/flows\\\\flow_Re_600000_alpha_18.vtu'\n",
      "Renamed flow_Re_600000_alpha_19.vtu to configuration_212.vtu\n",
      "Error renaming flow_Re_600000_alpha_19.vtu: [WinError 2] The system cannot find the file specified: 'dataset/flows\\\\flow_Re_600000_alpha_19.vtu'\n",
      "Renamed flow_Re_600000_alpha_20.vtu to configuration_213.vtu\n",
      "Error renaming flow_Re_600000_alpha_20.vtu: [WinError 2] The system cannot find the file specified: 'dataset/flows\\\\flow_Re_600000_alpha_20.vtu'\n",
      "Renamed flow_Re_650000_alpha_0.vtu to configuration_214.vtu\n",
      "Error renaming flow_Re_650000_alpha_0.vtu: [WinError 2] The system cannot find the file specified: 'dataset/flows\\\\flow_Re_650000_alpha_0.vtu'\n",
      "Renamed flow_Re_650000_alpha_1.vtu to configuration_215.vtu\n",
      "Error renaming flow_Re_650000_alpha_1.vtu: [WinError 2] The system cannot find the file specified: 'dataset/flows\\\\flow_Re_650000_alpha_1.vtu'\n",
      "Renamed flow_Re_650000_alpha_2.vtu to configuration_216.vtu\n",
      "Error renaming flow_Re_650000_alpha_2.vtu: [WinError 2] The system cannot find the file specified: 'dataset/flows\\\\flow_Re_650000_alpha_2.vtu'\n",
      "Renamed flow_Re_650000_alpha_3.vtu to configuration_217.vtu\n",
      "Error renaming flow_Re_650000_alpha_3.vtu: [WinError 2] The system cannot find the file specified: 'dataset/flows\\\\flow_Re_650000_alpha_3.vtu'\n",
      "Renamed flow_Re_650000_alpha_4.vtu to configuration_218.vtu\n",
      "Error renaming flow_Re_650000_alpha_4.vtu: [WinError 2] The system cannot find the file specified: 'dataset/flows\\\\flow_Re_650000_alpha_4.vtu'\n",
      "Renamed flow_Re_650000_alpha_5.vtu to configuration_219.vtu\n",
      "Error renaming flow_Re_650000_alpha_5.vtu: [WinError 2] The system cannot find the file specified: 'dataset/flows\\\\flow_Re_650000_alpha_5.vtu'\n",
      "Renamed flow_Re_650000_alpha_6.vtu to configuration_220.vtu\n",
      "Error renaming flow_Re_650000_alpha_6.vtu: [WinError 2] The system cannot find the file specified: 'dataset/flows\\\\flow_Re_650000_alpha_6.vtu'\n",
      "Renamed flow_Re_650000_alpha_7.vtu to configuration_221.vtu\n",
      "Error renaming flow_Re_650000_alpha_7.vtu: [WinError 2] The system cannot find the file specified: 'dataset/flows\\\\flow_Re_650000_alpha_7.vtu'\n",
      "Renamed flow_Re_650000_alpha_8.vtu to configuration_222.vtu\n",
      "Error renaming flow_Re_650000_alpha_8.vtu: [WinError 2] The system cannot find the file specified: 'dataset/flows\\\\flow_Re_650000_alpha_8.vtu'\n",
      "Renamed flow_Re_650000_alpha_9.vtu to configuration_223.vtu\n",
      "Error renaming flow_Re_650000_alpha_9.vtu: [WinError 2] The system cannot find the file specified: 'dataset/flows\\\\flow_Re_650000_alpha_9.vtu'\n",
      "Renamed flow_Re_650000_alpha_10.vtu to configuration_224.vtu\n",
      "Error renaming flow_Re_650000_alpha_10.vtu: [WinError 2] The system cannot find the file specified: 'dataset/flows\\\\flow_Re_650000_alpha_10.vtu'\n",
      "Renamed flow_Re_650000_alpha_11.vtu to configuration_225.vtu\n",
      "Error renaming flow_Re_650000_alpha_11.vtu: [WinError 2] The system cannot find the file specified: 'dataset/flows\\\\flow_Re_650000_alpha_11.vtu'\n",
      "Renamed flow_Re_650000_alpha_12.vtu to configuration_226.vtu\n",
      "Error renaming flow_Re_650000_alpha_12.vtu: [WinError 2] The system cannot find the file specified: 'dataset/flows\\\\flow_Re_650000_alpha_12.vtu'\n",
      "Renamed flow_Re_650000_alpha_13.vtu to configuration_227.vtu\n",
      "Error renaming flow_Re_650000_alpha_13.vtu: [WinError 2] The system cannot find the file specified: 'dataset/flows\\\\flow_Re_650000_alpha_13.vtu'\n",
      "Renamed flow_Re_650000_alpha_15.vtu to configuration_228.vtu\n",
      "Error renaming flow_Re_650000_alpha_15.vtu: [WinError 2] The system cannot find the file specified: 'dataset/flows\\\\flow_Re_650000_alpha_15.vtu'\n",
      "Renamed flow_Re_650000_alpha_16.vtu to configuration_229.vtu\n",
      "Error renaming flow_Re_650000_alpha_16.vtu: [WinError 2] The system cannot find the file specified: 'dataset/flows\\\\flow_Re_650000_alpha_16.vtu'\n",
      "Renamed flow_Re_650000_alpha_17.vtu to configuration_230.vtu\n",
      "Error renaming flow_Re_650000_alpha_17.vtu: [WinError 2] The system cannot find the file specified: 'dataset/flows\\\\flow_Re_650000_alpha_17.vtu'\n",
      "Renamed flow_Re_650000_alpha_18.vtu to configuration_231.vtu\n",
      "Error renaming flow_Re_650000_alpha_18.vtu: [WinError 2] The system cannot find the file specified: 'dataset/flows\\\\flow_Re_650000_alpha_18.vtu'\n",
      "Renamed flow_Re_650000_alpha_19.vtu to configuration_232.vtu\n",
      "Error renaming flow_Re_650000_alpha_19.vtu: [WinError 2] The system cannot find the file specified: 'dataset/flows\\\\flow_Re_650000_alpha_19.vtu'\n",
      "Renamed flow_Re_650000_alpha_20.vtu to configuration_233.vtu\n",
      "Error renaming flow_Re_650000_alpha_20.vtu: [WinError 2] The system cannot find the file specified: 'dataset/flows\\\\flow_Re_650000_alpha_20.vtu'\n",
      "Renamed flow_Re_700000_alpha_0.vtu to configuration_234.vtu\n",
      "Error renaming flow_Re_700000_alpha_0.vtu: [WinError 2] The system cannot find the file specified: 'dataset/flows\\\\flow_Re_700000_alpha_0.vtu'\n",
      "Renamed flow_Re_700000_alpha_1.vtu to configuration_235.vtu\n",
      "Error renaming flow_Re_700000_alpha_1.vtu: [WinError 2] The system cannot find the file specified: 'dataset/flows\\\\flow_Re_700000_alpha_1.vtu'\n",
      "Renamed flow_Re_700000_alpha_2.vtu to configuration_236.vtu\n",
      "Error renaming flow_Re_700000_alpha_2.vtu: [WinError 2] The system cannot find the file specified: 'dataset/flows\\\\flow_Re_700000_alpha_2.vtu'\n",
      "Renamed flow_Re_700000_alpha_4.vtu to configuration_237.vtu\n",
      "Error renaming flow_Re_700000_alpha_4.vtu: [WinError 2] The system cannot find the file specified: 'dataset/flows\\\\flow_Re_700000_alpha_4.vtu'\n",
      "Renamed flow_Re_700000_alpha_5.vtu to configuration_238.vtu\n",
      "Error renaming flow_Re_700000_alpha_5.vtu: [WinError 2] The system cannot find the file specified: 'dataset/flows\\\\flow_Re_700000_alpha_5.vtu'\n",
      "Renamed flow_Re_700000_alpha_6.vtu to configuration_239.vtu\n",
      "Error renaming flow_Re_700000_alpha_6.vtu: [WinError 2] The system cannot find the file specified: 'dataset/flows\\\\flow_Re_700000_alpha_6.vtu'\n",
      "Renamed flow_Re_700000_alpha_7.vtu to configuration_240.vtu\n",
      "Error renaming flow_Re_700000_alpha_7.vtu: [WinError 2] The system cannot find the file specified: 'dataset/flows\\\\flow_Re_700000_alpha_7.vtu'\n",
      "Renamed flow_Re_700000_alpha_8.vtu to configuration_241.vtu\n",
      "Error renaming flow_Re_700000_alpha_8.vtu: [WinError 2] The system cannot find the file specified: 'dataset/flows\\\\flow_Re_700000_alpha_8.vtu'\n",
      "Renamed flow_Re_700000_alpha_9.vtu to configuration_242.vtu\n",
      "Error renaming flow_Re_700000_alpha_9.vtu: [WinError 2] The system cannot find the file specified: 'dataset/flows\\\\flow_Re_700000_alpha_9.vtu'\n",
      "Renamed flow_Re_700000_alpha_10.vtu to configuration_243.vtu\n",
      "Error renaming flow_Re_700000_alpha_10.vtu: [WinError 2] The system cannot find the file specified: 'dataset/flows\\\\flow_Re_700000_alpha_10.vtu'\n",
      "Renamed flow_Re_700000_alpha_11.vtu to configuration_244.vtu\n",
      "Error renaming flow_Re_700000_alpha_11.vtu: [WinError 2] The system cannot find the file specified: 'dataset/flows\\\\flow_Re_700000_alpha_11.vtu'\n",
      "Renamed flow_Re_700000_alpha_12.vtu to configuration_245.vtu\n",
      "Error renaming flow_Re_700000_alpha_12.vtu: [WinError 2] The system cannot find the file specified: 'dataset/flows\\\\flow_Re_700000_alpha_12.vtu'\n",
      "Renamed flow_Re_700000_alpha_13.vtu to configuration_246.vtu\n",
      "Error renaming flow_Re_700000_alpha_13.vtu: [WinError 2] The system cannot find the file specified: 'dataset/flows\\\\flow_Re_700000_alpha_13.vtu'\n",
      "Renamed flow_Re_700000_alpha_15.vtu to configuration_247.vtu\n",
      "Error renaming flow_Re_700000_alpha_15.vtu: [WinError 2] The system cannot find the file specified: 'dataset/flows\\\\flow_Re_700000_alpha_15.vtu'\n",
      "Renamed flow_Re_700000_alpha_16.vtu to configuration_248.vtu\n",
      "Error renaming flow_Re_700000_alpha_16.vtu: [WinError 2] The system cannot find the file specified: 'dataset/flows\\\\flow_Re_700000_alpha_16.vtu'\n",
      "Renamed flow_Re_700000_alpha_17.vtu to configuration_249.vtu\n",
      "Error renaming flow_Re_700000_alpha_17.vtu: [WinError 2] The system cannot find the file specified: 'dataset/flows\\\\flow_Re_700000_alpha_17.vtu'\n",
      "Renamed flow_Re_700000_alpha_18.vtu to configuration_250.vtu\n",
      "Error renaming flow_Re_700000_alpha_18.vtu: [WinError 2] The system cannot find the file specified: 'dataset/flows\\\\flow_Re_700000_alpha_18.vtu'\n",
      "Renamed flow_Re_700000_alpha_19.vtu to configuration_251.vtu\n",
      "Error renaming flow_Re_700000_alpha_19.vtu: [WinError 2] The system cannot find the file specified: 'dataset/flows\\\\flow_Re_700000_alpha_19.vtu'\n",
      "Renamed flow_Re_700000_alpha_20.vtu to configuration_252.vtu\n",
      "Error renaming flow_Re_700000_alpha_20.vtu: [WinError 2] The system cannot find the file specified: 'dataset/flows\\\\flow_Re_700000_alpha_20.vtu'\n",
      "Renamed flow_Re_750000_alpha_0.vtu to configuration_253.vtu\n",
      "Error renaming flow_Re_750000_alpha_0.vtu: [WinError 2] The system cannot find the file specified: 'dataset/flows\\\\flow_Re_750000_alpha_0.vtu'\n",
      "Renamed flow_Re_750000_alpha_1.vtu to configuration_254.vtu\n",
      "Error renaming flow_Re_750000_alpha_1.vtu: [WinError 2] The system cannot find the file specified: 'dataset/flows\\\\flow_Re_750000_alpha_1.vtu'\n",
      "Renamed flow_Re_750000_alpha_2.vtu to configuration_255.vtu\n",
      "Error renaming flow_Re_750000_alpha_2.vtu: [WinError 2] The system cannot find the file specified: 'dataset/flows\\\\flow_Re_750000_alpha_2.vtu'\n",
      "Renamed flow_Re_750000_alpha_4.vtu to configuration_256.vtu\n",
      "Error renaming flow_Re_750000_alpha_4.vtu: [WinError 2] The system cannot find the file specified: 'dataset/flows\\\\flow_Re_750000_alpha_4.vtu'\n",
      "Renamed flow_Re_750000_alpha_5.vtu to configuration_257.vtu\n",
      "Error renaming flow_Re_750000_alpha_5.vtu: [WinError 2] The system cannot find the file specified: 'dataset/flows\\\\flow_Re_750000_alpha_5.vtu'\n",
      "Renamed flow_Re_750000_alpha_6.vtu to configuration_258.vtu\n",
      "Error renaming flow_Re_750000_alpha_6.vtu: [WinError 2] The system cannot find the file specified: 'dataset/flows\\\\flow_Re_750000_alpha_6.vtu'\n",
      "Renamed flow_Re_750000_alpha_7.vtu to configuration_259.vtu\n",
      "Error renaming flow_Re_750000_alpha_7.vtu: [WinError 2] The system cannot find the file specified: 'dataset/flows\\\\flow_Re_750000_alpha_7.vtu'\n",
      "Renamed flow_Re_750000_alpha_8.vtu to configuration_260.vtu\n",
      "Error renaming flow_Re_750000_alpha_8.vtu: [WinError 2] The system cannot find the file specified: 'dataset/flows\\\\flow_Re_750000_alpha_8.vtu'\n",
      "Renamed flow_Re_750000_alpha_9.vtu to configuration_261.vtu\n",
      "Error renaming flow_Re_750000_alpha_9.vtu: [WinError 2] The system cannot find the file specified: 'dataset/flows\\\\flow_Re_750000_alpha_9.vtu'\n",
      "Renamed flow_Re_750000_alpha_10.vtu to configuration_262.vtu\n",
      "Error renaming flow_Re_750000_alpha_10.vtu: [WinError 2] The system cannot find the file specified: 'dataset/flows\\\\flow_Re_750000_alpha_10.vtu'\n",
      "Renamed flow_Re_750000_alpha_11.vtu to configuration_263.vtu\n",
      "Error renaming flow_Re_750000_alpha_11.vtu: [WinError 2] The system cannot find the file specified: 'dataset/flows\\\\flow_Re_750000_alpha_11.vtu'\n",
      "Renamed flow_Re_750000_alpha_12.vtu to configuration_264.vtu\n",
      "Error renaming flow_Re_750000_alpha_12.vtu: [WinError 2] The system cannot find the file specified: 'dataset/flows\\\\flow_Re_750000_alpha_12.vtu'\n",
      "Renamed flow_Re_750000_alpha_13.vtu to configuration_265.vtu\n",
      "Error renaming flow_Re_750000_alpha_13.vtu: [WinError 2] The system cannot find the file specified: 'dataset/flows\\\\flow_Re_750000_alpha_13.vtu'\n",
      "Renamed flow_Re_750000_alpha_14.vtu to configuration_266.vtu\n",
      "Error renaming flow_Re_750000_alpha_14.vtu: [WinError 2] The system cannot find the file specified: 'dataset/flows\\\\flow_Re_750000_alpha_14.vtu'\n",
      "Renamed flow_Re_750000_alpha_17.vtu to configuration_267.vtu\n",
      "Error renaming flow_Re_750000_alpha_17.vtu: [WinError 2] The system cannot find the file specified: 'dataset/flows\\\\flow_Re_750000_alpha_17.vtu'\n",
      "Renamed flow_Re_750000_alpha_18.vtu to configuration_268.vtu\n",
      "Error renaming flow_Re_750000_alpha_18.vtu: [WinError 2] The system cannot find the file specified: 'dataset/flows\\\\flow_Re_750000_alpha_18.vtu'\n",
      "Renamed flow_Re_750000_alpha_19.vtu to configuration_269.vtu\n",
      "Error renaming flow_Re_750000_alpha_19.vtu: [WinError 2] The system cannot find the file specified: 'dataset/flows\\\\flow_Re_750000_alpha_19.vtu'\n",
      "Renamed flow_Re_750000_alpha_20.vtu to configuration_270.vtu\n",
      "Error renaming flow_Re_750000_alpha_20.vtu: [WinError 2] The system cannot find the file specified: 'dataset/flows\\\\flow_Re_750000_alpha_20.vtu'\n",
      "Renamed flow_Re_800000_alpha_0.vtu to configuration_271.vtu\n",
      "Error renaming flow_Re_800000_alpha_0.vtu: [WinError 2] The system cannot find the file specified: 'dataset/flows\\\\flow_Re_800000_alpha_0.vtu'\n",
      "Renamed flow_Re_800000_alpha_1.vtu to configuration_272.vtu\n",
      "Error renaming flow_Re_800000_alpha_1.vtu: [WinError 2] The system cannot find the file specified: 'dataset/flows\\\\flow_Re_800000_alpha_1.vtu'\n",
      "Renamed flow_Re_800000_alpha_3.vtu to configuration_273.vtu\n",
      "Error renaming flow_Re_800000_alpha_3.vtu: [WinError 2] The system cannot find the file specified: 'dataset/flows\\\\flow_Re_800000_alpha_3.vtu'\n",
      "Renamed flow_Re_800000_alpha_4.vtu to configuration_274.vtu\n",
      "Error renaming flow_Re_800000_alpha_4.vtu: [WinError 2] The system cannot find the file specified: 'dataset/flows\\\\flow_Re_800000_alpha_4.vtu'\n",
      "Renamed flow_Re_800000_alpha_5.vtu to configuration_275.vtu\n",
      "Error renaming flow_Re_800000_alpha_5.vtu: [WinError 2] The system cannot find the file specified: 'dataset/flows\\\\flow_Re_800000_alpha_5.vtu'\n",
      "Renamed flow_Re_800000_alpha_7.vtu to configuration_276.vtu\n",
      "Error renaming flow_Re_800000_alpha_7.vtu: [WinError 2] The system cannot find the file specified: 'dataset/flows\\\\flow_Re_800000_alpha_7.vtu'\n",
      "Renamed flow_Re_800000_alpha_8.vtu to configuration_277.vtu\n",
      "Error renaming flow_Re_800000_alpha_8.vtu: [WinError 2] The system cannot find the file specified: 'dataset/flows\\\\flow_Re_800000_alpha_8.vtu'\n",
      "Renamed flow_Re_800000_alpha_9.vtu to configuration_278.vtu\n",
      "Error renaming flow_Re_800000_alpha_9.vtu: [WinError 2] The system cannot find the file specified: 'dataset/flows\\\\flow_Re_800000_alpha_9.vtu'\n",
      "Renamed flow_Re_800000_alpha_10.vtu to configuration_279.vtu\n",
      "Error renaming flow_Re_800000_alpha_10.vtu: [WinError 2] The system cannot find the file specified: 'dataset/flows\\\\flow_Re_800000_alpha_10.vtu'\n",
      "Renamed flow_Re_800000_alpha_11.vtu to configuration_280.vtu\n",
      "Error renaming flow_Re_800000_alpha_11.vtu: [WinError 2] The system cannot find the file specified: 'dataset/flows\\\\flow_Re_800000_alpha_11.vtu'\n",
      "Renamed flow_Re_800000_alpha_12.vtu to configuration_281.vtu\n",
      "Error renaming flow_Re_800000_alpha_12.vtu: [WinError 2] The system cannot find the file specified: 'dataset/flows\\\\flow_Re_800000_alpha_12.vtu'\n",
      "Renamed flow_Re_800000_alpha_13.vtu to configuration_282.vtu\n",
      "Error renaming flow_Re_800000_alpha_13.vtu: [WinError 2] The system cannot find the file specified: 'dataset/flows\\\\flow_Re_800000_alpha_13.vtu'\n",
      "Renamed flow_Re_800000_alpha_14.vtu to configuration_283.vtu\n",
      "Error renaming flow_Re_800000_alpha_14.vtu: [WinError 2] The system cannot find the file specified: 'dataset/flows\\\\flow_Re_800000_alpha_14.vtu'\n",
      "Renamed flow_Re_800000_alpha_15.vtu to configuration_284.vtu\n",
      "Error renaming flow_Re_800000_alpha_15.vtu: [WinError 2] The system cannot find the file specified: 'dataset/flows\\\\flow_Re_800000_alpha_15.vtu'\n",
      "Renamed flow_Re_800000_alpha_16.vtu to configuration_285.vtu\n",
      "Error renaming flow_Re_800000_alpha_16.vtu: [WinError 2] The system cannot find the file specified: 'dataset/flows\\\\flow_Re_800000_alpha_16.vtu'\n",
      "Renamed flow_Re_800000_alpha_17.vtu to configuration_286.vtu\n",
      "Error renaming flow_Re_800000_alpha_17.vtu: [WinError 2] The system cannot find the file specified: 'dataset/flows\\\\flow_Re_800000_alpha_17.vtu'\n",
      "Renamed flow_Re_800000_alpha_18.vtu to configuration_287.vtu\n",
      "Error renaming flow_Re_800000_alpha_18.vtu: [WinError 2] The system cannot find the file specified: 'dataset/flows\\\\flow_Re_800000_alpha_18.vtu'\n",
      "Renamed flow_Re_800000_alpha_19.vtu to configuration_288.vtu\n",
      "Error renaming flow_Re_800000_alpha_19.vtu: [WinError 2] The system cannot find the file specified: 'dataset/flows\\\\flow_Re_800000_alpha_19.vtu'\n",
      "Renamed flow_Re_800000_alpha_20.vtu to configuration_289.vtu\n",
      "Error renaming flow_Re_800000_alpha_20.vtu: [WinError 2] The system cannot find the file specified: 'dataset/flows\\\\flow_Re_800000_alpha_20.vtu'\n",
      "Renamed flow_Re_850000_alpha_0.vtu to configuration_290.vtu\n",
      "Error renaming flow_Re_850000_alpha_0.vtu: [WinError 2] The system cannot find the file specified: 'dataset/flows\\\\flow_Re_850000_alpha_0.vtu'\n",
      "Renamed flow_Re_850000_alpha_1.vtu to configuration_291.vtu\n",
      "Error renaming flow_Re_850000_alpha_1.vtu: [WinError 2] The system cannot find the file specified: 'dataset/flows\\\\flow_Re_850000_alpha_1.vtu'\n",
      "Renamed flow_Re_850000_alpha_2.vtu to configuration_292.vtu\n",
      "Error renaming flow_Re_850000_alpha_2.vtu: [WinError 2] The system cannot find the file specified: 'dataset/flows\\\\flow_Re_850000_alpha_2.vtu'\n",
      "Renamed flow_Re_850000_alpha_3.vtu to configuration_293.vtu\n",
      "Error renaming flow_Re_850000_alpha_3.vtu: [WinError 2] The system cannot find the file specified: 'dataset/flows\\\\flow_Re_850000_alpha_3.vtu'\n",
      "Renamed flow_Re_850000_alpha_4.vtu to configuration_294.vtu\n",
      "Error renaming flow_Re_850000_alpha_4.vtu: [WinError 2] The system cannot find the file specified: 'dataset/flows\\\\flow_Re_850000_alpha_4.vtu'\n",
      "Renamed flow_Re_850000_alpha_5.vtu to configuration_295.vtu\n",
      "Error renaming flow_Re_850000_alpha_5.vtu: [WinError 2] The system cannot find the file specified: 'dataset/flows\\\\flow_Re_850000_alpha_5.vtu'\n",
      "Renamed flow_Re_850000_alpha_6.vtu to configuration_296.vtu\n",
      "Error renaming flow_Re_850000_alpha_6.vtu: [WinError 2] The system cannot find the file specified: 'dataset/flows\\\\flow_Re_850000_alpha_6.vtu'\n",
      "Renamed flow_Re_850000_alpha_7.vtu to configuration_297.vtu\n",
      "Error renaming flow_Re_850000_alpha_7.vtu: [WinError 2] The system cannot find the file specified: 'dataset/flows\\\\flow_Re_850000_alpha_7.vtu'\n",
      "Renamed flow_Re_850000_alpha_8.vtu to configuration_298.vtu\n",
      "Error renaming flow_Re_850000_alpha_8.vtu: [WinError 2] The system cannot find the file specified: 'dataset/flows\\\\flow_Re_850000_alpha_8.vtu'\n",
      "Renamed flow_Re_850000_alpha_9.vtu to configuration_299.vtu\n",
      "Error renaming flow_Re_850000_alpha_9.vtu: [WinError 2] The system cannot find the file specified: 'dataset/flows\\\\flow_Re_850000_alpha_9.vtu'\n",
      "Renamed flow_Re_850000_alpha_10.vtu to configuration_300.vtu\n",
      "Error renaming flow_Re_850000_alpha_10.vtu: [WinError 2] The system cannot find the file specified: 'dataset/flows\\\\flow_Re_850000_alpha_10.vtu'\n",
      "Renamed flow_Re_850000_alpha_11.vtu to configuration_301.vtu\n",
      "Error renaming flow_Re_850000_alpha_11.vtu: [WinError 2] The system cannot find the file specified: 'dataset/flows\\\\flow_Re_850000_alpha_11.vtu'\n",
      "Renamed flow_Re_850000_alpha_12.vtu to configuration_302.vtu\n",
      "Error renaming flow_Re_850000_alpha_12.vtu: [WinError 2] The system cannot find the file specified: 'dataset/flows\\\\flow_Re_850000_alpha_12.vtu'\n",
      "Renamed flow_Re_850000_alpha_13.vtu to configuration_303.vtu\n",
      "Error renaming flow_Re_850000_alpha_13.vtu: [WinError 2] The system cannot find the file specified: 'dataset/flows\\\\flow_Re_850000_alpha_13.vtu'\n",
      "Renamed flow_Re_850000_alpha_14.vtu to configuration_304.vtu\n",
      "Error renaming flow_Re_850000_alpha_14.vtu: [WinError 2] The system cannot find the file specified: 'dataset/flows\\\\flow_Re_850000_alpha_14.vtu'\n",
      "Renamed flow_Re_850000_alpha_15.vtu to configuration_305.vtu\n",
      "Error renaming flow_Re_850000_alpha_15.vtu: [WinError 2] The system cannot find the file specified: 'dataset/flows\\\\flow_Re_850000_alpha_15.vtu'\n",
      "Renamed flow_Re_850000_alpha_16.vtu to configuration_306.vtu\n",
      "Error renaming flow_Re_850000_alpha_16.vtu: [WinError 2] The system cannot find the file specified: 'dataset/flows\\\\flow_Re_850000_alpha_16.vtu'\n",
      "Renamed flow_Re_850000_alpha_17.vtu to configuration_307.vtu\n",
      "Error renaming flow_Re_850000_alpha_17.vtu: [WinError 2] The system cannot find the file specified: 'dataset/flows\\\\flow_Re_850000_alpha_17.vtu'\n",
      "Renamed flow_Re_850000_alpha_19.vtu to configuration_308.vtu\n",
      "Error renaming flow_Re_850000_alpha_19.vtu: [WinError 2] The system cannot find the file specified: 'dataset/flows\\\\flow_Re_850000_alpha_19.vtu'\n",
      "Renamed flow_Re_850000_alpha_20.vtu to configuration_309.vtu\n",
      "Error renaming flow_Re_850000_alpha_20.vtu: [WinError 2] The system cannot find the file specified: 'dataset/flows\\\\flow_Re_850000_alpha_20.vtu'\n",
      "Renamed flow_Re_900000_alpha_1.vtu to configuration_310.vtu\n",
      "Error renaming flow_Re_900000_alpha_1.vtu: [WinError 2] The system cannot find the file specified: 'dataset/flows\\\\flow_Re_900000_alpha_1.vtu'\n",
      "Renamed flow_Re_900000_alpha_2.vtu to configuration_311.vtu\n",
      "Error renaming flow_Re_900000_alpha_2.vtu: [WinError 2] The system cannot find the file specified: 'dataset/flows\\\\flow_Re_900000_alpha_2.vtu'\n",
      "Renamed flow_Re_900000_alpha_3.vtu to configuration_312.vtu\n",
      "Error renaming flow_Re_900000_alpha_3.vtu: [WinError 2] The system cannot find the file specified: 'dataset/flows\\\\flow_Re_900000_alpha_3.vtu'\n",
      "Renamed flow_Re_900000_alpha_4.vtu to configuration_313.vtu\n",
      "Error renaming flow_Re_900000_alpha_4.vtu: [WinError 2] The system cannot find the file specified: 'dataset/flows\\\\flow_Re_900000_alpha_4.vtu'\n",
      "Renamed flow_Re_900000_alpha_5.vtu to configuration_314.vtu\n",
      "Error renaming flow_Re_900000_alpha_5.vtu: [WinError 2] The system cannot find the file specified: 'dataset/flows\\\\flow_Re_900000_alpha_5.vtu'\n",
      "Renamed flow_Re_900000_alpha_6.vtu to configuration_315.vtu\n",
      "Error renaming flow_Re_900000_alpha_6.vtu: [WinError 2] The system cannot find the file specified: 'dataset/flows\\\\flow_Re_900000_alpha_6.vtu'\n",
      "Renamed flow_Re_900000_alpha_7.vtu to configuration_316.vtu\n",
      "Error renaming flow_Re_900000_alpha_7.vtu: [WinError 2] The system cannot find the file specified: 'dataset/flows\\\\flow_Re_900000_alpha_7.vtu'\n",
      "Renamed flow_Re_900000_alpha_8.vtu to configuration_317.vtu\n",
      "Error renaming flow_Re_900000_alpha_8.vtu: [WinError 2] The system cannot find the file specified: 'dataset/flows\\\\flow_Re_900000_alpha_8.vtu'\n",
      "Renamed flow_Re_900000_alpha_11.vtu to configuration_318.vtu\n",
      "Error renaming flow_Re_900000_alpha_11.vtu: [WinError 2] The system cannot find the file specified: 'dataset/flows\\\\flow_Re_900000_alpha_11.vtu'\n",
      "Renamed flow_Re_900000_alpha_12.vtu to configuration_319.vtu\n",
      "Error renaming flow_Re_900000_alpha_12.vtu: [WinError 2] The system cannot find the file specified: 'dataset/flows\\\\flow_Re_900000_alpha_12.vtu'\n",
      "Renamed flow_Re_900000_alpha_13.vtu to configuration_320.vtu\n",
      "Error renaming flow_Re_900000_alpha_13.vtu: [WinError 2] The system cannot find the file specified: 'dataset/flows\\\\flow_Re_900000_alpha_13.vtu'\n",
      "Renamed flow_Re_900000_alpha_14.vtu to configuration_321.vtu\n",
      "Error renaming flow_Re_900000_alpha_14.vtu: [WinError 2] The system cannot find the file specified: 'dataset/flows\\\\flow_Re_900000_alpha_14.vtu'\n",
      "Renamed flow_Re_900000_alpha_16.vtu to configuration_322.vtu\n",
      "Error renaming flow_Re_900000_alpha_16.vtu: [WinError 2] The system cannot find the file specified: 'dataset/flows\\\\flow_Re_900000_alpha_16.vtu'\n",
      "Renamed flow_Re_900000_alpha_18.vtu to configuration_323.vtu\n",
      "Error renaming flow_Re_900000_alpha_18.vtu: [WinError 2] The system cannot find the file specified: 'dataset/flows\\\\flow_Re_900000_alpha_18.vtu'\n",
      "Renamed flow_Re_900000_alpha_19.vtu to configuration_324.vtu\n",
      "Error renaming flow_Re_900000_alpha_19.vtu: [WinError 2] The system cannot find the file specified: 'dataset/flows\\\\flow_Re_900000_alpha_19.vtu'\n",
      "Renamed flow_Re_900000_alpha_20.vtu to configuration_325.vtu\n",
      "Error renaming flow_Re_900000_alpha_20.vtu: [WinError 2] The system cannot find the file specified: 'dataset/flows\\\\flow_Re_900000_alpha_20.vtu'\n",
      "Renamed flow_Re_950000_alpha_0.vtu to configuration_326.vtu\n",
      "Error renaming flow_Re_950000_alpha_0.vtu: [WinError 2] The system cannot find the file specified: 'dataset/flows\\\\flow_Re_950000_alpha_0.vtu'\n",
      "Renamed flow_Re_950000_alpha_2.vtu to configuration_327.vtu\n",
      "Error renaming flow_Re_950000_alpha_2.vtu: [WinError 2] The system cannot find the file specified: 'dataset/flows\\\\flow_Re_950000_alpha_2.vtu'\n",
      "Renamed flow_Re_950000_alpha_3.vtu to configuration_328.vtu\n",
      "Error renaming flow_Re_950000_alpha_3.vtu: [WinError 2] The system cannot find the file specified: 'dataset/flows\\\\flow_Re_950000_alpha_3.vtu'\n",
      "Renamed flow_Re_950000_alpha_4.vtu to configuration_329.vtu\n",
      "Error renaming flow_Re_950000_alpha_4.vtu: [WinError 2] The system cannot find the file specified: 'dataset/flows\\\\flow_Re_950000_alpha_4.vtu'\n",
      "Renamed flow_Re_950000_alpha_5.vtu to configuration_330.vtu\n",
      "Error renaming flow_Re_950000_alpha_5.vtu: [WinError 2] The system cannot find the file specified: 'dataset/flows\\\\flow_Re_950000_alpha_5.vtu'\n",
      "Renamed flow_Re_950000_alpha_7.vtu to configuration_331.vtu\n",
      "Error renaming flow_Re_950000_alpha_7.vtu: [WinError 2] The system cannot find the file specified: 'dataset/flows\\\\flow_Re_950000_alpha_7.vtu'\n",
      "Renamed flow_Re_950000_alpha_8.vtu to configuration_332.vtu\n",
      "Error renaming flow_Re_950000_alpha_8.vtu: [WinError 2] The system cannot find the file specified: 'dataset/flows\\\\flow_Re_950000_alpha_8.vtu'\n",
      "Renamed flow_Re_950000_alpha_9.vtu to configuration_333.vtu\n",
      "Error renaming flow_Re_950000_alpha_9.vtu: [WinError 2] The system cannot find the file specified: 'dataset/flows\\\\flow_Re_950000_alpha_9.vtu'\n",
      "Renamed flow_Re_950000_alpha_10.vtu to configuration_334.vtu\n",
      "Error renaming flow_Re_950000_alpha_10.vtu: [WinError 2] The system cannot find the file specified: 'dataset/flows\\\\flow_Re_950000_alpha_10.vtu'\n",
      "Renamed flow_Re_950000_alpha_11.vtu to configuration_335.vtu\n",
      "Error renaming flow_Re_950000_alpha_11.vtu: [WinError 2] The system cannot find the file specified: 'dataset/flows\\\\flow_Re_950000_alpha_11.vtu'\n",
      "Renamed flow_Re_950000_alpha_12.vtu to configuration_336.vtu\n",
      "Error renaming flow_Re_950000_alpha_12.vtu: [WinError 2] The system cannot find the file specified: 'dataset/flows\\\\flow_Re_950000_alpha_12.vtu'\n",
      "Renamed flow_Re_950000_alpha_14.vtu to configuration_337.vtu\n",
      "Error renaming flow_Re_950000_alpha_14.vtu: [WinError 2] The system cannot find the file specified: 'dataset/flows\\\\flow_Re_950000_alpha_14.vtu'\n",
      "Renamed flow_Re_950000_alpha_15.vtu to configuration_338.vtu\n",
      "Error renaming flow_Re_950000_alpha_15.vtu: [WinError 2] The system cannot find the file specified: 'dataset/flows\\\\flow_Re_950000_alpha_15.vtu'\n",
      "Renamed flow_Re_950000_alpha_17.vtu to configuration_339.vtu\n",
      "Error renaming flow_Re_950000_alpha_17.vtu: [WinError 2] The system cannot find the file specified: 'dataset/flows\\\\flow_Re_950000_alpha_17.vtu'\n",
      "Renamed flow_Re_950000_alpha_18.vtu to configuration_340.vtu\n",
      "Error renaming flow_Re_950000_alpha_18.vtu: [WinError 2] The system cannot find the file specified: 'dataset/flows\\\\flow_Re_950000_alpha_18.vtu'\n",
      "Renamed flow_Re_950000_alpha_19.vtu to configuration_341.vtu\n",
      "Error renaming flow_Re_950000_alpha_19.vtu: [WinError 2] The system cannot find the file specified: 'dataset/flows\\\\flow_Re_950000_alpha_19.vtu'\n",
      "Renamed flow_Re_950000_alpha_20.vtu to configuration_342.vtu\n",
      "Error renaming flow_Re_950000_alpha_20.vtu: [WinError 2] The system cannot find the file specified: 'dataset/flows\\\\flow_Re_950000_alpha_20.vtu'\n",
      "Renamed flow_Re_1000000_alpha_0.vtu to configuration_343.vtu\n",
      "Error renaming flow_Re_1000000_alpha_0.vtu: [WinError 2] The system cannot find the file specified: 'dataset/flows\\\\flow_Re_1000000_alpha_0.vtu'\n",
      "Renamed flow_Re_1000000_alpha_1.vtu to configuration_344.vtu\n",
      "Error renaming flow_Re_1000000_alpha_1.vtu: [WinError 2] The system cannot find the file specified: 'dataset/flows\\\\flow_Re_1000000_alpha_1.vtu'\n",
      "Renamed flow_Re_1000000_alpha_3.vtu to configuration_345.vtu\n",
      "Error renaming flow_Re_1000000_alpha_3.vtu: [WinError 2] The system cannot find the file specified: 'dataset/flows\\\\flow_Re_1000000_alpha_3.vtu'\n",
      "Renamed flow_Re_1000000_alpha_6.vtu to configuration_346.vtu\n",
      "Error renaming flow_Re_1000000_alpha_6.vtu: [WinError 2] The system cannot find the file specified: 'dataset/flows\\\\flow_Re_1000000_alpha_6.vtu'\n",
      "Renamed flow_Re_1000000_alpha_7.vtu to configuration_347.vtu\n",
      "Error renaming flow_Re_1000000_alpha_7.vtu: [WinError 2] The system cannot find the file specified: 'dataset/flows\\\\flow_Re_1000000_alpha_7.vtu'\n",
      "Renamed flow_Re_1000000_alpha_8.vtu to configuration_348.vtu\n",
      "Error renaming flow_Re_1000000_alpha_8.vtu: [WinError 2] The system cannot find the file specified: 'dataset/flows\\\\flow_Re_1000000_alpha_8.vtu'\n",
      "Renamed flow_Re_1000000_alpha_9.vtu to configuration_349.vtu\n",
      "Error renaming flow_Re_1000000_alpha_9.vtu: [WinError 2] The system cannot find the file specified: 'dataset/flows\\\\flow_Re_1000000_alpha_9.vtu'\n",
      "Renamed flow_Re_1000000_alpha_10.vtu to configuration_350.vtu\n",
      "Error renaming flow_Re_1000000_alpha_10.vtu: [WinError 2] The system cannot find the file specified: 'dataset/flows\\\\flow_Re_1000000_alpha_10.vtu'\n",
      "Renamed flow_Re_1000000_alpha_12.vtu to configuration_351.vtu\n",
      "Error renaming flow_Re_1000000_alpha_12.vtu: [WinError 2] The system cannot find the file specified: 'dataset/flows\\\\flow_Re_1000000_alpha_12.vtu'\n",
      "Renamed flow_Re_1000000_alpha_13.vtu to configuration_352.vtu\n",
      "Error renaming flow_Re_1000000_alpha_13.vtu: [WinError 2] The system cannot find the file specified: 'dataset/flows\\\\flow_Re_1000000_alpha_13.vtu'\n",
      "Renamed flow_Re_1000000_alpha_14.vtu to configuration_353.vtu\n",
      "Error renaming flow_Re_1000000_alpha_14.vtu: [WinError 2] The system cannot find the file specified: 'dataset/flows\\\\flow_Re_1000000_alpha_14.vtu'\n",
      "Renamed flow_Re_1000000_alpha_15.vtu to configuration_354.vtu\n",
      "Error renaming flow_Re_1000000_alpha_15.vtu: [WinError 2] The system cannot find the file specified: 'dataset/flows\\\\flow_Re_1000000_alpha_15.vtu'\n",
      "Renamed flow_Re_1000000_alpha_16.vtu to configuration_355.vtu\n",
      "Error renaming flow_Re_1000000_alpha_16.vtu: [WinError 2] The system cannot find the file specified: 'dataset/flows\\\\flow_Re_1000000_alpha_16.vtu'\n",
      "Renamed flow_Re_1000000_alpha_17.vtu to configuration_356.vtu\n",
      "Error renaming flow_Re_1000000_alpha_17.vtu: [WinError 2] The system cannot find the file specified: 'dataset/flows\\\\flow_Re_1000000_alpha_17.vtu'\n",
      "Renamed flow_Re_1000000_alpha_18.vtu to configuration_357.vtu\n",
      "Error renaming flow_Re_1000000_alpha_18.vtu: [WinError 2] The system cannot find the file specified: 'dataset/flows\\\\flow_Re_1000000_alpha_18.vtu'\n",
      "Renamed flow_Re_1000000_alpha_19.vtu to configuration_358.vtu\n",
      "Error renaming flow_Re_1000000_alpha_19.vtu: [WinError 2] The system cannot find the file specified: 'dataset/flows\\\\flow_Re_1000000_alpha_19.vtu'\n"
     ]
    },
    {
     "data": {
      "text/plain": [
       "['configuration_1.vtu',\n",
       " 'configuration_2.vtu',\n",
       " 'configuration_3.vtu',\n",
       " 'configuration_4.vtu',\n",
       " 'configuration_5.vtu',\n",
       " 'configuration_6.vtu',\n",
       " 'configuration_7.vtu',\n",
       " 'configuration_8.vtu',\n",
       " 'configuration_9.vtu',\n",
       " 'configuration_10.vtu',\n",
       " 'configuration_11.vtu',\n",
       " 'configuration_12.vtu',\n",
       " 'configuration_13.vtu',\n",
       " 'configuration_14.vtu',\n",
       " 'configuration_15.vtu',\n",
       " 'configuration_16.vtu',\n",
       " 'configuration_17.vtu',\n",
       " 'configuration_18.vtu',\n",
       " 'configuration_19.vtu',\n",
       " 'configuration_20.vtu',\n",
       " 'configuration_21.vtu',\n",
       " 'configuration_22.vtu',\n",
       " 'configuration_23.vtu',\n",
       " 'configuration_24.vtu',\n",
       " 'configuration_25.vtu',\n",
       " 'configuration_26.vtu',\n",
       " 'configuration_27.vtu',\n",
       " 'configuration_28.vtu',\n",
       " 'configuration_29.vtu',\n",
       " 'configuration_30.vtu',\n",
       " 'configuration_31.vtu',\n",
       " 'configuration_32.vtu',\n",
       " 'configuration_33.vtu',\n",
       " 'configuration_34.vtu',\n",
       " 'configuration_35.vtu',\n",
       " 'configuration_36.vtu',\n",
       " 'configuration_37.vtu',\n",
       " 'configuration_38.vtu',\n",
       " 'configuration_39.vtu',\n",
       " 'configuration_40.vtu',\n",
       " 'configuration_41.vtu',\n",
       " 'configuration_42.vtu',\n",
       " 'configuration_43.vtu',\n",
       " 'configuration_44.vtu',\n",
       " 'configuration_45.vtu',\n",
       " 'configuration_46.vtu',\n",
       " 'configuration_47.vtu',\n",
       " 'configuration_48.vtu',\n",
       " 'configuration_49.vtu',\n",
       " 'configuration_50.vtu',\n",
       " 'configuration_51.vtu',\n",
       " 'configuration_52.vtu',\n",
       " 'configuration_53.vtu',\n",
       " 'configuration_54.vtu',\n",
       " 'configuration_55.vtu',\n",
       " 'configuration_56.vtu',\n",
       " 'configuration_57.vtu',\n",
       " 'configuration_58.vtu',\n",
       " 'configuration_59.vtu',\n",
       " 'configuration_60.vtu',\n",
       " 'configuration_61.vtu',\n",
       " 'configuration_62.vtu',\n",
       " 'configuration_63.vtu',\n",
       " 'configuration_64.vtu',\n",
       " 'configuration_65.vtu',\n",
       " 'configuration_66.vtu',\n",
       " 'configuration_67.vtu',\n",
       " 'configuration_68.vtu',\n",
       " 'configuration_69.vtu',\n",
       " 'configuration_70.vtu',\n",
       " 'configuration_71.vtu',\n",
       " 'configuration_72.vtu',\n",
       " 'configuration_73.vtu',\n",
       " 'configuration_74.vtu',\n",
       " 'configuration_75.vtu',\n",
       " 'configuration_76.vtu',\n",
       " 'configuration_77.vtu',\n",
       " 'configuration_78.vtu',\n",
       " 'configuration_79.vtu',\n",
       " 'configuration_80.vtu',\n",
       " 'configuration_81.vtu',\n",
       " 'configuration_82.vtu',\n",
       " 'configuration_83.vtu',\n",
       " 'configuration_84.vtu',\n",
       " 'configuration_85.vtu',\n",
       " 'configuration_86.vtu',\n",
       " 'configuration_87.vtu',\n",
       " 'configuration_88.vtu',\n",
       " 'configuration_89.vtu',\n",
       " 'configuration_90.vtu',\n",
       " 'configuration_91.vtu',\n",
       " 'configuration_92.vtu',\n",
       " 'configuration_93.vtu',\n",
       " 'configuration_94.vtu',\n",
       " 'configuration_95.vtu',\n",
       " 'configuration_96.vtu',\n",
       " 'configuration_97.vtu',\n",
       " 'configuration_98.vtu',\n",
       " 'configuration_99.vtu',\n",
       " 'configuration_100.vtu',\n",
       " 'configuration_101.vtu',\n",
       " 'configuration_102.vtu',\n",
       " 'configuration_103.vtu',\n",
       " 'configuration_104.vtu',\n",
       " 'configuration_105.vtu',\n",
       " 'configuration_106.vtu',\n",
       " 'configuration_107.vtu',\n",
       " 'configuration_108.vtu',\n",
       " 'configuration_109.vtu',\n",
       " 'configuration_110.vtu',\n",
       " 'configuration_111.vtu',\n",
       " 'configuration_112.vtu',\n",
       " 'configuration_113.vtu',\n",
       " 'configuration_114.vtu',\n",
       " 'configuration_115.vtu',\n",
       " 'configuration_116.vtu',\n",
       " 'configuration_117.vtu',\n",
       " 'configuration_118.vtu',\n",
       " 'configuration_119.vtu',\n",
       " 'configuration_120.vtu',\n",
       " 'configuration_121.vtu',\n",
       " 'configuration_122.vtu',\n",
       " 'configuration_123.vtu',\n",
       " 'configuration_124.vtu',\n",
       " 'configuration_125.vtu',\n",
       " 'configuration_126.vtu',\n",
       " 'configuration_127.vtu',\n",
       " 'configuration_128.vtu',\n",
       " 'configuration_129.vtu',\n",
       " 'configuration_130.vtu',\n",
       " 'configuration_131.vtu',\n",
       " 'configuration_132.vtu',\n",
       " 'configuration_133.vtu',\n",
       " 'configuration_134.vtu',\n",
       " 'configuration_135.vtu',\n",
       " 'configuration_136.vtu',\n",
       " 'configuration_137.vtu',\n",
       " 'configuration_138.vtu',\n",
       " 'configuration_139.vtu',\n",
       " 'configuration_140.vtu',\n",
       " 'configuration_141.vtu',\n",
       " 'configuration_142.vtu',\n",
       " 'configuration_143.vtu',\n",
       " 'configuration_144.vtu',\n",
       " 'configuration_145.vtu',\n",
       " 'configuration_146.vtu',\n",
       " 'configuration_147.vtu',\n",
       " 'configuration_148.vtu',\n",
       " 'configuration_149.vtu',\n",
       " 'configuration_150.vtu',\n",
       " 'configuration_151.vtu',\n",
       " 'configuration_152.vtu',\n",
       " 'configuration_153.vtu',\n",
       " 'configuration_154.vtu',\n",
       " 'configuration_155.vtu',\n",
       " 'configuration_156.vtu',\n",
       " 'configuration_157.vtu',\n",
       " 'configuration_158.vtu',\n",
       " 'configuration_159.vtu',\n",
       " 'configuration_160.vtu',\n",
       " 'configuration_161.vtu',\n",
       " 'configuration_162.vtu',\n",
       " 'configuration_163.vtu',\n",
       " 'configuration_164.vtu',\n",
       " 'configuration_165.vtu',\n",
       " 'configuration_166.vtu',\n",
       " 'configuration_167.vtu',\n",
       " 'configuration_168.vtu',\n",
       " 'configuration_169.vtu',\n",
       " 'configuration_170.vtu',\n",
       " 'configuration_171.vtu',\n",
       " 'configuration_172.vtu',\n",
       " 'configuration_173.vtu',\n",
       " 'configuration_174.vtu',\n",
       " 'configuration_175.vtu',\n",
       " 'configuration_176.vtu',\n",
       " 'configuration_177.vtu',\n",
       " 'configuration_178.vtu',\n",
       " 'configuration_179.vtu',\n",
       " 'configuration_180.vtu',\n",
       " 'configuration_181.vtu',\n",
       " 'configuration_182.vtu',\n",
       " 'configuration_183.vtu',\n",
       " 'configuration_184.vtu',\n",
       " 'configuration_185.vtu',\n",
       " 'configuration_186.vtu',\n",
       " 'configuration_187.vtu',\n",
       " 'configuration_188.vtu',\n",
       " 'configuration_189.vtu',\n",
       " 'configuration_190.vtu',\n",
       " 'configuration_191.vtu',\n",
       " 'configuration_192.vtu',\n",
       " 'configuration_193.vtu',\n",
       " 'configuration_194.vtu',\n",
       " 'configuration_195.vtu',\n",
       " 'configuration_196.vtu',\n",
       " 'configuration_197.vtu',\n",
       " 'configuration_198.vtu',\n",
       " 'configuration_199.vtu',\n",
       " 'configuration_200.vtu',\n",
       " 'configuration_201.vtu',\n",
       " 'configuration_202.vtu',\n",
       " 'configuration_203.vtu',\n",
       " 'configuration_204.vtu',\n",
       " 'configuration_205.vtu',\n",
       " 'configuration_206.vtu',\n",
       " 'configuration_207.vtu',\n",
       " 'configuration_208.vtu',\n",
       " 'configuration_209.vtu',\n",
       " 'configuration_210.vtu',\n",
       " 'configuration_211.vtu',\n",
       " 'configuration_212.vtu',\n",
       " 'configuration_213.vtu',\n",
       " 'configuration_214.vtu',\n",
       " 'configuration_215.vtu',\n",
       " 'configuration_216.vtu',\n",
       " 'configuration_217.vtu',\n",
       " 'configuration_218.vtu',\n",
       " 'configuration_219.vtu',\n",
       " 'configuration_220.vtu',\n",
       " 'configuration_221.vtu',\n",
       " 'configuration_222.vtu',\n",
       " 'configuration_223.vtu',\n",
       " 'configuration_224.vtu',\n",
       " 'configuration_225.vtu',\n",
       " 'configuration_226.vtu',\n",
       " 'configuration_227.vtu',\n",
       " 'configuration_228.vtu',\n",
       " 'configuration_229.vtu',\n",
       " 'configuration_230.vtu',\n",
       " 'configuration_231.vtu',\n",
       " 'configuration_232.vtu',\n",
       " 'configuration_233.vtu',\n",
       " 'configuration_234.vtu',\n",
       " 'configuration_235.vtu',\n",
       " 'configuration_236.vtu',\n",
       " 'configuration_237.vtu',\n",
       " 'configuration_238.vtu',\n",
       " 'configuration_239.vtu',\n",
       " 'configuration_240.vtu',\n",
       " 'configuration_241.vtu',\n",
       " 'configuration_242.vtu',\n",
       " 'configuration_243.vtu',\n",
       " 'configuration_244.vtu',\n",
       " 'configuration_245.vtu',\n",
       " 'configuration_246.vtu',\n",
       " 'configuration_247.vtu',\n",
       " 'configuration_248.vtu',\n",
       " 'configuration_249.vtu',\n",
       " 'configuration_250.vtu',\n",
       " 'configuration_251.vtu',\n",
       " 'configuration_252.vtu',\n",
       " 'configuration_253.vtu',\n",
       " 'configuration_254.vtu',\n",
       " 'configuration_255.vtu',\n",
       " 'configuration_256.vtu',\n",
       " 'configuration_257.vtu',\n",
       " 'configuration_258.vtu',\n",
       " 'configuration_259.vtu',\n",
       " 'configuration_260.vtu',\n",
       " 'configuration_261.vtu',\n",
       " 'configuration_262.vtu',\n",
       " 'configuration_263.vtu',\n",
       " 'configuration_264.vtu',\n",
       " 'configuration_265.vtu',\n",
       " 'configuration_266.vtu',\n",
       " 'configuration_267.vtu',\n",
       " 'configuration_268.vtu',\n",
       " 'configuration_269.vtu',\n",
       " 'configuration_270.vtu',\n",
       " 'configuration_271.vtu',\n",
       " 'configuration_272.vtu',\n",
       " 'configuration_273.vtu',\n",
       " 'configuration_274.vtu',\n",
       " 'configuration_275.vtu',\n",
       " 'configuration_276.vtu',\n",
       " 'configuration_277.vtu',\n",
       " 'configuration_278.vtu',\n",
       " 'configuration_279.vtu',\n",
       " 'configuration_280.vtu',\n",
       " 'configuration_281.vtu',\n",
       " 'configuration_282.vtu',\n",
       " 'configuration_283.vtu',\n",
       " 'configuration_284.vtu',\n",
       " 'configuration_285.vtu',\n",
       " 'configuration_286.vtu',\n",
       " 'configuration_287.vtu',\n",
       " 'configuration_288.vtu',\n",
       " 'configuration_289.vtu',\n",
       " 'configuration_290.vtu',\n",
       " 'configuration_291.vtu',\n",
       " 'configuration_292.vtu',\n",
       " 'configuration_293.vtu',\n",
       " 'configuration_294.vtu',\n",
       " 'configuration_295.vtu',\n",
       " 'configuration_296.vtu',\n",
       " 'configuration_297.vtu',\n",
       " 'configuration_298.vtu',\n",
       " 'configuration_299.vtu',\n",
       " 'configuration_300.vtu',\n",
       " 'configuration_301.vtu',\n",
       " 'configuration_302.vtu',\n",
       " 'configuration_303.vtu',\n",
       " 'configuration_304.vtu',\n",
       " 'configuration_305.vtu',\n",
       " 'configuration_306.vtu',\n",
       " 'configuration_307.vtu',\n",
       " 'configuration_308.vtu',\n",
       " 'configuration_309.vtu',\n",
       " 'configuration_310.vtu',\n",
       " 'configuration_311.vtu',\n",
       " 'configuration_312.vtu',\n",
       " 'configuration_313.vtu',\n",
       " 'configuration_314.vtu',\n",
       " 'configuration_315.vtu',\n",
       " 'configuration_316.vtu',\n",
       " 'configuration_317.vtu',\n",
       " 'configuration_318.vtu',\n",
       " 'configuration_319.vtu',\n",
       " 'configuration_320.vtu',\n",
       " 'configuration_321.vtu',\n",
       " 'configuration_322.vtu',\n",
       " 'configuration_323.vtu',\n",
       " 'configuration_324.vtu',\n",
       " 'configuration_325.vtu',\n",
       " 'configuration_326.vtu',\n",
       " 'configuration_327.vtu',\n",
       " 'configuration_328.vtu',\n",
       " 'configuration_329.vtu',\n",
       " 'configuration_330.vtu',\n",
       " 'configuration_331.vtu',\n",
       " 'configuration_332.vtu',\n",
       " 'configuration_333.vtu',\n",
       " 'configuration_334.vtu',\n",
       " 'configuration_335.vtu',\n",
       " 'configuration_336.vtu',\n",
       " 'configuration_337.vtu',\n",
       " 'configuration_338.vtu',\n",
       " 'configuration_339.vtu',\n",
       " 'configuration_340.vtu',\n",
       " 'configuration_341.vtu',\n",
       " 'configuration_342.vtu',\n",
       " 'configuration_343.vtu',\n",
       " 'configuration_344.vtu',\n",
       " 'configuration_345.vtu',\n",
       " 'configuration_346.vtu',\n",
       " 'configuration_347.vtu',\n",
       " 'configuration_348.vtu',\n",
       " 'configuration_349.vtu',\n",
       " 'configuration_350.vtu',\n",
       " 'configuration_351.vtu',\n",
       " 'configuration_352.vtu',\n",
       " 'configuration_353.vtu',\n",
       " 'configuration_354.vtu',\n",
       " 'configuration_355.vtu',\n",
       " 'configuration_356.vtu',\n",
       " 'configuration_357.vtu',\n",
       " 'configuration_358.vtu']"
      ]
     },
     "execution_count": 3,
     "metadata": {},
     "output_type": "execute_result"
    }
   ],
   "source": [
    "rename_vtu_files(sorted_vtu_files, vtu_dir)"
   ]
  },
  {
   "cell_type": "code",
   "execution_count": 4,
   "metadata": {},
   "outputs": [
    {
     "data": {
      "text/plain": [
       "358"
      ]
     },
     "execution_count": 4,
     "metadata": {},
     "output_type": "execute_result"
    }
   ],
   "source": [
    "trajectory_numbers = len(sorted_vtu_files)\n",
    "trajectory_numbers"
   ]
  },
  {
   "cell_type": "code",
   "execution_count": 15,
   "metadata": {},
   "outputs": [
    {
     "ename": "NameError",
     "evalue": "name 'vtu_files' is not defined",
     "output_type": "error",
     "traceback": [
      "\u001b[31m---------------------------------------------------------------------------\u001b[39m",
      "\u001b[31mNameError\u001b[39m                                 Traceback (most recent call last)",
      "\u001b[36mCell\u001b[39m\u001b[36m \u001b[39m\u001b[32mIn[15]\u001b[39m\u001b[32m, line 1\u001b[39m\n\u001b[32m----> \u001b[39m\u001b[32m1\u001b[39m \u001b[43mvtu_files\u001b[49m\n",
      "\u001b[31mNameError\u001b[39m: name 'vtu_files' is not defined"
     ]
    }
   ],
   "source": [
    "vtu_files"
   ]
  },
  {
   "cell_type": "code",
   "execution_count": 18,
   "metadata": {},
   "outputs": [
    {
     "data": {
      "text/html": [
       "<table style='width: 100%;'><tr><th>Header</th><th>Data Arrays</th></tr><tr><td>\n",
       "<table style='width: 100%;'>\n",
       "<tr><th>UnstructuredGrid</th><th>Information</th></tr>\n",
       "<tr><td>N Cells</td><td>14336</td></tr>\n",
       "<tr><td>N Points</td><td>14576</td></tr>\n",
       "<tr><td>X Bounds</td><td>-4.845e+02, 5.010e+02</td></tr>\n",
       "<tr><td>Y Bounds</td><td>-5.078e+02, 5.078e+02</td></tr>\n",
       "<tr><td>Z Bounds</td><td>0.000e+00, 0.000e+00</td></tr>\n",
       "<tr><td>N Arrays</td><td>12</td></tr>\n",
       "</table>\n",
       "\n",
       "</td><td>\n",
       "<table style='width: 100%;'>\n",
       "<tr><th>Name</th><th>Field</th><th>Type</th><th>N Comp</th><th>Min</th><th>Max</th></tr>\n",
       "<tr><td>Pressure</td><td>Points</td><td>float32</td><td>1</td><td>-2.064e-01</td><td>5.075e-01</td></tr>\n",
       "<tr><td>Velocity</td><td>Points</td><td>float32</td><td>3</td><td>-5.904e-01</td><td>1.188e+00</td></tr>\n",
       "<tr><td>Nu_Tilde</td><td>Points</td><td>float32</td><td>1</td><td>0.000e+00</td><td>1.753e-04</td></tr>\n",
       "<tr><td>Pressure_Coefficient</td><td>Points</td><td>float32</td><td>1</td><td>-4.128e-01</td><td>1.015e+00</td></tr>\n",
       "<tr><td>Density</td><td>Points</td><td>float32</td><td>1</td><td>1.000e+00</td><td>1.000e+00</td></tr>\n",
       "<tr><td>Laminar_Viscosity</td><td>Points</td><td>float32</td><td>1</td><td>1.000e-05</td><td>1.000e-05</td></tr>\n",
       "<tr><td>Heat_Capacity</td><td>Points</td><td>float32</td><td>1</td><td>3.831e+05</td><td>3.831e+05</td></tr>\n",
       "<tr><td>Thermal_Conductivity</td><td>Points</td><td>float32</td><td>1</td><td>5.321e+00</td><td>7.527e+01</td></tr>\n",
       "<tr><td>Skin_Friction_Coefficient</td><td>Points</td><td>float32</td><td>3</td><td>-3.005e-02</td><td>3.005e-02</td></tr>\n",
       "<tr><td>Heat_Flux</td><td>Points</td><td>float32</td><td>1</td><td>0.000e+00</td><td>0.000e+00</td></tr>\n",
       "<tr><td>Y_Plus</td><td>Points</td><td>float32</td><td>1</td><td>0.000e+00</td><td>1.185e-01</td></tr>\n",
       "<tr><td>Eddy_Viscosity</td><td>Points</td><td>float32</td><td>1</td><td>0.000e+00</td><td>1.643e-04</td></tr>\n",
       "</table>\n",
       "\n",
       "</td></tr> </table>"
      ],
      "text/plain": [
       "UnstructuredGrid (0x24a81a0b760)\n",
       "  N Cells:    14336\n",
       "  N Points:   14576\n",
       "  X Bounds:   -4.845e+02, 5.010e+02\n",
       "  Y Bounds:   -5.078e+02, 5.078e+02\n",
       "  Z Bounds:   0.000e+00, 0.000e+00\n",
       "  N Arrays:   12"
      ]
     },
     "execution_count": 18,
     "metadata": {},
     "output_type": "execute_result"
    }
   ],
   "source": [
    "# read one of the vtu file\n",
    "new_vtu_files = os.listdir(vtu_dir)\n",
    "vtu_file = os.path.join(vtu_dir, new_vtu_files[0])\n",
    "grid = pv.UnstructuredGrid(vtu_file)\n",
    "grid"
   ]
  },
  {
   "cell_type": "code",
   "execution_count": 6,
   "metadata": {},
   "outputs": [
    {
     "data": {
      "text/plain": [
       "(14576,)"
      ]
     },
     "execution_count": 6,
     "metadata": {},
     "output_type": "execute_result"
    }
   ],
   "source": [
    "pressure = np.array(grid['Pressure'], dtype=np.float32)\n",
    "pressure.shape"
   ]
  },
  {
   "cell_type": "code",
   "execution_count": 14,
   "metadata": {},
   "outputs": [
    {
     "name": "stderr",
     "output_type": "stream",
     "text": [
      "c:\\Users\\lab_aeroComp\\anaconda3\\envs\\arvi-env\\Lib\\site-packages\\pyvista\\jupyter\\notebook.py:36: UserWarning: Failed to use notebook backend: \n",
      "\n",
      "No module named 'trame'\n",
      "\n",
      "Falling back to a static output.\n",
      "  warnings.warn(\n"
     ]
    },
    {
     "data": {
      "image/jpeg": "[encoded data removed]",
      "image/png": "[encoded data removed]",
      "text/plain": [
       "<PIL.Image.Image image mode=RGB size=1024x768>"
      ]
     },
     "metadata": {},
     "output_type": "display_data"
    }
   ],
   "source": [
    "plotter = pv.Plotter()\n",
    "plotter.add_mesh(grid, scalars=\"Pressure\", cmap='coolwarm', show_edges=False)\n",
    "plotter.view_xy()  # Set view to 2D (top-down)\n",
    "plotter.show_grid()\n",
    "plotter.show()"
   ]
  },
  {
   "cell_type": "code",
   "execution_count": 7,
   "metadata": {},
   "outputs": [
    {
     "data": {
      "text/plain": [
       "(14576, 3)"
      ]
     },
     "execution_count": 7,
     "metadata": {},
     "output_type": "execute_result"
    }
   ],
   "source": [
    "velo = np.array(grid['Velocity'], dtype=np.float32)\n",
    "velo.shape"
   ]
  },
  {
   "cell_type": "code",
   "execution_count": 8,
   "metadata": {},
   "outputs": [],
   "source": [
    "test = np.concat([velo[:, :2], pressure[:, None]], axis=1)"
   ]
  },
  {
   "cell_type": "code",
   "execution_count": 9,
   "metadata": {},
   "outputs": [
    {
     "data": {
      "text/plain": [
       "(14576, 3)"
      ]
     },
     "execution_count": 9,
     "metadata": {},
     "output_type": "execute_result"
    }
   ],
   "source": [
    "test.shape"
   ]
  },
  {
   "cell_type": "code",
   "execution_count": 3,
   "metadata": {},
   "outputs": [
    {
     "ename": "KeyError",
     "evalue": "\"Index (['Velocity', 'Pressure']) not understood. Index must be a string name or a tuple of string name and string preference.\"",
     "output_type": "error",
     "traceback": [
      "\u001b[31m---------------------------------------------------------------------------\u001b[39m",
      "\u001b[31mKeyError\u001b[39m                                  Traceback (most recent call last)",
      "\u001b[36mCell\u001b[39m\u001b[36m \u001b[39m\u001b[32mIn[3]\u001b[39m\u001b[32m, line 1\u001b[39m\n\u001b[32m----> \u001b[39m\u001b[32m1\u001b[39m \u001b[43mgrid\u001b[49m\u001b[43m[\u001b[49m\u001b[43m[\u001b[49m\u001b[33;43m'\u001b[39;49m\u001b[33;43mVelocity\u001b[39;49m\u001b[33;43m'\u001b[39;49m\u001b[43m,\u001b[49m\u001b[43m \u001b[49m\u001b[33;43m'\u001b[39;49m\u001b[33;43mPressure\u001b[39;49m\u001b[33;43m'\u001b[39;49m\u001b[43m]\u001b[49m\u001b[43m]\u001b[49m\n",
      "\u001b[36mFile \u001b[39m\u001b[32mc:\\Users\\lab_aeroComp\\anaconda3\\envs\\arvi-env\\Lib\\site-packages\\pyvista\\core\\dataset.py:1485\u001b[39m, in \u001b[36mDataSet.__getitem__\u001b[39m\u001b[34m(self, index)\u001b[39m\n\u001b[32m   1480\u001b[39m \u001b[38;5;28;01melse\u001b[39;00m:\n\u001b[32m   1481\u001b[39m     msg = (  \u001b[38;5;66;03m# type: ignore[unreachable]\u001b[39;00m\n\u001b[32m   1482\u001b[39m         \u001b[33mf\u001b[39m\u001b[33m'\u001b[39m\u001b[33mIndex (\u001b[39m\u001b[38;5;132;01m{\u001b[39;00mindex\u001b[38;5;132;01m}\u001b[39;00m\u001b[33m) not understood.\u001b[39m\u001b[33m'\u001b[39m\n\u001b[32m   1483\u001b[39m         \u001b[33m'\u001b[39m\u001b[33m Index must be a string name or a tuple of string name and string preference.\u001b[39m\u001b[33m'\u001b[39m\n\u001b[32m   1484\u001b[39m     )\n\u001b[32m-> \u001b[39m\u001b[32m1485\u001b[39m     \u001b[38;5;28;01mraise\u001b[39;00m \u001b[38;5;167;01mKeyError\u001b[39;00m(msg)\n\u001b[32m   1486\u001b[39m \u001b[38;5;28;01mreturn\u001b[39;00m \u001b[38;5;28mself\u001b[39m.get_array(name, preference=preference)\n",
      "\u001b[31mKeyError\u001b[39m: \"Index (['Velocity', 'Pressure']) not understood. Index must be a string name or a tuple of string name and string preference.\""
     ]
    }
   ],
   "source": [
    "grid[['Velocity', 'Pressure']]"
   ]
  },
  {
   "cell_type": "code",
   "execution_count": 14,
   "metadata": {},
   "outputs": [
    {
     "data": {
      "text/plain": [
       "(14576, 2)"
      ]
     },
     "execution_count": 14,
     "metadata": {},
     "output_type": "execute_result"
    }
   ],
   "source": [
    "# get the coordinates of the nodes\n",
    "coordinates = np.array(grid.points[:, 0:2], dtype=np.float32)\n",
    "coordinates[:,0:2].shape"
   ]
  },
  {
   "cell_type": "code",
   "execution_count": 6,
   "metadata": {},
   "outputs": [
    {
     "name": "stdout",
     "output_type": "stream",
     "text": [
      "Edge index shape: (2, 28911)\n",
      "\n",
      "First few edges:\n",
      "[[    1     2     2 ...  7331  7330  7107]\n",
      " [ 7332  7332  7331 ... 14575 14575 14574]]\n"
     ]
    }
   ],
   "source": [
    "# Get edges from grid\n",
    "edges = grid.extract_all_edges()\n",
    "edge_points = edges.lines.reshape(-1, 3)[1:] # Skip first element which is line count\n",
    "edge_index = edge_points[:,1:].reshape(2, -1) # Get pairs of connected points\n",
    "print(\"Edge index shape:\", edge_index.shape)\n",
    "print(\"\\nFirst few edges:\")\n",
    "print(edge_index.reshape(2, -1))"
   ]
  },
  {
   "cell_type": "code",
   "execution_count": 8,
   "metadata": {},
   "outputs": [
    {
     "data": {
      "text/plain": [
       "(14576, 3)"
      ]
     },
     "execution_count": 8,
     "metadata": {},
     "output_type": "execute_result"
    }
   ],
   "source": [
    "velocity = grid.point_data['Velocity']\n",
    "velocity.shape"
   ]
  },
  {
   "cell_type": "code",
   "execution_count": 9,
   "metadata": {},
   "outputs": [
    {
     "data": {
      "text/plain": [
       "pyvista_ndarray([0.99999994, 0.9999997 , 0.99999934, 0.9999993 ,\n",
       "                 0.9999999 , 1.000001  , 1.000001  , 0.99999624,\n",
       "                 0.99998134, 0.9999496 ], dtype=float32)"
      ]
     },
     "execution_count": 9,
     "metadata": {},
     "output_type": "execute_result"
    }
   ],
   "source": [
    "x_vel = velocity[:, 0]\n",
    "x_vel[:10]"
   ]
  },
  {
   "cell_type": "code",
   "execution_count": 23,
   "metadata": {},
   "outputs": [
    {
     "data": {
      "text/plain": [
       "39"
      ]
     },
     "execution_count": 23,
     "metadata": {},
     "output_type": "execute_result"
    }
   ],
   "source": [
    "trajectories_list = list(range(trajectory_numbers))\n",
    "train_trajectories, val_trajectories = split_dataset_trajectories(trajectories_list, 0.1)\n",
    "len(train_trajectories)\n",
    "# len(val_trajectories)"
   ]
  },
  {
   "cell_type": "code",
   "execution_count": 17,
   "metadata": {},
   "outputs": [
    {
     "data": {
      "text/plain": [
       "('configuration_1', '.vtu')"
      ]
     },
     "execution_count": 17,
     "metadata": {},
     "output_type": "execute_result"
    }
   ],
   "source": [
    "os.path.splitext(new_vtu_files[0])"
   ]
  },
  {
   "cell_type": "code",
   "execution_count": 21,
   "metadata": {},
   "outputs": [],
   "source": [
    "base_name = os.path.splitext(new_vtu_files[0])[0]\n",
    "traj_num_str = ''.join(filter(str.isdigit, base_name))"
   ]
  },
  {
   "cell_type": "code",
   "execution_count": 22,
   "metadata": {},
   "outputs": [
    {
     "data": {
      "text/plain": [
       "'1'"
      ]
     },
     "execution_count": 22,
     "metadata": {},
     "output_type": "execute_result"
    }
   ],
   "source": [
    "''.join(filter(str.isdigit, base_name))"
   ]
  },
  {
   "cell_type": "code",
   "execution_count": 23,
   "metadata": {},
   "outputs": [
    {
     "data": {
      "text/plain": [
       "'1'"
      ]
     },
     "execution_count": 23,
     "metadata": {},
     "output_type": "execute_result"
    }
   ],
   "source": [
    "traj_num_str"
   ]
  },
  {
   "cell_type": "markdown",
   "metadata": {},
   "source": [
    "## vtu to h5 transform"
   ]
  },
  {
   "cell_type": "code",
   "execution_count": 2,
   "metadata": {},
   "outputs": [
    {
     "name": "stdout",
     "output_type": "stream",
     "text": [
      "Pass 1: Reading all VTU files and extracting data...\n"
     ]
    },
    {
     "name": "stderr",
     "output_type": "stream",
     "text": [
      "Reading VTUs: 100%|██████████| 358/358 [00:03<00:00, 96.63it/s] \n"
     ]
    },
    {
     "name": "stdout",
     "output_type": "stream",
     "text": [
      "Fitting scaler on training data of shape: torch.Size([510160, 6])\n",
      "Scaler fitted. Applying to the entire dataset.\n",
      "Warning: Scaler is a list. Using first scaler for transformation.\n",
      "Scaler saved to dataset/renamed_h5_files\\scaler.pkl\n",
      "Writing training data to dataset/renamed_h5_files\\train.h5 (35 trajectories)\n"
     ]
    },
    {
     "name": "stderr",
     "output_type": "stream",
     "text": [
      "Writing train.h5:   3%|▎         | 1/35 [00:00<00:00, 251.25it/s]\n"
     ]
    },
    {
     "ename": "ValueError",
     "evalue": "Unable to synchronously create group (name already exists)",
     "output_type": "error",
     "traceback": [
      "\u001b[31m---------------------------------------------------------------------------\u001b[39m",
      "\u001b[31mValueError\u001b[39m                                Traceback (most recent call last)",
      "\u001b[36mCell\u001b[39m\u001b[36m \u001b[39m\u001b[32mIn[2]\u001b[39m\u001b[32m, line 1\u001b[39m\n\u001b[32m----> \u001b[39m\u001b[32m1\u001b[39m result = \u001b[43mvtu_to_h5\u001b[49m\u001b[43m(\u001b[49m\u001b[43mvtu_dir\u001b[49m\u001b[43m,\u001b[49m\u001b[43m \u001b[49m\u001b[43mh5_dir\u001b[49m\u001b[43m,\u001b[49m\u001b[43m \u001b[49m\n\u001b[32m      2\u001b[39m \u001b[43m          \u001b[49m\u001b[43mtrain_ratio\u001b[49m\u001b[43m=\u001b[49m\u001b[32;43m0.1\u001b[39;49m\u001b[43m,\u001b[49m\u001b[43m \u001b[49m\u001b[43moverwrite\u001b[49m\u001b[43m=\u001b[49m\u001b[38;5;28;43;01mTrue\u001b[39;49;00m\u001b[43m)\u001b[49m\n",
      "\u001b[36mFile \u001b[39m\u001b[32me:\\13621034 Muhammad Arviano Yuono\\STABLE\\GAE-ROM\\src\\data\\vtu_to_h5.py:269\u001b[39m, in \u001b[36mvtu_to_h5\u001b[39m\u001b[34m(vtu_file_directory, output_h5_dir, vtu_array_name, train_ratio, scaling_type, scaler_name, sorted_vtu_files, overwrite)\u001b[39m\n\u001b[32m    267\u001b[39m \u001b[38;5;66;03m# Write train H5 file\u001b[39;00m\n\u001b[32m    268\u001b[39m \u001b[38;5;28mprint\u001b[39m(\u001b[33mf\u001b[39m\u001b[33m\"\u001b[39m\u001b[33mWriting training data to \u001b[39m\u001b[38;5;132;01m{\u001b[39;00mtrain_h5_path\u001b[38;5;132;01m}\u001b[39;00m\u001b[33m (\u001b[39m\u001b[38;5;132;01m{\u001b[39;00m\u001b[38;5;28mlen\u001b[39m(train_traj_nums)\u001b[38;5;132;01m}\u001b[39;00m\u001b[33m trajectories)\u001b[39m\u001b[33m\"\u001b[39m)\n\u001b[32m--> \u001b[39m\u001b[32m269\u001b[39m \u001b[43mwrite_single_h5_file\u001b[49m\u001b[43m(\u001b[49m\u001b[43mtrain_h5_path\u001b[49m\u001b[43m,\u001b[49m\u001b[43m \u001b[49m\u001b[43mtrain_traj_nums\u001b[49m\u001b[43m,\u001b[49m\u001b[43m \u001b[49m\n\u001b[32m    270\u001b[39m \u001b[43m                     \u001b[49m\u001b[43mall_scaled_velocities_map\u001b[49m\u001b[43m,\u001b[49m\u001b[43m \u001b[49m\u001b[43mall_coordinates_map\u001b[49m\u001b[43m,\u001b[49m\u001b[43m \u001b[49m\u001b[43medge_index\u001b[49m\u001b[43m,\u001b[49m\u001b[43m \u001b[49m\u001b[43mflow_params_map\u001b[49m\u001b[43m)\u001b[49m\n\u001b[32m    272\u001b[39m \u001b[38;5;66;03m# Write validation H5 file\u001b[39;00m\n\u001b[32m    273\u001b[39m \u001b[38;5;28mprint\u001b[39m(\u001b[33mf\u001b[39m\u001b[33m\"\u001b[39m\u001b[33mWriting validation data to \u001b[39m\u001b[38;5;132;01m{\u001b[39;00mval_h5_path\u001b[38;5;132;01m}\u001b[39;00m\u001b[33m (\u001b[39m\u001b[38;5;132;01m{\u001b[39;00m\u001b[38;5;28mlen\u001b[39m(val_traj_nums)\u001b[38;5;132;01m}\u001b[39;00m\u001b[33m trajectories)\u001b[39m\u001b[33m\"\u001b[39m)\n",
      "\u001b[36mFile \u001b[39m\u001b[32me:\\13621034 Muhammad Arviano Yuono\\STABLE\\GAE-ROM\\src\\data\\vtu_to_h5.py:34\u001b[39m, in \u001b[36mwrite_single_h5_file\u001b[39m\u001b[34m(output_h5_path, trajectories_to_write, all_scaled_velocities_map, all_coordinates_map, edge_index, flow_params_map)\u001b[39m\n\u001b[32m     32\u001b[39m reynolds, alpha = flow_params_map[traj_num]\n\u001b[32m     33\u001b[39m group_name = \u001b[33mf\u001b[39m\u001b[33m'\u001b[39m\u001b[33mRe_\u001b[39m\u001b[38;5;132;01m{\u001b[39;00m\u001b[38;5;28mint\u001b[39m(reynolds)\u001b[38;5;132;01m}\u001b[39;00m\u001b[33m_alpha_\u001b[39m\u001b[38;5;132;01m{\u001b[39;00m\u001b[38;5;28mint\u001b[39m(alpha)\u001b[38;5;132;01m}\u001b[39;00m\u001b[33m'\u001b[39m\n\u001b[32m---> \u001b[39m\u001b[32m34\u001b[39m g = \u001b[43mf\u001b[49m\u001b[43m.\u001b[49m\u001b[43mcreate_group\u001b[49m\u001b[43m(\u001b[49m\u001b[43mgroup_name\u001b[49m\u001b[43m)\u001b[49m\n\u001b[32m     36\u001b[39m g[\u001b[33m'\u001b[39m\u001b[33mcoordinates\u001b[39m\u001b[33m'\u001b[39m] = all_coordinates_map[traj_num]\n\u001b[32m     37\u001b[39m \u001b[38;5;28;01mif\u001b[39;00m edge_index \u001b[38;5;129;01mis\u001b[39;00m \u001b[38;5;129;01mnot\u001b[39;00m \u001b[38;5;28;01mNone\u001b[39;00m:\n",
      "\u001b[36mFile \u001b[39m\u001b[32mc:\\Users\\lab_aeroComp\\anaconda3\\envs\\arvi-env\\Lib\\site-packages\\h5py\\_hl\\group.py:64\u001b[39m, in \u001b[36mGroup.create_group\u001b[39m\u001b[34m(self, name, track_order)\u001b[39m\n\u001b[32m     62\u001b[39m name, lcpl = \u001b[38;5;28mself\u001b[39m._e(name, lcpl=\u001b[38;5;28;01mTrue\u001b[39;00m)\n\u001b[32m     63\u001b[39m gcpl = Group._gcpl_crt_order \u001b[38;5;28;01mif\u001b[39;00m track_order \u001b[38;5;28;01melse\u001b[39;00m \u001b[38;5;28;01mNone\u001b[39;00m\n\u001b[32m---> \u001b[39m\u001b[32m64\u001b[39m gid = \u001b[43mh5g\u001b[49m\u001b[43m.\u001b[49m\u001b[43mcreate\u001b[49m\u001b[43m(\u001b[49m\u001b[38;5;28;43mself\u001b[39;49m\u001b[43m.\u001b[49m\u001b[43mid\u001b[49m\u001b[43m,\u001b[49m\u001b[43m \u001b[49m\u001b[43mname\u001b[49m\u001b[43m,\u001b[49m\u001b[43m \u001b[49m\u001b[43mlcpl\u001b[49m\u001b[43m=\u001b[49m\u001b[43mlcpl\u001b[49m\u001b[43m,\u001b[49m\u001b[43m \u001b[49m\u001b[43mgcpl\u001b[49m\u001b[43m=\u001b[49m\u001b[43mgcpl\u001b[49m\u001b[43m)\u001b[49m\n\u001b[32m     65\u001b[39m \u001b[38;5;28;01mreturn\u001b[39;00m Group(gid)\n",
      "\u001b[36mFile \u001b[39m\u001b[32mh5py/_objects.pyx:56\u001b[39m, in \u001b[36mh5py._objects.with_phil.wrapper\u001b[39m\u001b[34m()\u001b[39m\n",
      "\u001b[36mFile \u001b[39m\u001b[32mh5py/_objects.pyx:57\u001b[39m, in \u001b[36mh5py._objects.with_phil.wrapper\u001b[39m\u001b[34m()\u001b[39m\n",
      "\u001b[36mFile \u001b[39m\u001b[32mh5py/h5g.pyx:176\u001b[39m, in \u001b[36mh5py.h5g.create\u001b[39m\u001b[34m()\u001b[39m\n",
      "\u001b[31mValueError\u001b[39m: Unable to synchronously create group (name already exists)"
     ]
    }
   ],
   "source": [
    "result = vtu_to_h5(vtu_dir, h5_dir, \n",
    "          train_ratio=0.1, overwrite=True)"
   ]
  },
  {
   "cell_type": "markdown",
   "metadata": {},
   "source": [
    "## Test h5"
   ]
  },
  {
   "cell_type": "code",
   "execution_count": 3,
   "metadata": {},
   "outputs": [],
   "source": [
    "import h5py as h5\n",
    "import os\n",
    "from src.utils.commons import set_seed, get_config\n",
    "# config = get_config('configs/paper.yaml')['config']\n",
    "\n",
    "test_file = h5.File(os.path.join(h5_dir, 'train.h5'), 'r')\n"
   ]
  },
  {
   "cell_type": "code",
   "execution_count": 4,
   "metadata": {},
   "outputs": [],
   "source": [
    "file_keys = list(test_file.keys())\n",
    "file_length = len(file_keys)"
   ]
  },
  {
   "cell_type": "code",
   "execution_count": 5,
   "metadata": {},
   "outputs": [
    {
     "data": {
      "text/plain": [
       "['configuration_103',\n",
       " 'configuration_115',\n",
       " 'configuration_127',\n",
       " 'configuration_132',\n",
       " 'configuration_153',\n",
       " 'configuration_155',\n",
       " 'configuration_165',\n",
       " 'configuration_168',\n",
       " 'configuration_185',\n",
       " 'configuration_187',\n",
       " 'configuration_188',\n",
       " 'configuration_193',\n",
       " 'configuration_2',\n",
       " 'configuration_209',\n",
       " 'configuration_219',\n",
       " 'configuration_223',\n",
       " 'configuration_226',\n",
       " 'configuration_231',\n",
       " 'configuration_258',\n",
       " 'configuration_268',\n",
       " 'configuration_301',\n",
       " 'configuration_308',\n",
       " 'configuration_311',\n",
       " 'configuration_316',\n",
       " 'configuration_340',\n",
       " 'configuration_344',\n",
       " 'configuration_349',\n",
       " 'configuration_351',\n",
       " 'configuration_44',\n",
       " 'configuration_48',\n",
       " 'configuration_53',\n",
       " 'configuration_57',\n",
       " 'configuration_7',\n",
       " 'configuration_81',\n",
       " 'configuration_98']"
      ]
     },
     "execution_count": 5,
     "metadata": {},
     "output_type": "execute_result"
    }
   ],
   "source": [
    "file_keys"
   ]
  },
  {
   "cell_type": "code",
   "execution_count": 6,
   "metadata": {},
   "outputs": [],
   "source": [
    "test = test_file[file_keys[0]].keys()"
   ]
  },
  {
   "cell_type": "code",
   "execution_count": 7,
   "metadata": {},
   "outputs": [
    {
     "data": {
      "text/plain": [
       "<KeysViewHDF5 ['Cf', 'Cp', 'Pressure', 'Ux', 'Uy', 'coordinates', 'edge_index']>"
      ]
     },
     "execution_count": 7,
     "metadata": {},
     "output_type": "execute_result"
    }
   ],
   "source": [
    "test"
   ]
  },
  {
   "cell_type": "code",
   "execution_count": 4,
   "metadata": {},
   "outputs": [
    {
     "ename": "IndexError",
     "evalue": "list index out of range",
     "output_type": "error",
     "traceback": [
      "\u001b[1;31m---------------------------------------------------------------------------\u001b[0m",
      "\u001b[1;31mIndexError\u001b[0m                                Traceback (most recent call last)",
      "Cell \u001b[1;32mIn[4], line 1\u001b[0m\n\u001b[1;32m----> 1\u001b[0m \u001b[38;5;28msorted\u001b[39m([\u001b[38;5;28mint\u001b[39m(key\u001b[38;5;241m.\u001b[39msplit(\u001b[38;5;124m'\u001b[39m\u001b[38;5;124m_\u001b[39m\u001b[38;5;124m'\u001b[39m)[\u001b[38;5;241m1\u001b[39m]) \u001b[38;5;28;01mfor\u001b[39;00m key \u001b[38;5;129;01min\u001b[39;00m file_keys])\n",
      "Cell \u001b[1;32mIn[4], line 1\u001b[0m, in \u001b[0;36m<listcomp>\u001b[1;34m(.0)\u001b[0m\n\u001b[1;32m----> 1\u001b[0m \u001b[38;5;28msorted\u001b[39m([\u001b[38;5;28mint\u001b[39m(\u001b[43mkey\u001b[49m\u001b[38;5;241;43m.\u001b[39;49m\u001b[43msplit\u001b[49m\u001b[43m(\u001b[49m\u001b[38;5;124;43m'\u001b[39;49m\u001b[38;5;124;43m_\u001b[39;49m\u001b[38;5;124;43m'\u001b[39;49m\u001b[43m)\u001b[49m\u001b[43m[\u001b[49m\u001b[38;5;241;43m1\u001b[39;49m\u001b[43m]\u001b[49m) \u001b[38;5;28;01mfor\u001b[39;00m key \u001b[38;5;129;01min\u001b[39;00m file_keys])\n",
      "\u001b[1;31mIndexError\u001b[0m: list index out of range"
     ]
    }
   ],
   "source": [
    "sorted([int(key.split('_')[1]) for key in file_keys])"
   ]
  },
  {
   "cell_type": "code",
   "execution_count": 7,
   "metadata": {},
   "outputs": [
    {
     "name": "stdout",
     "output_type": "stream",
     "text": [
      "trajectory: configuration_119, var: Ux\n"
     ]
    },
    {
     "data": {
      "text/plain": [
       "array([[ 0.89853696],\n",
       "       [ 0.89853696],\n",
       "       [ 0.89853696],\n",
       "       ...,\n",
       "       [-0.60405632],\n",
       "       [-0.89698121],\n",
       "       [-0.01725416]])"
      ]
     },
     "execution_count": 7,
     "metadata": {},
     "output_type": "execute_result"
    }
   ],
   "source": [
    "index = 10\n",
    "trajectory = f'configuration_{train_trajectories[index]}'\n",
    "var = 'Ux'\n",
    "print(f\"trajectory: {trajectory}, var: {var}\")\n",
    "data_val[trajectory][var][:].reshape(len(data_val[trajectory][var][:]), -1)"
   ]
  },
  {
   "cell_type": "code",
   "execution_count": 22,
   "metadata": {},
   "outputs": [
    {
     "data": {
      "text/plain": [
       "(7786,)"
      ]
     },
     "execution_count": 22,
     "metadata": {},
     "output_type": "execute_result"
    }
   ],
   "source": [
    "import numpy as np\n",
    "edge_list = data_val['configuration_0']['edge_index'][:] - 1\n",
    "coordinates = data_val['configuration_0']['coordinates'][:]\n",
    "\n",
    "np.sqrt(np.sum(np.abs(coordinates[edge_list[0]] - coordinates[edge_list[1]])**2, axis=1)).shape\n"
   ]
  },
  {
   "cell_type": "code",
   "execution_count": null,
   "metadata": {},
   "outputs": [],
   "source": [
    "import scipy\n",
    "import torch\n",
    "mat_dir = 'dataset/gca_dataset/navier_stokes_unstructured.mat'\n",
    "data_mat = scipy.io.loadmat(mat_dir)\n",
    "variables = ['VX']"
   ]
  },
  {
   "cell_type": "code",
   "execution_count": 3,
   "metadata": {},
   "outputs": [
    {
     "data": {
      "text/plain": [
       "(7786, 2)"
      ]
     },
     "execution_count": 3,
     "metadata": {},
     "output_type": "execute_result"
    }
   ],
   "source": [
    "data_mat['E'].shape"
   ]
  },
  {
   "cell_type": "code",
   "execution_count": null,
   "metadata": {},
   "outputs": [
    {
     "data": {
      "text/plain": [
       "np.uint16(2718)"
      ]
     },
     "execution_count": 12,
     "metadata": {},
     "output_type": "execute_result"
    }
   ],
   "source": [
    "import numpy as np\n",
    "np.min(data_mat['E'].reshape(2,-1)[0,:] - 1)\n",
    "np.max(data_mat['E'].reshape(2,-1)[0,:] - 1)"
   ]
  },
  {
   "cell_type": "code",
   "execution_count": null,
   "metadata": {},
   "outputs": [],
   "source": [
    "all_velocities = torch.tensor(data_mat[variables[0]])"
   ]
  },
  {
   "cell_type": "code",
   "execution_count": null,
   "metadata": {},
   "outputs": [
    {
     "data": {
      "text/plain": [
       "torch.Size([341, 2719, 1])"
      ]
     },
     "execution_count": 33,
     "metadata": {},
     "output_type": "execute_result"
    }
   ],
   "source": [
    "from src.data import scaling\n",
    "\n",
    "scaled_vel = scaling.tensor_scaling(all_velocities, 4, 'standard')[1]\n",
    "scaled_vel.shape"
   ]
  },
  {
   "cell_type": "code",
   "execution_count": 34,
   "metadata": {},
   "outputs": [
    {
     "data": {
      "text/plain": [
       "torch.Size([2719, 341])"
      ]
     },
     "execution_count": 34,
     "metadata": {},
     "output_type": "execute_result"
    }
   ],
   "source": [
    "scaled_vel.reshape(all_velocities.shape[0], -1).shape"
   ]
  },
  {
   "cell_type": "code",
   "execution_count": 5,
   "metadata": {},
   "outputs": [
    {
     "data": {
      "text/plain": [
       "(7786, 2)"
      ]
     },
     "execution_count": 5,
     "metadata": {},
     "output_type": "execute_result"
    }
   ],
   "source": [
    "data_mat['E'].shape"
   ]
  },
  {
   "cell_type": "code",
   "execution_count": 7,
   "metadata": {},
   "outputs": [
    {
     "data": {
      "text/plain": [
       "True"
      ]
     },
     "execution_count": 7,
     "metadata": {},
     "output_type": "execute_result"
    }
   ],
   "source": [
    "'xx' in data_mat.keys()"
   ]
  },
  {
   "cell_type": "code",
   "execution_count": 6,
   "metadata": {},
   "outputs": [
    {
     "data": {
      "text/plain": [
       "(2719, 341)"
      ]
     },
     "execution_count": 6,
     "metadata": {},
     "output_type": "execute_result"
    }
   ],
   "source": [
    "data_mat['xx'].shape"
   ]
  },
  {
   "cell_type": "code",
   "execution_count": 7,
   "metadata": {},
   "outputs": [
    {
     "data": {
      "text/plain": [
       "(2719, 341)"
      ]
     },
     "execution_count": 7,
     "metadata": {},
     "output_type": "execute_result"
    }
   ],
   "source": [
    "data_mat['VX'].shape"
   ]
  },
  {
   "cell_type": "code",
   "execution_count": 6,
   "metadata": {},
   "outputs": [
    {
     "data": {
      "text/plain": [
       "(2719, 341)"
      ]
     },
     "execution_count": 6,
     "metadata": {},
     "output_type": "execute_result"
    }
   ],
   "source": [
    "data_mat['VX'].shape"
   ]
  },
  {
   "cell_type": "code",
   "execution_count": null,
   "metadata": {},
   "outputs": [],
   "source": [
    "from src.data.loader_paper import GraphDatasetPaper\n",
    "\n",
    "dataset = GraphDatasetPaper(config = config, split = 'train')"
   ]
  },
  {
   "cell_type": "code",
   "execution_count": 7,
   "metadata": {},
   "outputs": [
    {
     "name": "stderr",
     "output_type": "stream",
     "text": [
      "d:\\TA\\TA2\\GAE-ROM\\src\\data\\loader_paper.py:61: UserWarning: To copy construct from a tensor, it is recommended to use sourceTensor.detach().clone() or sourceTensor.detach().clone().requires_grad_(True), rather than torch.tensor(sourceTensor).\n",
      "  edge_attr = torch.tensor(self.edge_features, dtype=torch.float64),\n",
      "d:\\TA\\TA2\\GAE-ROM\\src\\data\\loader_paper.py:62: UserWarning: To copy construct from a tensor, it is recommended to use sourceTensor.detach().clone() or sourceTensor.detach().clone().requires_grad_(True), rather than torch.tensor(sourceTensor).\n",
      "  edge_weight = torch.tensor(self.edge_weights, dtype=torch.float64))\n"
     ]
    },
    {
     "data": {
      "text/plain": [
       "Data(x=[15677, 1], edge_index=[2, 46522], edge_attr=[46522, 2], pos=[15677, 2], edge_weight=[46522])"
      ]
     },
     "execution_count": 7,
     "metadata": {},
     "output_type": "execute_result"
    }
   ],
   "source": [
    "dataset[0]"
   ]
  },
  {
   "cell_type": "code",
   "execution_count": null,
   "metadata": {},
   "outputs": [],
   "source": [
    "# making the split just like the paper in preprocessing.py\n",
    "\n"
   ]
  },
  {
   "cell_type": "code",
   "execution_count": 2,
   "metadata": {},
   "outputs": [
    {
     "name": "stdout",
     "output_type": "stream",
     "text": [
      "dict_keys(['__header__', '__version__', '__globals__', 'E', 'P', 'T', 'VX', 'VY', 'dof', 'xx', 'yy'])\n"
     ]
    }
   ],
   "source": [
    "import scipy.io\n",
    "\n",
    "data_mat = scipy.io.loadmat(mat_dir)\n",
    "print(data_mat.keys())"
   ]
  },
  {
   "cell_type": "code",
   "execution_count": 4,
   "metadata": {},
   "outputs": [
    {
     "data": {
      "text/plain": [
       "341"
      ]
     },
     "execution_count": 4,
     "metadata": {},
     "output_type": "execute_result"
    }
   ],
   "source": [
    "data_mat['VX'].shape[1]\n",
    "# data_mat['VY'].shape\n",
    "# data_mat['E'].shape\n",
    "# data_mat['xx'].shape\n",
    "# data_mat['yy'].shape"
   ]
  },
  {
   "cell_type": "code",
   "execution_count": 7,
   "metadata": {},
   "outputs": [],
   "source": [
    "x_vel = data_mat['VX']\n",
    "edge_index = data_mat['E']"
   ]
  },
  {
   "cell_type": "code",
   "execution_count": 14,
   "metadata": {},
   "outputs": [
    {
     "data": {
      "text/plain": [
       "(2719,)"
      ]
     },
     "execution_count": 14,
     "metadata": {},
     "output_type": "execute_result"
    }
   ],
   "source": [
    "x_vel[:,2].shape"
   ]
  },
  {
   "cell_type": "code",
   "execution_count": 12,
   "metadata": {},
   "outputs": [
    {
     "data": {
      "text/plain": [
       "(2, 7786)"
      ]
     },
     "execution_count": 12,
     "metadata": {},
     "output_type": "execute_result"
    }
   ],
   "source": [
    "edge_index.reshape(2,-1)\n"
   ]
  },
  {
   "cell_type": "code",
   "execution_count": 7,
   "metadata": {},
   "outputs": [
    {
     "name": "stdout",
     "output_type": "stream",
     "text": [
      "[8.79881277e-24 0.00000000e+00 0.00000000e+00 ... 4.16588059e+00\n",
      " 4.16573888e+00 1.69209028e+01]\n"
     ]
    }
   ],
   "source": [
    "#load h5 file\n",
    "import h5py\n",
    "\n",
    "with h5py.File(h5_dir, 'r') as f:\n",
    "    print(f['configuration_0']['Ux'][:])"
   ]
  },
  {
   "cell_type": "code",
   "execution_count": 1,
   "metadata": {},
   "outputs": [],
   "source": [
    "import src.data.loader as loader\n",
    "\n",
    "root_dir = 'dataset/gca_dataset/navier_stokes_unstructured.mat'\n",
    "dim_pde = 2 # 2D or 3D\n",
    "variable = 'VX' # VX, VY, or [VX, VY]\n",
    "n_comp = 1 # 1 or 2 (for stokes, we see VX and VY separately)\n",
    "\n",
    "dataset = loader.LoadDatasetGCA(root_dir, variable, dim_pde, n_comp)"
   ]
  },
  {
   "cell_type": "code",
   "execution_count": 41,
   "metadata": {},
   "outputs": [
    {
     "data": {
      "text/plain": [
       "tensor([[10.0000,  0.0000],\n",
       "        [10.0000,  0.0000],\n",
       "        [10.0000,  0.0000],\n",
       "        ...,\n",
       "        [34.3148,  2.8706],\n",
       "        [29.7921,  6.6656],\n",
       "        [21.7647,  3.3555]], dtype=torch.float64)"
      ]
     },
     "execution_count": 41,
     "metadata": {},
     "output_type": "execute_result"
    }
   ],
   "source": [
    "# xx : x coordinates of the nodes\n",
    "# yy : y coordinates of the nodes\n",
    "# U : velocity field\n",
    "# E : edge index\n",
    "\n",
    "dataset.dim\n",
    "import numpy as np\n",
    "import torch\n",
    "# check if the x coordinates are the same for all the nodes, output only true or false\n",
    "pos = torch.cat((dataset.xx[:, 0].unsqueeze(1), dataset.yy[:, 0].unsqueeze(1)), 1)\n",
    "pos.shape\n",
    "torch.index_select(pos, 0, dataset.E[:, 0])\n",
    "# np.all(np.isclose(dataset.xx[:,0].numpy(), dataset.xx[:,150].numpy()))\n"
   ]
  },
  {
   "cell_type": "code",
   "execution_count": 52,
   "metadata": {},
   "outputs": [
    {
     "ename": "AttributeError",
     "evalue": "'LoadDatasetGCA' object has no attribute 'shape'",
     "output_type": "error",
     "traceback": [
      "\u001b[1;31m---------------------------------------------------------------------------\u001b[0m",
      "\u001b[1;31mAttributeError\u001b[0m                            Traceback (most recent call last)",
      "Cell \u001b[1;32mIn[52], line 1\u001b[0m\n\u001b[1;32m----> 1\u001b[0m \u001b[43mdataset\u001b[49m\u001b[38;5;241;43m.\u001b[39;49m\u001b[43mshape\u001b[49m\n",
      "\u001b[1;31mAttributeError\u001b[0m: 'LoadDatasetGCA' object has no attribute 'shape'"
     ]
    }
   ],
   "source": [
    "dataset."
   ]
  },
  {
   "cell_type": "code",
   "execution_count": 42,
   "metadata": {},
   "outputs": [],
   "source": [
    "import numpy as np\n",
    "mu1 = np.linspace(0.5, 2., 21)[::2]\n",
    "mu2 = np.linspace(2., 0.5, 151)[::5]\n",
    "mu_space = [mu1, mu2]"
   ]
  },
  {
   "cell_type": "code",
   "execution_count": 51,
   "metadata": {},
   "outputs": [
    {
     "name": "stdout",
     "output_type": "stream",
     "text": [
      "torch.Size([341, 2]) (11,) (31,)\n"
     ]
    },
    {
     "data": {
      "text/plain": [
       "tensor([[0.5000, 2.0000],\n",
       "        [0.5000, 1.9500],\n",
       "        [0.5000, 1.9000],\n",
       "        [0.5000, 1.8500],\n",
       "        [0.5000, 1.8000],\n",
       "        [0.5000, 1.7500],\n",
       "        [0.5000, 1.7000],\n",
       "        [0.5000, 1.6500],\n",
       "        [0.5000, 1.6000],\n",
       "        [0.5000, 1.5500],\n",
       "        [0.5000, 1.5000],\n",
       "        [0.5000, 1.4500],\n",
       "        [0.5000, 1.4000],\n",
       "        [0.5000, 1.3500],\n",
       "        [0.5000, 1.3000],\n",
       "        [0.5000, 1.2500],\n",
       "        [0.5000, 1.2000],\n",
       "        [0.5000, 1.1500],\n",
       "        [0.5000, 1.1000],\n",
       "        [0.5000, 1.0500],\n",
       "        [0.5000, 1.0000],\n",
       "        [0.5000, 0.9500],\n",
       "        [0.5000, 0.9000],\n",
       "        [0.5000, 0.8500],\n",
       "        [0.5000, 0.8000],\n",
       "        [0.5000, 0.7500],\n",
       "        [0.5000, 0.7000],\n",
       "        [0.5000, 0.6500],\n",
       "        [0.5000, 0.6000],\n",
       "        [0.5000, 0.5500],\n",
       "        [0.5000, 0.5000],\n",
       "        [0.6500, 2.0000],\n",
       "        [0.6500, 1.9500],\n",
       "        [0.6500, 1.9000],\n",
       "        [0.6500, 1.8500],\n",
       "        [0.6500, 1.8000],\n",
       "        [0.6500, 1.7500],\n",
       "        [0.6500, 1.7000],\n",
       "        [0.6500, 1.6500],\n",
       "        [0.6500, 1.6000],\n",
       "        [0.6500, 1.5500],\n",
       "        [0.6500, 1.5000],\n",
       "        [0.6500, 1.4500],\n",
       "        [0.6500, 1.4000],\n",
       "        [0.6500, 1.3500],\n",
       "        [0.6500, 1.3000],\n",
       "        [0.6500, 1.2500],\n",
       "        [0.6500, 1.2000],\n",
       "        [0.6500, 1.1500],\n",
       "        [0.6500, 1.1000],\n",
       "        [0.6500, 1.0500],\n",
       "        [0.6500, 1.0000],\n",
       "        [0.6500, 0.9500],\n",
       "        [0.6500, 0.9000],\n",
       "        [0.6500, 0.8500],\n",
       "        [0.6500, 0.8000],\n",
       "        [0.6500, 0.7500],\n",
       "        [0.6500, 0.7000],\n",
       "        [0.6500, 0.6500],\n",
       "        [0.6500, 0.6000],\n",
       "        [0.6500, 0.5500],\n",
       "        [0.6500, 0.5000],\n",
       "        [0.8000, 2.0000],\n",
       "        [0.8000, 1.9500],\n",
       "        [0.8000, 1.9000],\n",
       "        [0.8000, 1.8500],\n",
       "        [0.8000, 1.8000],\n",
       "        [0.8000, 1.7500],\n",
       "        [0.8000, 1.7000],\n",
       "        [0.8000, 1.6500],\n",
       "        [0.8000, 1.6000],\n",
       "        [0.8000, 1.5500],\n",
       "        [0.8000, 1.5000],\n",
       "        [0.8000, 1.4500],\n",
       "        [0.8000, 1.4000],\n",
       "        [0.8000, 1.3500],\n",
       "        [0.8000, 1.3000],\n",
       "        [0.8000, 1.2500],\n",
       "        [0.8000, 1.2000],\n",
       "        [0.8000, 1.1500],\n",
       "        [0.8000, 1.1000],\n",
       "        [0.8000, 1.0500],\n",
       "        [0.8000, 1.0000],\n",
       "        [0.8000, 0.9500],\n",
       "        [0.8000, 0.9000],\n",
       "        [0.8000, 0.8500],\n",
       "        [0.8000, 0.8000],\n",
       "        [0.8000, 0.7500],\n",
       "        [0.8000, 0.7000],\n",
       "        [0.8000, 0.6500],\n",
       "        [0.8000, 0.6000],\n",
       "        [0.8000, 0.5500],\n",
       "        [0.8000, 0.5000],\n",
       "        [0.9500, 2.0000],\n",
       "        [0.9500, 1.9500],\n",
       "        [0.9500, 1.9000],\n",
       "        [0.9500, 1.8500],\n",
       "        [0.9500, 1.8000],\n",
       "        [0.9500, 1.7500],\n",
       "        [0.9500, 1.7000],\n",
       "        [0.9500, 1.6500],\n",
       "        [0.9500, 1.6000],\n",
       "        [0.9500, 1.5500],\n",
       "        [0.9500, 1.5000],\n",
       "        [0.9500, 1.4500],\n",
       "        [0.9500, 1.4000],\n",
       "        [0.9500, 1.3500],\n",
       "        [0.9500, 1.3000],\n",
       "        [0.9500, 1.2500],\n",
       "        [0.9500, 1.2000],\n",
       "        [0.9500, 1.1500],\n",
       "        [0.9500, 1.1000],\n",
       "        [0.9500, 1.0500],\n",
       "        [0.9500, 1.0000],\n",
       "        [0.9500, 0.9500],\n",
       "        [0.9500, 0.9000],\n",
       "        [0.9500, 0.8500],\n",
       "        [0.9500, 0.8000],\n",
       "        [0.9500, 0.7500],\n",
       "        [0.9500, 0.7000],\n",
       "        [0.9500, 0.6500],\n",
       "        [0.9500, 0.6000],\n",
       "        [0.9500, 0.5500],\n",
       "        [0.9500, 0.5000],\n",
       "        [1.1000, 2.0000],\n",
       "        [1.1000, 1.9500],\n",
       "        [1.1000, 1.9000],\n",
       "        [1.1000, 1.8500],\n",
       "        [1.1000, 1.8000],\n",
       "        [1.1000, 1.7500],\n",
       "        [1.1000, 1.7000],\n",
       "        [1.1000, 1.6500],\n",
       "        [1.1000, 1.6000],\n",
       "        [1.1000, 1.5500],\n",
       "        [1.1000, 1.5000],\n",
       "        [1.1000, 1.4500],\n",
       "        [1.1000, 1.4000],\n",
       "        [1.1000, 1.3500],\n",
       "        [1.1000, 1.3000],\n",
       "        [1.1000, 1.2500],\n",
       "        [1.1000, 1.2000],\n",
       "        [1.1000, 1.1500],\n",
       "        [1.1000, 1.1000],\n",
       "        [1.1000, 1.0500],\n",
       "        [1.1000, 1.0000],\n",
       "        [1.1000, 0.9500],\n",
       "        [1.1000, 0.9000],\n",
       "        [1.1000, 0.8500],\n",
       "        [1.1000, 0.8000],\n",
       "        [1.1000, 0.7500],\n",
       "        [1.1000, 0.7000],\n",
       "        [1.1000, 0.6500],\n",
       "        [1.1000, 0.6000],\n",
       "        [1.1000, 0.5500],\n",
       "        [1.1000, 0.5000],\n",
       "        [1.2500, 2.0000],\n",
       "        [1.2500, 1.9500],\n",
       "        [1.2500, 1.9000],\n",
       "        [1.2500, 1.8500],\n",
       "        [1.2500, 1.8000],\n",
       "        [1.2500, 1.7500],\n",
       "        [1.2500, 1.7000],\n",
       "        [1.2500, 1.6500],\n",
       "        [1.2500, 1.6000],\n",
       "        [1.2500, 1.5500],\n",
       "        [1.2500, 1.5000],\n",
       "        [1.2500, 1.4500],\n",
       "        [1.2500, 1.4000],\n",
       "        [1.2500, 1.3500],\n",
       "        [1.2500, 1.3000],\n",
       "        [1.2500, 1.2500],\n",
       "        [1.2500, 1.2000],\n",
       "        [1.2500, 1.1500],\n",
       "        [1.2500, 1.1000],\n",
       "        [1.2500, 1.0500],\n",
       "        [1.2500, 1.0000],\n",
       "        [1.2500, 0.9500],\n",
       "        [1.2500, 0.9000],\n",
       "        [1.2500, 0.8500],\n",
       "        [1.2500, 0.8000],\n",
       "        [1.2500, 0.7500],\n",
       "        [1.2500, 0.7000],\n",
       "        [1.2500, 0.6500],\n",
       "        [1.2500, 0.6000],\n",
       "        [1.2500, 0.5500],\n",
       "        [1.2500, 0.5000],\n",
       "        [1.4000, 2.0000],\n",
       "        [1.4000, 1.9500],\n",
       "        [1.4000, 1.9000],\n",
       "        [1.4000, 1.8500],\n",
       "        [1.4000, 1.8000],\n",
       "        [1.4000, 1.7500],\n",
       "        [1.4000, 1.7000],\n",
       "        [1.4000, 1.6500],\n",
       "        [1.4000, 1.6000],\n",
       "        [1.4000, 1.5500],\n",
       "        [1.4000, 1.5000],\n",
       "        [1.4000, 1.4500],\n",
       "        [1.4000, 1.4000],\n",
       "        [1.4000, 1.3500],\n",
       "        [1.4000, 1.3000],\n",
       "        [1.4000, 1.2500],\n",
       "        [1.4000, 1.2000],\n",
       "        [1.4000, 1.1500],\n",
       "        [1.4000, 1.1000],\n",
       "        [1.4000, 1.0500],\n",
       "        [1.4000, 1.0000],\n",
       "        [1.4000, 0.9500],\n",
       "        [1.4000, 0.9000],\n",
       "        [1.4000, 0.8500],\n",
       "        [1.4000, 0.8000],\n",
       "        [1.4000, 0.7500],\n",
       "        [1.4000, 0.7000],\n",
       "        [1.4000, 0.6500],\n",
       "        [1.4000, 0.6000],\n",
       "        [1.4000, 0.5500],\n",
       "        [1.4000, 0.5000],\n",
       "        [1.5500, 2.0000],\n",
       "        [1.5500, 1.9500],\n",
       "        [1.5500, 1.9000],\n",
       "        [1.5500, 1.8500],\n",
       "        [1.5500, 1.8000],\n",
       "        [1.5500, 1.7500],\n",
       "        [1.5500, 1.7000],\n",
       "        [1.5500, 1.6500],\n",
       "        [1.5500, 1.6000],\n",
       "        [1.5500, 1.5500],\n",
       "        [1.5500, 1.5000],\n",
       "        [1.5500, 1.4500],\n",
       "        [1.5500, 1.4000],\n",
       "        [1.5500, 1.3500],\n",
       "        [1.5500, 1.3000],\n",
       "        [1.5500, 1.2500],\n",
       "        [1.5500, 1.2000],\n",
       "        [1.5500, 1.1500],\n",
       "        [1.5500, 1.1000],\n",
       "        [1.5500, 1.0500],\n",
       "        [1.5500, 1.0000],\n",
       "        [1.5500, 0.9500],\n",
       "        [1.5500, 0.9000],\n",
       "        [1.5500, 0.8500],\n",
       "        [1.5500, 0.8000],\n",
       "        [1.5500, 0.7500],\n",
       "        [1.5500, 0.7000],\n",
       "        [1.5500, 0.6500],\n",
       "        [1.5500, 0.6000],\n",
       "        [1.5500, 0.5500],\n",
       "        [1.5500, 0.5000],\n",
       "        [1.7000, 2.0000],\n",
       "        [1.7000, 1.9500],\n",
       "        [1.7000, 1.9000],\n",
       "        [1.7000, 1.8500],\n",
       "        [1.7000, 1.8000],\n",
       "        [1.7000, 1.7500],\n",
       "        [1.7000, 1.7000],\n",
       "        [1.7000, 1.6500],\n",
       "        [1.7000, 1.6000],\n",
       "        [1.7000, 1.5500],\n",
       "        [1.7000, 1.5000],\n",
       "        [1.7000, 1.4500],\n",
       "        [1.7000, 1.4000],\n",
       "        [1.7000, 1.3500],\n",
       "        [1.7000, 1.3000],\n",
       "        [1.7000, 1.2500],\n",
       "        [1.7000, 1.2000],\n",
       "        [1.7000, 1.1500],\n",
       "        [1.7000, 1.1000],\n",
       "        [1.7000, 1.0500],\n",
       "        [1.7000, 1.0000],\n",
       "        [1.7000, 0.9500],\n",
       "        [1.7000, 0.9000],\n",
       "        [1.7000, 0.8500],\n",
       "        [1.7000, 0.8000],\n",
       "        [1.7000, 0.7500],\n",
       "        [1.7000, 0.7000],\n",
       "        [1.7000, 0.6500],\n",
       "        [1.7000, 0.6000],\n",
       "        [1.7000, 0.5500],\n",
       "        [1.7000, 0.5000],\n",
       "        [1.8500, 2.0000],\n",
       "        [1.8500, 1.9500],\n",
       "        [1.8500, 1.9000],\n",
       "        [1.8500, 1.8500],\n",
       "        [1.8500, 1.8000],\n",
       "        [1.8500, 1.7500],\n",
       "        [1.8500, 1.7000],\n",
       "        [1.8500, 1.6500],\n",
       "        [1.8500, 1.6000],\n",
       "        [1.8500, 1.5500],\n",
       "        [1.8500, 1.5000],\n",
       "        [1.8500, 1.4500],\n",
       "        [1.8500, 1.4000],\n",
       "        [1.8500, 1.3500],\n",
       "        [1.8500, 1.3000],\n",
       "        [1.8500, 1.2500],\n",
       "        [1.8500, 1.2000],\n",
       "        [1.8500, 1.1500],\n",
       "        [1.8500, 1.1000],\n",
       "        [1.8500, 1.0500],\n",
       "        [1.8500, 1.0000],\n",
       "        [1.8500, 0.9500],\n",
       "        [1.8500, 0.9000],\n",
       "        [1.8500, 0.8500],\n",
       "        [1.8500, 0.8000],\n",
       "        [1.8500, 0.7500],\n",
       "        [1.8500, 0.7000],\n",
       "        [1.8500, 0.6500],\n",
       "        [1.8500, 0.6000],\n",
       "        [1.8500, 0.5500],\n",
       "        [1.8500, 0.5000],\n",
       "        [2.0000, 2.0000],\n",
       "        [2.0000, 1.9500],\n",
       "        [2.0000, 1.9000],\n",
       "        [2.0000, 1.8500],\n",
       "        [2.0000, 1.8000],\n",
       "        [2.0000, 1.7500],\n",
       "        [2.0000, 1.7000],\n",
       "        [2.0000, 1.6500],\n",
       "        [2.0000, 1.6000],\n",
       "        [2.0000, 1.5500],\n",
       "        [2.0000, 1.5000],\n",
       "        [2.0000, 1.4500],\n",
       "        [2.0000, 1.4000],\n",
       "        [2.0000, 1.3500],\n",
       "        [2.0000, 1.3000],\n",
       "        [2.0000, 1.2500],\n",
       "        [2.0000, 1.2000],\n",
       "        [2.0000, 1.1500],\n",
       "        [2.0000, 1.1000],\n",
       "        [2.0000, 1.0500],\n",
       "        [2.0000, 1.0000],\n",
       "        [2.0000, 0.9500],\n",
       "        [2.0000, 0.9000],\n",
       "        [2.0000, 0.8500],\n",
       "        [2.0000, 0.8000],\n",
       "        [2.0000, 0.7500],\n",
       "        [2.0000, 0.7000],\n",
       "        [2.0000, 0.6500],\n",
       "        [2.0000, 0.6000],\n",
       "        [2.0000, 0.5500],\n",
       "        [2.0000, 0.5000]], dtype=torch.float64)"
      ]
     },
     "execution_count": 51,
     "metadata": {},
     "output_type": "execute_result"
    }
   ],
   "source": [
    "from itertools import product\n",
    "params = torch.tensor(np.array(list(product(*mu_space))))\n",
    "print(params.shape, mu_space[0].shape, mu_space[1].shape)\n",
    "params"
   ]
  },
  {
   "cell_type": "markdown",
   "metadata": {},
   "source": [
    "# Loader"
   ]
  },
  {
   "cell_type": "code",
   "execution_count": 1,
   "metadata": {},
   "outputs": [],
   "source": [
    "import gc\n",
    "import numpy as np\n",
    "import torch\n",
    "from itertools import product\n",
    "from src.utils.commons import get_config, get_device, set_seed\n",
    "from src.model.gae import GAE\n",
    "from warnings import filterwarnings\n",
    "from torch_geometric.loader import DataLoader\n",
    "from src.training.train import train\n",
    "from src.data.loader_paper import GraphDatasetPaper\n",
    "from src.utils.commons import get_config\n",
    "\n",
    "filterwarnings('ignore')\n",
    "torch.cuda.empty_cache()\n",
    "gc.collect()\n",
    "\n",
    "config = get_config('configs/paper.yaml')\n",
    "set_seed(10)\n",
    "\n",
    "train_dataset = GraphDatasetPaper(config = config['config'], split = 'train')\n",
    "val_dataset = GraphDatasetPaper(config = config['config'], split = 'val')\n",
    "device = get_device()\n",
    "\n",
    "train_loader = DataLoader(dataset=train_dataset, \n",
    "                          batch_size=1, \n",
    "                          shuffle=False,\n",
    "                          num_workers=config['training']['num_workers'])\n",
    "\n",
    "val_loader = DataLoader(dataset=val_dataset, \n",
    "                        batch_size=config['training']['batch_size'], \n",
    "                        shuffle=False,\n",
    "                        num_workers=config['training']['num_workers'])\n",
    "\n",
    "mu1 = np.array([10e4, 15e4, 20e4, 25e4, 30e4, 35e4, 40e4, 45e4, 50e4, 55e4, 60e4, 65e4, 70e4, 75e4, 80e4, 85e4, 90e4, 95e4, 100e4])\n",
    "mu2 = np.array([0, 1, 2, 3, 4, 5, 6, 7, 8, 9, 10, 11, 12, 13, 14, 15, 16, 17, 18, 19, 20])\n",
    "mu_space = [mu1, mu2]\n",
    "params = torch.tensor(np.array(list(product(*mu_space))))\n",
    "params = params.to(device)\n",
    "\n",
    "num_graphs = train_dataset.num_graphs\n",
    "model = GAE(config, num_graphs).to(device)"
   ]
  },
  {
   "cell_type": "code",
   "execution_count": 2,
   "metadata": {},
   "outputs": [
    {
     "name": "stderr",
     "output_type": "stream",
     "text": [
      "  0%|          | 0/100 [00:00<?, ?it/s]\n"
     ]
    },
    {
     "ename": "RuntimeError",
     "evalue": "CUDA error: device-side assert triggered\nCUDA kernel errors might be asynchronously reported at some other API call, so the stacktrace below might be incorrect.\nFor debugging consider passing CUDA_LAUNCH_BLOCKING=1\nCompile with `TORCH_USE_CUDA_DSA` to enable device-side assertions.\n",
     "output_type": "error",
     "traceback": [
      "\u001b[1;31m---------------------------------------------------------------------------\u001b[0m",
      "\u001b[1;31mRuntimeError\u001b[0m                              Traceback (most recent call last)",
      "Cell \u001b[1;32mIn[2], line 1\u001b[0m\n\u001b[1;32m----> 1\u001b[0m history \u001b[38;5;241m=\u001b[39m \u001b[43mtrain\u001b[49m\u001b[43m(\u001b[49m\u001b[43mmodel\u001b[49m\u001b[43m \u001b[49m\u001b[38;5;241;43m=\u001b[39;49m\u001b[43m \u001b[49m\u001b[43mmodel\u001b[49m\u001b[43m,\u001b[49m\u001b[43m \u001b[49m\n\u001b[0;32m      2\u001b[0m \u001b[43m                \u001b[49m\u001b[43mdevice\u001b[49m\u001b[43m \u001b[49m\u001b[38;5;241;43m=\u001b[39;49m\u001b[43m \u001b[49m\u001b[43mdevice\u001b[49m\u001b[43m,\u001b[49m\u001b[43m \u001b[49m\n\u001b[0;32m      3\u001b[0m \u001b[43m                \u001b[49m\u001b[43mparams\u001b[49m\u001b[43m \u001b[49m\u001b[38;5;241;43m=\u001b[39;49m\u001b[43m \u001b[49m\u001b[43mparams\u001b[49m\u001b[43m,\u001b[49m\u001b[43m \u001b[49m\n\u001b[0;32m      4\u001b[0m \u001b[43m                \u001b[49m\u001b[43mtrain_loader\u001b[49m\u001b[43m \u001b[49m\u001b[38;5;241;43m=\u001b[39;49m\u001b[43m \u001b[49m\u001b[43mtrain_loader\u001b[49m\u001b[43m,\u001b[49m\u001b[43m \u001b[49m\n\u001b[0;32m      5\u001b[0m \u001b[43m                \u001b[49m\u001b[43mis_val\u001b[49m\u001b[43m \u001b[49m\u001b[38;5;241;43m=\u001b[39;49m\u001b[43m \u001b[49m\u001b[38;5;28;43;01mTrue\u001b[39;49;00m\u001b[43m,\u001b[49m\n\u001b[0;32m      6\u001b[0m \u001b[43m                \u001b[49m\u001b[43mval_loader\u001b[49m\u001b[43m \u001b[49m\u001b[38;5;241;43m=\u001b[39;49m\u001b[43m \u001b[49m\u001b[43mval_loader\u001b[49m\u001b[43m,\u001b[49m\u001b[43m \u001b[49m\n\u001b[0;32m      7\u001b[0m \u001b[43m                \u001b[49m\u001b[43msave_best_model\u001b[49m\u001b[38;5;241;43m=\u001b[39;49m\u001b[38;5;28;43;01mFalse\u001b[39;49;00m\u001b[43m,\u001b[49m\n\u001b[0;32m      8\u001b[0m \u001b[43m                \u001b[49m\u001b[43mconfig\u001b[49m\u001b[43m \u001b[49m\u001b[38;5;241;43m=\u001b[39;49m\u001b[43m \u001b[49m\u001b[43mconfig\u001b[49m\u001b[43m[\u001b[49m\u001b[38;5;124;43m'\u001b[39;49m\u001b[38;5;124;43mtraining\u001b[39;49m\u001b[38;5;124;43m'\u001b[39;49m\u001b[43m]\u001b[49m\u001b[43m)\u001b[49m\n",
      "File \u001b[1;32mc:\\Users\\User\\Desktop\\13621034_Arvi\\GAE-ROM\\src\\training\\train.py:134\u001b[0m, in \u001b[0;36mtrain\u001b[1;34m(model, device, params, train_loader, is_val, val_loader, is_tqdm, single_batch, save_best_model, config)\u001b[0m\n\u001b[0;32m    132\u001b[0m val_trajectories \u001b[38;5;241m=\u001b[39m val_loader\u001b[38;5;241m.\u001b[39mdataset\u001b[38;5;241m.\u001b[39mfile_index\n\u001b[0;32m    133\u001b[0m val_params \u001b[38;5;241m=\u001b[39m params[val_trajectories]\n\u001b[1;32m--> 134\u001b[0m loss_val \u001b[38;5;241m=\u001b[39m \u001b[43mval\u001b[49m\u001b[43m(\u001b[49m\u001b[43mmodel\u001b[49m\u001b[43m,\u001b[49m\u001b[43m \u001b[49m\u001b[43mdevice\u001b[49m\u001b[43m,\u001b[49m\u001b[43m \u001b[49m\u001b[43mval_params\u001b[49m\u001b[43m,\u001b[49m\u001b[43m \u001b[49m\u001b[43mval_loader\u001b[49m\u001b[43m)\u001b[49m\n\u001b[0;32m    135\u001b[0m train_history[\u001b[38;5;124m'\u001b[39m\u001b[38;5;124mval_loss\u001b[39m\u001b[38;5;124m'\u001b[39m]\u001b[38;5;241m.\u001b[39mappend(loss_val\u001b[38;5;241m.\u001b[39mitem())\n\u001b[0;32m    136\u001b[0m \u001b[38;5;66;03m# save best model\u001b[39;00m\n",
      "File \u001b[1;32mc:\\Users\\User\\Desktop\\13621034_Arvi\\GAE-ROM\\src\\training\\val.py:18\u001b[0m, in \u001b[0;36mval\u001b[1;34m(model, device, params, val_loader)\u001b[0m\n\u001b[0;32m     16\u001b[0m \u001b[38;5;28;01mwith\u001b[39;00m torch\u001b[38;5;241m.\u001b[39mno_grad():\n\u001b[0;32m     17\u001b[0m     \u001b[38;5;28;01mfor\u001b[39;00m batch \u001b[38;5;129;01min\u001b[39;00m val_loader:\n\u001b[1;32m---> 18\u001b[0m         batch \u001b[38;5;241m=\u001b[39m \u001b[43mbatch\u001b[49m\u001b[38;5;241;43m.\u001b[39;49m\u001b[43mto\u001b[49m\u001b[43m(\u001b[49m\u001b[43mdevice\u001b[49m\u001b[43m)\u001b[49m\n\u001b[0;32m     19\u001b[0m         target \u001b[38;5;241m=\u001b[39m batch\u001b[38;5;241m.\u001b[39mx\u001b[38;5;241m.\u001b[39mfloat()\n\u001b[0;32m     20\u001b[0m         batch\u001b[38;5;241m.\u001b[39mx \u001b[38;5;241m=\u001b[39m batch\u001b[38;5;241m.\u001b[39mx\u001b[38;5;241m.\u001b[39mfloat()\n",
      "File \u001b[1;32mc:\\Users\\User\\anaconda3\\envs\\arvi_gca_rom\\lib\\site-packages\\torch_geometric\\data\\data.py:362\u001b[0m, in \u001b[0;36mBaseData.to\u001b[1;34m(self, device, non_blocking, *args)\u001b[0m\n\u001b[0;32m    357\u001b[0m \u001b[38;5;28;01mdef\u001b[39;00m \u001b[38;5;21mto\u001b[39m(\u001b[38;5;28mself\u001b[39m, device: Union[\u001b[38;5;28mint\u001b[39m, \u001b[38;5;28mstr\u001b[39m], \u001b[38;5;241m*\u001b[39margs: \u001b[38;5;28mstr\u001b[39m,\n\u001b[0;32m    358\u001b[0m        non_blocking: \u001b[38;5;28mbool\u001b[39m \u001b[38;5;241m=\u001b[39m \u001b[38;5;28;01mFalse\u001b[39;00m):\n\u001b[0;32m    359\u001b[0m \u001b[38;5;250m    \u001b[39m\u001b[38;5;124mr\u001b[39m\u001b[38;5;124;03m\"\"\"Performs tensor device conversion, either for all attributes or\u001b[39;00m\n\u001b[0;32m    360\u001b[0m \u001b[38;5;124;03m    only the ones given in :obj:`*args`.\u001b[39;00m\n\u001b[0;32m    361\u001b[0m \u001b[38;5;124;03m    \"\"\"\u001b[39;00m\n\u001b[1;32m--> 362\u001b[0m     \u001b[38;5;28;01mreturn\u001b[39;00m \u001b[38;5;28;43mself\u001b[39;49m\u001b[38;5;241;43m.\u001b[39;49m\u001b[43mapply\u001b[49m\u001b[43m(\u001b[49m\n\u001b[0;32m    363\u001b[0m \u001b[43m        \u001b[49m\u001b[38;5;28;43;01mlambda\u001b[39;49;00m\u001b[43m \u001b[49m\u001b[43mx\u001b[49m\u001b[43m:\u001b[49m\u001b[43m \u001b[49m\u001b[43mx\u001b[49m\u001b[38;5;241;43m.\u001b[39;49m\u001b[43mto\u001b[49m\u001b[43m(\u001b[49m\u001b[43mdevice\u001b[49m\u001b[38;5;241;43m=\u001b[39;49m\u001b[43mdevice\u001b[49m\u001b[43m,\u001b[49m\u001b[43m \u001b[49m\u001b[43mnon_blocking\u001b[49m\u001b[38;5;241;43m=\u001b[39;49m\u001b[43mnon_blocking\u001b[49m\u001b[43m)\u001b[49m\u001b[43m,\u001b[49m\u001b[43m \u001b[49m\u001b[38;5;241;43m*\u001b[39;49m\u001b[43margs\u001b[49m\u001b[43m)\u001b[49m\n",
      "File \u001b[1;32mc:\\Users\\User\\anaconda3\\envs\\arvi_gca_rom\\lib\\site-packages\\torch_geometric\\data\\data.py:342\u001b[0m, in \u001b[0;36mBaseData.apply\u001b[1;34m(self, func, *args)\u001b[0m\n\u001b[0;32m    338\u001b[0m \u001b[38;5;250m\u001b[39m\u001b[38;5;124mr\u001b[39m\u001b[38;5;124;03m\"\"\"Applies the function :obj:`func`, either to all attributes or only\u001b[39;00m\n\u001b[0;32m    339\u001b[0m \u001b[38;5;124;03mthe ones given in :obj:`*args`.\u001b[39;00m\n\u001b[0;32m    340\u001b[0m \u001b[38;5;124;03m\"\"\"\u001b[39;00m\n\u001b[0;32m    341\u001b[0m \u001b[38;5;28;01mfor\u001b[39;00m store \u001b[38;5;129;01min\u001b[39;00m \u001b[38;5;28mself\u001b[39m\u001b[38;5;241m.\u001b[39mstores:\n\u001b[1;32m--> 342\u001b[0m     \u001b[43mstore\u001b[49m\u001b[38;5;241;43m.\u001b[39;49m\u001b[43mapply\u001b[49m\u001b[43m(\u001b[49m\u001b[43mfunc\u001b[49m\u001b[43m,\u001b[49m\u001b[43m \u001b[49m\u001b[38;5;241;43m*\u001b[39;49m\u001b[43margs\u001b[49m\u001b[43m)\u001b[49m\n\u001b[0;32m    343\u001b[0m \u001b[38;5;28;01mreturn\u001b[39;00m \u001b[38;5;28mself\u001b[39m\n",
      "File \u001b[1;32mc:\\Users\\User\\anaconda3\\envs\\arvi_gca_rom\\lib\\site-packages\\torch_geometric\\data\\storage.py:201\u001b[0m, in \u001b[0;36mBaseStorage.apply\u001b[1;34m(self, func, *args)\u001b[0m\n\u001b[0;32m    197\u001b[0m \u001b[38;5;250m\u001b[39m\u001b[38;5;124mr\u001b[39m\u001b[38;5;124;03m\"\"\"Applies the function :obj:`func`, either to all attributes or only\u001b[39;00m\n\u001b[0;32m    198\u001b[0m \u001b[38;5;124;03mthe ones given in :obj:`*args`.\u001b[39;00m\n\u001b[0;32m    199\u001b[0m \u001b[38;5;124;03m\"\"\"\u001b[39;00m\n\u001b[0;32m    200\u001b[0m \u001b[38;5;28;01mfor\u001b[39;00m key, value \u001b[38;5;129;01min\u001b[39;00m \u001b[38;5;28mself\u001b[39m\u001b[38;5;241m.\u001b[39mitems(\u001b[38;5;241m*\u001b[39margs):\n\u001b[1;32m--> 201\u001b[0m     \u001b[38;5;28mself\u001b[39m[key] \u001b[38;5;241m=\u001b[39m \u001b[43mrecursive_apply\u001b[49m\u001b[43m(\u001b[49m\u001b[43mvalue\u001b[49m\u001b[43m,\u001b[49m\u001b[43m \u001b[49m\u001b[43mfunc\u001b[49m\u001b[43m)\u001b[49m\n\u001b[0;32m    202\u001b[0m \u001b[38;5;28;01mreturn\u001b[39;00m \u001b[38;5;28mself\u001b[39m\n",
      "File \u001b[1;32mc:\\Users\\User\\anaconda3\\envs\\arvi_gca_rom\\lib\\site-packages\\torch_geometric\\data\\storage.py:897\u001b[0m, in \u001b[0;36mrecursive_apply\u001b[1;34m(data, func)\u001b[0m\n\u001b[0;32m    895\u001b[0m \u001b[38;5;28;01mdef\u001b[39;00m \u001b[38;5;21mrecursive_apply\u001b[39m(data: Any, func: Callable) \u001b[38;5;241m-\u001b[39m\u001b[38;5;241m>\u001b[39m Any:\n\u001b[0;32m    896\u001b[0m     \u001b[38;5;28;01mif\u001b[39;00m \u001b[38;5;28misinstance\u001b[39m(data, Tensor):\n\u001b[1;32m--> 897\u001b[0m         \u001b[38;5;28;01mreturn\u001b[39;00m \u001b[43mfunc\u001b[49m\u001b[43m(\u001b[49m\u001b[43mdata\u001b[49m\u001b[43m)\u001b[49m\n\u001b[0;32m    898\u001b[0m     \u001b[38;5;28;01melif\u001b[39;00m \u001b[38;5;28misinstance\u001b[39m(data, torch\u001b[38;5;241m.\u001b[39mnn\u001b[38;5;241m.\u001b[39mutils\u001b[38;5;241m.\u001b[39mrnn\u001b[38;5;241m.\u001b[39mPackedSequence):\n\u001b[0;32m    899\u001b[0m         \u001b[38;5;28;01mreturn\u001b[39;00m func(data)\n",
      "File \u001b[1;32mc:\\Users\\User\\anaconda3\\envs\\arvi_gca_rom\\lib\\site-packages\\torch_geometric\\data\\data.py:363\u001b[0m, in \u001b[0;36mBaseData.to.<locals>.<lambda>\u001b[1;34m(x)\u001b[0m\n\u001b[0;32m    357\u001b[0m \u001b[38;5;28;01mdef\u001b[39;00m \u001b[38;5;21mto\u001b[39m(\u001b[38;5;28mself\u001b[39m, device: Union[\u001b[38;5;28mint\u001b[39m, \u001b[38;5;28mstr\u001b[39m], \u001b[38;5;241m*\u001b[39margs: \u001b[38;5;28mstr\u001b[39m,\n\u001b[0;32m    358\u001b[0m        non_blocking: \u001b[38;5;28mbool\u001b[39m \u001b[38;5;241m=\u001b[39m \u001b[38;5;28;01mFalse\u001b[39;00m):\n\u001b[0;32m    359\u001b[0m \u001b[38;5;250m    \u001b[39m\u001b[38;5;124mr\u001b[39m\u001b[38;5;124;03m\"\"\"Performs tensor device conversion, either for all attributes or\u001b[39;00m\n\u001b[0;32m    360\u001b[0m \u001b[38;5;124;03m    only the ones given in :obj:`*args`.\u001b[39;00m\n\u001b[0;32m    361\u001b[0m \u001b[38;5;124;03m    \"\"\"\u001b[39;00m\n\u001b[0;32m    362\u001b[0m     \u001b[38;5;28;01mreturn\u001b[39;00m \u001b[38;5;28mself\u001b[39m\u001b[38;5;241m.\u001b[39mapply(\n\u001b[1;32m--> 363\u001b[0m         \u001b[38;5;28;01mlambda\u001b[39;00m x: \u001b[43mx\u001b[49m\u001b[38;5;241;43m.\u001b[39;49m\u001b[43mto\u001b[49m\u001b[43m(\u001b[49m\u001b[43mdevice\u001b[49m\u001b[38;5;241;43m=\u001b[39;49m\u001b[43mdevice\u001b[49m\u001b[43m,\u001b[49m\u001b[43m \u001b[49m\u001b[43mnon_blocking\u001b[49m\u001b[38;5;241;43m=\u001b[39;49m\u001b[43mnon_blocking\u001b[49m\u001b[43m)\u001b[49m, \u001b[38;5;241m*\u001b[39margs)\n",
      "\u001b[1;31mRuntimeError\u001b[0m: CUDA error: device-side assert triggered\nCUDA kernel errors might be asynchronously reported at some other API call, so the stacktrace below might be incorrect.\nFor debugging consider passing CUDA_LAUNCH_BLOCKING=1\nCompile with `TORCH_USE_CUDA_DSA` to enable device-side assertions.\n"
     ]
    }
   ],
   "source": [
    "history = train(model = model, \n",
    "                device = device, \n",
    "                params = params, \n",
    "                train_loader = train_loader, \n",
    "                is_val = True,\n",
    "                val_loader = val_loader, \n",
    "                save_best_model=False,\n",
    "                config = config['training'])"
   ]
  },
  {
   "cell_type": "code",
   "execution_count": 7,
   "metadata": {},
   "outputs": [
    {
     "data": {
      "image/png": "[encoded data removed]",
      "text/plain": [
       "<Figure size 1000x600 with 1 Axes>"
      ]
     },
     "metadata": {},
     "output_type": "display_data"
    }
   ],
   "source": [
    "# plot the train history\n",
    "import matplotlib.pyplot as plt\n",
    "\n",
    "# Create figure and axis\n",
    "plt.figure(figsize=(10, 6))\n",
    "\n",
    "# Plot training loss\n",
    "plt.plot(history['train_loss'], label='Training Loss', color='blue')\n",
    "plt.plot(history['val_loss'], label='Val Loss', color='green')\n",
    "# Plot mapping loss if it exists and is non-zero\n",
    "if any(history['map_loss']):\n",
    "    plt.plot(history['map_loss'], label='Mapping Loss', color='red')\n",
    "\n",
    "# Plot validation loss if it exists\n",
    "if 'val_loss' in history and history['val_loss']:\n",
    "    plt.plot(history['val_loss'], label='Validation Loss', color='green')\n",
    "\n",
    "plt.xlabel('Epoch')\n",
    "plt.ylabel('Loss')\n",
    "plt.title('Training History')\n",
    "plt.legend()\n",
    "plt.grid(True)\n",
    "plt.yscale('log') \n",
    "plt.show()\n"
   ]
  },
  {
   "cell_type": "markdown",
   "metadata": {},
   "source": [
    "## IO Size test"
   ]
  },
  {
   "cell_type": "code",
   "execution_count": null,
   "metadata": {},
   "outputs": [],
   "source": []
  }
 ],
 "metadata": {
  "kernelspec": {
   "display_name": "arvi-env",
   "language": "python",
   "name": "python3"
  },
  "language_info": {
   "codemirror_mode": {
    "name": "ipython",
    "version": 3
   },
   "file_extension": ".py",
   "mimetype": "text/x-python",
   "name": "python",
   "nbconvert_exporter": "python",
   "pygments_lexer": "ipython3",
   "version": "3.11.13"
  }
 },
 "nbformat": 4,
 "nbformat_minor": 2
}
