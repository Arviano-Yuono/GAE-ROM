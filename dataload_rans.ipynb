{
 "cells": [
  {
   "cell_type": "markdown",
   "metadata": {},
   "source": [
    "# vtu to h5"
   ]
  },
  {
   "cell_type": "code",
   "execution_count": 1,
   "metadata": {},
   "outputs": [],
   "source": [
    "from src.utils.commons import set_seed, get_config\n",
    "import pyvista as pv\n",
    "import numpy as np\n",
    "from src.data.vtu_to_h5 import vtu_to_h5, rename_vtu_files, split_dataset_trajectories\n",
    "import os\n",
    "\n",
    "config = get_config('configs/paper.yaml')['config']\n",
    "set_seed(10)\n",
    "\n",
    "vtu_dir = config['dataset_dir']\n",
    "h5_dir = os.path.join(config['split_dir'])\n"
   ]
  },
  {
   "cell_type": "code",
   "execution_count": 2,
   "metadata": {},
   "outputs": [
    {
     "ename": "IndexError",
     "evalue": "list index out of range",
     "output_type": "error",
     "traceback": [
      "\u001b[1;31m---------------------------------------------------------------------------\u001b[0m",
      "\u001b[1;31mIndexError\u001b[0m                                Traceback (most recent call last)",
      "Cell \u001b[1;32mIn[2], line 2\u001b[0m\n\u001b[0;32m      1\u001b[0m vtu_files \u001b[38;5;241m=\u001b[39m\u001b[38;5;28msorted\u001b[39m([f \u001b[38;5;28;01mfor\u001b[39;00m f \u001b[38;5;129;01min\u001b[39;00m os\u001b[38;5;241m.\u001b[39mlistdir(vtu_dir) \u001b[38;5;28;01mif\u001b[39;00m f\u001b[38;5;241m.\u001b[39mlower()\u001b[38;5;241m.\u001b[39mendswith(\u001b[38;5;124m'\u001b[39m\u001b[38;5;124m.vtu\u001b[39m\u001b[38;5;124m'\u001b[39m)])\n\u001b[1;32m----> 2\u001b[0m sorted_vtu_files \u001b[38;5;241m=\u001b[39m \u001b[38;5;28;43msorted\u001b[39;49m\u001b[43m(\u001b[49m\u001b[43mvtu_files\u001b[49m\u001b[43m,\u001b[49m\u001b[43m \u001b[49m\u001b[43mkey\u001b[49m\u001b[38;5;241;43m=\u001b[39;49m\u001b[38;5;28;43;01mlambda\u001b[39;49;00m\u001b[43m \u001b[49m\u001b[43mx\u001b[49m\u001b[43m:\u001b[49m\u001b[43m \u001b[49m\u001b[38;5;28;43mint\u001b[39;49m\u001b[43m(\u001b[49m\u001b[43mx\u001b[49m\u001b[38;5;241;43m.\u001b[39;49m\u001b[43msplit\u001b[49m\u001b[43m(\u001b[49m\u001b[38;5;124;43m'\u001b[39;49m\u001b[38;5;124;43m_\u001b[39;49m\u001b[38;5;124;43m'\u001b[39;49m\u001b[43m)\u001b[49m\u001b[43m[\u001b[49m\u001b[38;5;241;43m2\u001b[39;49m\u001b[43m]\u001b[49m\u001b[43m)\u001b[49m\u001b[43m)\u001b[49m\n\u001b[0;32m      3\u001b[0m sorted_vtu_files \u001b[38;5;241m=\u001b[39m \u001b[38;5;28msorted\u001b[39m(sorted_vtu_files,key\u001b[38;5;241m=\u001b[39m\u001b[38;5;28;01mlambda\u001b[39;00m x: (\u001b[38;5;28mint\u001b[39m(x\u001b[38;5;241m.\u001b[39msplit(\u001b[38;5;124m'\u001b[39m\u001b[38;5;124m_\u001b[39m\u001b[38;5;124m'\u001b[39m)[\u001b[38;5;241m2\u001b[39m]), \u001b[38;5;28mint\u001b[39m(x\u001b[38;5;241m.\u001b[39msplit(\u001b[38;5;124m'\u001b[39m\u001b[38;5;124m_\u001b[39m\u001b[38;5;124m'\u001b[39m)[\u001b[38;5;241m4\u001b[39m]\u001b[38;5;241m.\u001b[39msplit(\u001b[38;5;124m'\u001b[39m\u001b[38;5;124m.\u001b[39m\u001b[38;5;124m'\u001b[39m)[\u001b[38;5;241m0\u001b[39m])))\n\u001b[0;32m      4\u001b[0m sorted_vtu_files[:\u001b[38;5;241m5\u001b[39m]\n",
      "Cell \u001b[1;32mIn[2], line 2\u001b[0m, in \u001b[0;36m<lambda>\u001b[1;34m(x)\u001b[0m\n\u001b[0;32m      1\u001b[0m vtu_files \u001b[38;5;241m=\u001b[39m\u001b[38;5;28msorted\u001b[39m([f \u001b[38;5;28;01mfor\u001b[39;00m f \u001b[38;5;129;01min\u001b[39;00m os\u001b[38;5;241m.\u001b[39mlistdir(vtu_dir) \u001b[38;5;28;01mif\u001b[39;00m f\u001b[38;5;241m.\u001b[39mlower()\u001b[38;5;241m.\u001b[39mendswith(\u001b[38;5;124m'\u001b[39m\u001b[38;5;124m.vtu\u001b[39m\u001b[38;5;124m'\u001b[39m)])\n\u001b[1;32m----> 2\u001b[0m sorted_vtu_files \u001b[38;5;241m=\u001b[39m \u001b[38;5;28msorted\u001b[39m(vtu_files, key\u001b[38;5;241m=\u001b[39m\u001b[38;5;28;01mlambda\u001b[39;00m x: \u001b[38;5;28mint\u001b[39m(\u001b[43mx\u001b[49m\u001b[38;5;241;43m.\u001b[39;49m\u001b[43msplit\u001b[49m\u001b[43m(\u001b[49m\u001b[38;5;124;43m'\u001b[39;49m\u001b[38;5;124;43m_\u001b[39;49m\u001b[38;5;124;43m'\u001b[39;49m\u001b[43m)\u001b[49m\u001b[43m[\u001b[49m\u001b[38;5;241;43m2\u001b[39;49m\u001b[43m]\u001b[49m))\n\u001b[0;32m      3\u001b[0m sorted_vtu_files \u001b[38;5;241m=\u001b[39m \u001b[38;5;28msorted\u001b[39m(sorted_vtu_files,key\u001b[38;5;241m=\u001b[39m\u001b[38;5;28;01mlambda\u001b[39;00m x: (\u001b[38;5;28mint\u001b[39m(x\u001b[38;5;241m.\u001b[39msplit(\u001b[38;5;124m'\u001b[39m\u001b[38;5;124m_\u001b[39m\u001b[38;5;124m'\u001b[39m)[\u001b[38;5;241m2\u001b[39m]), \u001b[38;5;28mint\u001b[39m(x\u001b[38;5;241m.\u001b[39msplit(\u001b[38;5;124m'\u001b[39m\u001b[38;5;124m_\u001b[39m\u001b[38;5;124m'\u001b[39m)[\u001b[38;5;241m4\u001b[39m]\u001b[38;5;241m.\u001b[39msplit(\u001b[38;5;124m'\u001b[39m\u001b[38;5;124m.\u001b[39m\u001b[38;5;124m'\u001b[39m)[\u001b[38;5;241m0\u001b[39m])))\n\u001b[0;32m      4\u001b[0m sorted_vtu_files[:\u001b[38;5;241m5\u001b[39m]\n",
      "\u001b[1;31mIndexError\u001b[0m: list index out of range"
     ]
    }
   ],
   "source": [
    "vtu_files =sorted([f for f in os.listdir(vtu_dir) if f.lower().endswith('.vtu')])\n",
    "sorted_vtu_files = sorted(vtu_files, key=lambda x: int(x.split('_')[2]))\n",
    "sorted_vtu_files = sorted(sorted_vtu_files,key=lambda x: (int(x.split('_')[2]), int(x.split('_')[4].split('.')[0])))\n",
    "sorted_vtu_files[:5]"
   ]
  },
  {
   "cell_type": "markdown",
   "metadata": {},
   "source": [
    "## renamne the files based on the Re and then alpha"
   ]
  },
  {
   "cell_type": "code",
   "execution_count": null,
   "metadata": {},
   "outputs": [],
   "source": [
    "rename_vtu_files(sorted_vtu_files, vtu_dir)"
   ]
  },
  {
   "cell_type": "code",
   "execution_count": 3,
   "metadata": {},
   "outputs": [
    {
     "ename": "NameError",
     "evalue": "name 'sorted_vtu_files' is not defined",
     "output_type": "error",
     "traceback": [
      "\u001b[1;31m---------------------------------------------------------------------------\u001b[0m",
      "\u001b[1;31mNameError\u001b[0m                                 Traceback (most recent call last)",
      "Cell \u001b[1;32mIn[3], line 1\u001b[0m\n\u001b[1;32m----> 1\u001b[0m trajectory_numbers \u001b[38;5;241m=\u001b[39m \u001b[38;5;28mlen\u001b[39m(\u001b[43msorted_vtu_files\u001b[49m)\n\u001b[0;32m      2\u001b[0m trajectory_numbers\n",
      "\u001b[1;31mNameError\u001b[0m: name 'sorted_vtu_files' is not defined"
     ]
    }
   ],
   "source": [
    "trajectory_numbers = len(sorted_vtu_files)\n",
    "trajectory_numbers"
   ]
  },
  {
   "cell_type": "code",
   "execution_count": 5,
   "metadata": {},
   "outputs": [],
   "source": [
    "# read one of the vtu file\n",
    "new_vtu_files = os.listdir(vtu_dir)\n",
    "vtu_file = os.path.join(vtu_dir, new_vtu_files[0])\n",
    "grid = pv.UnstructuredGrid(vtu_file)\n",
    "\n"
   ]
  },
  {
   "cell_type": "code",
   "execution_count": 28,
   "metadata": {},
   "outputs": [
    {
     "data": {
      "text/plain": [
       "(14576, 2)"
      ]
     },
     "execution_count": 28,
     "metadata": {},
     "output_type": "execute_result"
    }
   ],
   "source": [
    "# get the coordinates of the nodes\n",
    "coordinates = np.array(grid.points[:, 0:2], dtype=np.float32)\n",
    "coordinates[:,0:2].shape"
   ]
  },
  {
   "cell_type": "code",
   "execution_count": 14,
   "metadata": {},
   "outputs": [
    {
     "name": "stdout",
     "output_type": "stream",
     "text": [
      "Edge index shape: (2, 28911)\n",
      "\n",
      "First few edges:\n",
      "[[    1     2     2 ...  7331  7330  7107]\n",
      " [ 7332  7332  7331 ... 14575 14575 14574]]\n"
     ]
    }
   ],
   "source": [
    "# Get edges from grid\n",
    "edges = grid.extract_all_edges()\n",
    "edge_points = edges.lines.reshape(-1, 3)[1:] # Skip first element which is line count\n",
    "edge_index = edge_points[:,1:].reshape(2, -1) # Get pairs of connected points\n",
    "print(\"Edge index shape:\", edge_index.shape)\n",
    "print(\"\\nFirst few edges:\")\n",
    "print(edge_index.reshape(2, -1))"
   ]
  },
  {
   "cell_type": "code",
   "execution_count": 8,
   "metadata": {},
   "outputs": [
    {
     "data": {
      "text/plain": [
       "(14576, 3)"
      ]
     },
     "execution_count": 8,
     "metadata": {},
     "output_type": "execute_result"
    }
   ],
   "source": [
    "velocity = grid.point_data['Velocity']\n",
    "velocity.shape"
   ]
  },
  {
   "cell_type": "code",
   "execution_count": 9,
   "metadata": {},
   "outputs": [
    {
     "data": {
      "text/plain": [
       "pyvista_ndarray([0.99999994, 0.9999997 , 0.99999934, 0.9999993 ,\n",
       "                 0.9999999 , 1.000001  , 1.000001  , 0.99999624,\n",
       "                 0.99998134, 0.9999496 ], dtype=float32)"
      ]
     },
     "execution_count": 9,
     "metadata": {},
     "output_type": "execute_result"
    }
   ],
   "source": [
    "x_vel = velocity[:, 0]\n",
    "x_vel[:10]"
   ]
  },
  {
   "cell_type": "code",
   "execution_count": 23,
   "metadata": {},
   "outputs": [
    {
     "data": {
      "text/plain": [
       "39"
      ]
     },
     "execution_count": 23,
     "metadata": {},
     "output_type": "execute_result"
    }
   ],
   "source": [
    "trajectories_list = list(range(trajectory_numbers))\n",
    "train_trajectories, val_trajectories = split_dataset_trajectories(trajectories_list, 0.1)\n",
    "len(train_trajectories)\n",
    "# len(val_trajectories)"
   ]
  },
  {
   "cell_type": "code",
   "execution_count": 17,
   "metadata": {},
   "outputs": [
    {
     "data": {
      "text/plain": [
       "('configuration_1', '.vtu')"
      ]
     },
     "execution_count": 17,
     "metadata": {},
     "output_type": "execute_result"
    }
   ],
   "source": [
    "os.path.splitext(new_vtu_files[0])"
   ]
  },
  {
   "cell_type": "code",
   "execution_count": 21,
   "metadata": {},
   "outputs": [],
   "source": [
    "base_name = os.path.splitext(new_vtu_files[0])[0]\n",
    "traj_num_str = ''.join(filter(str.isdigit, base_name))"
   ]
  },
  {
   "cell_type": "code",
   "execution_count": 22,
   "metadata": {},
   "outputs": [
    {
     "data": {
      "text/plain": [
       "'1'"
      ]
     },
     "execution_count": 22,
     "metadata": {},
     "output_type": "execute_result"
    }
   ],
   "source": [
    "''.join(filter(str.isdigit, base_name))"
   ]
  },
  {
   "cell_type": "code",
   "execution_count": 23,
   "metadata": {},
   "outputs": [
    {
     "data": {
      "text/plain": [
       "'1'"
      ]
     },
     "execution_count": 23,
     "metadata": {},
     "output_type": "execute_result"
    }
   ],
   "source": [
    "traj_num_str"
   ]
  },
  {
   "cell_type": "markdown",
   "metadata": {},
   "source": [
    "## vtu to h5 transform"
   ]
  },
  {
   "cell_type": "code",
   "execution_count": 7,
   "metadata": {},
   "outputs": [
    {
     "name": "stdout",
     "output_type": "stream",
     "text": [
      "Pass 1: Reading all VTU files and extracting data...\n"
     ]
    },
    {
     "name": "stderr",
     "output_type": "stream",
     "text": [
      "Reading VTUs: 100%|██████████| 399/399 [00:00<00:00, 559.39it/s]\n"
     ]
    },
    {
     "name": "stdout",
     "output_type": "stream",
     "text": [
      "Fitting scaler on training data of shape: torch.Size([568464, 1])\n",
      "Scaler fitted. Applying to the entire dataset.\n",
      "Warning: Fitted scaler does not have a 'transform' method. Scaling might not be applied correctly. Check 'src.data.scaling' module.\n",
      "Scaler saved to ./dataset/rans_naca0012/incompressible/flow_split\\scaler.pkl\n",
      "Writing training data to ./dataset/rans_naca0012/incompressible/flow_split\\train.h5 (39 trajectories)\n"
     ]
    },
    {
     "name": "stderr",
     "output_type": "stream",
     "text": [
      "Writing train.h5: 100%|██████████| 39/39 [00:00<00:00, 1005.48it/s]\n"
     ]
    },
    {
     "name": "stdout",
     "output_type": "stream",
     "text": [
      "Writing validation data to ./dataset/rans_naca0012/incompressible/flow_split\\val.h5 (360 trajectories)\n"
     ]
    },
    {
     "name": "stderr",
     "output_type": "stream",
     "text": [
      "Writing val.h5: 100%|██████████| 360/360 [00:00<00:00, 1826.49it/s]"
     ]
    },
    {
     "name": "stdout",
     "output_type": "stream",
     "text": [
      "VTU to H5 conversion with scaling and splitting complete. Output in ./dataset/rans_naca0012/incompressible/flow_split\n"
     ]
    },
    {
     "name": "stderr",
     "output_type": "stream",
     "text": [
      "\n"
     ]
    }
   ],
   "source": [
    "result = vtu_to_h5(vtu_dir, h5_dir, \n",
    "          train_ratio=0.1, overwrite=True)"
   ]
  },
  {
   "cell_type": "markdown",
   "metadata": {},
   "source": [
    "## Test h5"
   ]
  },
  {
   "cell_type": "code",
   "execution_count": 8,
   "metadata": {},
   "outputs": [],
   "source": [
    "import h5py as h5\n",
    "import os\n",
    "from src.utils.commons import set_seed, get_config\n",
    "config = get_config('configs/paper.yaml')['config']\n",
    "\n",
    "test_file = h5.File(os.path.join(config['split_dir'], 'train.h5'), 'r')\n"
   ]
  },
  {
   "cell_type": "code",
   "execution_count": 9,
   "metadata": {},
   "outputs": [],
   "source": [
    "file_keys = list(test_file.keys())\n",
    "file_length = len(file_keys)"
   ]
  },
  {
   "cell_type": "code",
   "execution_count": 3,
   "metadata": {},
   "outputs": [
    {
     "data": {
      "text/plain": [
       "['configuration_106',\n",
       " 'configuration_111',\n",
       " 'configuration_112',\n",
       " 'configuration_114',\n",
       " 'configuration_120',\n",
       " 'configuration_143',\n",
       " 'configuration_155',\n",
       " 'configuration_173',\n",
       " 'configuration_174',\n",
       " 'configuration_184',\n",
       " 'configuration_2',\n",
       " 'configuration_206',\n",
       " 'configuration_209',\n",
       " 'configuration_215',\n",
       " 'configuration_242',\n",
       " 'configuration_25',\n",
       " 'configuration_254',\n",
       " 'configuration_27',\n",
       " 'configuration_275',\n",
       " 'configuration_277',\n",
       " 'configuration_281',\n",
       " 'configuration_332',\n",
       " 'configuration_333',\n",
       " 'configuration_340',\n",
       " 'configuration_348',\n",
       " 'configuration_351',\n",
       " 'configuration_352',\n",
       " 'configuration_366',\n",
       " 'configuration_373',\n",
       " 'configuration_379',\n",
       " 'configuration_390',\n",
       " 'configuration_398',\n",
       " 'configuration_44',\n",
       " 'configuration_48',\n",
       " 'configuration_57',\n",
       " 'configuration_66',\n",
       " 'configuration_7',\n",
       " 'configuration_79',\n",
       " 'configuration_82']"
      ]
     },
     "execution_count": 3,
     "metadata": {},
     "output_type": "execute_result"
    }
   ],
   "source": [
    "file_keys"
   ]
  },
  {
   "cell_type": "code",
   "execution_count": 10,
   "metadata": {},
   "outputs": [],
   "source": [
    "test = test_file[file_keys[0]].keys()"
   ]
  },
  {
   "cell_type": "code",
   "execution_count": 11,
   "metadata": {},
   "outputs": [
    {
     "data": {
      "text/plain": [
       "<KeysViewHDF5 ['Ux', 'coordinates', 'edge_index']>"
      ]
     },
     "execution_count": 11,
     "metadata": {},
     "output_type": "execute_result"
    }
   ],
   "source": [
    "test"
   ]
  },
  {
   "cell_type": "code",
   "execution_count": 4,
   "metadata": {},
   "outputs": [
    {
     "ename": "IndexError",
     "evalue": "list index out of range",
     "output_type": "error",
     "traceback": [
      "\u001b[1;31m---------------------------------------------------------------------------\u001b[0m",
      "\u001b[1;31mIndexError\u001b[0m                                Traceback (most recent call last)",
      "Cell \u001b[1;32mIn[4], line 1\u001b[0m\n\u001b[1;32m----> 1\u001b[0m \u001b[38;5;28msorted\u001b[39m([\u001b[38;5;28mint\u001b[39m(key\u001b[38;5;241m.\u001b[39msplit(\u001b[38;5;124m'\u001b[39m\u001b[38;5;124m_\u001b[39m\u001b[38;5;124m'\u001b[39m)[\u001b[38;5;241m1\u001b[39m]) \u001b[38;5;28;01mfor\u001b[39;00m key \u001b[38;5;129;01min\u001b[39;00m file_keys])\n",
      "Cell \u001b[1;32mIn[4], line 1\u001b[0m, in \u001b[0;36m<listcomp>\u001b[1;34m(.0)\u001b[0m\n\u001b[1;32m----> 1\u001b[0m \u001b[38;5;28msorted\u001b[39m([\u001b[38;5;28mint\u001b[39m(\u001b[43mkey\u001b[49m\u001b[38;5;241;43m.\u001b[39;49m\u001b[43msplit\u001b[49m\u001b[43m(\u001b[49m\u001b[38;5;124;43m'\u001b[39;49m\u001b[38;5;124;43m_\u001b[39;49m\u001b[38;5;124;43m'\u001b[39;49m\u001b[43m)\u001b[49m\u001b[43m[\u001b[49m\u001b[38;5;241;43m1\u001b[39;49m\u001b[43m]\u001b[49m) \u001b[38;5;28;01mfor\u001b[39;00m key \u001b[38;5;129;01min\u001b[39;00m file_keys])\n",
      "\u001b[1;31mIndexError\u001b[0m: list index out of range"
     ]
    }
   ],
   "source": [
    "sorted([int(key.split('_')[1]) for key in file_keys])"
   ]
  },
  {
   "cell_type": "code",
   "execution_count": 7,
   "metadata": {},
   "outputs": [
    {
     "name": "stdout",
     "output_type": "stream",
     "text": [
      "trajectory: configuration_119, var: Ux\n"
     ]
    },
    {
     "data": {
      "text/plain": [
       "array([[ 0.89853696],\n",
       "       [ 0.89853696],\n",
       "       [ 0.89853696],\n",
       "       ...,\n",
       "       [-0.60405632],\n",
       "       [-0.89698121],\n",
       "       [-0.01725416]])"
      ]
     },
     "execution_count": 7,
     "metadata": {},
     "output_type": "execute_result"
    }
   ],
   "source": [
    "index = 10\n",
    "trajectory = f'configuration_{train_trajectories[index]}'\n",
    "var = 'Ux'\n",
    "print(f\"trajectory: {trajectory}, var: {var}\")\n",
    "data_val[trajectory][var][:].reshape(len(data_val[trajectory][var][:]), -1)"
   ]
  },
  {
   "cell_type": "code",
   "execution_count": 22,
   "metadata": {},
   "outputs": [
    {
     "data": {
      "text/plain": [
       "(7786,)"
      ]
     },
     "execution_count": 22,
     "metadata": {},
     "output_type": "execute_result"
    }
   ],
   "source": [
    "import numpy as np\n",
    "edge_list = data_val['configuration_0']['edge_index'][:] - 1\n",
    "coordinates = data_val['configuration_0']['coordinates'][:]\n",
    "\n",
    "np.sqrt(np.sum(np.abs(coordinates[edge_list[0]] - coordinates[edge_list[1]])**2, axis=1)).shape\n"
   ]
  },
  {
   "cell_type": "code",
   "execution_count": null,
   "metadata": {},
   "outputs": [],
   "source": [
    "import scipy\n",
    "import torch\n",
    "mat_dir = 'dataset/gca_dataset/navier_stokes_unstructured.mat'\n",
    "data_mat = scipy.io.loadmat(mat_dir)\n",
    "variables = ['VX']"
   ]
  },
  {
   "cell_type": "code",
   "execution_count": 3,
   "metadata": {},
   "outputs": [
    {
     "data": {
      "text/plain": [
       "(7786, 2)"
      ]
     },
     "execution_count": 3,
     "metadata": {},
     "output_type": "execute_result"
    }
   ],
   "source": [
    "data_mat['E'].shape"
   ]
  },
  {
   "cell_type": "code",
   "execution_count": null,
   "metadata": {},
   "outputs": [
    {
     "data": {
      "text/plain": [
       "np.uint16(2718)"
      ]
     },
     "execution_count": 12,
     "metadata": {},
     "output_type": "execute_result"
    }
   ],
   "source": [
    "import numpy as np\n",
    "np.min(data_mat['E'].reshape(2,-1)[0,:] - 1)\n",
    "np.max(data_mat['E'].reshape(2,-1)[0,:] - 1)"
   ]
  },
  {
   "cell_type": "code",
   "execution_count": null,
   "metadata": {},
   "outputs": [],
   "source": [
    "all_velocities = torch.tensor(data_mat[variables[0]])"
   ]
  },
  {
   "cell_type": "code",
   "execution_count": null,
   "metadata": {},
   "outputs": [
    {
     "data": {
      "text/plain": [
       "torch.Size([341, 2719, 1])"
      ]
     },
     "execution_count": 33,
     "metadata": {},
     "output_type": "execute_result"
    }
   ],
   "source": [
    "from src.data import scaling\n",
    "\n",
    "scaled_vel = scaling.tensor_scaling(all_velocities, 4, 'standard')[1]\n",
    "scaled_vel.shape"
   ]
  },
  {
   "cell_type": "code",
   "execution_count": 34,
   "metadata": {},
   "outputs": [
    {
     "data": {
      "text/plain": [
       "torch.Size([2719, 341])"
      ]
     },
     "execution_count": 34,
     "metadata": {},
     "output_type": "execute_result"
    }
   ],
   "source": [
    "scaled_vel.reshape(all_velocities.shape[0], -1).shape"
   ]
  },
  {
   "cell_type": "code",
   "execution_count": 5,
   "metadata": {},
   "outputs": [
    {
     "data": {
      "text/plain": [
       "(7786, 2)"
      ]
     },
     "execution_count": 5,
     "metadata": {},
     "output_type": "execute_result"
    }
   ],
   "source": [
    "data_mat['E'].shape"
   ]
  },
  {
   "cell_type": "code",
   "execution_count": 7,
   "metadata": {},
   "outputs": [
    {
     "data": {
      "text/plain": [
       "True"
      ]
     },
     "execution_count": 7,
     "metadata": {},
     "output_type": "execute_result"
    }
   ],
   "source": [
    "'xx' in data_mat.keys()"
   ]
  },
  {
   "cell_type": "code",
   "execution_count": 6,
   "metadata": {},
   "outputs": [
    {
     "data": {
      "text/plain": [
       "(2719, 341)"
      ]
     },
     "execution_count": 6,
     "metadata": {},
     "output_type": "execute_result"
    }
   ],
   "source": [
    "data_mat['xx'].shape"
   ]
  },
  {
   "cell_type": "code",
   "execution_count": 7,
   "metadata": {},
   "outputs": [
    {
     "data": {
      "text/plain": [
       "(2719, 341)"
      ]
     },
     "execution_count": 7,
     "metadata": {},
     "output_type": "execute_result"
    }
   ],
   "source": [
    "data_mat['VX'].shape"
   ]
  },
  {
   "cell_type": "code",
   "execution_count": 6,
   "metadata": {},
   "outputs": [
    {
     "data": {
      "text/plain": [
       "(2719, 341)"
      ]
     },
     "execution_count": 6,
     "metadata": {},
     "output_type": "execute_result"
    }
   ],
   "source": [
    "data_mat['VX'].shape"
   ]
  },
  {
   "cell_type": "code",
   "execution_count": null,
   "metadata": {},
   "outputs": [],
   "source": [
    "from src.data.loader_paper import GraphDatasetPaper\n",
    "\n",
    "dataset = GraphDatasetPaper(config = config, split = 'train')"
   ]
  },
  {
   "cell_type": "code",
   "execution_count": 7,
   "metadata": {},
   "outputs": [
    {
     "name": "stderr",
     "output_type": "stream",
     "text": [
      "d:\\TA\\TA2\\GAE-ROM\\src\\data\\loader_paper.py:61: UserWarning: To copy construct from a tensor, it is recommended to use sourceTensor.detach().clone() or sourceTensor.detach().clone().requires_grad_(True), rather than torch.tensor(sourceTensor).\n",
      "  edge_attr = torch.tensor(self.edge_features, dtype=torch.float64),\n",
      "d:\\TA\\TA2\\GAE-ROM\\src\\data\\loader_paper.py:62: UserWarning: To copy construct from a tensor, it is recommended to use sourceTensor.detach().clone() or sourceTensor.detach().clone().requires_grad_(True), rather than torch.tensor(sourceTensor).\n",
      "  edge_weight = torch.tensor(self.edge_weights, dtype=torch.float64))\n"
     ]
    },
    {
     "data": {
      "text/plain": [
       "Data(x=[15677, 1], edge_index=[2, 46522], edge_attr=[46522, 2], pos=[15677, 2], edge_weight=[46522])"
      ]
     },
     "execution_count": 7,
     "metadata": {},
     "output_type": "execute_result"
    }
   ],
   "source": [
    "dataset[0]"
   ]
  },
  {
   "cell_type": "code",
   "execution_count": null,
   "metadata": {},
   "outputs": [],
   "source": [
    "# making the split just like the paper in preprocessing.py\n",
    "\n"
   ]
  },
  {
   "cell_type": "code",
   "execution_count": 2,
   "metadata": {},
   "outputs": [
    {
     "name": "stdout",
     "output_type": "stream",
     "text": [
      "dict_keys(['__header__', '__version__', '__globals__', 'E', 'P', 'T', 'VX', 'VY', 'dof', 'xx', 'yy'])\n"
     ]
    }
   ],
   "source": [
    "import scipy.io\n",
    "\n",
    "data_mat = scipy.io.loadmat(mat_dir)\n",
    "print(data_mat.keys())"
   ]
  },
  {
   "cell_type": "code",
   "execution_count": 4,
   "metadata": {},
   "outputs": [
    {
     "data": {
      "text/plain": [
       "341"
      ]
     },
     "execution_count": 4,
     "metadata": {},
     "output_type": "execute_result"
    }
   ],
   "source": [
    "data_mat['VX'].shape[1]\n",
    "# data_mat['VY'].shape\n",
    "# data_mat['E'].shape\n",
    "# data_mat['xx'].shape\n",
    "# data_mat['yy'].shape"
   ]
  },
  {
   "cell_type": "code",
   "execution_count": 7,
   "metadata": {},
   "outputs": [],
   "source": [
    "x_vel = data_mat['VX']\n",
    "edge_index = data_mat['E']"
   ]
  },
  {
   "cell_type": "code",
   "execution_count": 14,
   "metadata": {},
   "outputs": [
    {
     "data": {
      "text/plain": [
       "(2719,)"
      ]
     },
     "execution_count": 14,
     "metadata": {},
     "output_type": "execute_result"
    }
   ],
   "source": [
    "x_vel[:,2].shape"
   ]
  },
  {
   "cell_type": "code",
   "execution_count": 12,
   "metadata": {},
   "outputs": [
    {
     "data": {
      "text/plain": [
       "(2, 7786)"
      ]
     },
     "execution_count": 12,
     "metadata": {},
     "output_type": "execute_result"
    }
   ],
   "source": [
    "edge_index.reshape(2,-1)\n"
   ]
  },
  {
   "cell_type": "code",
   "execution_count": 7,
   "metadata": {},
   "outputs": [
    {
     "name": "stdout",
     "output_type": "stream",
     "text": [
      "[8.79881277e-24 0.00000000e+00 0.00000000e+00 ... 4.16588059e+00\n",
      " 4.16573888e+00 1.69209028e+01]\n"
     ]
    }
   ],
   "source": [
    "#load h5 file\n",
    "import h5py\n",
    "\n",
    "with h5py.File(h5_dir, 'r') as f:\n",
    "    print(f['configuration_0']['Ux'][:])"
   ]
  },
  {
   "cell_type": "code",
   "execution_count": 1,
   "metadata": {},
   "outputs": [],
   "source": [
    "import src.data.loader as loader\n",
    "\n",
    "root_dir = 'dataset/gca_dataset/navier_stokes_unstructured.mat'\n",
    "dim_pde = 2 # 2D or 3D\n",
    "variable = 'VX' # VX, VY, or [VX, VY]\n",
    "n_comp = 1 # 1 or 2 (for stokes, we see VX and VY separately)\n",
    "\n",
    "dataset = loader.LoadDatasetGCA(root_dir, variable, dim_pde, n_comp)"
   ]
  },
  {
   "cell_type": "code",
   "execution_count": 41,
   "metadata": {},
   "outputs": [
    {
     "data": {
      "text/plain": [
       "tensor([[10.0000,  0.0000],\n",
       "        [10.0000,  0.0000],\n",
       "        [10.0000,  0.0000],\n",
       "        ...,\n",
       "        [34.3148,  2.8706],\n",
       "        [29.7921,  6.6656],\n",
       "        [21.7647,  3.3555]], dtype=torch.float64)"
      ]
     },
     "execution_count": 41,
     "metadata": {},
     "output_type": "execute_result"
    }
   ],
   "source": [
    "# xx : x coordinates of the nodes\n",
    "# yy : y coordinates of the nodes\n",
    "# U : velocity field\n",
    "# E : edge index\n",
    "\n",
    "dataset.dim\n",
    "import numpy as np\n",
    "import torch\n",
    "# check if the x coordinates are the same for all the nodes, output only true or false\n",
    "pos = torch.cat((dataset.xx[:, 0].unsqueeze(1), dataset.yy[:, 0].unsqueeze(1)), 1)\n",
    "pos.shape\n",
    "torch.index_select(pos, 0, dataset.E[:, 0])\n",
    "# np.all(np.isclose(dataset.xx[:,0].numpy(), dataset.xx[:,150].numpy()))\n"
   ]
  },
  {
   "cell_type": "code",
   "execution_count": 52,
   "metadata": {},
   "outputs": [
    {
     "ename": "AttributeError",
     "evalue": "'LoadDatasetGCA' object has no attribute 'shape'",
     "output_type": "error",
     "traceback": [
      "\u001b[1;31m---------------------------------------------------------------------------\u001b[0m",
      "\u001b[1;31mAttributeError\u001b[0m                            Traceback (most recent call last)",
      "Cell \u001b[1;32mIn[52], line 1\u001b[0m\n\u001b[1;32m----> 1\u001b[0m \u001b[43mdataset\u001b[49m\u001b[38;5;241;43m.\u001b[39;49m\u001b[43mshape\u001b[49m\n",
      "\u001b[1;31mAttributeError\u001b[0m: 'LoadDatasetGCA' object has no attribute 'shape'"
     ]
    }
   ],
   "source": [
    "dataset."
   ]
  },
  {
   "cell_type": "code",
   "execution_count": 42,
   "metadata": {},
   "outputs": [],
   "source": [
    "import numpy as np\n",
    "mu1 = np.linspace(0.5, 2., 21)[::2]\n",
    "mu2 = np.linspace(2., 0.5, 151)[::5]\n",
    "mu_space = [mu1, mu2]"
   ]
  },
  {
   "cell_type": "code",
   "execution_count": 51,
   "metadata": {},
   "outputs": [
    {
     "name": "stdout",
     "output_type": "stream",
     "text": [
      "torch.Size([341, 2]) (11,) (31,)\n"
     ]
    },
    {
     "data": {
      "text/plain": [
       "tensor([[0.5000, 2.0000],\n",
       "        [0.5000, 1.9500],\n",
       "        [0.5000, 1.9000],\n",
       "        [0.5000, 1.8500],\n",
       "        [0.5000, 1.8000],\n",
       "        [0.5000, 1.7500],\n",
       "        [0.5000, 1.7000],\n",
       "        [0.5000, 1.6500],\n",
       "        [0.5000, 1.6000],\n",
       "        [0.5000, 1.5500],\n",
       "        [0.5000, 1.5000],\n",
       "        [0.5000, 1.4500],\n",
       "        [0.5000, 1.4000],\n",
       "        [0.5000, 1.3500],\n",
       "        [0.5000, 1.3000],\n",
       "        [0.5000, 1.2500],\n",
       "        [0.5000, 1.2000],\n",
       "        [0.5000, 1.1500],\n",
       "        [0.5000, 1.1000],\n",
       "        [0.5000, 1.0500],\n",
       "        [0.5000, 1.0000],\n",
       "        [0.5000, 0.9500],\n",
       "        [0.5000, 0.9000],\n",
       "        [0.5000, 0.8500],\n",
       "        [0.5000, 0.8000],\n",
       "        [0.5000, 0.7500],\n",
       "        [0.5000, 0.7000],\n",
       "        [0.5000, 0.6500],\n",
       "        [0.5000, 0.6000],\n",
       "        [0.5000, 0.5500],\n",
       "        [0.5000, 0.5000],\n",
       "        [0.6500, 2.0000],\n",
       "        [0.6500, 1.9500],\n",
       "        [0.6500, 1.9000],\n",
       "        [0.6500, 1.8500],\n",
       "        [0.6500, 1.8000],\n",
       "        [0.6500, 1.7500],\n",
       "        [0.6500, 1.7000],\n",
       "        [0.6500, 1.6500],\n",
       "        [0.6500, 1.6000],\n",
       "        [0.6500, 1.5500],\n",
       "        [0.6500, 1.5000],\n",
       "        [0.6500, 1.4500],\n",
       "        [0.6500, 1.4000],\n",
       "        [0.6500, 1.3500],\n",
       "        [0.6500, 1.3000],\n",
       "        [0.6500, 1.2500],\n",
       "        [0.6500, 1.2000],\n",
       "        [0.6500, 1.1500],\n",
       "        [0.6500, 1.1000],\n",
       "        [0.6500, 1.0500],\n",
       "        [0.6500, 1.0000],\n",
       "        [0.6500, 0.9500],\n",
       "        [0.6500, 0.9000],\n",
       "        [0.6500, 0.8500],\n",
       "        [0.6500, 0.8000],\n",
       "        [0.6500, 0.7500],\n",
       "        [0.6500, 0.7000],\n",
       "        [0.6500, 0.6500],\n",
       "        [0.6500, 0.6000],\n",
       "        [0.6500, 0.5500],\n",
       "        [0.6500, 0.5000],\n",
       "        [0.8000, 2.0000],\n",
       "        [0.8000, 1.9500],\n",
       "        [0.8000, 1.9000],\n",
       "        [0.8000, 1.8500],\n",
       "        [0.8000, 1.8000],\n",
       "        [0.8000, 1.7500],\n",
       "        [0.8000, 1.7000],\n",
       "        [0.8000, 1.6500],\n",
       "        [0.8000, 1.6000],\n",
       "        [0.8000, 1.5500],\n",
       "        [0.8000, 1.5000],\n",
       "        [0.8000, 1.4500],\n",
       "        [0.8000, 1.4000],\n",
       "        [0.8000, 1.3500],\n",
       "        [0.8000, 1.3000],\n",
       "        [0.8000, 1.2500],\n",
       "        [0.8000, 1.2000],\n",
       "        [0.8000, 1.1500],\n",
       "        [0.8000, 1.1000],\n",
       "        [0.8000, 1.0500],\n",
       "        [0.8000, 1.0000],\n",
       "        [0.8000, 0.9500],\n",
       "        [0.8000, 0.9000],\n",
       "        [0.8000, 0.8500],\n",
       "        [0.8000, 0.8000],\n",
       "        [0.8000, 0.7500],\n",
       "        [0.8000, 0.7000],\n",
       "        [0.8000, 0.6500],\n",
       "        [0.8000, 0.6000],\n",
       "        [0.8000, 0.5500],\n",
       "        [0.8000, 0.5000],\n",
       "        [0.9500, 2.0000],\n",
       "        [0.9500, 1.9500],\n",
       "        [0.9500, 1.9000],\n",
       "        [0.9500, 1.8500],\n",
       "        [0.9500, 1.8000],\n",
       "        [0.9500, 1.7500],\n",
       "        [0.9500, 1.7000],\n",
       "        [0.9500, 1.6500],\n",
       "        [0.9500, 1.6000],\n",
       "        [0.9500, 1.5500],\n",
       "        [0.9500, 1.5000],\n",
       "        [0.9500, 1.4500],\n",
       "        [0.9500, 1.4000],\n",
       "        [0.9500, 1.3500],\n",
       "        [0.9500, 1.3000],\n",
       "        [0.9500, 1.2500],\n",
       "        [0.9500, 1.2000],\n",
       "        [0.9500, 1.1500],\n",
       "        [0.9500, 1.1000],\n",
       "        [0.9500, 1.0500],\n",
       "        [0.9500, 1.0000],\n",
       "        [0.9500, 0.9500],\n",
       "        [0.9500, 0.9000],\n",
       "        [0.9500, 0.8500],\n",
       "        [0.9500, 0.8000],\n",
       "        [0.9500, 0.7500],\n",
       "        [0.9500, 0.7000],\n",
       "        [0.9500, 0.6500],\n",
       "        [0.9500, 0.6000],\n",
       "        [0.9500, 0.5500],\n",
       "        [0.9500, 0.5000],\n",
       "        [1.1000, 2.0000],\n",
       "        [1.1000, 1.9500],\n",
       "        [1.1000, 1.9000],\n",
       "        [1.1000, 1.8500],\n",
       "        [1.1000, 1.8000],\n",
       "        [1.1000, 1.7500],\n",
       "        [1.1000, 1.7000],\n",
       "        [1.1000, 1.6500],\n",
       "        [1.1000, 1.6000],\n",
       "        [1.1000, 1.5500],\n",
       "        [1.1000, 1.5000],\n",
       "        [1.1000, 1.4500],\n",
       "        [1.1000, 1.4000],\n",
       "        [1.1000, 1.3500],\n",
       "        [1.1000, 1.3000],\n",
       "        [1.1000, 1.2500],\n",
       "        [1.1000, 1.2000],\n",
       "        [1.1000, 1.1500],\n",
       "        [1.1000, 1.1000],\n",
       "        [1.1000, 1.0500],\n",
       "        [1.1000, 1.0000],\n",
       "        [1.1000, 0.9500],\n",
       "        [1.1000, 0.9000],\n",
       "        [1.1000, 0.8500],\n",
       "        [1.1000, 0.8000],\n",
       "        [1.1000, 0.7500],\n",
       "        [1.1000, 0.7000],\n",
       "        [1.1000, 0.6500],\n",
       "        [1.1000, 0.6000],\n",
       "        [1.1000, 0.5500],\n",
       "        [1.1000, 0.5000],\n",
       "        [1.2500, 2.0000],\n",
       "        [1.2500, 1.9500],\n",
       "        [1.2500, 1.9000],\n",
       "        [1.2500, 1.8500],\n",
       "        [1.2500, 1.8000],\n",
       "        [1.2500, 1.7500],\n",
       "        [1.2500, 1.7000],\n",
       "        [1.2500, 1.6500],\n",
       "        [1.2500, 1.6000],\n",
       "        [1.2500, 1.5500],\n",
       "        [1.2500, 1.5000],\n",
       "        [1.2500, 1.4500],\n",
       "        [1.2500, 1.4000],\n",
       "        [1.2500, 1.3500],\n",
       "        [1.2500, 1.3000],\n",
       "        [1.2500, 1.2500],\n",
       "        [1.2500, 1.2000],\n",
       "        [1.2500, 1.1500],\n",
       "        [1.2500, 1.1000],\n",
       "        [1.2500, 1.0500],\n",
       "        [1.2500, 1.0000],\n",
       "        [1.2500, 0.9500],\n",
       "        [1.2500, 0.9000],\n",
       "        [1.2500, 0.8500],\n",
       "        [1.2500, 0.8000],\n",
       "        [1.2500, 0.7500],\n",
       "        [1.2500, 0.7000],\n",
       "        [1.2500, 0.6500],\n",
       "        [1.2500, 0.6000],\n",
       "        [1.2500, 0.5500],\n",
       "        [1.2500, 0.5000],\n",
       "        [1.4000, 2.0000],\n",
       "        [1.4000, 1.9500],\n",
       "        [1.4000, 1.9000],\n",
       "        [1.4000, 1.8500],\n",
       "        [1.4000, 1.8000],\n",
       "        [1.4000, 1.7500],\n",
       "        [1.4000, 1.7000],\n",
       "        [1.4000, 1.6500],\n",
       "        [1.4000, 1.6000],\n",
       "        [1.4000, 1.5500],\n",
       "        [1.4000, 1.5000],\n",
       "        [1.4000, 1.4500],\n",
       "        [1.4000, 1.4000],\n",
       "        [1.4000, 1.3500],\n",
       "        [1.4000, 1.3000],\n",
       "        [1.4000, 1.2500],\n",
       "        [1.4000, 1.2000],\n",
       "        [1.4000, 1.1500],\n",
       "        [1.4000, 1.1000],\n",
       "        [1.4000, 1.0500],\n",
       "        [1.4000, 1.0000],\n",
       "        [1.4000, 0.9500],\n",
       "        [1.4000, 0.9000],\n",
       "        [1.4000, 0.8500],\n",
       "        [1.4000, 0.8000],\n",
       "        [1.4000, 0.7500],\n",
       "        [1.4000, 0.7000],\n",
       "        [1.4000, 0.6500],\n",
       "        [1.4000, 0.6000],\n",
       "        [1.4000, 0.5500],\n",
       "        [1.4000, 0.5000],\n",
       "        [1.5500, 2.0000],\n",
       "        [1.5500, 1.9500],\n",
       "        [1.5500, 1.9000],\n",
       "        [1.5500, 1.8500],\n",
       "        [1.5500, 1.8000],\n",
       "        [1.5500, 1.7500],\n",
       "        [1.5500, 1.7000],\n",
       "        [1.5500, 1.6500],\n",
       "        [1.5500, 1.6000],\n",
       "        [1.5500, 1.5500],\n",
       "        [1.5500, 1.5000],\n",
       "        [1.5500, 1.4500],\n",
       "        [1.5500, 1.4000],\n",
       "        [1.5500, 1.3500],\n",
       "        [1.5500, 1.3000],\n",
       "        [1.5500, 1.2500],\n",
       "        [1.5500, 1.2000],\n",
       "        [1.5500, 1.1500],\n",
       "        [1.5500, 1.1000],\n",
       "        [1.5500, 1.0500],\n",
       "        [1.5500, 1.0000],\n",
       "        [1.5500, 0.9500],\n",
       "        [1.5500, 0.9000],\n",
       "        [1.5500, 0.8500],\n",
       "        [1.5500, 0.8000],\n",
       "        [1.5500, 0.7500],\n",
       "        [1.5500, 0.7000],\n",
       "        [1.5500, 0.6500],\n",
       "        [1.5500, 0.6000],\n",
       "        [1.5500, 0.5500],\n",
       "        [1.5500, 0.5000],\n",
       "        [1.7000, 2.0000],\n",
       "        [1.7000, 1.9500],\n",
       "        [1.7000, 1.9000],\n",
       "        [1.7000, 1.8500],\n",
       "        [1.7000, 1.8000],\n",
       "        [1.7000, 1.7500],\n",
       "        [1.7000, 1.7000],\n",
       "        [1.7000, 1.6500],\n",
       "        [1.7000, 1.6000],\n",
       "        [1.7000, 1.5500],\n",
       "        [1.7000, 1.5000],\n",
       "        [1.7000, 1.4500],\n",
       "        [1.7000, 1.4000],\n",
       "        [1.7000, 1.3500],\n",
       "        [1.7000, 1.3000],\n",
       "        [1.7000, 1.2500],\n",
       "        [1.7000, 1.2000],\n",
       "        [1.7000, 1.1500],\n",
       "        [1.7000, 1.1000],\n",
       "        [1.7000, 1.0500],\n",
       "        [1.7000, 1.0000],\n",
       "        [1.7000, 0.9500],\n",
       "        [1.7000, 0.9000],\n",
       "        [1.7000, 0.8500],\n",
       "        [1.7000, 0.8000],\n",
       "        [1.7000, 0.7500],\n",
       "        [1.7000, 0.7000],\n",
       "        [1.7000, 0.6500],\n",
       "        [1.7000, 0.6000],\n",
       "        [1.7000, 0.5500],\n",
       "        [1.7000, 0.5000],\n",
       "        [1.8500, 2.0000],\n",
       "        [1.8500, 1.9500],\n",
       "        [1.8500, 1.9000],\n",
       "        [1.8500, 1.8500],\n",
       "        [1.8500, 1.8000],\n",
       "        [1.8500, 1.7500],\n",
       "        [1.8500, 1.7000],\n",
       "        [1.8500, 1.6500],\n",
       "        [1.8500, 1.6000],\n",
       "        [1.8500, 1.5500],\n",
       "        [1.8500, 1.5000],\n",
       "        [1.8500, 1.4500],\n",
       "        [1.8500, 1.4000],\n",
       "        [1.8500, 1.3500],\n",
       "        [1.8500, 1.3000],\n",
       "        [1.8500, 1.2500],\n",
       "        [1.8500, 1.2000],\n",
       "        [1.8500, 1.1500],\n",
       "        [1.8500, 1.1000],\n",
       "        [1.8500, 1.0500],\n",
       "        [1.8500, 1.0000],\n",
       "        [1.8500, 0.9500],\n",
       "        [1.8500, 0.9000],\n",
       "        [1.8500, 0.8500],\n",
       "        [1.8500, 0.8000],\n",
       "        [1.8500, 0.7500],\n",
       "        [1.8500, 0.7000],\n",
       "        [1.8500, 0.6500],\n",
       "        [1.8500, 0.6000],\n",
       "        [1.8500, 0.5500],\n",
       "        [1.8500, 0.5000],\n",
       "        [2.0000, 2.0000],\n",
       "        [2.0000, 1.9500],\n",
       "        [2.0000, 1.9000],\n",
       "        [2.0000, 1.8500],\n",
       "        [2.0000, 1.8000],\n",
       "        [2.0000, 1.7500],\n",
       "        [2.0000, 1.7000],\n",
       "        [2.0000, 1.6500],\n",
       "        [2.0000, 1.6000],\n",
       "        [2.0000, 1.5500],\n",
       "        [2.0000, 1.5000],\n",
       "        [2.0000, 1.4500],\n",
       "        [2.0000, 1.4000],\n",
       "        [2.0000, 1.3500],\n",
       "        [2.0000, 1.3000],\n",
       "        [2.0000, 1.2500],\n",
       "        [2.0000, 1.2000],\n",
       "        [2.0000, 1.1500],\n",
       "        [2.0000, 1.1000],\n",
       "        [2.0000, 1.0500],\n",
       "        [2.0000, 1.0000],\n",
       "        [2.0000, 0.9500],\n",
       "        [2.0000, 0.9000],\n",
       "        [2.0000, 0.8500],\n",
       "        [2.0000, 0.8000],\n",
       "        [2.0000, 0.7500],\n",
       "        [2.0000, 0.7000],\n",
       "        [2.0000, 0.6500],\n",
       "        [2.0000, 0.6000],\n",
       "        [2.0000, 0.5500],\n",
       "        [2.0000, 0.5000]], dtype=torch.float64)"
      ]
     },
     "execution_count": 51,
     "metadata": {},
     "output_type": "execute_result"
    }
   ],
   "source": [
    "from itertools import product\n",
    "params = torch.tensor(np.array(list(product(*mu_space))))\n",
    "print(params.shape, mu_space[0].shape, mu_space[1].shape)\n",
    "params"
   ]
  },
  {
   "cell_type": "markdown",
   "metadata": {},
   "source": [
    "# Loader"
   ]
  },
  {
   "cell_type": "code",
   "execution_count": 1,
   "metadata": {},
   "outputs": [],
   "source": [
    "import gc\n",
    "import numpy as np\n",
    "import torch\n",
    "from itertools import product\n",
    "from src.utils.commons import get_config, get_device, set_seed\n",
    "from src.model.gae import GAE\n",
    "from warnings import filterwarnings\n",
    "from torch_geometric.loader import DataLoader\n",
    "from src.training.train import train\n",
    "from src.data.loader_paper import GraphDatasetPaper\n",
    "from src.utils.commons import get_config\n",
    "\n",
    "filterwarnings('ignore')\n",
    "torch.cuda.empty_cache()\n",
    "gc.collect()\n",
    "\n",
    "config = get_config('configs/paper.yaml')\n",
    "set_seed(10)\n",
    "\n",
    "train_dataset = GraphDatasetPaper(config = config['config'], split = 'train')\n",
    "val_dataset = GraphDatasetPaper(config = config['config'], split = 'val')\n",
    "device = get_device()\n",
    "\n",
    "train_loader = DataLoader(dataset=train_dataset, \n",
    "                          batch_size=1, \n",
    "                          shuffle=False,\n",
    "                          num_workers=config['training']['num_workers'])\n",
    "\n",
    "val_loader = DataLoader(dataset=val_dataset, \n",
    "                        batch_size=config['training']['batch_size'], \n",
    "                        shuffle=False,\n",
    "                        num_workers=config['training']['num_workers'])\n",
    "\n",
    "mu1 = np.array([10e4, 15e4, 20e4, 25e4, 30e4, 35e4, 40e4, 45e4, 50e4, 55e4, 60e4, 65e4, 70e4, 75e4, 80e4, 85e4, 90e4, 95e4, 100e4])\n",
    "mu2 = np.array([0, 1, 2, 3, 4, 5, 6, 7, 8, 9, 10, 11, 12, 13, 14, 15, 16, 17, 18, 19, 20])\n",
    "mu_space = [mu1, mu2]\n",
    "params = torch.tensor(np.array(list(product(*mu_space))))\n",
    "params = params.to(device)\n",
    "\n",
    "num_graphs = train_dataset.num_graphs\n",
    "model = GAE(config, num_graphs).to(device)"
   ]
  },
  {
   "cell_type": "code",
   "execution_count": 2,
   "metadata": {},
   "outputs": [
    {
     "name": "stderr",
     "output_type": "stream",
     "text": [
      "  0%|          | 0/100 [00:00<?, ?it/s]\n"
     ]
    },
    {
     "ename": "RuntimeError",
     "evalue": "CUDA error: device-side assert triggered\nCUDA kernel errors might be asynchronously reported at some other API call, so the stacktrace below might be incorrect.\nFor debugging consider passing CUDA_LAUNCH_BLOCKING=1\nCompile with `TORCH_USE_CUDA_DSA` to enable device-side assertions.\n",
     "output_type": "error",
     "traceback": [
      "\u001b[1;31m---------------------------------------------------------------------------\u001b[0m",
      "\u001b[1;31mRuntimeError\u001b[0m                              Traceback (most recent call last)",
      "Cell \u001b[1;32mIn[2], line 1\u001b[0m\n\u001b[1;32m----> 1\u001b[0m history \u001b[38;5;241m=\u001b[39m \u001b[43mtrain\u001b[49m\u001b[43m(\u001b[49m\u001b[43mmodel\u001b[49m\u001b[43m \u001b[49m\u001b[38;5;241;43m=\u001b[39;49m\u001b[43m \u001b[49m\u001b[43mmodel\u001b[49m\u001b[43m,\u001b[49m\u001b[43m \u001b[49m\n\u001b[0;32m      2\u001b[0m \u001b[43m                \u001b[49m\u001b[43mdevice\u001b[49m\u001b[43m \u001b[49m\u001b[38;5;241;43m=\u001b[39;49m\u001b[43m \u001b[49m\u001b[43mdevice\u001b[49m\u001b[43m,\u001b[49m\u001b[43m \u001b[49m\n\u001b[0;32m      3\u001b[0m \u001b[43m                \u001b[49m\u001b[43mparams\u001b[49m\u001b[43m \u001b[49m\u001b[38;5;241;43m=\u001b[39;49m\u001b[43m \u001b[49m\u001b[43mparams\u001b[49m\u001b[43m,\u001b[49m\u001b[43m \u001b[49m\n\u001b[0;32m      4\u001b[0m \u001b[43m                \u001b[49m\u001b[43mtrain_loader\u001b[49m\u001b[43m \u001b[49m\u001b[38;5;241;43m=\u001b[39;49m\u001b[43m \u001b[49m\u001b[43mtrain_loader\u001b[49m\u001b[43m,\u001b[49m\u001b[43m \u001b[49m\n\u001b[0;32m      5\u001b[0m \u001b[43m                \u001b[49m\u001b[43mis_val\u001b[49m\u001b[43m \u001b[49m\u001b[38;5;241;43m=\u001b[39;49m\u001b[43m \u001b[49m\u001b[38;5;28;43;01mTrue\u001b[39;49;00m\u001b[43m,\u001b[49m\n\u001b[0;32m      6\u001b[0m \u001b[43m                \u001b[49m\u001b[43mval_loader\u001b[49m\u001b[43m \u001b[49m\u001b[38;5;241;43m=\u001b[39;49m\u001b[43m \u001b[49m\u001b[43mval_loader\u001b[49m\u001b[43m,\u001b[49m\u001b[43m \u001b[49m\n\u001b[0;32m      7\u001b[0m \u001b[43m                \u001b[49m\u001b[43msave_best_model\u001b[49m\u001b[38;5;241;43m=\u001b[39;49m\u001b[38;5;28;43;01mFalse\u001b[39;49;00m\u001b[43m,\u001b[49m\n\u001b[0;32m      8\u001b[0m \u001b[43m                \u001b[49m\u001b[43mconfig\u001b[49m\u001b[43m \u001b[49m\u001b[38;5;241;43m=\u001b[39;49m\u001b[43m \u001b[49m\u001b[43mconfig\u001b[49m\u001b[43m[\u001b[49m\u001b[38;5;124;43m'\u001b[39;49m\u001b[38;5;124;43mtraining\u001b[39;49m\u001b[38;5;124;43m'\u001b[39;49m\u001b[43m]\u001b[49m\u001b[43m)\u001b[49m\n",
      "File \u001b[1;32mc:\\Users\\User\\Desktop\\13621034_Arvi\\GAE-ROM\\src\\training\\train.py:134\u001b[0m, in \u001b[0;36mtrain\u001b[1;34m(model, device, params, train_loader, is_val, val_loader, is_tqdm, single_batch, save_best_model, config)\u001b[0m\n\u001b[0;32m    132\u001b[0m val_trajectories \u001b[38;5;241m=\u001b[39m val_loader\u001b[38;5;241m.\u001b[39mdataset\u001b[38;5;241m.\u001b[39mfile_index\n\u001b[0;32m    133\u001b[0m val_params \u001b[38;5;241m=\u001b[39m params[val_trajectories]\n\u001b[1;32m--> 134\u001b[0m loss_val \u001b[38;5;241m=\u001b[39m \u001b[43mval\u001b[49m\u001b[43m(\u001b[49m\u001b[43mmodel\u001b[49m\u001b[43m,\u001b[49m\u001b[43m \u001b[49m\u001b[43mdevice\u001b[49m\u001b[43m,\u001b[49m\u001b[43m \u001b[49m\u001b[43mval_params\u001b[49m\u001b[43m,\u001b[49m\u001b[43m \u001b[49m\u001b[43mval_loader\u001b[49m\u001b[43m)\u001b[49m\n\u001b[0;32m    135\u001b[0m train_history[\u001b[38;5;124m'\u001b[39m\u001b[38;5;124mval_loss\u001b[39m\u001b[38;5;124m'\u001b[39m]\u001b[38;5;241m.\u001b[39mappend(loss_val\u001b[38;5;241m.\u001b[39mitem())\n\u001b[0;32m    136\u001b[0m \u001b[38;5;66;03m# save best model\u001b[39;00m\n",
      "File \u001b[1;32mc:\\Users\\User\\Desktop\\13621034_Arvi\\GAE-ROM\\src\\training\\val.py:18\u001b[0m, in \u001b[0;36mval\u001b[1;34m(model, device, params, val_loader)\u001b[0m\n\u001b[0;32m     16\u001b[0m \u001b[38;5;28;01mwith\u001b[39;00m torch\u001b[38;5;241m.\u001b[39mno_grad():\n\u001b[0;32m     17\u001b[0m     \u001b[38;5;28;01mfor\u001b[39;00m batch \u001b[38;5;129;01min\u001b[39;00m val_loader:\n\u001b[1;32m---> 18\u001b[0m         batch \u001b[38;5;241m=\u001b[39m \u001b[43mbatch\u001b[49m\u001b[38;5;241;43m.\u001b[39;49m\u001b[43mto\u001b[49m\u001b[43m(\u001b[49m\u001b[43mdevice\u001b[49m\u001b[43m)\u001b[49m\n\u001b[0;32m     19\u001b[0m         target \u001b[38;5;241m=\u001b[39m batch\u001b[38;5;241m.\u001b[39mx\u001b[38;5;241m.\u001b[39mfloat()\n\u001b[0;32m     20\u001b[0m         batch\u001b[38;5;241m.\u001b[39mx \u001b[38;5;241m=\u001b[39m batch\u001b[38;5;241m.\u001b[39mx\u001b[38;5;241m.\u001b[39mfloat()\n",
      "File \u001b[1;32mc:\\Users\\User\\anaconda3\\envs\\arvi_gca_rom\\lib\\site-packages\\torch_geometric\\data\\data.py:362\u001b[0m, in \u001b[0;36mBaseData.to\u001b[1;34m(self, device, non_blocking, *args)\u001b[0m\n\u001b[0;32m    357\u001b[0m \u001b[38;5;28;01mdef\u001b[39;00m \u001b[38;5;21mto\u001b[39m(\u001b[38;5;28mself\u001b[39m, device: Union[\u001b[38;5;28mint\u001b[39m, \u001b[38;5;28mstr\u001b[39m], \u001b[38;5;241m*\u001b[39margs: \u001b[38;5;28mstr\u001b[39m,\n\u001b[0;32m    358\u001b[0m        non_blocking: \u001b[38;5;28mbool\u001b[39m \u001b[38;5;241m=\u001b[39m \u001b[38;5;28;01mFalse\u001b[39;00m):\n\u001b[0;32m    359\u001b[0m \u001b[38;5;250m    \u001b[39m\u001b[38;5;124mr\u001b[39m\u001b[38;5;124;03m\"\"\"Performs tensor device conversion, either for all attributes or\u001b[39;00m\n\u001b[0;32m    360\u001b[0m \u001b[38;5;124;03m    only the ones given in :obj:`*args`.\u001b[39;00m\n\u001b[0;32m    361\u001b[0m \u001b[38;5;124;03m    \"\"\"\u001b[39;00m\n\u001b[1;32m--> 362\u001b[0m     \u001b[38;5;28;01mreturn\u001b[39;00m \u001b[38;5;28;43mself\u001b[39;49m\u001b[38;5;241;43m.\u001b[39;49m\u001b[43mapply\u001b[49m\u001b[43m(\u001b[49m\n\u001b[0;32m    363\u001b[0m \u001b[43m        \u001b[49m\u001b[38;5;28;43;01mlambda\u001b[39;49;00m\u001b[43m \u001b[49m\u001b[43mx\u001b[49m\u001b[43m:\u001b[49m\u001b[43m \u001b[49m\u001b[43mx\u001b[49m\u001b[38;5;241;43m.\u001b[39;49m\u001b[43mto\u001b[49m\u001b[43m(\u001b[49m\u001b[43mdevice\u001b[49m\u001b[38;5;241;43m=\u001b[39;49m\u001b[43mdevice\u001b[49m\u001b[43m,\u001b[49m\u001b[43m \u001b[49m\u001b[43mnon_blocking\u001b[49m\u001b[38;5;241;43m=\u001b[39;49m\u001b[43mnon_blocking\u001b[49m\u001b[43m)\u001b[49m\u001b[43m,\u001b[49m\u001b[43m \u001b[49m\u001b[38;5;241;43m*\u001b[39;49m\u001b[43margs\u001b[49m\u001b[43m)\u001b[49m\n",
      "File \u001b[1;32mc:\\Users\\User\\anaconda3\\envs\\arvi_gca_rom\\lib\\site-packages\\torch_geometric\\data\\data.py:342\u001b[0m, in \u001b[0;36mBaseData.apply\u001b[1;34m(self, func, *args)\u001b[0m\n\u001b[0;32m    338\u001b[0m \u001b[38;5;250m\u001b[39m\u001b[38;5;124mr\u001b[39m\u001b[38;5;124;03m\"\"\"Applies the function :obj:`func`, either to all attributes or only\u001b[39;00m\n\u001b[0;32m    339\u001b[0m \u001b[38;5;124;03mthe ones given in :obj:`*args`.\u001b[39;00m\n\u001b[0;32m    340\u001b[0m \u001b[38;5;124;03m\"\"\"\u001b[39;00m\n\u001b[0;32m    341\u001b[0m \u001b[38;5;28;01mfor\u001b[39;00m store \u001b[38;5;129;01min\u001b[39;00m \u001b[38;5;28mself\u001b[39m\u001b[38;5;241m.\u001b[39mstores:\n\u001b[1;32m--> 342\u001b[0m     \u001b[43mstore\u001b[49m\u001b[38;5;241;43m.\u001b[39;49m\u001b[43mapply\u001b[49m\u001b[43m(\u001b[49m\u001b[43mfunc\u001b[49m\u001b[43m,\u001b[49m\u001b[43m \u001b[49m\u001b[38;5;241;43m*\u001b[39;49m\u001b[43margs\u001b[49m\u001b[43m)\u001b[49m\n\u001b[0;32m    343\u001b[0m \u001b[38;5;28;01mreturn\u001b[39;00m \u001b[38;5;28mself\u001b[39m\n",
      "File \u001b[1;32mc:\\Users\\User\\anaconda3\\envs\\arvi_gca_rom\\lib\\site-packages\\torch_geometric\\data\\storage.py:201\u001b[0m, in \u001b[0;36mBaseStorage.apply\u001b[1;34m(self, func, *args)\u001b[0m\n\u001b[0;32m    197\u001b[0m \u001b[38;5;250m\u001b[39m\u001b[38;5;124mr\u001b[39m\u001b[38;5;124;03m\"\"\"Applies the function :obj:`func`, either to all attributes or only\u001b[39;00m\n\u001b[0;32m    198\u001b[0m \u001b[38;5;124;03mthe ones given in :obj:`*args`.\u001b[39;00m\n\u001b[0;32m    199\u001b[0m \u001b[38;5;124;03m\"\"\"\u001b[39;00m\n\u001b[0;32m    200\u001b[0m \u001b[38;5;28;01mfor\u001b[39;00m key, value \u001b[38;5;129;01min\u001b[39;00m \u001b[38;5;28mself\u001b[39m\u001b[38;5;241m.\u001b[39mitems(\u001b[38;5;241m*\u001b[39margs):\n\u001b[1;32m--> 201\u001b[0m     \u001b[38;5;28mself\u001b[39m[key] \u001b[38;5;241m=\u001b[39m \u001b[43mrecursive_apply\u001b[49m\u001b[43m(\u001b[49m\u001b[43mvalue\u001b[49m\u001b[43m,\u001b[49m\u001b[43m \u001b[49m\u001b[43mfunc\u001b[49m\u001b[43m)\u001b[49m\n\u001b[0;32m    202\u001b[0m \u001b[38;5;28;01mreturn\u001b[39;00m \u001b[38;5;28mself\u001b[39m\n",
      "File \u001b[1;32mc:\\Users\\User\\anaconda3\\envs\\arvi_gca_rom\\lib\\site-packages\\torch_geometric\\data\\storage.py:897\u001b[0m, in \u001b[0;36mrecursive_apply\u001b[1;34m(data, func)\u001b[0m\n\u001b[0;32m    895\u001b[0m \u001b[38;5;28;01mdef\u001b[39;00m \u001b[38;5;21mrecursive_apply\u001b[39m(data: Any, func: Callable) \u001b[38;5;241m-\u001b[39m\u001b[38;5;241m>\u001b[39m Any:\n\u001b[0;32m    896\u001b[0m     \u001b[38;5;28;01mif\u001b[39;00m \u001b[38;5;28misinstance\u001b[39m(data, Tensor):\n\u001b[1;32m--> 897\u001b[0m         \u001b[38;5;28;01mreturn\u001b[39;00m \u001b[43mfunc\u001b[49m\u001b[43m(\u001b[49m\u001b[43mdata\u001b[49m\u001b[43m)\u001b[49m\n\u001b[0;32m    898\u001b[0m     \u001b[38;5;28;01melif\u001b[39;00m \u001b[38;5;28misinstance\u001b[39m(data, torch\u001b[38;5;241m.\u001b[39mnn\u001b[38;5;241m.\u001b[39mutils\u001b[38;5;241m.\u001b[39mrnn\u001b[38;5;241m.\u001b[39mPackedSequence):\n\u001b[0;32m    899\u001b[0m         \u001b[38;5;28;01mreturn\u001b[39;00m func(data)\n",
      "File \u001b[1;32mc:\\Users\\User\\anaconda3\\envs\\arvi_gca_rom\\lib\\site-packages\\torch_geometric\\data\\data.py:363\u001b[0m, in \u001b[0;36mBaseData.to.<locals>.<lambda>\u001b[1;34m(x)\u001b[0m\n\u001b[0;32m    357\u001b[0m \u001b[38;5;28;01mdef\u001b[39;00m \u001b[38;5;21mto\u001b[39m(\u001b[38;5;28mself\u001b[39m, device: Union[\u001b[38;5;28mint\u001b[39m, \u001b[38;5;28mstr\u001b[39m], \u001b[38;5;241m*\u001b[39margs: \u001b[38;5;28mstr\u001b[39m,\n\u001b[0;32m    358\u001b[0m        non_blocking: \u001b[38;5;28mbool\u001b[39m \u001b[38;5;241m=\u001b[39m \u001b[38;5;28;01mFalse\u001b[39;00m):\n\u001b[0;32m    359\u001b[0m \u001b[38;5;250m    \u001b[39m\u001b[38;5;124mr\u001b[39m\u001b[38;5;124;03m\"\"\"Performs tensor device conversion, either for all attributes or\u001b[39;00m\n\u001b[0;32m    360\u001b[0m \u001b[38;5;124;03m    only the ones given in :obj:`*args`.\u001b[39;00m\n\u001b[0;32m    361\u001b[0m \u001b[38;5;124;03m    \"\"\"\u001b[39;00m\n\u001b[0;32m    362\u001b[0m     \u001b[38;5;28;01mreturn\u001b[39;00m \u001b[38;5;28mself\u001b[39m\u001b[38;5;241m.\u001b[39mapply(\n\u001b[1;32m--> 363\u001b[0m         \u001b[38;5;28;01mlambda\u001b[39;00m x: \u001b[43mx\u001b[49m\u001b[38;5;241;43m.\u001b[39;49m\u001b[43mto\u001b[49m\u001b[43m(\u001b[49m\u001b[43mdevice\u001b[49m\u001b[38;5;241;43m=\u001b[39;49m\u001b[43mdevice\u001b[49m\u001b[43m,\u001b[49m\u001b[43m \u001b[49m\u001b[43mnon_blocking\u001b[49m\u001b[38;5;241;43m=\u001b[39;49m\u001b[43mnon_blocking\u001b[49m\u001b[43m)\u001b[49m, \u001b[38;5;241m*\u001b[39margs)\n",
      "\u001b[1;31mRuntimeError\u001b[0m: CUDA error: device-side assert triggered\nCUDA kernel errors might be asynchronously reported at some other API call, so the stacktrace below might be incorrect.\nFor debugging consider passing CUDA_LAUNCH_BLOCKING=1\nCompile with `TORCH_USE_CUDA_DSA` to enable device-side assertions.\n"
     ]
    }
   ],
   "source": [
    "history = train(model = model, \n",
    "                device = device, \n",
    "                params = params, \n",
    "                train_loader = train_loader, \n",
    "                is_val = True,\n",
    "                val_loader = val_loader, \n",
    "                save_best_model=False,\n",
    "                config = config['training'])"
   ]
  },
  {
   "cell_type": "code",
   "execution_count": 7,
   "metadata": {},
   "outputs": [
    {
     "data": {
      "image/png": "[encoded data removed]",
      "text/plain": [
       "<Figure size 1000x600 with 1 Axes>"
      ]
     },
     "metadata": {},
     "output_type": "display_data"
    }
   ],
   "source": [
    "# plot the train history\n",
    "import matplotlib.pyplot as plt\n",
    "\n",
    "# Create figure and axis\n",
    "plt.figure(figsize=(10, 6))\n",
    "\n",
    "# Plot training loss\n",
    "plt.plot(history['train_loss'], label='Training Loss', color='blue')\n",
    "plt.plot(history['val_loss'], label='Val Loss', color='green')\n",
    "# Plot mapping loss if it exists and is non-zero\n",
    "if any(history['map_loss']):\n",
    "    plt.plot(history['map_loss'], label='Mapping Loss', color='red')\n",
    "\n",
    "# Plot validation loss if it exists\n",
    "if 'val_loss' in history and history['val_loss']:\n",
    "    plt.plot(history['val_loss'], label='Validation Loss', color='green')\n",
    "\n",
    "plt.xlabel('Epoch')\n",
    "plt.ylabel('Loss')\n",
    "plt.title('Training History')\n",
    "plt.legend()\n",
    "plt.grid(True)\n",
    "plt.yscale('log') \n",
    "plt.show()\n"
   ]
  },
  {
   "cell_type": "markdown",
   "metadata": {},
   "source": [
    "## IO Size test"
   ]
  },
  {
   "cell_type": "code",
   "execution_count": null,
   "metadata": {},
   "outputs": [],
   "source": []
  }
 ],
 "metadata": {
  "kernelspec": {
   "display_name": "arvi_gca_rom",
   "language": "python",
   "name": "python3"
  },
  "language_info": {
   "codemirror_mode": {
    "name": "ipython",
    "version": 3
   },
   "file_extension": ".py",
   "mimetype": "text/x-python",
   "name": "python",
   "nbconvert_exporter": "python",
   "pygments_lexer": "ipython3",
   "version": "3.10.16"
  }
 },
 "nbformat": 4,
 "nbformat_minor": 2
}
