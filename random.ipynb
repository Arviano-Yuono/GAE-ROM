{
 "cells": [
  {
   "cell_type": "code",
   "execution_count": 11,
   "id": "a093ee50",
   "metadata": {},
   "outputs": [
    {
     "data": {
      "text/html": [
       "<table style='width: 100%;'><tr><th>Header</th><th>Data Arrays</th></tr><tr><td>\n",
       "<table style='width: 100%;'>\n",
       "<tr><th>PolyData</th><th>Information</th></tr>\n",
       "<tr><td>N Cells</td><td>19602</td></tr>\n",
       "<tr><td>N Points</td><td>10000</td></tr>\n",
       "<tr><td>N Strips</td><td>0</td></tr>\n",
       "<tr><td>X Bounds</td><td>-1.000e+01, 1.000e+01</td></tr>\n",
       "<tr><td>Y Bounds</td><td>-2.309e-14, 2.000e+01</td></tr>\n",
       "<tr><td>Z Bounds</td><td>1.416e-01, 7.483e+00</td></tr>\n",
       "<tr><td>N Arrays</td><td>2</td></tr>\n",
       "</table>\n",
       "\n",
       "</td><td>\n",
       "<table style='width: 100%;'>\n",
       "<tr><th>Name</th><th>Field</th><th>Type</th><th>N Comp</th><th>Min</th><th>Max</th></tr>\n",
       "<tr><td>Normals</td><td>Points</td><td>float32</td><td>3</td><td>-8.663e-01</td><td>9.999e-01</td></tr>\n",
       "<tr><td><b>Elevation</b></td><td>Points</td><td>float32</td><td>1</td><td>1.416e-01</td><td>7.483e+00</td></tr>\n",
       "</table>\n",
       "\n",
       "</td></tr> </table>"
      ],
      "text/plain": [
       "PolyData (0x20c17121f60)\n",
       "  N Cells:    19602\n",
       "  N Points:   10000\n",
       "  N Strips:   0\n",
       "  X Bounds:   -1.000e+01, 1.000e+01\n",
       "  Y Bounds:   -2.309e-14, 2.000e+01\n",
       "  Z Bounds:   1.416e-01, 7.483e+00\n",
       "  N Arrays:   2"
      ]
     },
     "execution_count": 11,
     "metadata": {},
     "output_type": "execute_result"
    }
   ],
   "source": [
    "mesh"
   ]
  },
  {
   "cell_type": "code",
   "execution_count": null,
   "id": "491c37e2",
   "metadata": {},
   "outputs": [
    {
     "ename": "ValueError",
     "evalue": "Invalid colormap \"Elevation\"",
     "output_type": "error",
     "traceback": [
      "\u001b[1;31m---------------------------------------------------------------------------\u001b[0m",
      "\u001b[1;31mValueError\u001b[0m                                Traceback (most recent call last)",
      "Cell \u001b[1;32mIn[12], line 7\u001b[0m\n\u001b[0;32m      4\u001b[0m plotter \u001b[38;5;241m=\u001b[39m pv\u001b[38;5;241m.\u001b[39mPlotter()\n\u001b[0;32m      5\u001b[0m mesh \u001b[38;5;241m=\u001b[39m examples\u001b[38;5;241m.\u001b[39mload_random_hills()\n\u001b[1;32m----> 7\u001b[0m actor \u001b[38;5;241m=\u001b[39m \u001b[43mplotter\u001b[49m\u001b[38;5;241;43m.\u001b[39;49m\u001b[43madd_mesh\u001b[49m\u001b[43m(\u001b[49m\u001b[43mmesh\u001b[49m\u001b[43m,\u001b[49m\u001b[43m \u001b[49m\u001b[43mcmap\u001b[49m\u001b[38;5;241;43m=\u001b[39;49m\u001b[38;5;124;43m'\u001b[39;49m\u001b[38;5;124;43mElevation\u001b[39;49m\u001b[38;5;124;43m'\u001b[39;49m\u001b[43m,\u001b[49m\u001b[43m \u001b[49m\u001b[43mshow_scalar_bar\u001b[49m\u001b[38;5;241;43m=\u001b[39;49m\u001b[38;5;28;43;01mFalse\u001b[39;49;00m\u001b[43m)\u001b[49m\n\u001b[0;32m      8\u001b[0m plotter\u001b[38;5;241m.\u001b[39mshow()\n",
      "File \u001b[1;32mc:\\Users\\Yuno\\anaconda3\\envs\\'gca_rom'\\lib\\site-packages\\pyvista\\plotting\\plotter.py:3707\u001b[0m, in \u001b[0;36mBasePlotter.add_mesh\u001b[1;34m(self, mesh, color, style, scalars, clim, show_edges, edge_color, point_size, line_width, opacity, flip_scalars, lighting, n_colors, interpolate_before_map, cmap, label, reset_camera, scalar_bar_args, show_scalar_bar, multi_colors, name, texture, render_points_as_spheres, render_lines_as_tubes, smooth_shading, split_sharp_edges, ambient, diffuse, specular, specular_power, nan_color, nan_opacity, culling, rgb, categories, silhouette, use_transparency, below_color, above_color, annotations, pickable, preference, log_scale, pbr, metallic, roughness, render, user_matrix, component, emissive, copy_mesh, backface_params, show_vertices, edge_opacity, **kwargs)\u001b[0m\n\u001b[0;32m   3705\u001b[0m \u001b[38;5;66;03m# Scalars formatting ==================================================\u001b[39;00m\n\u001b[0;32m   3706\u001b[0m \u001b[38;5;28;01mif\u001b[39;00m scalars \u001b[38;5;129;01mis\u001b[39;00m \u001b[38;5;129;01mnot\u001b[39;00m \u001b[38;5;28;01mNone\u001b[39;00m:\n\u001b[1;32m-> 3707\u001b[0m     \u001b[38;5;28;43mself\u001b[39;49m\u001b[38;5;241;43m.\u001b[39;49m\u001b[43mmapper\u001b[49m\u001b[38;5;241;43m.\u001b[39;49m\u001b[43mset_scalars\u001b[49m\u001b[43m(\u001b[49m\n\u001b[0;32m   3708\u001b[0m \u001b[43m        \u001b[49m\u001b[43mscalars\u001b[49m\u001b[43m,\u001b[49m\n\u001b[0;32m   3709\u001b[0m \u001b[43m        \u001b[49m\u001b[43mscalars_name\u001b[49m\u001b[43m,\u001b[49m\n\u001b[0;32m   3710\u001b[0m \u001b[43m        \u001b[49m\u001b[43mn_colors\u001b[49m\u001b[43m,\u001b[49m\n\u001b[0;32m   3711\u001b[0m \u001b[43m        \u001b[49m\u001b[43mscalar_bar_args\u001b[49m\u001b[43m,\u001b[49m\n\u001b[0;32m   3712\u001b[0m \u001b[43m        \u001b[49m\u001b[43mrgb\u001b[49m\u001b[43m,\u001b[49m\n\u001b[0;32m   3713\u001b[0m \u001b[43m        \u001b[49m\u001b[43mcomponent\u001b[49m\u001b[43m,\u001b[49m\n\u001b[0;32m   3714\u001b[0m \u001b[43m        \u001b[49m\u001b[43mpreference\u001b[49m\u001b[43m,\u001b[49m\n\u001b[0;32m   3715\u001b[0m \u001b[43m        \u001b[49m\u001b[43mcustom_opac\u001b[49m\u001b[43m,\u001b[49m\n\u001b[0;32m   3716\u001b[0m \u001b[43m        \u001b[49m\u001b[43mannotations\u001b[49m\u001b[43m,\u001b[49m\n\u001b[0;32m   3717\u001b[0m \u001b[43m        \u001b[49m\u001b[43mlog_scale\u001b[49m\u001b[43m,\u001b[49m\n\u001b[0;32m   3718\u001b[0m \u001b[43m        \u001b[49m\u001b[43mnan_color\u001b[49m\u001b[43m,\u001b[49m\n\u001b[0;32m   3719\u001b[0m \u001b[43m        \u001b[49m\u001b[43mabove_color\u001b[49m\u001b[43m,\u001b[49m\n\u001b[0;32m   3720\u001b[0m \u001b[43m        \u001b[49m\u001b[43mbelow_color\u001b[49m\u001b[43m,\u001b[49m\n\u001b[0;32m   3721\u001b[0m \u001b[43m        \u001b[49m\u001b[43mcmap\u001b[49m\u001b[43m,\u001b[49m\n\u001b[0;32m   3722\u001b[0m \u001b[43m        \u001b[49m\u001b[43mflip_scalars\u001b[49m\u001b[43m,\u001b[49m\n\u001b[0;32m   3723\u001b[0m \u001b[43m        \u001b[49m\u001b[43mopacity\u001b[49m\u001b[43m,\u001b[49m\n\u001b[0;32m   3724\u001b[0m \u001b[43m        \u001b[49m\u001b[43mcategories\u001b[49m\u001b[43m,\u001b[49m\n\u001b[0;32m   3725\u001b[0m \u001b[43m        \u001b[49m\u001b[43mclim\u001b[49m\u001b[43m,\u001b[49m\n\u001b[0;32m   3726\u001b[0m \u001b[43m    \u001b[49m\u001b[43m)\u001b[49m\n\u001b[0;32m   3727\u001b[0m     \u001b[38;5;28mself\u001b[39m\u001b[38;5;241m.\u001b[39mmapper\u001b[38;5;241m.\u001b[39mscalar_visibility \u001b[38;5;241m=\u001b[39m \u001b[38;5;28;01mTrue\u001b[39;00m\n\u001b[0;32m   3728\u001b[0m \u001b[38;5;28;01melif\u001b[39;00m custom_opac:  \u001b[38;5;66;03m# no scalars but custom opacity\u001b[39;00m\n",
      "File \u001b[1;32mc:\\Users\\Yuno\\anaconda3\\envs\\'gca_rom'\\lib\\site-packages\\pyvista\\plotting\\mapper.py:698\u001b[0m, in \u001b[0;36m_DataSetMapper.set_scalars\u001b[1;34m(self, scalars, scalars_name, n_colors, scalar_bar_args, rgb, component, preference, custom_opac, annotations, log_scale, nan_color, above_color, below_color, cmap, flip_scalars, opacity, categories, clim)\u001b[0m\n\u001b[0;32m    695\u001b[0m     \u001b[38;5;28;01melif\u001b[39;00m \u001b[38;5;28misinstance\u001b[39m(categories, \u001b[38;5;28mint\u001b[39m):\n\u001b[0;32m    696\u001b[0m         n_colors \u001b[38;5;241m=\u001b[39m categories\n\u001b[1;32m--> 698\u001b[0m \u001b[38;5;28;43mself\u001b[39;49m\u001b[38;5;241;43m.\u001b[39;49m\u001b[43mlookup_table\u001b[49m\u001b[38;5;241;43m.\u001b[39;49m\u001b[43mapply_cmap\u001b[49m\u001b[43m(\u001b[49m\u001b[43mcmap\u001b[49m\u001b[43m,\u001b[49m\u001b[43m \u001b[49m\u001b[43mn_colors\u001b[49m\u001b[43m)\u001b[49m\n\u001b[0;32m    700\u001b[0m \u001b[38;5;66;03m# Set opactities\u001b[39;00m\n\u001b[0;32m    701\u001b[0m \u001b[38;5;28;01mif\u001b[39;00m \u001b[38;5;28misinstance\u001b[39m(opacity, np\u001b[38;5;241m.\u001b[39mndarray) \u001b[38;5;129;01mand\u001b[39;00m \u001b[38;5;129;01mnot\u001b[39;00m custom_opac:\n",
      "File \u001b[1;32mc:\\Users\\Yuno\\anaconda3\\envs\\'gca_rom'\\lib\\site-packages\\pyvista\\plotting\\lookup_table.py:771\u001b[0m, in \u001b[0;36mLookupTable.apply_cmap\u001b[1;34m(self, cmap, n_values, flip)\u001b[0m\n\u001b[0;32m    768\u001b[0m \u001b[38;5;28;01mif\u001b[39;00m \u001b[38;5;28misinstance\u001b[39m(cmap, \u001b[38;5;28mlist\u001b[39m):\n\u001b[0;32m    769\u001b[0m     n_values \u001b[38;5;241m=\u001b[39m \u001b[38;5;28mlen\u001b[39m(cmap)\n\u001b[1;32m--> 771\u001b[0m cmap \u001b[38;5;241m=\u001b[39m \u001b[43mget_cmap_safe\u001b[49m\u001b[43m(\u001b[49m\u001b[43mcmap\u001b[49m\u001b[43m)\u001b[49m\n\u001b[0;32m    772\u001b[0m values \u001b[38;5;241m=\u001b[39m cmap(np\u001b[38;5;241m.\u001b[39mlinspace(\u001b[38;5;241m0\u001b[39m, \u001b[38;5;241m1\u001b[39m, n_values)) \u001b[38;5;241m*\u001b[39m \u001b[38;5;241m255\u001b[39m\n\u001b[0;32m    774\u001b[0m \u001b[38;5;28;01mif\u001b[39;00m flip:\n",
      "File \u001b[1;32mc:\\Users\\Yuno\\anaconda3\\envs\\'gca_rom'\\lib\\site-packages\\pyvista\\plotting\\colors.py:1257\u001b[0m, in \u001b[0;36mget_cmap_safe\u001b[1;34m(cmap)\u001b[0m\n\u001b[0;32m   1255\u001b[0m                 cmap \u001b[38;5;241m=\u001b[39m colormaps[cmap]\n\u001b[0;32m   1256\u001b[0m             \u001b[38;5;28;01mexcept\u001b[39;00m \u001b[38;5;167;01mKeyError\u001b[39;00m:\n\u001b[1;32m-> 1257\u001b[0m                 \u001b[38;5;28;01mraise\u001b[39;00m \u001b[38;5;167;01mValueError\u001b[39;00m(\u001b[38;5;124mf\u001b[39m\u001b[38;5;124m'\u001b[39m\u001b[38;5;124mInvalid colormap \u001b[39m\u001b[38;5;124m\"\u001b[39m\u001b[38;5;132;01m{\u001b[39;00mcmap\u001b[38;5;132;01m}\u001b[39;00m\u001b[38;5;124m\"\u001b[39m\u001b[38;5;124m'\u001b[39m) \u001b[38;5;28;01mfrom\u001b[39;00m\u001b[38;5;250m \u001b[39m\u001b[38;5;28;01mNone\u001b[39;00m\n\u001b[0;32m   1259\u001b[0m \u001b[38;5;28;01melif\u001b[39;00m \u001b[38;5;28misinstance\u001b[39m(cmap, \u001b[38;5;28mlist\u001b[39m):\n\u001b[0;32m   1260\u001b[0m     \u001b[38;5;28;01mfor\u001b[39;00m item \u001b[38;5;129;01min\u001b[39;00m cmap:\n",
      "\u001b[1;31mValueError\u001b[0m: Invalid colormap \"Elevation\""
     ]
    }
   ],
   "source": [
    "import pyvista as pv\n",
    "from pyvista import examples\n",
    "\n",
    "plotter = pv.Plotter()\n",
    "mesh = examples.load_random_hills()\n",
    "\n",
    "actor = plotter.add_mesh(mesh, cmap='terrain', show_scalar_bar=False)\n",
    "plotter.show()"
   ]
  },
  {
   "cell_type": "code",
   "execution_count": 1,
   "id": "e54327b1",
   "metadata": {},
   "outputs": [
    {
     "name": "stdout",
     "output_type": "stream",
     "text": [
      "Pass 1: Reading all VTU files and extracting data...\n"
     ]
    },
    {
     "name": "stderr",
     "output_type": "stream",
     "text": [
      "Reading VTUs: 100%|██████████| 358/358 [00:01<00:00, 238.00it/s]\n"
     ]
    },
    {
     "name": "stdout",
     "output_type": "stream",
     "text": [
      "Found variables: ['Ux', 'Uy', 'Pressure', 'Cp', 'Cf']\n",
      "Fitting scalers for each variable...\n",
      "Fitting scaler for Ux...\n",
      "  Training data shape for Ux: torch.Size([4693472, 1])\n",
      "  Scaler fitted for Ux\n",
      "Fitting scaler for Uy...\n",
      "  Training data shape for Uy: torch.Size([4693472, 1])\n",
      "  Scaler fitted for Uy\n",
      "Fitting scaler for Pressure...\n",
      "  Training data shape for Pressure: torch.Size([4693472, 1])\n",
      "  Scaler fitted for Pressure\n",
      "Fitting scaler for Cp...\n",
      "  Training data shape for Cp: torch.Size([4693472, 1])\n",
      "  Scaler fitted for Cp\n",
      "Fitting scaler for Cf...\n",
      "  Training data shape for Cf: torch.Size([4693472, 2])\n",
      "  Scaler fitted for Cf\n",
      "Skipping scaling for now - using unscaled data...\n",
      "Scalers saved to ./dataset/new_h5_files\\scaler.pkl (not currently used)\n",
      "Writing training data to ./dataset/new_h5_files\\train.h5 (322 trajectories)\n"
     ]
    },
    {
     "name": "stderr",
     "output_type": "stream",
     "text": [
      "Writing train.h5: 100%|██████████| 322/322 [00:00<00:00, 702.07it/s]\n"
     ]
    },
    {
     "name": "stdout",
     "output_type": "stream",
     "text": [
      "Writing validation data to ./dataset/new_h5_files\\val.h5 (36 trajectories)\n"
     ]
    },
    {
     "name": "stderr",
     "output_type": "stream",
     "text": [
      "Writing val.h5: 100%|██████████| 36/36 [00:00<00:00, 793.88it/s]"
     ]
    },
    {
     "name": "stdout",
     "output_type": "stream",
     "text": [
      "VTU to H5 conversion with scaling and splitting complete. Output in ./dataset/new_h5_files\n"
     ]
    },
    {
     "name": "stderr",
     "output_type": "stream",
     "text": [
      "\n"
     ]
    },
    {
     "data": {
      "text/plain": [
       "('./dataset/new_h5_files\\\\train.h5',\n",
       " './dataset/new_h5_files\\\\val.h5',\n",
       " './dataset/new_h5_files\\\\scaler.pkl')"
      ]
     },
     "execution_count": 1,
     "metadata": {},
     "output_type": "execute_result"
    }
   ],
   "source": [
    "from src.data.vtu_h5_rev import vtu_to_h5\n",
    "\n",
    "vtu_to_h5(vtu_file_directory='./dataset/full', \n",
    "          output_h5_dir='./dataset/new_h5_files', \n",
    "          vtu_array_name='Velocity', \n",
    "          train_ratio=0.9, \n",
    "          scaling_type=4, \n",
    "          scaler_name='standard', \n",
    "          overwrite=True)"
   ]
  },
  {
   "cell_type": "code",
   "execution_count": null,
   "id": "97fb63bf",
   "metadata": {},
   "outputs": [
    {
     "data": {
      "text/plain": [
       "[StandardScaler(), StandardScaler()]"
      ]
     },
     "execution_count": 5,
     "metadata": {},
     "output_type": "execute_result"
    }
   ],
   "source": [
    "import pickle\n",
    "\n",
    "with open('./dataset/new_h5_files/scaler.pkl', 'rb') as f:\n",
    "    scaler = pickle.load(f)"
   ]
  },
  {
   "cell_type": "markdown",
   "id": "ce2438a8",
   "metadata": {},
   "source": [
    "# Apply scaling"
   ]
  },
  {
   "cell_type": "code",
   "execution_count": null,
   "id": "32af58a0",
   "metadata": {},
   "outputs": [],
   "source": [
    "from src.data.apply_scaling import load_scalers, apply_scaling_to_h5_dataset\n",
    "\n",
    "# Load the scalers that were saved during VTU conversion\n",
    "scalers = load_scalers('./dataset/new_h5_files/scaler.pkl')\n",
    "\n",
    "# Apply scaling to Ux only\n",
    "apply_scaling_to_h5_dataset(\n",
    "    h5_file_path='./dataset/new_h5_files/train.h5',\n",
    "    variable_name='Ux',\n",
    "    scaler=scalers['Ux'],\n",
    "    scaling_type=4,  # SAMPLE-FEATURE SCALING\n",
    "    output_path='./dataset/new_h5_files/train_scaled.h5'\n",
    ")"
   ]
  },
  {
   "cell_type": "code",
   "execution_count": 1,
   "id": "44ef67f4",
   "metadata": {},
   "outputs": [
    {
     "name": "stdout",
     "output_type": "stream",
     "text": [
      "Collecting data from all trajectories...\n",
      "Applying scaling to each variable...\n",
      "Scaling Ux...\n",
      "Scaling Uy...\n",
      "Scaling Pressure...\n",
      "Scaling Cp...\n",
      "Scaling Cf...\n",
      "Writing scaled data to H5 file...\n"
     ]
    },
    {
     "data": {
      "text/plain": [
       "'./dataset/new_h5_files/train_scaled.h5'"
      ]
     },
     "execution_count": 1,
     "metadata": {},
     "output_type": "execute_result"
    }
   ],
   "source": [
    "from src.data.apply_scaling import load_scalers, apply_scaling_to_all_variables\n",
    "\n",
    "# Load scalers\n",
    "scalers = load_scalers('./dataset/new_h5_files/scaler.pkl')\n",
    "\n",
    "# Apply scaling to all variables (now using the working approach)\n",
    "apply_scaling_to_all_variables(\n",
    "    h5_file_path='./dataset/new_h5_files/train.h5',\n",
    "    scalers=scalers,\n",
    "    scaling_type=4,\n",
    "    output_path='./dataset/new_h5_files/train_scaled.h5'\n",
    ")"
   ]
  },
  {
   "cell_type": "code",
   "execution_count": 2,
   "id": "5058fc59",
   "metadata": {},
   "outputs": [
    {
     "name": "stdout",
     "output_type": "stream",
     "text": [
      "Before scaling - Min: -0.867209, Max: 2.129537\n",
      "After scaling - Min: -6.522560, Max: 6.528021\n"
     ]
    }
   ],
   "source": [
    "from src.data.apply_scaling import get_variable_statistics\n",
    "\n",
    "# Check statistics before scaling\n",
    "stats_before = get_variable_statistics('./dataset/new_h5_files/train.h5', 'Ux')\n",
    "print(f\"Before scaling - Min: {stats_before['min']:.6f}, Max: {stats_before['max']:.6f}\")\n",
    "\n",
    "# After scaling\n",
    "stats_after = get_variable_statistics('./dataset/new_h5_files/train_scaled.h5', 'Ux')\n",
    "print(f\"After scaling - Min: {stats_after['min']:.6f}, Max: {stats_after['max']:.6f}\")"
   ]
  },
  {
   "cell_type": "code",
   "execution_count": null,
   "id": "6bd3d433",
   "metadata": {},
   "outputs": [],
   "source": [
    "# 1. Load your scalers\n",
    "scalers = load_scalers('./dataset/new_h5_files/scaler.pkl')\n",
    "\n",
    "# 2. Your model gives scaled predictions\n",
    "model_scaled_output = your_model(scaled_input)  # Shape: [num_nodes, 1]\n",
    "\n",
    "# 3. Inverse scale to get real-world values\n",
    "real_world_prediction = inverse_scale_single_trajectory(\n",
    "    model_scaled_output, \n",
    "    scalers['Ux'], \n",
    "    scaling_type=4\n",
    ")\n",
    "\n",
    "# Now real_world_prediction contains values in the original scale!"
   ]
  }
 ],
 "metadata": {
  "kernelspec": {
   "display_name": "'gca_rom'",
   "language": "python",
   "name": "python3"
  },
  "language_info": {
   "codemirror_mode": {
    "name": "ipython",
    "version": 3
   },
   "file_extension": ".py",
   "mimetype": "text/x-python",
   "name": "python",
   "nbconvert_exporter": "python",
   "pygments_lexer": "ipython3",
   "version": "3.10.16"
  }
 },
 "nbformat": 4,
 "nbformat_minor": 5
}
