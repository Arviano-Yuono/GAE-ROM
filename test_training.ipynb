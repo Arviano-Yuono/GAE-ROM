{
 "cells": [
  {
   "cell_type": "code",
   "execution_count": 1,
   "metadata": {},
   "outputs": [
    {
     "name": "stderr",
     "output_type": "stream",
     "text": [
      "  0%|          | 0/100 [00:00<?, ?it/s]"
     ]
    },
    {
     "ename": "",
     "evalue": "",
     "output_type": "error",
     "traceback": [
      "\u001b[1;31mThe Kernel crashed while executing code in the current cell or a previous cell. \n",
      "\u001b[1;31mPlease review the code in the cell(s) to identify a possible cause of the failure. \n",
      "\u001b[1;31mClick <a href='https://aka.ms/vscodeJupyterKernelCrash'>here</a> for more info. \n",
      "\u001b[1;31mView Jupyter <a href='command:jupyter.viewOutput'>log</a> for further details."
     ]
    }
   ],
   "source": [
    "import warnings\n",
    "warnings.filterwarnings('ignore')\n",
    "import torch\n",
    "from torch_geometric.loader import DataLoader\n",
    "from src.training.train import train\n",
    "from src.model.gae import GAE\n",
    "from src.data.loader import GraphDataset\n",
    "from src.utils import commons\n",
    "torch.cuda.empty_cache()\n",
    "\n",
    "config = commons.get_config('configs/default.yaml')\n",
    "device = commons.get_device()\n",
    "# device = 'cuda'\n",
    "dataset = GraphDataset()\n",
    "model = GAE(config=config['model']).to(device)\n",
    "\n",
    "train_loader = DataLoader(dataset=dataset, \n",
    "                          batch_size=config['training']['batch_size'], \n",
    "                          shuffle=False,\n",
    "                          num_workers=config['training']['num_workers'])\n",
    "\n",
    "train_history = train(model=model, \n",
    "                      device=device,\n",
    "                      train_loader=train_loader, \n",
    "                      config=config['training'])"
   ]
  },
  {
   "cell_type": "code",
   "execution_count": 1,
   "metadata": {},
   "outputs": [],
   "source": [
    "from src.utils.commons import get_config, get_device\n",
    "from src.model.gae import GAE\n",
    "from src.data.loader import GraphDataset\n",
    "from warnings import filterwarnings\n",
    "filterwarnings('ignore')\n",
    "\n",
    "config = get_config('configs/default.yaml')\n",
    "device = get_device()\n",
    "dataset = GraphDataset()\n",
    "model = GAE(config=config['model']).to(device)"
   ]
  },
  {
   "cell_type": "code",
   "execution_count": 2,
   "metadata": {},
   "outputs": [
    {
     "name": "stderr",
     "output_type": "stream",
     "text": [
      " 22%|██▏       | 11/50 [16:19<57:24, 88.32s/it]  "
     ]
    },
    {
     "name": "stdout",
     "output_type": "stream",
     "text": [
      "Epoch 11/50, Loss: 36.95124053955078\n"
     ]
    },
    {
     "name": "stderr",
     "output_type": "stream",
     "text": [
      " 42%|████▏     | 21/50 [30:36<41:47, 86.48s/it]"
     ]
    },
    {
     "name": "stdout",
     "output_type": "stream",
     "text": [
      "Epoch 21/50, Loss: 36.52711486816406\n"
     ]
    },
    {
     "name": "stderr",
     "output_type": "stream",
     "text": [
      " 62%|██████▏   | 31/50 [44:53<26:53, 84.90s/it]"
     ]
    },
    {
     "name": "stdout",
     "output_type": "stream",
     "text": [
      "Epoch 31/50, Loss: 36.78425979614258\n"
     ]
    },
    {
     "name": "stderr",
     "output_type": "stream",
     "text": [
      " 82%|████████▏ | 41/50 [58:49<12:33, 83.69s/it]"
     ]
    },
    {
     "name": "stdout",
     "output_type": "stream",
     "text": [
      "Epoch 41/50, Loss: 36.77402877807617\n"
     ]
    },
    {
     "name": "stderr",
     "output_type": "stream",
     "text": [
      "100%|██████████| 50/50 [1:11:26<00:00, 85.73s/it]\n"
     ]
    }
   ],
   "source": [
    "from torch_geometric.loader import DataLoader\n",
    "from src.training.train import train\n",
    "\n",
    "train_loader = DataLoader(dataset=dataset, \n",
    "                          batch_size=config['training']['batch_size'], \n",
    "                          shuffle=False,\n",
    "                          num_workers=config['training']['num_workers'])\n",
    "\n",
    "train_history = train(model=model, \n",
    "                      device=device,\n",
    "                      train_loader=train_loader,\n",
    "                      print_every=10,\n",
    "                      single_batch=True,\n",
    "                      config=config['training'])"
   ]
  },
  {
   "cell_type": "code",
   "execution_count": 4,
   "metadata": {},
   "outputs": [
    {
     "data": {
      "text/plain": [
       "<generator object Module.parameters at 0x0000018ED6330C10>"
      ]
     },
     "execution_count": 4,
     "metadata": {},
     "output_type": "execute_result"
    }
   ],
   "source": []
  },
  {
   "cell_type": "code",
   "execution_count": null,
   "metadata": {},
   "outputs": [],
   "source": [
    "batch.x, latent_variables = model(batch)"
   ]
  },
  {
   "cell_type": "markdown",
   "metadata": {},
   "source": [
    "TopKPooling"
   ]
  },
  {
   "cell_type": "code",
   "execution_count": 8,
   "metadata": {},
   "outputs": [
    {
     "ename": "ImportError",
     "evalue": "cannot import name 'topk_unpool' from 'torch_geometric.nn.pool' (c:\\Users\\Yuno\\anaconda3\\envs\\'gca_rom'\\lib\\site-packages\\torch_geometric\\nn\\pool\\__init__.py)",
     "output_type": "error",
     "traceback": [
      "\u001b[1;31m---------------------------------------------------------------------------\u001b[0m",
      "\u001b[1;31mImportError\u001b[0m                               Traceback (most recent call last)",
      "Cell \u001b[1;32mIn[8], line 1\u001b[0m\n\u001b[1;32m----> 1\u001b[0m \u001b[38;5;28;01mfrom\u001b[39;00m\u001b[38;5;250m \u001b[39m\u001b[38;5;21;01mtorch_geometric\u001b[39;00m\u001b[38;5;21;01m.\u001b[39;00m\u001b[38;5;21;01mnn\u001b[39;00m\u001b[38;5;21;01m.\u001b[39;00m\u001b[38;5;21;01mpool\u001b[39;00m\u001b[38;5;250m \u001b[39m\u001b[38;5;28;01mimport\u001b[39;00m topk_unpool\n",
      "\u001b[1;31mImportError\u001b[0m: cannot import name 'topk_unpool' from 'torch_geometric.nn.pool' (c:\\Users\\Yuno\\anaconda3\\envs\\'gca_rom'\\lib\\site-packages\\torch_geometric\\nn\\pool\\__init__.py)"
     ]
    }
   ],
   "source": [
    "from torch_geometric.nn.pool import topk_unpool"
   ]
  },
  {
   "cell_type": "code",
   "execution_count": 2,
   "metadata": {},
   "outputs": [
    {
     "name": "stderr",
     "output_type": "stream",
     "text": [
      "d:\\TA\\TA2\\GAE-ROM\\src\\data\\loader.py:47: UserWarning: To copy construct from a tensor, it is recommended to use sourceTensor.clone().detach() or sourceTensor.clone().detach().requires_grad_(True), rather than torch.tensor(sourceTensor).\n",
      "  edge_index = torch.tensor(self.edge_list, dtype=torch.long),\n",
      "d:\\TA\\TA2\\GAE-ROM\\src\\data\\loader.py:48: UserWarning: To copy construct from a tensor, it is recommended to use sourceTensor.clone().detach() or sourceTensor.clone().detach().requires_grad_(True), rather than torch.tensor(sourceTensor).\n",
      "  edge_attr = torch.tensor(self.edge_features, dtype=torch.float32),\n",
      "d:\\TA\\TA2\\GAE-ROM\\src\\data\\loader.py:49: UserWarning: To copy construct from a tensor, it is recommended to use sourceTensor.clone().detach() or sourceTensor.clone().detach().requires_grad_(True), rather than torch.tensor(sourceTensor).\n",
      "  edge_weight = torch.tensor(self.edge_weights, dtype=torch.float32))\n"
     ]
    }
   ],
   "source": [
    "from torch_geometric.nn.pool import TopKPooling\n",
    "from src.data.loader import GraphDataset\n",
    "import torch.nn as nn\n",
    "# Create dataset and \n",
    "dataset = GraphDataset()\n",
    "batch = dataset[0]\n",
    "topk = TopKPooling(in_channels=2, ratio=0.5, nonlinearity='relu')"
   ]
  },
  {
   "cell_type": "code",
   "execution_count": 3,
   "metadata": {},
   "outputs": [
    {
     "name": "stdout",
     "output_type": "stream",
     "text": [
      "torch.Size([30846, 2])\n",
      "torch.Size([2, 46015])\n",
      "torch.Size([46015])\n",
      "torch.Size([15423, 2])\n",
      "torch.Size([2, 22705])\n",
      "torch.Size([22705])\n",
      "torch.Size([15423])\n",
      "torch.Size([15423])\n",
      "torch.Size([15423])\n"
     ]
    }
   ],
   "source": [
    "print(batch.x.shape)\n",
    "print(batch.edge_index.shape)\n",
    "print(batch.edge_attr.shape)\n",
    "pooled_x, pooled_edge_index, pooled_edge_attr, batch_index, perm, score = topk(x = batch.x, edge_index = batch.edge_index, edge_attr = batch.edge_attr)\n",
    "\n",
    "print(pooled_x.shape)\n",
    "print(pooled_edge_index.shape)\n",
    "print(pooled_edge_attr.shape)\n",
    "print(batch_index.shape)\n",
    "print(perm.shape)\n",
    "print(score.shape)"
   ]
  },
  {
   "cell_type": "code",
   "execution_count": 4,
   "metadata": {},
   "outputs": [
    {
     "data": {
      "text/plain": [
       "tensor([0, 0, 0,  ..., 0, 0, 0])"
      ]
     },
     "execution_count": 4,
     "metadata": {},
     "output_type": "execute_result"
    }
   ],
   "source": [
    "batch_index"
   ]
  },
  {
   "cell_type": "code",
   "execution_count": 9,
   "metadata": {},
   "outputs": [],
   "source": [
    "import torch\n",
    "\n",
    "def topk_unpool(x_pooled, perm, num_nodes):\n",
    "    x_unpooled = torch.zeros(num_nodes, x_pooled.size(1), device=x_pooled.device)\n",
    "    x_unpooled[perm] = x_pooled\n",
    "    return x_unpooled\n",
    "\n",
    "unpooled_x = topk_unpool(pooled_x, perm, num_nodes = batch.num_nodes)\n"
   ]
  },
  {
   "cell_type": "code",
   "execution_count": 11,
   "metadata": {},
   "outputs": [
    {
     "data": {
      "text/plain": [
       "tensor([20468,  7050,    88,  ..., 15420, 15421, 15422])"
      ]
     },
     "execution_count": 11,
     "metadata": {},
     "output_type": "execute_result"
    }
   ],
   "source": [
    "perm"
   ]
  },
  {
   "cell_type": "code",
   "execution_count": 10,
   "metadata": {},
   "outputs": [
    {
     "data": {
      "text/plain": [
       "torch.Size([30846, 2])"
      ]
     },
     "execution_count": 10,
     "metadata": {},
     "output_type": "execute_result"
    }
   ],
   "source": [
    "unpooled_x.shape"
   ]
  },
  {
   "cell_type": "code",
   "execution_count": 1,
   "metadata": {},
   "outputs": [
    {
     "ename": "NameError",
     "evalue": "name 'pooled_x' is not defined",
     "output_type": "error",
     "traceback": [
      "\u001b[1;31m---------------------------------------------------------------------------\u001b[0m",
      "\u001b[1;31mNameError\u001b[0m                                 Traceback (most recent call last)",
      "Cell \u001b[1;32mIn[1], line 1\u001b[0m\n\u001b[1;32m----> 1\u001b[0m \u001b[43mpooled_x\u001b[49m\u001b[38;5;241m.\u001b[39mshape\n",
      "\u001b[1;31mNameError\u001b[0m: name 'pooled_x' is not defined"
     ]
    }
   ],
   "source": [
    "pooled_x.shape"
   ]
  },
  {
   "cell_type": "markdown",
   "metadata": {},
   "source": [
    "EdgePooling"
   ]
  },
  {
   "cell_type": "code",
   "execution_count": 1,
   "metadata": {},
   "outputs": [
    {
     "name": "stderr",
     "output_type": "stream",
     "text": [
      "d:\\TA\\TA2\\GAE-ROM\\src\\data\\loader.py:47: UserWarning: To copy construct from a tensor, it is recommended to use sourceTensor.clone().detach() or sourceTensor.clone().detach().requires_grad_(True), rather than torch.tensor(sourceTensor).\n",
      "  edge_index = torch.tensor(self.edge_list, dtype=torch.long),\n",
      "d:\\TA\\TA2\\GAE-ROM\\src\\data\\loader.py:48: UserWarning: To copy construct from a tensor, it is recommended to use sourceTensor.clone().detach() or sourceTensor.clone().detach().requires_grad_(True), rather than torch.tensor(sourceTensor).\n",
      "  edge_attr = torch.tensor(self.edge_features, dtype=torch.float32),\n",
      "d:\\TA\\TA2\\GAE-ROM\\src\\data\\loader.py:49: UserWarning: To copy construct from a tensor, it is recommended to use sourceTensor.clone().detach() or sourceTensor.clone().detach().requires_grad_(True), rather than torch.tensor(sourceTensor).\n",
      "  edge_weight = torch.tensor(self.edge_weights, dtype=torch.float32))\n"
     ]
    }
   ],
   "source": [
    "from torch_geometric.nn.pool import EdgePooling\n",
    "from torch_geometric.nn import GCNConv, ChebConv, GATConv, GMMConv\n",
    "from src.data.loader import GraphDataset\n",
    "import torch.nn as nn\n",
    "# Create dataset and get a batch\n",
    "dataset = GraphDataset()\n",
    "batch = dataset[0]\n",
    "edgepool = EdgePooling(in_channels=2, dropout=0)"
   ]
  },
  {
   "cell_type": "code",
   "execution_count": 9,
   "metadata": {},
   "outputs": [
    {
     "data": {
      "text/plain": [
       "tensor([[2.5045, 2.8414],\n",
       "        [4.1457, 2.4405],\n",
       "        [2.9354, 1.7456],\n",
       "        ...,\n",
       "        [2.3839, 1.3395],\n",
       "        [1.0981, 1.1352],\n",
       "        [1.5320, 1.6905]])"
      ]
     },
     "execution_count": 9,
     "metadata": {},
     "output_type": "execute_result"
    }
   ],
   "source": [
    "batch.pos"
   ]
  },
  {
   "cell_type": "code",
   "execution_count": 12,
   "metadata": {},
   "outputs": [
    {
     "name": "stdout",
     "output_type": "stream",
     "text": [
      "<class 'torch_geometric.data.data.Data'>\n",
      "<class 'NoneType'>\n",
      "30846\n"
     ]
    }
   ],
   "source": [
    "print(type(batch))           # should be <class 'torch_geometric.data.data.Data'>\n",
    "print(type(batch.batch))     # should be <class 'torch.Tensor'>\n",
    "print(batch.x.size(0))     # e.g., [num_nodes]\n"
   ]
  },
  {
   "cell_type": "code",
   "execution_count": 7,
   "metadata": {},
   "outputs": [
    {
     "name": "stdout",
     "output_type": "stream",
     "text": [
      "torch.Size([30846, 2])\n",
      "torch.Size([2, 46015])\n",
      "tensor(30845)\n",
      "torch.Size([46015])\n",
      "torch.Size([17306, 2])\n",
      "torch.Size([2, 46014])\n",
      "tensor(17305)\n",
      "tensor([0, 0, 0,  ..., 0, 0, 0])\n"
     ]
    }
   ],
   "source": [
    "print(batch.x.shape)\n",
    "print(batch.edge_index.shape)\n",
    "print(max(batch.edge_index[1]))\n",
    "print(batch.edge_attr.shape)\n",
    "import torch\n",
    "\n",
    "# If your graph has N nodes, all belong to the same graph, so assign zeros:\n",
    "batch_vector = torch.zeros(batch.x.size(0), dtype=torch.long)\n",
    "\n",
    "pooled_x, pooled_edge_index, pooled_batch, unpool_info = edgepool(batch =  batch_vector, x = batch.x, edge_index = batch.edge_index)\n",
    "# pooled_result = edgepool(batch = batch_vector, x = batch.x, edge_index = batch.edge_index)\n",
    "\n",
    "print(pooled_x.shape)\n",
    "print(pooled_edge_index.shape)\n",
    "print(max(pooled_edge_index[1]))\n",
    "print(pooled_batch)"
   ]
  },
  {
   "cell_type": "code",
   "execution_count": null,
   "metadata": {},
   "outputs": [],
   "source": []
  },
  {
   "cell_type": "code",
   "execution_count": 16,
   "metadata": {},
   "outputs": [
    {
     "data": {
      "text/plain": [
       "tensor([[46.3758, -0.8608],\n",
       "        [38.7250, -1.5845],\n",
       "        [40.6678, -1.4719],\n",
       "        ...,\n",
       "        [28.8896, -2.3286],\n",
       "        [34.1928, -0.3318],\n",
       "        [34.1816, -0.2373]])"
      ]
     },
     "execution_count": 16,
     "metadata": {},
     "output_type": "execute_result"
    }
   ],
   "source": [
    "batch.x"
   ]
  },
  {
   "cell_type": "code",
   "execution_count": 15,
   "metadata": {},
   "outputs": [
    {
     "data": {
      "text/plain": [
       "tensor([[ 1.0998e+02,  8.1582e-01],\n",
       "        [ 1.3889e+02, -2.8769e+00],\n",
       "        [ 1.1589e+02, -4.7028e+00],\n",
       "        ...,\n",
       "        [ 3.5362e+01, -6.6867e-02],\n",
       "        [ 3.5490e+01,  7.5209e-01],\n",
       "        [ 3.5759e+01,  1.4351e+00]], grad_fn=<MulBackward0>)"
      ]
     },
     "execution_count": 15,
     "metadata": {},
     "output_type": "execute_result"
    }
   ],
   "source": [
    "pooled_x"
   ]
  },
  {
   "cell_type": "code",
   "execution_count": null,
   "metadata": {},
   "outputs": [],
   "source": [
    "from src.utils.plot import Plot\n",
    "\n",
    "plot = Plot(data_dir = \"data\", save_dir = \"output\")\n",
    "plot.plot_tensor(tensor = pooled_x[:,0], data_dim = (1, 2), title = \"Pooled X\")\n"
   ]
  }
 ],
 "metadata": {
  "kernelspec": {
   "display_name": "'gca_rom'",
   "language": "python",
   "name": "python3"
  },
  "language_info": {
   "codemirror_mode": {
    "name": "ipython",
    "version": 3
   },
   "file_extension": ".py",
   "mimetype": "text/x-python",
   "name": "python",
   "nbconvert_exporter": "python",
   "pygments_lexer": "ipython3",
   "version": "3.10.16"
  }
 },
 "nbformat": 4,
 "nbformat_minor": 2
}
