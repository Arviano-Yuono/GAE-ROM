{
 "cells": [
  {
   "cell_type": "code",
   "execution_count": 1,
   "metadata": {},
   "outputs": [],
   "source": [
    "import gc\n",
    "import torch\n",
    "from src.utils.commons import get_config, get_device, set_seed\n",
    "from src.model.gae import GAE\n",
    "from src.data.loader_paper import GraphDatasetPaper\n",
    "from warnings import filterwarnings\n",
    "from torch_geometric.loader import DataLoader\n",
    "from src.training.train import train\n",
    "\n",
    "filterwarnings('ignore')\n",
    "torch.cuda.empty_cache()\n",
    "gc.collect()\n",
    "\n",
    "config = get_config('configs/default.yaml')\n",
    "# change seed\n",
    "config['config']['seed'] = 42\n",
    "set_seed(config['config']['seed'])\n",
    "\n",
    "device = get_device()\n",
    "train_dataset = GraphDatasetPaper(split = 'test')\n",
    "val_dataset = GraphDatasetPaper(split = 'val')\n",
    "\n",
    "model = GAE(config=config).to(device)\n",
    "\n",
    "train_loader = DataLoader(dataset=train_dataset, \n",
    "                          batch_size=config['training']['batch_size'], \n",
    "                          shuffle=False,\n",
    "                          num_workers=config['training']['num_workers'])\n",
    "\n",
    "val_loader = DataLoader(dataset=val_dataset, \n",
    "                        batch_size=config['training']['batch_size'], \n",
    "                        shuffle=False,\n",
    "                        num_workers=config['training']['num_workers'])"
   ]
  },
  {
   "cell_type": "code",
   "execution_count": null,
   "metadata": {},
   "outputs": [],
   "source": [
    "train_history = train(model=model, \n",
    "                      device=device,\n",
    "                      train_loader=train_loader,\n",
    "                      val_loader=val_loader,\n",
    "                      is_tqdm=False,\n",
    "                      is_val=True,\n",
    "                      single_batch=config['training']['single_batch_run'],\n",
    "                      save_best_model=config['training']['save_best_model'],\n",
    "                      config=config['training'])"
   ]
  },
  {
   "cell_type": "code",
   "execution_count": 4,
   "metadata": {},
   "outputs": [],
   "source": [
    "import torch.nn.functional as F\n",
    "train_dataset = GraphDataset(split = 'train')\n",
    "model.eval()\n",
    "train_loader = DataLoader(dataset=train_dataset, \n",
    "                          batch_size=config['training']['batch_size'], \n",
    "                          shuffle=False,\n",
    "                          num_workers=config['training']['num_workers'])\n",
    "data = next(iter(train_loader))\n",
    "target = data.x\n",
    "predicted, _ = model(data)  # Your model output"
   ]
  },
  {
   "cell_type": "code",
   "execution_count": 5,
   "metadata": {},
   "outputs": [
    {
     "name": "stdout",
     "output_type": "stream",
     "text": [
      "Re-evaluation loss: 0.5730345845222473\n"
     ]
    }
   ],
   "source": [
    "loss = F.mse_loss(predicted, target)\n",
    "print(f\"Re-evaluation loss: {loss.item()}\")"
   ]
  },
  {
   "cell_type": "code",
   "execution_count": 4,
   "metadata": {},
   "outputs": [],
   "source": [
    "from src.utils.commons import save_model\n",
    "save_model(model, f'artifacts/{config[\"config\"][\"name\"]}.pth')\n"
   ]
  },
  {
   "cell_type": "code",
   "execution_count": 3,
   "metadata": {},
   "outputs": [
    {
     "ename": "NameError",
     "evalue": "name 'train_history' is not defined",
     "output_type": "error",
     "traceback": [
      "\u001b[1;31m---------------------------------------------------------------------------\u001b[0m",
      "\u001b[1;31mNameError\u001b[0m                                 Traceback (most recent call last)",
      "Cell \u001b[1;32mIn[3], line 3\u001b[0m\n\u001b[0;32m      1\u001b[0m \u001b[38;5;28;01mimport\u001b[39;00m\u001b[38;5;250m \u001b[39m\u001b[38;5;21;01mmatplotlib\u001b[39;00m\u001b[38;5;21;01m.\u001b[39;00m\u001b[38;5;21;01mpyplot\u001b[39;00m\u001b[38;5;250m \u001b[39m\u001b[38;5;28;01mas\u001b[39;00m\u001b[38;5;250m \u001b[39m\u001b[38;5;21;01mplt\u001b[39;00m\n\u001b[1;32m----> 3\u001b[0m plt\u001b[38;5;241m.\u001b[39mplot(\u001b[43mtrain_history\u001b[49m[\u001b[38;5;124m'\u001b[39m\u001b[38;5;124mtrain_loss\u001b[39m\u001b[38;5;124m'\u001b[39m])\n\u001b[0;32m      4\u001b[0m plt\u001b[38;5;241m.\u001b[39mplot(train_history[\u001b[38;5;124m'\u001b[39m\u001b[38;5;124mval_loss\u001b[39m\u001b[38;5;124m'\u001b[39m])\n",
      "\u001b[1;31mNameError\u001b[0m: name 'train_history' is not defined"
     ]
    }
   ],
   "source": [
    "import matplotlib.pyplot as plt\n",
    "\n",
    "plt.plot(train_history['train_loss'])\n",
    "plt.plot(train_history['val_loss'])"
   ]
  },
  {
   "cell_type": "code",
   "execution_count": null,
   "metadata": {},
   "outputs": [
    {
     "name": "stdout",
     "output_type": "stream",
     "text": [
      "Re-evaluation loss: 0.5067916512489319\n"
     ]
    }
   ],
   "source": [
    "from src.utils.commons import load_model, set_seed, get_device\n",
    "from src.data.loader import GraphDataset\n",
    "from torch_geometric.loader import DataLoader\n",
    "import torch.nn.functional as F\n",
    "\n",
    "set_seed(42)\n",
    "device = get_device()\n",
    "train_dataset = GraphDataset(split = 'train')\n",
    "model = load_model('artifacts/GAT_100_pool.pth')\n",
    "model.to(device)\n",
    "model.eval()\n",
    "train_loader = DataLoader(dataset=train_dataset, \n",
    "                          batch_size=config['training']['batch_size'], \n",
    "                          shuffle=False,\n",
    "                          num_workers=config['training']['num_workers'])\n",
    "\n",
    "batch = next(iter(train_loader)).to(device)\n",
    "target = batch.x\n",
    "out, _ = model(batch)\n",
    "loss = F.mse_loss(out, target)\n",
    "print(f\"Re-evaluation loss: {loss.item()}\")"
   ]
  },
  {
   "cell_type": "code",
   "execution_count": 1,
   "metadata": {},
   "outputs": [],
   "source": [
    "from src.utils.commons import load_model, get_config, set_seed\n",
    "from src.data.loader import GraphDataset\n",
    "from torch_geometric.loader import DataLoader\n",
    "\n",
    "config = get_config('configs/default.yaml')\n",
    "set_seed(config['config']['seed'])\n",
    "\n",
    "train_dataset = GraphDataset(split = 'train')\n",
    "model = load_model(save_path = f'artifacts/GAT_100_pool.pth')\n",
    "model.eval()\n",
    "data = train_dataset[0]\n",
    "target = data.x\n",
    "predicted, _ = model(data)  # Your model output"
   ]
  },
  {
   "cell_type": "code",
   "execution_count": 12,
   "metadata": {},
   "outputs": [
    {
     "name": "stdout",
     "output_type": "stream",
     "text": [
      "Mean: 4.946764109448054e-10\n",
      "Std: 1.000016212463379\n",
      "Max: 1.93668794631958\n",
      "Min: -5.757261753082275\n"
     ]
    }
   ],
   "source": [
    "import torch\n",
    "print(f\"Mean: {torch.mean(target[:,0])}\")\n",
    "print(f\"Std: {torch.std(target[:,0])}\")\n",
    "print(f\"Max: {torch.max(target[:,0])}\")\n",
    "print(f\"Min: {torch.min(target[:,0])}\")\n"
   ]
  },
  {
   "cell_type": "code",
   "execution_count": 13,
   "metadata": {},
   "outputs": [
    {
     "data": {
      "text/plain": [
       "tensor([[ 2.3000, -0.6171],\n",
       "        [ 0.6963, -0.6171],\n",
       "        [ 1.2671, -0.6171],\n",
       "        ...,\n",
       "        [-1.3286, -0.6171],\n",
       "        [-0.2173, -0.6171],\n",
       "        [-0.7265, -0.4834]], grad_fn=<NativeBatchNormBackward0>)"
      ]
     },
     "execution_count": 13,
     "metadata": {},
     "output_type": "execute_result"
    }
   ],
   "source": [
    "predicted"
   ]
  },
  {
   "cell_type": "code",
   "execution_count": 14,
   "metadata": {},
   "outputs": [
    {
     "data": {
      "text/plain": [
       "tensor([[ 1.6893, -0.3061],\n",
       "        [ 0.6079, -0.5585],\n",
       "        [ 0.8825, -0.5192],\n",
       "        ...,\n",
       "        [-0.7824, -0.8180],\n",
       "        [-0.0327, -0.1216],\n",
       "        [-0.0343, -0.0886]])"
      ]
     },
     "execution_count": 14,
     "metadata": {},
     "output_type": "execute_result"
    }
   ],
   "source": [
    "target"
   ]
  },
  {
   "cell_type": "code",
   "execution_count": 2,
   "metadata": {},
   "outputs": [
    {
     "name": "stdout",
     "output_type": "stream",
     "text": [
      "0.62439245\n",
      "0.50935614\n",
      "0.235132\n",
      "0.235132\n",
      "0.235132\n",
      "0.50935614\n"
     ]
    }
   ],
   "source": [
    "import torch.nn.functional as F\n",
    "print(F.mse_loss(predicted[:,0], target[:,0]).detach().cpu().numpy())\n",
    "# print(F.rmse_loss(predicted[:,0], target[:,0]).detach().cpu().numpy())\n",
    "print(F.l1_loss(predicted[:,0], target[:,0]).detach().cpu().numpy())\n",
    "print(F.smooth_l1_loss(predicted[:,0], target[:,0]).detach().cpu().numpy())\n",
    "print(F.huber_loss(predicted[:,0], target[:,0]).detach().cpu().numpy())\n",
    "print(F.smooth_l1_loss(predicted[:,0], target[:,0]).detach().cpu().numpy())\n",
    "print(F.l1_loss(predicted[:,0], target[:,0]).detach().cpu().numpy())"
   ]
  },
  {
   "cell_type": "code",
   "execution_count": null,
   "metadata": {},
   "outputs": [],
   "source": [
    "from src.utils.plot import Plot\n",
    "\n",
    "# Create plotter\n",
    "plotter = Plot(save_dir='output/')\n",
    "\n",
    "# After getting model output\n",
    "plotter.plot_velocity_field(predicted_batch, title=\"Model Prediction\", save=False)"
   ]
  },
  {
   "cell_type": "code",
   "execution_count": null,
   "metadata": {},
   "outputs": [],
   "source": [
    "import matplotlib.pyplot as plt\n",
    "\n",
    "train_dataset.mesh.points[:,:2]\n",
    "plt.scatter(train_dataset.mesh.points[:,0], \n",
    "            train_dataset.mesh.points[:,1])\n",
    "# make the aspect ratio 8:4\n",
    "plt.gca().set_aspect('equal', 'box')\n",
    "plt.show()\n"
   ]
  },
  {
   "cell_type": "code",
   "execution_count": null,
   "metadata": {},
   "outputs": [],
   "source": [
    "batch = train_dataset[3]\n",
    "plt.scatter(batch.pos[:, 0].detach().cpu().numpy(), \n",
    "            batch.pos[:, 1].detach().cpu().numpy(), \n",
    "            c=batch.x[:, 0].detach().cpu().numpy(), \n",
    "            cmap='viridis',\n",
    "            s=0.05)\n",
    "plt.gca().set_aspect('equal', 'box')\n",
    "plt.show()"
   ]
  }
 ],
 "metadata": {
  "kernelspec": {
   "display_name": "'gca_rom'",
   "language": "python",
   "name": "python3"
  },
  "language_info": {
   "codemirror_mode": {
    "name": "ipython",
    "version": 3
   },
   "file_extension": ".py",
   "mimetype": "text/x-python",
   "name": "python",
   "nbconvert_exporter": "python",
   "pygments_lexer": "ipython3",
   "version": "3.10.16"
  }
 },
 "nbformat": 4,
 "nbformat_minor": 2
}
