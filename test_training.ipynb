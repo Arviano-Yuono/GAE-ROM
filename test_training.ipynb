{
 "cells": [
  {
   "cell_type": "markdown",
   "metadata": {},
   "source": [
    "## Test flatten()"
   ]
  },
  {
   "cell_type": "code",
   "execution_count": 2,
   "metadata": {},
   "outputs": [
    {
     "name": "stdout",
     "output_type": "stream",
     "text": [
      "0\n",
      "1\n"
     ]
    }
   ],
   "source": [
    "for i in range(2):\n",
    "    print(i)"
   ]
  },
  {
   "cell_type": "code",
   "execution_count": 21,
   "metadata": {},
   "outputs": [
    {
     "name": "stdout",
     "output_type": "stream",
     "text": [
      "test (shape: torch.Size([10, 3])): \n",
      "tensor([[ 0.1535,  1.7894, -1.6731],\n",
      "        [-0.2661,  0.0507,  0.0122],\n",
      "        [-0.8373, -1.2231, -0.2125],\n",
      "        [ 0.1431, -0.3771,  0.2808],\n",
      "        [-0.6767, -1.2800,  1.6357],\n",
      "        [-1.2809,  0.4099,  1.0182],\n",
      "        [ 0.1278,  0.2539, -2.3672],\n",
      "        [-0.9886, -0.2926,  0.6868],\n",
      "        [ 1.4347,  0.8221,  0.2358],\n",
      "        [-0.4437, -0.8436,  0.7986]])\n",
      "\n",
      "global_mean_pooled (shape: torch.Size([3])): \n",
      "tensor([-0.2634, -0.0690,  0.0415])\n"
     ]
    }
   ],
   "source": [
    "import torch\n",
    "\n",
    "test = torch.randn(10, 3)\n",
    "flattened_test = test.flatten()\n",
    "global_mean_pooled = torch.mean(test, dim = 0)\n",
    "print(f\"test (shape: {test.shape}): \\n{test}\\n\\nglobal_mean_pooled (shape: {global_mean_pooled.shape}): \\n{global_mean_pooled}\")"
   ]
  },
  {
   "cell_type": "markdown",
   "metadata": {},
   "source": [
    "## Check F.MSELoss vs torch.nn.MSELoss\n",
    "Turns out F.MSELoss is averaged, just like torch.nn.MSELOss().mean(dim = 0).mean() "
   ]
  },
  {
   "cell_type": "code",
   "execution_count": 13,
   "metadata": {},
   "outputs": [],
   "source": [
    "import torch\n",
    "import torch.nn.functional as F\n",
    "\n",
    "z_true = torch.randn(10, 3)\n",
    "z_pred = torch.randn(10, 3)\n",
    "\n",
    "map_loss = F.mse_loss(z_pred, z_true)"
   ]
  },
  {
   "cell_type": "code",
   "execution_count": 14,
   "metadata": {},
   "outputs": [],
   "source": [
    "loss = torch.nn.MSELoss(reduction='mean')"
   ]
  },
  {
   "cell_type": "code",
   "execution_count": 15,
   "metadata": {},
   "outputs": [
    {
     "name": "stdout",
     "output_type": "stream",
     "text": [
      "z_true: \n",
      "tensor([[ 0.0632,  1.3691,  0.3653],\n",
      "        [-1.1828,  0.9950, -1.8710],\n",
      "        [-1.7107, -2.0067, -1.7619],\n",
      "        [-0.3057,  0.3221, -0.6640],\n",
      "        [ 0.3010,  1.3926, -0.1006],\n",
      "        [ 0.3183, -2.0068,  1.7918],\n",
      "        [ 1.1903,  2.5210, -0.7391],\n",
      "        [-0.8901,  0.6207, -0.3034],\n",
      "        [ 1.2093,  1.8479, -0.0586],\n",
      "        [ 1.9255, -0.3426, -1.5023]])\n",
      "z_pred: \n",
      "tensor([[ 0.5558, -1.0083, -0.2440],\n",
      "        [-0.7069,  0.1746,  0.8102],\n",
      "        [ 0.9642, -0.5036, -1.0670],\n",
      "        [-1.6713,  0.0270, -1.2796],\n",
      "        [ 1.1588, -0.8908,  1.4583],\n",
      "        [-0.6305, -0.8114,  1.6064],\n",
      "        [ 0.3240, -0.1243, -0.9219],\n",
      "        [-1.2829,  0.1069,  0.3512],\n",
      "        [ 0.1232, -0.2017,  0.7638],\n",
      "        [-2.6965,  0.6185,  0.5860]])\n",
      "z_true - z_pred: \n",
      "tensor([[-0.4925,  2.3774,  0.6093],\n",
      "        [-0.4760,  0.8204, -2.6812],\n",
      "        [-2.6749, -1.5030, -0.6949],\n",
      "        [ 1.3656,  0.2952,  0.6156],\n",
      "        [-0.8577,  2.2833, -1.5589],\n",
      "        [ 0.9488, -1.1954,  0.1854],\n",
      "        [ 0.8663,  2.6454,  0.1828],\n",
      "        [ 0.3928,  0.5138, -0.6546],\n",
      "        [ 1.0862,  2.0495, -0.8224],\n",
      "        [ 4.6220, -0.9611, -2.0883]])\n",
      "z_true - z_pred: \n",
      "tensor([[ 0.2426,  5.6520,  0.3712],\n",
      "        [ 0.2266,  0.6730,  7.1891],\n",
      "        [ 7.1552,  2.2591,  0.4829],\n",
      "        [ 1.8649,  0.0871,  0.3789],\n",
      "        [ 0.7357,  5.2136,  2.4302],\n",
      "        [ 0.9003,  1.4289,  0.0344],\n",
      "        [ 0.7504,  6.9979,  0.0334],\n",
      "        [ 0.1543,  0.2640,  0.4285],\n",
      "        [ 1.1798,  4.2006,  0.6763],\n",
      "        [21.3633,  0.9238,  4.3610]])\n"
     ]
    }
   ],
   "source": [
    "print(f\"z_true: \\n{z_true}\")\n",
    "print(f\"z_pred: \\n{z_pred}\")\n",
    "print(f\"z_true - z_pred: \\n{(z_true - z_pred)}\")\n",
    "print(f\"z_true - z_pred: \\n{(z_true - z_pred)**2}\")"
   ]
  },
  {
   "cell_type": "code",
   "execution_count": 16,
   "metadata": {},
   "outputs": [
    {
     "data": {
      "text/plain": [
       "tensor(2.6220)"
      ]
     },
     "execution_count": 16,
     "metadata": {},
     "output_type": "execute_result"
    }
   ],
   "source": [
    "loss(z_pred, z_true).mean(dim = 0).mean(dim= -1)"
   ]
  },
  {
   "cell_type": "code",
   "execution_count": 17,
   "metadata": {},
   "outputs": [
    {
     "data": {
      "text/plain": [
       "tensor(2.6220)"
      ]
     },
     "execution_count": 17,
     "metadata": {},
     "output_type": "execute_result"
    }
   ],
   "source": [
    "map_loss"
   ]
  },
  {
   "cell_type": "markdown",
   "metadata": {},
   "source": [
    "## Check multi dimension"
   ]
  },
  {
   "cell_type": "code",
   "execution_count": null,
   "metadata": {},
   "outputs": [
    {
     "data": {
      "text/plain": [
       "tensor([[-0.5627, -0.2221],\n",
       "        [-0.5627, -0.2221],\n",
       "        [-0.5627, -0.2221],\n",
       "        ...,\n",
       "        [-0.5625, -0.2223],\n",
       "        [-0.5625, -0.2223],\n",
       "        [-0.5625, -0.2222]], dtype=torch.float64, grad_fn=<AddBackward0>)"
      ]
     },
     "metadata": {},
     "output_type": "display_data"
    }
   ],
   "source": [
    "import torch_geometric.nn as gnn\n",
    "import torch\n",
    "from src.utils.commons import get_config\n",
    "from src.data.loader_paper import GraphDatasetPaper\n",
    "\n",
    "config = get_config('configs/paper.yaml')\n",
    "model = gnn.GMMConv(in_channels=2, out_channels=2, dim=2, kernel_size=5)\n",
    "dataset = GraphDatasetPaper(config = config['config'], split = 'train')\n",
    "model(dataset[0].x, dataset[0].edge_index, dataset[0].edge_attr)\n",
    "# x = torch.randn(10, 2)\n",
    "# edge_index = torch.randint(0, 10, (2, 10))\n",
    "\n",
    "# data = Data(x=x, edge_index=edge_index)\n",
    "\n",
    "# model()\n",
    "# model()"
   ]
  },
  {
   "cell_type": "code",
   "execution_count": null,
   "metadata": {},
   "outputs": [
    {
     "name": "stderr",
     "output_type": "stream",
     "text": [
      "e:\\TA\\TA2\\GAE-ROM\\src\\data\\loader_paper.py:81: UserWarning: To copy construct from a tensor, it is recommended to use sourceTensor.detach().clone() or sourceTensor.detach().clone().requires_grad_(True), rather than torch.tensor(sourceTensor).\n",
      "  edge_attr = torch.tensor(self.edge_features, dtype=torch.float64),\n",
      "e:\\TA\\TA2\\GAE-ROM\\src\\data\\loader_paper.py:82: UserWarning: To copy construct from a tensor, it is recommended to use sourceTensor.detach().clone() or sourceTensor.detach().clone().requires_grad_(True), rather than torch.tensor(sourceTensor).\n",
      "  edge_weight = torch.tensor(self.edge_weights, dtype=torch.float64),\n"
     ]
    },
    {
     "data": {
      "text/plain": [
       "tensor([[ 0.7055, -0.5236],\n",
       "        [ 0.7089, -0.5241],\n",
       "        [ 0.7134, -0.5247],\n",
       "        ...,\n",
       "        [ 0.7068, -0.5237],\n",
       "        [ 0.7065, -0.5236],\n",
       "        [ 0.7063, -0.5233]])"
      ]
     },
     "metadata": {},
     "output_type": "display_data"
    }
   ],
   "source": [
    "dataset[0].x"
   ]
  },
  {
   "cell_type": "code",
   "execution_count": null,
   "metadata": {},
   "outputs": [
    {
     "name": "stderr",
     "output_type": "stream",
     "text": [
      "e:\\TA\\TA2\\GAE-ROM\\src\\data\\loader_paper.py:81: UserWarning: To copy construct from a tensor, it is recommended to use sourceTensor.detach().clone() or sourceTensor.detach().clone().requires_grad_(True), rather than torch.tensor(sourceTensor).\n",
      "  edge_attr = torch.tensor(self.edge_features, dtype=torch.float64),\n",
      "e:\\TA\\TA2\\GAE-ROM\\src\\data\\loader_paper.py:82: UserWarning: To copy construct from a tensor, it is recommended to use sourceTensor.detach().clone() or sourceTensor.detach().clone().requires_grad_(True), rather than torch.tensor(sourceTensor).\n",
      "  edge_weight = torch.tensor(self.edge_weights, dtype=torch.float64),\n"
     ]
    },
    {
     "data": {
      "text/plain": [
       "torch.Size([16229, 3])"
      ]
     },
     "metadata": {},
     "output_type": "display_data"
    }
   ],
   "source": [
    "dataset[0].edge_index.shape"
   ]
  },
  {
   "cell_type": "markdown",
   "metadata": {},
   "source": [
    "## Others"
   ]
  },
  {
   "cell_type": "code",
   "execution_count": 1,
   "metadata": {},
   "outputs": [],
   "source": [
    "import gc\n",
    "import torch\n",
    "from src.utils.commons import get_config, get_device, set_seed\n",
    "from src.model.gae import GAE\n",
    "from src.data.loader_paper import GraphDatasetPaper\n",
    "from warnings import filterwarnings\n",
    "from torch_geometric.loader import DataLoader\n",
    "from src.training.train import train\n",
    "\n",
    "filterwarnings('ignore')\n",
    "torch.cuda.empty_cache()\n",
    "gc.collect()\n",
    "\n",
    "config = get_config('configs/default.yaml')\n",
    "# change seed\n",
    "config['config']['seed'] = 42\n",
    "set_seed(config['config']['seed'])\n",
    "\n",
    "device = get_device()\n",
    "train_dataset = GraphDatasetPaper(split = 'test')\n",
    "val_dataset = GraphDatasetPaper(split = 'val')\n",
    "\n",
    "model = GAE(config=config).to(device)\n",
    "\n",
    "train_loader = DataLoader(dataset=train_dataset, \n",
    "                          batch_size=config['training']['batch_size'], \n",
    "                          shuffle=False,\n",
    "                          num_workers=config['training']['num_workers'])\n",
    "\n",
    "val_loader = DataLoader(dataset=val_dataset, \n",
    "                        batch_size=config['training']['batch_size'], \n",
    "                        shuffle=False,\n",
    "                        num_workers=config['training']['num_workers'])"
   ]
  },
  {
   "cell_type": "code",
   "execution_count": null,
   "metadata": {},
   "outputs": [],
   "source": [
    "train_history = train(model=model, \n",
    "                      device=device,\n",
    "                      train_loader=train_loader,\n",
    "                      val_loader=val_loader,\n",
    "                      is_tqdm=False,\n",
    "                      is_val=True,\n",
    "                      single_batch=config['training']['single_batch_run'],\n",
    "                      save_best_model=config['training']['save_best_model'],\n",
    "                      config=config['training'])"
   ]
  },
  {
   "cell_type": "code",
   "execution_count": 4,
   "metadata": {},
   "outputs": [],
   "source": [
    "import torch.nn.functional as F\n",
    "train_dataset = GraphDataset(split = 'train')\n",
    "model.eval()\n",
    "train_loader = DataLoader(dataset=train_dataset, \n",
    "                          batch_size=config['training']['batch_size'], \n",
    "                          shuffle=False,\n",
    "                          num_workers=config['training']['num_workers'])\n",
    "data = next(iter(train_loader))\n",
    "target = data.x\n",
    "predicted, _ = model(data)  # Your model output"
   ]
  },
  {
   "cell_type": "code",
   "execution_count": 5,
   "metadata": {},
   "outputs": [
    {
     "name": "stderr",
     "output_type": "stream",
     "text": [
      "e:\\TA\\TA2\\GAE-ROM\\src\\data\\loader_paper.py:81: UserWarning: To copy construct from a tensor, it is recommended to use sourceTensor.detach().clone() or sourceTensor.detach().clone().requires_grad_(True), rather than torch.tensor(sourceTensor).\n",
      "  edge_attr = torch.tensor(self.edge_features, dtype=torch.float64),\n",
      "e:\\TA\\TA2\\GAE-ROM\\src\\data\\loader_paper.py:82: UserWarning: To copy construct from a tensor, it is recommended to use sourceTensor.detach().clone() or sourceTensor.detach().clone().requires_grad_(True), rather than torch.tensor(sourceTensor).\n",
      "  edge_weight = torch.tensor(self.edge_weights, dtype=torch.float64),\n"
     ]
    },
    {
     "data": {
      "text/plain": [
       "torch.Size([16230, 2])"
      ]
     },
     "execution_count": 5,
     "metadata": {},
     "output_type": "execute_result"
    }
   ],
   "source": [
    "dataset[0].edge_attr.shape"
   ]
  },
  {
   "cell_type": "code",
   "execution_count": 5,
   "metadata": {},
   "outputs": [
    {
     "name": "stdout",
     "output_type": "stream",
     "text": [
      "Re-evaluation loss: 0.5730345845222473\n"
     ]
    }
   ],
   "source": [
    "loss = F.mse_loss(predicted, target)\n",
    "print(f\"Re-evaluation loss: {loss.item()}\")"
   ]
  },
  {
   "cell_type": "code",
   "execution_count": 4,
   "metadata": {},
   "outputs": [],
   "source": [
    "from src.utils.commons import save_model\n",
    "save_model(model, f'artifacts/{config[\"config\"][\"name\"]}.pth')\n"
   ]
  },
  {
   "cell_type": "code",
   "execution_count": 3,
   "metadata": {},
   "outputs": [
    {
     "ename": "NameError",
     "evalue": "name 'train_history' is not defined",
     "output_type": "error",
     "traceback": [
      "\u001b[1;31m---------------------------------------------------------------------------\u001b[0m",
      "\u001b[1;31mNameError\u001b[0m                                 Traceback (most recent call last)",
      "Cell \u001b[1;32mIn[3], line 3\u001b[0m\n\u001b[0;32m      1\u001b[0m \u001b[38;5;28;01mimport\u001b[39;00m\u001b[38;5;250m \u001b[39m\u001b[38;5;21;01mmatplotlib\u001b[39;00m\u001b[38;5;21;01m.\u001b[39;00m\u001b[38;5;21;01mpyplot\u001b[39;00m\u001b[38;5;250m \u001b[39m\u001b[38;5;28;01mas\u001b[39;00m\u001b[38;5;250m \u001b[39m\u001b[38;5;21;01mplt\u001b[39;00m\n\u001b[1;32m----> 3\u001b[0m plt\u001b[38;5;241m.\u001b[39mplot(\u001b[43mtrain_history\u001b[49m[\u001b[38;5;124m'\u001b[39m\u001b[38;5;124mtrain_loss\u001b[39m\u001b[38;5;124m'\u001b[39m])\n\u001b[0;32m      4\u001b[0m plt\u001b[38;5;241m.\u001b[39mplot(train_history[\u001b[38;5;124m'\u001b[39m\u001b[38;5;124mval_loss\u001b[39m\u001b[38;5;124m'\u001b[39m])\n",
      "\u001b[1;31mNameError\u001b[0m: name 'train_history' is not defined"
     ]
    }
   ],
   "source": [
    "import matplotlib.pyplot as plt\n",
    "\n",
    "plt.plot(train_history['train_loss'])\n",
    "plt.plot(train_history['val_loss'])"
   ]
  },
  {
   "cell_type": "code",
   "execution_count": null,
   "metadata": {},
   "outputs": [
    {
     "name": "stdout",
     "output_type": "stream",
     "text": [
      "Re-evaluation loss: 0.5067916512489319\n"
     ]
    }
   ],
   "source": [
    "from src.utils.commons import load_model, set_seed, get_device\n",
    "from src.data.loader import GraphDataset\n",
    "from torch_geometric.loader import DataLoader\n",
    "import torch.nn.functional as F\n",
    "\n",
    "set_seed(42)\n",
    "device = get_device()\n",
    "train_dataset = GraphDataset(split = 'train')\n",
    "model = load_model('artifacts/GAT_100_pool.pth')\n",
    "model.to(device)\n",
    "model.eval()\n",
    "train_loader = DataLoader(dataset=train_dataset, \n",
    "                          batch_size=config['training']['batch_size'], \n",
    "                          shuffle=False,\n",
    "                          num_workers=config['training']['num_workers'])\n",
    "\n",
    "batch = next(iter(train_loader)).to(device)\n",
    "target = batch.x\n",
    "out, _ = model(batch)\n",
    "loss = F.mse_loss(out, target)\n",
    "print(f\"Re-evaluation loss: {loss.item()}\")"
   ]
  },
  {
   "cell_type": "code",
   "execution_count": 1,
   "metadata": {},
   "outputs": [],
   "source": [
    "from src.utils.commons import load_model, get_config, set_seed\n",
    "from src.data.loader import GraphDataset\n",
    "from torch_geometric.loader import DataLoader\n",
    "\n",
    "config = get_config('configs/default.yaml')\n",
    "set_seed(config['config']['seed'])\n",
    "\n",
    "train_dataset = GraphDataset(split = 'train')\n",
    "model = load_model(save_path = f'artifacts/GAT_100_pool.pth')\n",
    "model.eval()\n",
    "data = train_dataset[0]\n",
    "target = data.x\n",
    "predicted, _ = model(data)  # Your model output"
   ]
  },
  {
   "cell_type": "code",
   "execution_count": 12,
   "metadata": {},
   "outputs": [
    {
     "name": "stdout",
     "output_type": "stream",
     "text": [
      "Mean: 4.946764109448054e-10\n",
      "Std: 1.000016212463379\n",
      "Max: 1.93668794631958\n",
      "Min: -5.757261753082275\n"
     ]
    }
   ],
   "source": [
    "import torch\n",
    "print(f\"Mean: {torch.mean(target[:,0])}\")\n",
    "print(f\"Std: {torch.std(target[:,0])}\")\n",
    "print(f\"Max: {torch.max(target[:,0])}\")\n",
    "print(f\"Min: {torch.min(target[:,0])}\")\n"
   ]
  },
  {
   "cell_type": "code",
   "execution_count": 13,
   "metadata": {},
   "outputs": [
    {
     "data": {
      "text/plain": [
       "tensor([[ 2.3000, -0.6171],\n",
       "        [ 0.6963, -0.6171],\n",
       "        [ 1.2671, -0.6171],\n",
       "        ...,\n",
       "        [-1.3286, -0.6171],\n",
       "        [-0.2173, -0.6171],\n",
       "        [-0.7265, -0.4834]], grad_fn=<NativeBatchNormBackward0>)"
      ]
     },
     "execution_count": 13,
     "metadata": {},
     "output_type": "execute_result"
    }
   ],
   "source": [
    "predicted"
   ]
  },
  {
   "cell_type": "code",
   "execution_count": 14,
   "metadata": {},
   "outputs": [
    {
     "data": {
      "text/plain": [
       "tensor([[ 1.6893, -0.3061],\n",
       "        [ 0.6079, -0.5585],\n",
       "        [ 0.8825, -0.5192],\n",
       "        ...,\n",
       "        [-0.7824, -0.8180],\n",
       "        [-0.0327, -0.1216],\n",
       "        [-0.0343, -0.0886]])"
      ]
     },
     "execution_count": 14,
     "metadata": {},
     "output_type": "execute_result"
    }
   ],
   "source": [
    "target"
   ]
  },
  {
   "cell_type": "code",
   "execution_count": 2,
   "metadata": {},
   "outputs": [
    {
     "name": "stdout",
     "output_type": "stream",
     "text": [
      "0.62439245\n",
      "0.50935614\n",
      "0.235132\n",
      "0.235132\n",
      "0.235132\n",
      "0.50935614\n"
     ]
    }
   ],
   "source": [
    "import torch.nn.functional as F\n",
    "print(F.mse_loss(predicted[:,0], target[:,0]).detach().cpu().numpy())\n",
    "# print(F.rmse_loss(predicted[:,0], target[:,0]).detach().cpu().numpy())\n",
    "print(F.l1_loss(predicted[:,0], target[:,0]).detach().cpu().numpy())\n",
    "print(F.smooth_l1_loss(predicted[:,0], target[:,0]).detach().cpu().numpy())\n",
    "print(F.huber_loss(predicted[:,0], target[:,0]).detach().cpu().numpy())\n",
    "print(F.smooth_l1_loss(predicted[:,0], target[:,0]).detach().cpu().numpy())\n",
    "print(F.l1_loss(predicted[:,0], target[:,0]).detach().cpu().numpy())"
   ]
  },
  {
   "cell_type": "code",
   "execution_count": null,
   "metadata": {},
   "outputs": [],
   "source": [
    "from src.utils.plot import Plot\n",
    "\n",
    "# Create plotter\n",
    "plotter = Plot(save_dir='output/')\n",
    "\n",
    "# After getting model output\n",
    "plotter.plot_velocity_field(predicted_batch, title=\"Model Prediction\", save=False)"
   ]
  },
  {
   "cell_type": "code",
   "execution_count": null,
   "metadata": {},
   "outputs": [],
   "source": [
    "import matplotlib.pyplot as plt\n",
    "\n",
    "train_dataset.mesh.points[:,:2]\n",
    "plt.scatter(train_dataset.mesh.points[:,0], \n",
    "            train_dataset.mesh.points[:,1])\n",
    "# make the aspect ratio 8:4\n",
    "plt.gca().set_aspect('equal', 'box')\n",
    "plt.show()\n"
   ]
  },
  {
   "cell_type": "code",
   "execution_count": null,
   "metadata": {},
   "outputs": [],
   "source": [
    "batch = train_dataset[3]\n",
    "plt.scatter(batch.pos[:, 0].detach().cpu().numpy(), \n",
    "            batch.pos[:, 1].detach().cpu().numpy(), \n",
    "            c=batch.x[:, 0].detach().cpu().numpy(), \n",
    "            cmap='viridis',\n",
    "            s=0.05)\n",
    "plt.gca().set_aspect('equal', 'box')\n",
    "plt.show()"
   ]
  }
 ],
 "metadata": {
  "kernelspec": {
   "display_name": "'gca_rom'",
   "language": "python",
   "name": "python3"
  },
  "language_info": {
   "codemirror_mode": {
    "name": "ipython",
    "version": 3
   },
   "file_extension": ".py",
   "mimetype": "text/x-python",
   "name": "python",
   "nbconvert_exporter": "python",
   "pygments_lexer": "ipython3",
   "version": "3.10.16"
  }
 },
 "nbformat": 4,
 "nbformat_minor": 2
}
