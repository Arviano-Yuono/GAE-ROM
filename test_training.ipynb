{
 "cells": [
  {
   "cell_type": "code",
   "execution_count": 1,
   "metadata": {},
   "outputs": [],
   "source": [
    "from src.utils.commons import get_config\n",
    "\n",
    "config = get_config('configs/default.yaml')"
   ]
  },
  {
   "cell_type": "code",
   "execution_count": 2,
   "metadata": {},
   "outputs": [
    {
     "data": {
      "text/plain": [
       "{'config': {'name': 'default',\n",
       "  'seed': 42,\n",
       "  'device': 'cuda',\n",
       "  'num_workers': 0,\n",
       "  'root_dir': './',\n",
       "  'dataset_dir': './dataset/',\n",
       "  'output_dir': './output/',\n",
       "  'mesh_file': './dataset/mesh_cylinder_lam.su2',\n",
       "  'variable': ['VELOCITY-X', 'VELOCITY-Y']},\n",
       " 'model': {'graph_pooling': 'TopKPooling',\n",
       "  'hidden_channels': [128, 128, 128],\n",
       "  'bottleneck': 128,\n",
       "  'ffn': 128,\n",
       "  'act': 'relu',\n",
       "  'conv': 'GMMConv'},\n",
       " 'training': {'epochs': 100,\n",
       "  'batch_size': 128,\n",
       "  'optimizer': {'optimizer': 'Adam',\n",
       "   'learning_rate': 0.001,\n",
       "   'weight_decay': 0.0001},\n",
       "  'scheduler': {'scheduler': 'StepLR', 'step_size': 10, 'gamma': 0.1},\n",
       "  'early_stopping': {'early_stopping': 10, 'patience': 10},\n",
       "  'loss': {'loss': 'RMSE'},\n",
       "  'metric': {'metric': 'RMSE'}}}"
      ]
     },
     "execution_count": 2,
     "metadata": {},
     "output_type": "execute_result"
    }
   ],
   "source": [
    "config"
   ]
  },
  {
   "cell_type": "code",
   "execution_count": 3,
   "metadata": {},
   "outputs": [
    {
     "data": {
      "text/html": [
       "<pre style=\"white-space:pre;overflow-x:auto;line-height:normal;font-family:Menlo,'DejaVu Sans Mono',consolas,'Courier New',monospace\"><span style=\"color: #808000; text-decoration-color: #808000; font-weight: bold\">Warning:</span><span style=\"color: #808000; text-decoration-color: #808000\"> meshio does not support tags of string type.</span>\n",
       "<span style=\"color: #808000; text-decoration-color: #808000\">    Surface tag  cylinder will be replaced by </span><span style=\"color: #808000; text-decoration-color: #808000; font-weight: bold\">1</span>\n",
       "</pre>\n"
      ],
      "text/plain": [
       "\u001b[1;33mWarning:\u001b[0m\u001b[33m meshio does not support tags of string type.\u001b[0m\n",
       "\u001b[33m    Surface tag  cylinder will be replaced by \u001b[0m\u001b[1;33m1\u001b[0m\n"
      ]
     },
     "metadata": {},
     "output_type": "display_data"
    },
    {
     "data": {
      "text/html": [
       "<pre style=\"white-space:pre;overflow-x:auto;line-height:normal;font-family:Menlo,'DejaVu Sans Mono',consolas,'Courier New',monospace\"><span style=\"color: #808000; text-decoration-color: #808000; font-weight: bold\">Warning:</span><span style=\"color: #808000; text-decoration-color: #808000\"> meshio does not support tags of string type.</span>\n",
       "<span style=\"color: #808000; text-decoration-color: #808000\">    Surface tag  farfield will be replaced by </span><span style=\"color: #808000; text-decoration-color: #808000; font-weight: bold\">2</span>\n",
       "</pre>\n"
      ],
      "text/plain": [
       "\u001b[1;33mWarning:\u001b[0m\u001b[33m meshio does not support tags of string type.\u001b[0m\n",
       "\u001b[33m    Surface tag  farfield will be replaced by \u001b[0m\u001b[1;33m2\u001b[0m\n"
      ]
     },
     "metadata": {},
     "output_type": "display_data"
    },
    {
     "data": {
      "text/html": [
       "<pre style=\"white-space:pre;overflow-x:auto;line-height:normal;font-family:Menlo,'DejaVu Sans Mono',consolas,'Courier New',monospace\"><span style=\"color: #808000; text-decoration-color: #808000; font-weight: bold\">Warning:</span><span style=\"color: #808000; text-decoration-color: #808000\"> meshio does not support tags of string type.</span>\n",
       "<span style=\"color: #808000; text-decoration-color: #808000\">    Surface tag  cylinder will be replaced by </span><span style=\"color: #808000; text-decoration-color: #808000; font-weight: bold\">1</span>\n",
       "</pre>\n"
      ],
      "text/plain": [
       "\u001b[1;33mWarning:\u001b[0m\u001b[33m meshio does not support tags of string type.\u001b[0m\n",
       "\u001b[33m    Surface tag  cylinder will be replaced by \u001b[0m\u001b[1;33m1\u001b[0m\n"
      ]
     },
     "metadata": {},
     "output_type": "display_data"
    },
    {
     "data": {
      "text/html": [
       "<pre style=\"white-space:pre;overflow-x:auto;line-height:normal;font-family:Menlo,'DejaVu Sans Mono',consolas,'Courier New',monospace\"><span style=\"color: #808000; text-decoration-color: #808000; font-weight: bold\">Warning:</span><span style=\"color: #808000; text-decoration-color: #808000\"> meshio does not support tags of string type.</span>\n",
       "<span style=\"color: #808000; text-decoration-color: #808000\">    Surface tag  farfield will be replaced by </span><span style=\"color: #808000; text-decoration-color: #808000; font-weight: bold\">2</span>\n",
       "</pre>\n"
      ],
      "text/plain": [
       "\u001b[1;33mWarning:\u001b[0m\u001b[33m meshio does not support tags of string type.\u001b[0m\n",
       "\u001b[33m    Surface tag  farfield will be replaced by \u001b[0m\u001b[1;33m2\u001b[0m\n"
      ]
     },
     "metadata": {},
     "output_type": "display_data"
    }
   ],
   "source": [
    "from src.data.loader import LoadDataset\n",
    "Test_load_dataset = LoadDataset()\n",
    "points, triangles, areas, edge_list, edge_features = Test_load_dataset.get_data()\n"
   ]
  },
  {
   "cell_type": "code",
   "execution_count": 4,
   "metadata": {},
   "outputs": [
    {
     "data": {
      "text/plain": [
       "array([[ 3394,  3395,  3394, ...,   203,  3271,  3216],\n",
       "       [ 3396,  3396,  3395, ..., 13334, 13335, 13335]])"
      ]
     },
     "execution_count": 4,
     "metadata": {},
     "output_type": "execute_result"
    }
   ],
   "source": [
    "# optimizer\n",
    "if config['training']['optimizer']['type'] == 'adam':\n",
    "    optimizer = Adam(model.parameters(), lr=config['training']['optimizer']['learning_rate'])\n",
    "elif config['training']['optimizer']['type'] == 'adamW':\n",
    "    optimizer = AdamW(model.parameters(), lr=config['training']['optimizer']['learning_rate'])\n",
    "else:\n",
    "    raise ValueError(f\"Invalid optimizer: {config['training']['optimizer']['type']}\")\n",
    "\n",
    "# scheduler \n",
    "if config['training']['scheduler']['type'] == 'StepLR':\n",
    "    scheduler = StepLR(optimizer, step_size=config['training']['scheduler']['step_size'], gamma=config['training']['scheduler']['gamma'])\n",
    "elif config['training']['scheduler']['type'] == 'CosineAnnealingLR':\n",
    "    scheduler = CosineAnnealingLR(optimizer, T_max=config['training']['epochs'])\n",
    "else:\n",
    "    raise ValueError(f\"Invalid scheduler: {config['training']['scheduler']['type']}\")\n"
   ]
  }
 ],
 "metadata": {
  "kernelspec": {
   "display_name": "'gca_rom'",
   "language": "python",
   "name": "python3"
  },
  "language_info": {
   "codemirror_mode": {
    "name": "ipython",
    "version": 3
   },
   "file_extension": ".py",
   "mimetype": "text/x-python",
   "name": "python",
   "nbconvert_exporter": "python",
   "pygments_lexer": "ipython3",
   "version": "3.10.16"
  }
 },
 "nbformat": 4,
 "nbformat_minor": 2
}
